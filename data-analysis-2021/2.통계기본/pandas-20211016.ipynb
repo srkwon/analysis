{
 "cells": [
  {
   "cell_type": "code",
   "execution_count": 63,
   "id": "89974d42",
   "metadata": {},
   "outputs": [
    {
     "name": "stdout",
     "output_type": "stream",
     "text": [
      "sum=10.0, mean=2.5, median=2.5\n"
     ]
    },
    {
     "data": {
      "text/plain": [
       "4"
      ]
     },
     "execution_count": 63,
     "metadata": {},
     "output_type": "execute_result"
    }
   ],
   "source": [
    "import pandas as pd\n",
    "import numpy as np\n",
    "\n",
    "# 1차원 배열 자료구조\n",
    "# 테이블 데이터의 1개 컬럼만 갖고 있다고 보면 됨\n",
    "obj = pd.Series({\n",
    "    'test': 1\n",
    "    , 'TEST2': 2\n",
    "    , 'test3' : 3    \n",
    "})\n",
    "\n",
    "# 2번째 데이터 접근은 아래 둘다 가능\n",
    "obj[1]\n",
    "obj['TEST2']\n",
    "\n",
    "# null 값 확인, NaN으로 표시되는 결측치를확인하는 용도로 사용 가능\n",
    "obj.isnull()\n",
    "\n",
    "df = pd.DataFrame({\n",
    "    'col1' : np.arange(10)\n",
    "    , 'col2' : ['a1', 'a9','a8','a4','a3','a3','a1','a1','a1','a9']\n",
    "})\n",
    "\n",
    "df.head() # 첫 5행만 보기\n",
    "df.tail() # 마지막 5행만 보기\n",
    "\n",
    "\n",
    "\n",
    "# col1 컬럼에 접근은 아래 두가지 둘다 가능\n",
    "df['col1']\n",
    "df.col1\n",
    "\n",
    "# 신규 컬럼 추가\n",
    "df.col2 = np.random.rand(10)\n",
    "\n",
    "# 데이터프레임 전체 요약(건수, 평균, 표준편차, 사분위수, 최소, 최대값 표시)\n",
    "df.describe()\n",
    "\n",
    "# 결측치 처리\n",
    "# 단순삭제, 단순확률대치, 평균대치, 다중확률대치\n",
    "\n",
    "\n",
    "df2 = pd.Series([1,2,3,4, np.NAN, np.NAN, np.NAN, np.NAN])\n",
    "\n",
    "# NAN이 있어도 어쨌든 제외하고 통계값을 계산해서 반환\n",
    "print(f\"sum={df2.sum()}, mean={df2.mean()}, median={df2.median()}\")\n",
    "\n",
    "# not null(not nan) 개수를 반환\n",
    "sum(df2.notnull())\n",
    "\n",
    "\n",
    "\n",
    "\n",
    "\n"
   ]
  }
 ],
 "metadata": {
  "kernelspec": {
   "display_name": "Python 3",
   "language": "python",
   "name": "python3"
  },
  "language_info": {
   "codemirror_mode": {
    "name": "ipython",
    "version": 3
   },
   "file_extension": ".py",
   "mimetype": "text/x-python",
   "name": "python",
   "nbconvert_exporter": "python",
   "pygments_lexer": "ipython3",
   "version": "3.7.7"
  }
 },
 "nbformat": 4,
 "nbformat_minor": 5
}
