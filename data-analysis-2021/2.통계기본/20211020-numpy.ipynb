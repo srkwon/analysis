{
 "cells": [
  {
   "cell_type": "code",
   "execution_count": 7,
   "id": "dad997e9",
   "metadata": {},
   "outputs": [
    {
     "name": "stdout",
     "output_type": "stream",
     "text": [
      "[[1 2 3]\n",
      " [4 5 6]\n",
      " [7 8 9]]\n",
      "[1 2 3 4 5 6 7 8 9]\n"
     ]
    }
   ],
   "source": [
    "import numpy as np\n",
    "\n",
    "a = np.array([1,2,3])\n",
    "b = np.array([4,5,6])\n",
    "\n",
    "# vstack, hstack 안에 반드시 인자 1개만 들어가야하고, 튜플로 만들어서 넣어줘야함\n",
    "# vstack은 수직으로 쌓아 올린다라고 생각하면 됨\n",
    "print(np.vstack((a, b, [7,8,9])))\n",
    "\n",
    "# hstack은 수평으로 붙여나간다고 생각하면되고, 리스트를 수평으로 붙여버림\n",
    "print(np.hstack((a, b, [7,8,9])))\n",
    "\n"
   ]
  }
 ],
 "metadata": {
  "kernelspec": {
   "display_name": "Python 3",
   "language": "python",
   "name": "python3"
  },
  "language_info": {
   "codemirror_mode": {
    "name": "ipython",
    "version": 3
   },
   "file_extension": ".py",
   "mimetype": "text/x-python",
   "name": "python",
   "nbconvert_exporter": "python",
   "pygments_lexer": "ipython3",
   "version": "3.7.7"
  }
 },
 "nbformat": 4,
 "nbformat_minor": 5
}
