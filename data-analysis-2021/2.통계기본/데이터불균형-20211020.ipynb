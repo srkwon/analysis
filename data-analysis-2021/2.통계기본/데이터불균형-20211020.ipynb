{
 "cells": [
  {
   "cell_type": "markdown",
   "id": "38fe3819",
   "metadata": {},
   "source": [
    "# 데이터 불균형 처리\n",
    "- 데이터 불균형 => 데이터셋에서 특정 클래스의 데이터가 과다한 경우를 의미\n",
    "  - 만약 데이터셋을 2개 라벨로 분류하는데, 한 종류가 90%라면, 항상 하나로만 분류하는 모델을 만들어도 90% 정확도를 갖게됨\n",
    "- 불균형 이슈를 해결하기 위해 업샘플링, 다운샘플링, 인공 훈련 데이터 샘플 생성(SMOTE) 방법 등을 고려\n",
    "- 업샘플링 => 적은 클래스의 데이터셋을 반복 복원 추출하는 방식으로 불균형 해소\n",
    "  - 다운샘플링 => 큰 클래스의 데이터셋을 적게 추출하는 방식으로 불균형 해소\n",
    "  - 인공 훈련 데이터 샘플 생성(SMOTE 알고리즘)"
   ]
  },
  {
   "cell_type": "code",
   "execution_count": 76,
   "id": "71337eec",
   "metadata": {},
   "outputs": [
    {
     "name": "stdout",
     "output_type": "stream",
     "text": [
      "x shape=(569, 30), y shape=(569,)\n",
      "222\n",
      "10\n",
      "212\n"
     ]
    },
    {
     "data": {
      "image/png": "[encoded data removed]",
      "text/plain": [
       "<Figure size 360x720 with 1 Axes>"
      ]
     },
     "metadata": {
      "needs_background": "light"
     },
     "output_type": "display_data"
    }
   ],
   "source": [
    "import numpy as np\n",
    "import pandas as pd\n",
    "import matplotlib.pyplot as plt\n",
    "\n",
    "from sklearn.datasets import load_breast_cancer # 분류 목적 유방암 데이터셋\n",
    "from sklearn.utils import resample # 업/다운샘플링 목적\n",
    "\n",
    "# 데이터 수집 및 이해\n",
    "x, y = load_breast_cancer(return_X_y = True, as_frame = True)\n",
    "print(f\"x shape={x.shape}, y shape={y.shape}\")\n",
    "#print(x.head())\n",
    "#print(y.head())\n",
    "\n",
    "# 0에해당하는게 212, 1에해당하는거 10개 넣어서 222개로 구성\n",
    "x_imb = np.vstack((x[y == 0], x[y == 1][:10]))\n",
    "y_imb = np.hstack((y[y == 0], y[y == 1][:10]))\n",
    "\n",
    "print(len(x_imb))\n",
    "\n",
    "fig = plt.figure(figsize=(5, 10))\n",
    "ax1 = fig.add_subplot(1, 1, 1)\n",
    "\n",
    "# bins = 막대개수\n",
    "ax1.hist(y, range = (0,1), bins = 2)\n",
    "\n",
    "print(y_imb[y_imb == 1].shape[0]) # 1의 개수, 총 10개\n",
    "\n",
    "x_up, y_up = resample(\n",
    "    x_imb[y_imb == 1]\n",
    "    , y_imb[y_imb == 1]\n",
    "    , replace = True\n",
    "    , n_samples=x_imb[y_imb == 0].shape[0]\n",
    ")\n",
    "\n",
    "# 업샘플링을 통해 0에 해당하는샘플개수를 증가\n",
    "print(x_up.shape[0])\n",
    "\n",
    "# 업샘플링된 결과 데이터셋을 이용\n",
    "x_bal = np.vstack((x[y == 0], x_up))\n",
    "y_bal = np.vstack((y[y == 0], y_up))"
   ]
  },
  {
   "cell_type": "code",
   "execution_count": null,
   "id": "7feb4abe",
   "metadata": {},
   "outputs": [],
   "source": []
  }
 ],
 "metadata": {
  "kernelspec": {
   "display_name": "Python 3",
   "language": "python",
   "name": "python3"
  },
  "language_info": {
   "codemirror_mode": {
    "name": "ipython",
    "version": 3
   },
   "file_extension": ".py",
   "mimetype": "text/x-python",
   "name": "python",
   "nbconvert_exporter": "python",
   "pygments_lexer": "ipython3",
   "version": "3.7.7"
  }
 },
 "nbformat": 4,
 "nbformat_minor": 5
}
