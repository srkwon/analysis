{
 "cells": [
  {
   "cell_type": "markdown",
   "id": "c0c05016",
   "metadata": {},
   "source": [
    "# 교차분석 - 카이제곱분포 기반 검정(chisqure)\n",
    "- 동질성/독립성/적합성 검정, 카이제곱 검정 통계량을 사용\n",
    "- 독립성 검정 => 범주형 변수들 간에 연관이 있는지 없는지를 검정(즉, 독립인지 아닌지)\n",
    "- 적합성 검정 => 범주형 변수의 값이 예상한 값(이론값)과 동일한지 다른지를 검정\n",
    "\n",
    "# 가설검정 절차\n",
    "- 귀무가설,대립가설 설정 =>유의수준 설정 => 검정통계량 계산 => 귀무가설 기각/채택 여부 결정\n",
    "  "
   ]
  },
  {
   "cell_type": "code",
   "execution_count": 4,
   "id": "a258baf7",
   "metadata": {},
   "outputs": [
    {
     "name": "stdout",
     "output_type": "stream",
     "text": [
      "Chi square: 8.333333333333334\n",
      "P-value: 0.003892417122778637\n"
     ]
    }
   ],
   "source": [
    "# 독립성 검정\n",
    "# 귀무가설: 당뇨와 비만은 연관이 없다.(즉, 독립이다.)\n",
    "# 대립가설: 당뇨와 비만은 연관이 있다.\n",
    "\n",
    "import numpy as np\n",
    "import pandas as pd\n",
    "import scipy.stats as st\n",
    "\n",
    "obs = pd.DataFrame({'당뇨': [10,15], '정상': [10,65]})\n",
    "obs.index = ['비만체중', '정상체중']\n",
    "\n",
    "chiresult = st.chi2_contingency(obs, correction=False)\n",
    "print('Chi square: {}'.format(chiresult[0]))\n",
    "print('P-value: {}'.format(chiresult[1]))\n",
    "\n",
    "# 유의확률이 유의수준 5% 보다 작으므로, 연관이 있다.\n"
   ]
  },
  {
   "cell_type": "code",
   "execution_count": 7,
   "id": "a086b328",
   "metadata": {},
   "outputs": [
    {
     "name": "stdout",
     "output_type": "stream",
     "text": [
      "Chi square: 7.2171301736519125\n",
      "P-value: 0.02709069178067575\n"
     ]
    }
   ],
   "source": [
    "# 적합성 검정\n",
    "# 귀무가설: 실제 분포와 이론 분포 간에는 차이가 없다.(두 분포가 일치한다.)\n",
    "# 대립가설: 실제 분포와 이론 분포 간에는 차이가 있다.(두 분포가 일치하지 않는다.)\n",
    "\n",
    "import numpy as np\n",
    "import pandas as pd\n",
    "import scipy.stats as st\n",
    "\n",
    "xo, xe = [26,26,26,], [23, 18, 37]\n",
    "xc = pd.DataFrame([xo, xe], columns=['1조', '2조', '3조'], index=['Obs', 'Exp'])\n",
    "\n",
    "chiresult = st.chisquare(xo, xe)\n",
    "print('Chi square: {}'.format(chiresult[0]))\n",
    "print('P-value: {}'.format(chiresult[1]))\n",
    "\n",
    "# 유의확률이 유의수준 5% 보다 작으므로, 차이가 있다.\n"
   ]
  },
  {
   "cell_type": "code",
   "execution_count": null,
   "id": "22a9d8a9",
   "metadata": {},
   "outputs": [],
   "source": []
  }
 ],
 "metadata": {
  "kernelspec": {
   "display_name": "Python 3",
   "language": "python",
   "name": "python3"
  },
  "language_info": {
   "codemirror_mode": {
    "name": "ipython",
    "version": 3
   },
   "file_extension": ".py",
   "mimetype": "text/x-python",
   "name": "python",
   "nbconvert_exporter": "python",
   "pygments_lexer": "ipython3",
   "version": "3.7.7"
  }
 },
 "nbformat": 4,
 "nbformat_minor": 5
}
