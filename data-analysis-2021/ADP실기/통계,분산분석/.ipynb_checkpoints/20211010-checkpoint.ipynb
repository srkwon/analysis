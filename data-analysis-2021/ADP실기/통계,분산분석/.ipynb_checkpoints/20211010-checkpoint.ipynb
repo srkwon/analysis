{
 "cells": [
  {
   "cell_type": "markdown",
   "id": "8e635e07",
   "metadata": {},
   "source": [
    "# 분산분석(ANOVA) - F 분포 기반 검정\n",
    "- ANOVA, analysis of variance\n",
    "- 2개 이상의 범주를 갖는 경우에 대해, 해당 범주간의 평균 비교 검정\n",
    "  - 연령대별(30대, 40대, 50대..) 평균 연봉 차이를 검정\n",
    "- 일원배치분산분석,이원배치분산분석\n",
    "\n",
    "# 가설검정 절차\n",
    "- 귀무가설,대립가설 설정 =>유의수준 설정 => 검정통계량 계산 => 귀무가설 기각/채택 여부 결정\n",
    "  "
   ]
  },
  {
   "cell_type": "code",
   "execution_count": 9,
   "id": "e1449876",
   "metadata": {},
   "outputs": [
    {
     "data": {
      "text/plain": [
       "F_onewayResult(statistic=38.4, pvalue=3.92101494080447e-05)"
      ]
     },
     "execution_count": 9,
     "metadata": {},
     "output_type": "execute_result"
    }
   ],
   "source": [
    "# 일원배치분산분석\n",
    "from scipy import stats \n",
    "\n",
    "stats.f_oneway([1,2,3,4], [5,6,7,8], [9,10,11,12])"
   ]
  }
 ],
 "metadata": {
  "kernelspec": {
   "display_name": "Python 3",
   "language": "python",
   "name": "python3"
  },
  "language_info": {
   "codemirror_mode": {
    "name": "ipython",
    "version": 3
   },
   "file_extension": ".py",
   "mimetype": "text/x-python",
   "name": "python",
   "nbconvert_exporter": "python",
   "pygments_lexer": "ipython3",
   "version": "3.7.7"
  }
 },
 "nbformat": 4,
 "nbformat_minor": 5
}
