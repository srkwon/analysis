{
 "cells": [
  {
   "cell_type": "markdown",
   "id": "7cb0608a",
   "metadata": {},
   "source": [
    "# 분산분석(ANOVA) - F 분포 기반 검정\n",
    "- ANOVA, analysis of variance\n",
    "- 일원배치분산분석,이원배치분산분석\n",
    "\n",
    "# 가설검정 절차\n",
    "- 귀무가설,대립가설 설정 =>유의수준 설정 => 검정통계량 계산 => 귀무가설 기각/채택 여부 결정\n",
    "  "
   ]
  }
 ],
 "metadata": {
  "kernelspec": {
   "display_name": "Python 3",
   "language": "python",
   "name": "python3"
  },
  "language_info": {
   "codemirror_mode": {
    "name": "ipython",
    "version": 3
   },
   "file_extension": ".py",
   "mimetype": "text/x-python",
   "name": "python",
   "nbconvert_exporter": "python",
   "pygments_lexer": "ipython3",
   "version": "3.7.7"
  }
 },
 "nbformat": 4,
 "nbformat_minor": 5
}
