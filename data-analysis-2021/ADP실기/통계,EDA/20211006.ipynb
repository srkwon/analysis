{
 "cells": [
  {
   "cell_type": "markdown",
   "id": "f81b0e8f",
   "metadata": {},
   "source": [
    "# 탐색적 데이터 분석 (EDA)\n",
    "- 존 투키에 의해서 1970년대에 정립\n",
    "- 요약통계와 함께 데이터 집합을 그림으로 표현하여 데이터를 분석하는 기법\n",
    "\n",
    "## 기초 통계\n",
    "- 평균, 중앙값 등의 계산은 numpy, scipy.stats 모듈을 이용\n",
    "- pandas는 파일을 읽는 등의 작업에 사용\n",
    "\n",
    "# 참고문헌\n",
    "- https://github.com/gedeck/practical-statistics-for-data-scientists\n"
   ]
  },
  {
   "cell_type": "code",
   "execution_count": 78,
   "id": "8b7af30f",
   "metadata": {},
   "outputs": [
    {
     "name": "stdout",
     "output_type": "stream",
     "text": [
      "        State  Population  Murder.Rate Abbreviation\n",
      "0     Alabama     4779736          5.7           AL\n",
      "1      Alaska      710231          5.6           AK\n",
      "2     Arizona     6392017          4.7           AZ\n",
      "3    Arkansas     2915918          5.6           AR\n",
      "4  California    37253956          4.4           CA\n",
      "         Population  Murder.Rate\n",
      "count  5.000000e+01    50.000000\n",
      "mean   6.162876e+06     4.066000\n",
      "std    6.848235e+06     1.915736\n",
      "min    5.636260e+05     0.900000\n",
      "25%    1.833004e+06     2.425000\n",
      "50%    4.436370e+06     4.000000\n",
      "75%    6.680312e+06     5.550000\n",
      "max    3.725396e+07    10.300000\n"
     ]
    },
    {
     "data": {
      "text/plain": [
       "pandas.core.frame.DataFrame"
      ]
     },
     "execution_count": 78,
     "metadata": {},
     "output_type": "execute_result"
    }
   ],
   "source": [
    "\n",
    "# pandas - 테이블 형태 데이터 처리에 적합한 자료구조(DataFrame, Series)를 제공\n",
    "# numpy + RDB 같은 유연한 데이터 처리 기능\n",
    "import pandas as pd\n",
    "\n",
    "# state.csv 파일 읽어오기\n",
    "state = pd.read_csv(\"state.csv\")\n",
    "print(state.head())\n",
    "print(state.describe())\n",
    "\n",
    "type(state) # pandas.core.frame.DataFrame\n"
   ]
  },
  {
   "cell_type": "code",
   "execution_count": 79,
   "id": "c94e03d2",
   "metadata": {},
   "outputs": [
    {
     "name": "stdout",
     "output_type": "stream",
     "text": [
      "산술평균 : 6162876.3\n",
      "절사평균 : 4783697.125\n"
     ]
    },
    {
     "data": {
      "text/plain": [
       "4436369.5"
      ]
     },
     "execution_count": 79,
     "metadata": {},
     "output_type": "execute_result"
    }
   ],
   "source": [
    "\n",
    "# 산술평균(mean)\n",
    "print(f'산술평균 : {state[\"Population\"].mean()}')\n",
    "\n",
    "# scipy - 사이파이, 과학 계산 컴퓨팅 영역에서 사용하는 모듈\n",
    "# scipy는 여러개의 패키지로 구분됨\n",
    "# scipy.integrate, scipy.linalg, scipy.optimized 등\n",
    "from scipy import stats\n",
    "\n",
    "# 절사평균 (trimmed mean) - 정해진 수의 극단값을 제외한 나머지 값의 평균\n",
    "# 극단값(이상치) - extreme value\n",
    "# 극단값 삭제후 평균 계산 => 0.1은 각각 끝에서 10% 총 20%를 절사한다는 의미\n",
    "print(f'절사평균 : {stats.trim_mean(state[\"Population\"], 0.1)}')\n",
    "\n",
    "# numpy = numerical python의 약자\n",
    "# 내부 알고리즘은 C로 작성되서 다른 오버헤드없이 바로 메모리 접근\n",
    "# 메모리도 적게 사용하고, 시간도 빠른 특징이 있음\n",
    "import numpy as np\n",
    "# 중앙값\n",
    "np.median(state['Population'])\n",
    "\n"
   ]
  },
  {
   "cell_type": "code",
   "execution_count": 80,
   "id": "8eeb5ad3",
   "metadata": {},
   "outputs": [
    {
     "name": "stdout",
     "output_type": "stream",
     "text": [
      "표준편차 : 6848235.347401142\n",
      "표준편차 : 6848235.347401142\n",
      "1사분위수 : 1833004.25\n",
      "2사분위수 : 4436369.5\n",
      "3사분위수 : 6680312.25\n",
      "         Population  Murder.Rate\n",
      "count  5.000000e+01    50.000000\n",
      "mean   6.162876e+06     4.066000\n",
      "std    6.848235e+06     1.915736\n",
      "min    5.636260e+05     0.900000\n",
      "25%    1.833004e+06     2.425000\n",
      "50%    4.436370e+06     4.000000\n",
      "75%    6.680312e+06     5.550000\n",
      "max    3.725396e+07    10.300000\n"
     ]
    },
    {
     "data": {
      "text/plain": [
       "Text(0, 0.5, 'Population(million)')"
      ]
     },
     "execution_count": 80,
     "metadata": {},
     "output_type": "execute_result"
    },
    {
     "data": {
      "image/png": "[encoded data removed]",
      "text/plain": [
       "<Figure size 432x288 with 1 Axes>"
      ]
     },
     "metadata": {
      "needs_background": "light"
     },
     "output_type": "display_data"
    }
   ],
   "source": [
    "# 산포도(dispersion)\n",
    "# 편차 - 평균과 위치추정값의 차이 = 잔차, 오차\n",
    "# 분산 - 편차 제곱합의 평균\n",
    "# 표준편차 - 분산의 양의 제곱근\n",
    "# 범위 - 최대값과 최소값의 차이\n",
    "print(f'표준편차 : {state[\"Population\"].std()}')\n",
    "print(f\"표준편차 : {state['Population'].std()}\")\n",
    "      \n",
    "print(f\"1사분위수 : {state['Population'].quantile(0.25)}\")\n",
    "print(f\"2사분위수 : {state['Population'].quantile(0.50)}\")\n",
    "print(f\"3사분위수 : {state['Population'].quantile(0.75)}\")\n",
    "      \n",
    "np.median(state['Population'])\n",
    "      \n",
    "# 사분위수 확인\n",
    "state['Murder.Rate'].quantile([0.05, 0.25, 0.5, 0.75, 0.95])\n",
    "      \n",
    "# 통계 요약치 확인(pandas 이용)      \n",
    "print(f\"{state.describe()}\")\n",
    "\n",
    "# boxplot\n",
    "ax = (state['Population']/1_000_000).plot.box()\n",
    "ax.set_ylabel('Population(million)')\n",
    "      \n",
    "      \n"
   ]
  },
  {
   "cell_type": "code",
   "execution_count": 81,
   "id": "5b26070e",
   "metadata": {},
   "outputs": [
    {
     "data": {
      "text/plain": [
       "Text(0.5, 0, 'Population(million)')"
      ]
     },
     "execution_count": 81,
     "metadata": {},
     "output_type": "execute_result"
    },
    {
     "data": {
      "image/png": "[encoded data removed]",
      "text/plain": [
       "<Figure size 288x288 with 1 Axes>"
      ]
     },
     "metadata": {
      "needs_background": "light"
     },
     "output_type": "display_data"
    }
   ],
   "source": [
    "\n",
    "# histogram\n",
    "ax = (state['Population']/1_000_000).plot.hist(figsize=(4,4))\n",
    "ax.set_xlabel('Population(million)')"
   ]
  },
  {
   "cell_type": "code",
   "execution_count": null,
   "id": "dbee236a",
   "metadata": {},
   "outputs": [],
   "source": []
  },
  {
   "cell_type": "code",
   "execution_count": null,
   "id": "cc7f1b03",
   "metadata": {},
   "outputs": [],
   "source": []
  }
 ],
 "metadata": {
  "kernelspec": {
   "display_name": "Python 3",
   "language": "python",
   "name": "python3"
  },
  "language_info": {
   "codemirror_mode": {
    "name": "ipython",
    "version": 3
   },
   "file_extension": ".py",
   "mimetype": "text/x-python",
   "name": "python",
   "nbconvert_exporter": "python",
   "pygments_lexer": "ipython3",
   "version": "3.7.7"
  }
 },
 "nbformat": 4,
 "nbformat_minor": 5
}