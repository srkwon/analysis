{
 "cells": [
  {
   "cell_type": "code",
   "execution_count": 2,
   "id": "3d06d100",
   "metadata": {},
   "outputs": [],
   "source": [
    "# numpy = numerical python의 약자\n",
    "# 내부 알고리즘은 C로 작성되서 다른 오버헤드없이 바로 메모리 접근\n",
    "# 메모리도 적게 사용하고, 시간도 빠른 특징이 있음\n",
    "import numpy as np\n",
    "\n",
    "\n",
    "\n"
   ]
  }
 ],
 "metadata": {
  "kernelspec": {
   "display_name": "Python 3",
   "language": "python",
   "name": "python3"
  },
  "language_info": {
   "codemirror_mode": {
    "name": "ipython",
    "version": 3
   },
   "file_extension": ".py",
   "mimetype": "text/x-python",
   "name": "python",
   "nbconvert_exporter": "python",
   "pygments_lexer": "ipython3",
   "version": "3.7.7"
  }
 },
 "nbformat": 4,
 "nbformat_minor": 5
}
