{
 "cells": [
  {
   "cell_type": "markdown",
   "id": "df82fc97",
   "metadata": {},
   "source": [
    "# 데이터 분석 프로세스\n",
    "\n",
    "- 초기화 및 파이썬 모듈 로딩\n",
    "    - sklearn => 머신러닝\n",
    "    - scipy => 수치 계산\n",
    "    - pandas => 데이터 로딩, 수치 계산\n",
    "    - numpy => 수치 계산\n",
    "    - matplotlib => 시각화\n",
    "- 데이터 수집\n",
    "- 데이터 탐색 및 준비\n",
    "    - 결측치, 이상치에 대한 처리\n",
    "    - 추가 변수에 대한 처리\n",
    "    - 훈련데이터와 테스트데이터로 분리\n",
    "- 모델 훈련\n",
    "    - 정형데이터분석(sklearn 기준, fit -> predict -> score)\n",
    "        - 지도학습 ⇒ 타겟 변수가 존재\n",
    "            - 분류\n",
    "                - 의사결정나무 \n",
    "                  - 분류, 회귀 둘다 사용 가능\n",
    "                  - 이해쉽지만, 과대적합 가능성 크고, 경계면의 데이터 분류가 잘못될 수 있음\n",
    "                - 앙상블(배깅,부스팅,랜덤포레스트)\n",
    "                  - 랜덤포레스트 \n",
    "                    - 성능 우수(결정트리 여러개 사용), 차원높고 희소한 데이터에는 잘 동작 안함\n",
    "                  - 부스팅\n",
    "                    - 랜포와 유사하게 성능 우수하나, 훈련 시간이 오래 걸림, 매개변수 튜닝이 중요\n",
    "                  - 배깅\n",
    "                - SVM(초평면, 커널함수)\n",
    "                - k-NN\n",
    "                - ANN\n",
    "                - 로지스틱회귀\n",
    "                - 나이브베이즈\n",
    "            - 예측\n",
    "                - 선형회귀\n",
    "                    - 단순선형회귀\n",
    "                    - 다중선형회귀\n",
    "                    - 릿지 회귀(L2규제)\n",
    "                    - 라쏘 회귀(L1규제)\n",
    "                    - 엘라스틱넷 회귀(L1+L2)\n",
    "                - 비선형회귀\n",
    "                    - 다항회귀(polynomial regression)\n",
    "        - 비지도학습 ⇒ 타겟 변수 미존재\n",
    "            - 군집\n",
    "                - 계층적군집(병합군집)\n",
    "                - 비계층적군집(K평균)\n",
    "                - 밀도기반군집(DBSCAN)\n",
    "                - 혼합분포군집\n",
    "            - 연관분석(장바구니분석)\n",
    "    - 비정형데이터분석\n",
    "        - 텍스트마이닝\n",
    "- 모델 성능 평가\n",
    "    - 분류\n",
    "        - 정오분류표(혼동행렬) ⇒ accuracy가 1에 가까울수록 좋은 모델\n",
    "        - ROC/AUC ⇒ AUC가 1에 가까울수록 좋은 모델\n",
    "    - 예측 ⇒ MAE, RMSE, R2\n",
    "- 모델 성능 개선"
   ]
  },
  {
   "cell_type": "code",
   "execution_count": 5,
   "id": "69856b60",
   "metadata": {},
   "outputs": [],
   "source": [
    "#install.packages(\"tidyverse\")\n",
    "#install.packages(\"rpart\")\n",
    "#install.packages(\"caret\")\n",
    "#install.packages(\"pROC\")\n",
    "\n",
    "# warning 메시지 무시\n",
    "options(warn = -1)\n",
    "\n",
    "library(tidyverse) # dplyr 등 이용 목적\n",
    "library(caret) # 훈련,테스트 데이터 분류 목적\n",
    "library(kknn) # knn 학습 목적\n",
    "library(pROC) # ROC 확인 목적\n",
    "\n",
    "#search()\n",
    "#sessionInfo()\n",
    "\n",
    "# 분석 전 불필요한 객체 삭제 처리\n",
    "#rm(list = ls())"
   ]
  },
  {
   "cell_type": "code",
   "execution_count": 3,
   "id": "a4da9f87",
   "metadata": {},
   "outputs": [
    {
     "data": {
      "text/html": [
       "'D:/srkwon/0.repo/analysis/data-analysis-2021/1.ADP실기/요약정리'"
      ],
      "text/latex": [
       "'D:/srkwon/0.repo/analysis/data-analysis-2021/1.ADP실기/요약정리'"
      ],
      "text/markdown": [
       "'D:/srkwon/0.repo/analysis/data-analysis-2021/1.ADP실기/요약정리'"
      ],
      "text/plain": [
       "[1] \"D:/srkwon/0.repo/analysis/data-analysis-2021/1.ADP실기/요약정리\""
      ]
     },
     "metadata": {},
     "output_type": "display_data"
    },
    {
     "name": "stdout",
     "output_type": "stream",
     "text": [
      "'data.frame':\t1000 obs. of  21 variables:\n",
      " $ credit.rating                 : int  1 1 1 1 1 1 1 1 1 1 ...\n",
      " $ account.balance               : int  1 1 2 1 1 1 1 1 3 2 ...\n",
      " $ credit.duration.months        : int  18 9 12 12 12 10 8 6 18 24 ...\n",
      " $ previous.credit.payment.status: int  3 3 2 3 3 3 3 3 3 2 ...\n",
      " $ credit.purpose                : int  2 4 4 4 4 4 4 4 3 3 ...\n",
      " $ credit.amount                 : int  1049 2799 841 2122 2171 2241 3398 1361 1098 3758 ...\n",
      " $ savings                       : int  1 1 2 1 1 1 1 1 1 3 ...\n",
      " $ employment.duration           : int  1 2 3 2 2 1 3 1 1 1 ...\n",
      " $ installment.rate              : int  4 2 2 3 4 1 1 2 4 1 ...\n",
      " $ marital.status                : int  1 3 1 3 3 3 3 3 1 1 ...\n",
      " $ guarantor                     : int  1 1 1 1 1 1 1 1 1 1 ...\n",
      " $ residence.duration            : int  4 2 4 2 4 3 4 4 4 4 ...\n",
      " $ current.assets                : int  2 1 1 1 2 1 1 1 3 4 ...\n",
      " $ age                           : int  21 36 23 39 38 48 39 40 65 23 ...\n",
      " $ other.credits                 : int  2 2 2 2 1 2 2 2 2 2 ...\n",
      " $ apartment.type                : int  1 1 1 1 2 1 2 2 2 1 ...\n",
      " $ bank.credits                  : int  1 2 1 2 2 2 2 1 2 1 ...\n",
      " $ occupation                    : int  3 3 2 2 2 2 2 2 1 1 ...\n",
      " $ dependents                    : int  1 2 1 2 1 2 1 2 1 1 ...\n",
      " $ telephone                     : int  1 1 1 1 1 1 1 1 1 1 ...\n",
      " $ foreign.worker                : int  1 1 1 2 2 2 2 2 1 1 ...\n"
     ]
    },
    {
     "data": {
      "text/plain": [
       "\n",
       "  0   1 \n",
       "300 700 "
      ]
     },
     "metadata": {},
     "output_type": "display_data"
    },
    {
     "data": {
      "text/html": [
       "<style>\n",
       ".dl-inline {width: auto; margin:0; padding: 0}\n",
       ".dl-inline>dt, .dl-inline>dd {float: none; width: auto; display: inline-block}\n",
       ".dl-inline>dt::after {content: \":\\0020\"; padding-right: .5ex}\n",
       ".dl-inline>dt:not(:first-of-type) {padding-left: .5ex}\n",
       "</style><dl class=dl-inline><dt>credit.rating</dt><dd>0</dd><dt>account.balance</dt><dd>0</dd><dt>credit.duration.months</dt><dd>0</dd><dt>previous.credit.payment.status</dt><dd>0</dd><dt>credit.purpose</dt><dd>0</dd><dt>credit.amount</dt><dd>0</dd><dt>savings</dt><dd>0</dd><dt>employment.duration</dt><dd>0</dd><dt>installment.rate</dt><dd>0</dd><dt>marital.status</dt><dd>0</dd><dt>guarantor</dt><dd>0</dd><dt>residence.duration</dt><dd>0</dd><dt>current.assets</dt><dd>0</dd><dt>age</dt><dd>0</dd><dt>other.credits</dt><dd>0</dd><dt>apartment.type</dt><dd>0</dd><dt>bank.credits</dt><dd>0</dd><dt>occupation</dt><dd>0</dd><dt>dependents</dt><dd>0</dd><dt>telephone</dt><dd>0</dd><dt>foreign.worker</dt><dd>0</dd></dl>\n"
      ],
      "text/latex": [
       "\\begin{description*}\n",
       "\\item[credit.rating] 0\n",
       "\\item[account.balance] 0\n",
       "\\item[credit.duration.months] 0\n",
       "\\item[previous.credit.payment.status] 0\n",
       "\\item[credit.purpose] 0\n",
       "\\item[credit.amount] 0\n",
       "\\item[savings] 0\n",
       "\\item[employment.duration] 0\n",
       "\\item[installment.rate] 0\n",
       "\\item[marital.status] 0\n",
       "\\item[guarantor] 0\n",
       "\\item[residence.duration] 0\n",
       "\\item[current.assets] 0\n",
       "\\item[age] 0\n",
       "\\item[other.credits] 0\n",
       "\\item[apartment.type] 0\n",
       "\\item[bank.credits] 0\n",
       "\\item[occupation] 0\n",
       "\\item[dependents] 0\n",
       "\\item[telephone] 0\n",
       "\\item[foreign.worker] 0\n",
       "\\end{description*}\n"
      ],
      "text/markdown": [
       "credit.rating\n",
       ":   0account.balance\n",
       ":   0credit.duration.months\n",
       ":   0previous.credit.payment.status\n",
       ":   0credit.purpose\n",
       ":   0credit.amount\n",
       ":   0savings\n",
       ":   0employment.duration\n",
       ":   0installment.rate\n",
       ":   0marital.status\n",
       ":   0guarantor\n",
       ":   0residence.duration\n",
       ":   0current.assets\n",
       ":   0age\n",
       ":   0other.credits\n",
       ":   0apartment.type\n",
       ":   0bank.credits\n",
       ":   0occupation\n",
       ":   0dependents\n",
       ":   0telephone\n",
       ":   0foreign.worker\n",
       ":   0\n",
       "\n"
      ],
      "text/plain": [
       "                 credit.rating                account.balance \n",
       "                             0                              0 \n",
       "        credit.duration.months previous.credit.payment.status \n",
       "                             0                              0 \n",
       "                credit.purpose                  credit.amount \n",
       "                             0                              0 \n",
       "                       savings            employment.duration \n",
       "                             0                              0 \n",
       "              installment.rate                 marital.status \n",
       "                             0                              0 \n",
       "                     guarantor             residence.duration \n",
       "                             0                              0 \n",
       "                current.assets                            age \n",
       "                             0                              0 \n",
       "                 other.credits                 apartment.type \n",
       "                             0                              0 \n",
       "                  bank.credits                     occupation \n",
       "                             0                              0 \n",
       "                    dependents                      telephone \n",
       "                             0                              0 \n",
       "                foreign.worker \n",
       "                             0 "
      ]
     },
     "metadata": {},
     "output_type": "display_data"
    },
    {
     "data": {
      "text/html": [
       "800"
      ],
      "text/latex": [
       "800"
      ],
      "text/markdown": [
       "800"
      ],
      "text/plain": [
       "[1] 800"
      ]
     },
     "metadata": {},
     "output_type": "display_data"
    },
    {
     "data": {
      "text/html": [
       "200"
      ],
      "text/latex": [
       "200"
      ],
      "text/markdown": [
       "200"
      ],
      "text/plain": [
       "[1] 200"
      ]
     },
     "metadata": {},
     "output_type": "display_data"
    },
    {
     "data": {
      "text/html": [
       "28"
      ],
      "text/latex": [
       "28"
      ],
      "text/markdown": [
       "28"
      ],
      "text/plain": [
       "[1] 28"
      ]
     },
     "metadata": {},
     "output_type": "display_data"
    },
    {
     "data": {
      "text/html": [
       "<style>\n",
       ".list-inline {list-style: none; margin:0; padding: 0}\n",
       ".list-inline>li {display: inline-block}\n",
       ".list-inline>li:not(:last-child)::after {content: \"\\00b7\"; padding: 0 .5ex}\n",
       "</style>\n",
       "<ol class=list-inline><li>'best.parameters'</li><li>'call'</li><li>'data'</li><li>'distance'</li><li>'fitted.values'</li><li>'MEAN.ABS'</li><li>'MEAN.SQU'</li><li>'MISCLASS'</li><li>'response'</li><li>'terms'</li></ol>\n"
      ],
      "text/latex": [
       "\\begin{enumerate*}\n",
       "\\item 'best.parameters'\n",
       "\\item 'call'\n",
       "\\item 'data'\n",
       "\\item 'distance'\n",
       "\\item 'fitted.values'\n",
       "\\item 'MEAN.ABS'\n",
       "\\item 'MEAN.SQU'\n",
       "\\item 'MISCLASS'\n",
       "\\item 'response'\n",
       "\\item 'terms'\n",
       "\\end{enumerate*}\n"
      ],
      "text/markdown": [
       "1. 'best.parameters'\n",
       "2. 'call'\n",
       "3. 'data'\n",
       "4. 'distance'\n",
       "5. 'fitted.values'\n",
       "6. 'MEAN.ABS'\n",
       "7. 'MEAN.SQU'\n",
       "8. 'MISCLASS'\n",
       "9. 'response'\n",
       "10. 'terms'\n",
       "\n",
       "\n"
      ],
      "text/plain": [
       " [1] \"best.parameters\" \"call\"            \"data\"            \"distance\"       \n",
       " [5] \"fitted.values\"   \"MEAN.ABS\"        \"MEAN.SQU\"        \"MISCLASS\"       \n",
       " [9] \"response\"        \"terms\"          "
      ]
     },
     "metadata": {},
     "output_type": "display_data"
    },
    {
     "data": {
      "text/html": [
       "<dl>\n",
       "\t<dt>$kernel</dt>\n",
       "\t\t<dd>'rectangular'</dd>\n",
       "\t<dt>$k</dt>\n",
       "\t\t<dd>28</dd>\n",
       "</dl>\n"
      ],
      "text/latex": [
       "\\begin{description}\n",
       "\\item[\\$kernel] 'rectangular'\n",
       "\\item[\\$k] 28\n",
       "\\end{description}\n"
      ],
      "text/markdown": [
       "$kernel\n",
       ":   'rectangular'\n",
       "$k\n",
       ":   28\n",
       "\n",
       "\n"
      ],
      "text/plain": [
       "$kernel\n",
       "[1] \"rectangular\"\n",
       "\n",
       "$k\n",
       "[1] 28\n"
      ]
     },
     "metadata": {},
     "output_type": "display_data"
    },
    {
     "data": {
      "text/html": [
       "200"
      ],
      "text/latex": [
       "200"
      ],
      "text/markdown": [
       "200"
      ],
      "text/plain": [
       "[1] 200"
      ]
     },
     "metadata": {},
     "output_type": "display_data"
    },
    {
     "data": {
      "text/plain": [
       "\n",
       "  0   1 \n",
       " 21 179 "
      ]
     },
     "metadata": {},
     "output_type": "display_data"
    },
    {
     "data": {
      "text/plain": [
       "Confusion Matrix and Statistics\n",
       "\n",
       "          Reference\n",
       "Prediction   0   1\n",
       "         0  15   6\n",
       "         1  51 128\n",
       "                                          \n",
       "               Accuracy : 0.715           \n",
       "                 95% CI : (0.6471, 0.7764)\n",
       "    No Information Rate : 0.67            \n",
       "    P-Value [Acc > NIR] : 0.09952         \n",
       "                                          \n",
       "                  Kappa : 0.2207          \n",
       "                                          \n",
       " Mcnemar's Test P-Value : 5.611e-09       \n",
       "                                          \n",
       "            Sensitivity : 0.2273          \n",
       "            Specificity : 0.9552          \n",
       "         Pos Pred Value : 0.7143          \n",
       "         Neg Pred Value : 0.7151          \n",
       "             Prevalence : 0.3300          \n",
       "         Detection Rate : 0.0750          \n",
       "   Detection Prevalence : 0.1050          \n",
       "      Balanced Accuracy : 0.5912          \n",
       "                                          \n",
       "       'Positive' Class : 0               \n",
       "                                          "
      ]
     },
     "metadata": {},
     "output_type": "display_data"
    },
    {
     "name": "stderr",
     "output_type": "stream",
     "text": [
      "Setting levels: control = 0, case = 1\n",
      "\n",
      "Setting direction: controls < cases\n",
      "\n"
     ]
    },
    {
     "data": {
      "text/html": [
       "0.591248303934871"
      ],
      "text/latex": [
       "0.591248303934871"
      ],
      "text/markdown": [
       "0.591248303934871"
      ],
      "text/plain": [
       "Area under the curve: 0.5912"
      ]
     },
     "metadata": {},
     "output_type": "display_data"
    },
    {
     "data": {
      "image/png": "[encoded data removed]",
      "text/plain": [
       "plot without title"
      ]
     },
     "metadata": {
      "image/png": {
       "height": 420,
       "width": 420
      }
     },
     "output_type": "display_data"
    }
   ],
   "source": [
    "getwd()\n",
    "\n",
    "# 데이터 수집\n",
    "data = read.csv(file = \"./data/credit_final.csv\")\n",
    "\n",
    "# 1000개의 관측값, 21개 변수\n",
    "str(data)\n",
    "table(data$credit.rating) # 불량 등급이 300, 우량 등급이 700\n",
    "colSums(is.na(data))\n",
    "\n",
    "# account.balance => 고객 계좌의 잔고\n",
    "# credit.duration.months => 신용거래 지속 개월 수\n",
    "# previous.credit.payment.status => 이전 신용 거래 지불 관련 상태\n",
    "\n",
    "#summary(data)\n",
    "\n",
    "#boxplot(data$credit.amount)\n",
    "\n",
    "# NA 값을 갖는 레코드가 있는지 확인\n",
    "#sum(!complete.cases(data))\n",
    "\n",
    "# 만약 NA값이 존재하는 행이 있다면, 해당 레코드는 제외하고 모델 학습에 이용\n",
    "#data.filtered <- data[complete.cases(data), ]\n",
    "\n",
    "# credit.rating => 신용등급\n",
    "# 0 -> 불량, 1 -> 우량\n",
    "\n",
    "#barplot(\n",
    "#  table(data$credit.rating)\n",
    "#  , names.arg = c(\"불량\", \"우량\")\n",
    "#  , main = \"신용등급(불량, 우량)\"\n",
    "#)\n",
    "\n",
    "# 데이터 분할\n",
    "# 훈련 데이터 및 테스트 데이터로 분할\n",
    "set.seed(1000)\n",
    "parts <- createDataPartition(y = data$credit.rating , p = 0.8)\n",
    "\n",
    "# extract training, testsamples\n",
    "data.train <- data[parts$Resample1, ]\n",
    "data.test <- data[-parts$Resample1, ]\n",
    "\n",
    "nrow(data.train);nrow(data.test);\n",
    "\n",
    "# 모델 훈련\n",
    "# train.kknn 함수로 최적 파라미터 값 발견 => kknn 함수에 최적 파라미터값을 인자로 넣어 훈련 및 예측\n",
    "knn.m.param <- train.kknn(\n",
    "  formula = as.factor(credit.rating) ~ . # 독립변수, 종속변수 설정\n",
    "  , data = data.train # 대상 훈련 데이터\n",
    "  , kmax = as.integer(sqrt(nrow(data.train))) # 확인 대상 최대 K값, 훈련 데이터의 양의 제곱근보다 작게 설정\n",
    "  , distance = 2 # Minkowski distance(파라미터 2 => 유클리드 거리)\n",
    "  , kernel = \"rectangular\" \n",
    "  # c(\"triangular\", \"rectangular\", \"epanechnikov\", \"optimal\") # 커널 함수 => 거리값에 가중치를 주기 위해 적용되는 가중치 부여 함수\n",
    ")\n",
    "\n",
    "as.integer(sqrt(nrow(data.train))) # 28\n",
    "\n",
    "ls(knn.m.param)\n",
    "knn.m.param$best.parameters\n",
    "\n",
    "# 최적 파라미터를 이용해서 knn 모델 훈련 및 예측값까지 생성\n",
    "knn.m <- kknn(\n",
    "  formula = as.factor(credit.rating) ~ . # 독립변수, 종속변수 설정\n",
    "  , train = data.train\n",
    "  , test = data.test\n",
    "  , k = 28\n",
    "  , distance = 2 # Minkowski distance(파라미터 2 => 유클리드 거리)\n",
    "  , kernel = \"rectangular\" \n",
    "  # c(\"triangular\", \"rectangular\", \"epanechnikov\", \"optimal\") # 커널 함수 => 거리값에 가중치를 주기 위해 적용되는 가중치 부여 함수\n",
    ")\n",
    "\n",
    "# 테스트 데이터 200건에 대한 분류값\n",
    "length(knn.m$fitted.values)\n",
    "table(knn.m$fitted.values)\n",
    "\n",
    "\n",
    "# 모델 성능 평가\n",
    "# 정오분류표를 통한 모델 성능 파악\n",
    "confusionMatrix(knn.m$fitted.values, as.factor(data.test$credit.rating))\n",
    "\n",
    "r <- roc(\n",
    "  as.numeric(data.test$credit.rating)\n",
    "  , ifelse(as.numeric(knn.m$fitted.values) == 2, 1, 0)\n",
    ")\n",
    "\n",
    "plot.roc(\n",
    "  r,\n",
    "  col=\"red\"\n",
    "  , print.auc=TRUE\n",
    "  , max.auc.polygon = TRUE\n",
    "  , print.thres=TRUE, print.thres.pch=19, print.thres.col = \"red\"\n",
    "  , auc.polygon=TRUE, auc.polygon.col=\"#D1F2EB\"\n",
    "  )\n",
    "\n",
    "auc(r)\n",
    "\n",
    "# 모델 성능 개선"
   ]
  }
 ],
 "metadata": {
  "kernelspec": {
   "display_name": "R",
   "language": "R",
   "name": "ir"
  },
  "language_info": {
   "codemirror_mode": "r",
   "file_extension": ".r",
   "mimetype": "text/x-r-source",
   "name": "R",
   "pygments_lexer": "r",
   "version": "4.0.1"
  }
 },
 "nbformat": 4,
 "nbformat_minor": 5
}
