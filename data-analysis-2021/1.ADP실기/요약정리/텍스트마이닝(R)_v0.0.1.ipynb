{
 "cells": [
  {
   "cell_type": "code",
   "execution_count": 17,
   "id": "19150272",
   "metadata": {},
   "outputs": [
    {
     "data": {
      "text/html": [
       "<style>\n",
       ".list-inline {list-style: none; margin:0; padding: 0}\n",
       ".list-inline>li {display: inline-block}\n",
       ".list-inline>li:not(:last-child)::after {content: \"\\00b7\"; padding: 0 .5ex}\n",
       "</style>\n",
       "<ol class=list-inline><li>'정권교체 하겠습니다!'</li><li>''</li><li>'정치교체 하겠습니다!'</li><li>''</li><li>'시대교체 하겠습니다!'</li><li>''</li></ol>\n"
      ],
      "text/latex": [
       "\\begin{enumerate*}\n",
       "\\item '정권교체 하겠습니다!'\n",
       "\\item ''\n",
       "\\item '정치교체 하겠습니다!'\n",
       "\\item ''\n",
       "\\item '시대교체 하겠습니다!'\n",
       "\\item ''\n",
       "\\end{enumerate*}\n"
      ],
      "text/markdown": [
       "1. '정권교체 하겠습니다!'\n",
       "2. ''\n",
       "3. '정치교체 하겠습니다!'\n",
       "4. ''\n",
       "5. '시대교체 하겠습니다!'\n",
       "6. ''\n",
       "\n",
       "\n"
      ],
      "text/plain": [
       "[1] \"정권교체 하겠습니다!\" \"\"                     \"정치교체 하겠습니다!\"\n",
       "[4] \"\"                     \"시대교체 하겠습니다!\" \"\"                    "
      ]
     },
     "metadata": {},
     "output_type": "display_data"
    },
    {
     "data": {
      "text/html": [
       "'가나다라뜛꽯꽓'"
      ],
      "text/latex": [
       "'가나다라뜛꽯꽓'"
      ],
      "text/markdown": [
       "'가나다라뜛꽯꽓'"
      ],
      "text/plain": [
       "[1] \"가나다라뜛꽯꽓\""
      ]
     },
     "metadata": {},
     "output_type": "display_data"
    }
   ],
   "source": [
    "raw_text <- readLines(\"./data/korean/text_moon.txt\", encoding = \"UTF-8\")\n",
    "\n",
    "head(raw_text)\n",
    "\n",
    "# 불필요 문자 제거\n",
    "library(stringr)\n",
    "\n",
    "text <- '가나다라뜛꽯꽓 1234 !@# this is test Structures... okok'\n",
    "\n",
    "text.2 <- str_replace_all(string = text, pattern = \"[^가-힣]\", replacement = \" \")\n",
    "\n",
    "# 연속된 공백 제거\n",
    "text.3 <- str_squish(text.2)\n",
    "\n",
    "text.3\n",
    "\n",
    "# 전처리 작업 한번에 하기\n",
    "library(dplyr)\n",
    "text.4 <- raw_text %>% \n",
    "        str_replace_all(pattern = \"[^가-힣]\", replacement = \" \") %>%\n",
    "        str_squish() %>%\n",
    "        as_tibble()\n",
    "            \n",
    "#text.4\n",
    "\n",
    "\n"
   ]
  },
  {
   "cell_type": "code",
   "execution_count": 43,
   "id": "ae498d0c",
   "metadata": {},
   "outputs": [
    {
     "data": {
      "image/png": "[encoded data removed]",
      "text/plain": [
       "plot without title"
      ]
     },
     "metadata": {
      "image/png": {
       "height": 420,
       "width": 420
      }
     },
     "output_type": "display_data"
    }
   ],
   "source": [
    "# 텍스트 토큰화\n",
    "\n",
    "library(tidytext)\n",
    "\n",
    "# 반드시 tibble 타입을 넣어줘야함\n",
    "words <- text.4 %>%\n",
    "        unnest_tokens(\n",
    "            input = value\n",
    "            , output = word\n",
    "            , token = \"words\"\n",
    "        )\n",
    "\n",
    "#words\n",
    "\n",
    "# 단어 빈도 구하기, 소팅 처리, 단어 1개 초과만 필터링 해서 이용, 상위 10개 추출\n",
    "top10 <- words %>% count(word, sort = T) %>% filter(str_count(word) > 1) %>% head(10)\n",
    "\n",
    "library(ggplot2)\n",
    "\n",
    "ggplot(top10, aes(x = reorder(word, n), y = n)) +\n",
    "    geom_col() +\n",
    "    coord_flip()"
   ]
  }
 ],
 "metadata": {
  "kernelspec": {
   "display_name": "R",
   "language": "R",
   "name": "ir"
  },
  "language_info": {
   "codemirror_mode": "r",
   "file_extension": ".r",
   "mimetype": "text/x-r-source",
   "name": "R",
   "pygments_lexer": "r",
   "version": "4.0.1"
  }
 },
 "nbformat": 4,
 "nbformat_minor": 5
}
