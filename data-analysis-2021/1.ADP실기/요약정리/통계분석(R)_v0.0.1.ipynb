{
 "cells": [
  {
   "cell_type": "markdown",
   "id": "04230702",
   "metadata": {},
   "source": [
    "# T 분포 기반 검정(t-test)\n",
    "- 검정 통계량 T 분포 이용\n",
    "- 단일표본T검정,대응표본T검정,독립표본T검정\n",
    "  - 단일표본T검정(One Sample T-Test) => 단일 모집단에서 수치형 변수값의 평균을 예상한 값과 비교하는 검정\n",
    "    - 가정 : 정규성(모집단의 샘플들이 정규분포를 이룬다고 가정)\n",
    "      - 표본의 크기가 30보다 크면 보통 중심극한정리에 따라 표본분포가 정규분포를 따른다고 보고 특별히 정규성 검정 안하고 T검정 수행\n",
    "      - 필요하다면 샤피로-윌크검정, K-S검정, Q-Q Plot을 이용하여 정규성 검정을 먼저 수행\n",
    "        - 정규분포를 따르는 가정 만족하면 t.test 수행\n",
    "        - 정규분포를 따르는 가정 불만족하면 wilcox.test 수행\n",
    "    - 예 : 30대 남성의 평균 키 크기\n",
    "      - 귀무가설 : 평균은 예상한(설정한) 기준값이다.\n",
    "      - 대립가설 : 평균은 예상한(설정한) 기준값이 아니다.\n",
    "  - 대응표본T검정(Matched-Paired Sample T-Test) => 단일 모집단에서 두번의 처리를 가한 전후의 수치형 변수값의 평균을 비교하는 검정\n",
    "    - 동일한 응답자의 사전,사후 차이(효과) 분석 목적\n",
    "    - 예 : 운동 전후 평균 악력 비교\n",
    "      - 귀무가설 : 변수 A와 변수 B의 평균에는 차이가 없다.\n",
    "      - 대립가설 : 변수 A와 변수 B의 평균에는 차이가 있다.\n",
    "  - 독립표본T검정(Independent Sample T-Test) => 2개의 독립된 모집단의 평균을 비교하는 검정\n",
    "    - 가정 : 두 모집단의 등분산성 만족 여부 확인 필수\n",
    "    - 독립변수 : 질적 변수 1개(속성 2개)\n",
    "    - 종속변수 : 양적 변수 1개\n",
    "    - 예 : 남녀별 평균 출근준비시간 비교\n",
    "      - 귀무가설 : 두 집단의 평균에는 차이가 없다.\n",
    "      - 대립가설 : 두 집단의 평균에는 차이가 있다.\n",
    "\n",
    "# 가설검정 절차\n",
    "- 귀무가설,대립가설 설정 => 유의수준 설정 => 검정통계량 계산 => 귀무가설 기각/채택 여부 결정\n",
    "- 양측검정, 단측검정 차이 이해 필수\n",
    "  "
   ]
  },
  {
   "cell_type": "code",
   "execution_count": 19,
   "id": "b2836ca3",
   "metadata": {},
   "outputs": [
    {
     "name": "stdout",
     "output_type": "stream",
     "text": [
      "'data.frame':\t144 obs. of  3 variables:\n",
      " $ Sex: Factor w/ 2 levels \"F\",\"M\": 1 1 1 1 1 1 1 1 1 1 ...\n",
      " $ Bwt: num  2 2 2 2.1 2.1 2.1 2.1 2.1 2.1 2.1 ...\n",
      " $ Hwt: num  7 7.4 9.5 7.2 7.3 7.6 8.1 8.2 8.3 8.5 ...\n"
     ]
    },
    {
     "data": {
      "text/plain": [
       "\n",
       "\tShapiro-Wilk normality test\n",
       "\n",
       "data:  cats$Bwt\n",
       "W = 0.95188, p-value = 6.731e-05\n"
      ]
     },
     "metadata": {},
     "output_type": "display_data"
    },
    {
     "data": {
      "text/plain": [
       "\n",
       "\tWilcoxon signed rank test with continuity correction\n",
       "\n",
       "data:  cats$Bwt\n",
       "V = 5607, p-value = 0.02532\n",
       "alternative hypothesis: true location is not equal to 2.6\n"
      ]
     },
     "metadata": {},
     "output_type": "display_data"
    },
    {
     "data": {
      "text/plain": [
       "\n",
       "\tOne Sample t-test\n",
       "\n",
       "data:  cats$Bwt\n",
       "t = 3.0565, df = 143, p-value = 0.002673\n",
       "alternative hypothesis: true mean is not equal to 2.6\n",
       "95 percent confidence interval:\n",
       " 2.643669 2.803553\n",
       "sample estimates:\n",
       "mean of x \n",
       " 2.723611 \n"
      ]
     },
     "metadata": {},
     "output_type": "display_data"
    },
    {
     "data": {
      "text/plain": [
       "\n",
       "\tPaired t-test\n",
       "\n",
       "data:  data.before and data.after\n",
       "t = -4.5826, df = 6, p-value = 0.00376\n",
       "alternative hypothesis: true difference in means is not equal to 0\n",
       "95 percent confidence interval:\n",
       " -1.5339599 -0.4660401\n",
       "sample estimates:\n",
       "mean of the differences \n",
       "                     -1 \n"
      ]
     },
     "metadata": {},
     "output_type": "display_data"
    },
    {
     "data": {
      "text/plain": [
       "\n",
       "\tF test to compare two variances\n",
       "\n",
       "data:  Bwt by Sex\n",
       "F = 0.3435, num df = 46, denom df = 96, p-value = 0.0001157\n",
       "alternative hypothesis: true ratio of variances is not equal to 1\n",
       "95 percent confidence interval:\n",
       " 0.2126277 0.5803475\n",
       "sample estimates:\n",
       "ratio of variances \n",
       "         0.3435015 \n"
      ]
     },
     "metadata": {},
     "output_type": "display_data"
    },
    {
     "data": {
      "text/plain": [
       "\n",
       "\tWelch Two Sample t-test\n",
       "\n",
       "data:  Bwt by Sex\n",
       "t = -8.7095, df = 136.84, p-value = 8.831e-15\n",
       "alternative hypothesis: true difference in means is not equal to 0\n",
       "95 percent confidence interval:\n",
       " -0.6631268 -0.4177242\n",
       "sample estimates:\n",
       "mean in group F mean in group M \n",
       "       2.359574        2.900000 \n"
      ]
     },
     "metadata": {},
     "output_type": "display_data"
    }
   ],
   "source": [
    "# T 검정 예제\n",
    "\n",
    "###########################################################################################\n",
    "# 단일 표본 T 검정\n",
    "##########################################################################################\n",
    "library(MASS)\n",
    "\n",
    "# 고양이 데이터 샘플 이용\n",
    "# sex => 성별\n",
    "# Bwt => 몸무게\n",
    "# Hwt => 심장 무게\n",
    "str(cats)\n",
    "\n",
    "# 'data.frame':\t144 obs. of  3 variables:\n",
    "#  $ Sex: Factor w/ 2 levels \"F\",\"M\": 1 1 1 1 1 1 1 1 1 1 ...\n",
    "#  $ Bwt: num  2 2 2 2.1 2.1 2.1 2.1 2.1 2.1 2.1 ...\n",
    "#  $ Hwt: num  7 7.4 9.5 7.2 7.3 7.6 8.1 8.2 8.3 8.5 ...\n",
    "\n",
    "# 정규성 검정 수행, p-value가 0.05보다 작으므로, 표본분포가 정규분포를 따른다는 귀무가설 기각\n",
    "shapiro.test(cats$Bwt)\n",
    "\n",
    "# 윌콕스 테스트\n",
    "# 평균(2.6)과 같은지 비교하므로 양측검정(two.sided)\n",
    "# p-value가 0.05보다 작으므로, 귀무가설 기각(즉 고양이 모집단의 평균 몸무게가 2.6이라고 할수 없다.)\n",
    "# two.sided 아닌 단측검정시 greater, less 사용\n",
    "wilcox.test(cats$Bwt, mu = 2.6, alternative = \"two.sided\")\n",
    "\n",
    "# 만약 정규성 검정 수행시 귀무가설을 기각못하면 t.test 사용\n",
    "t.test(cats$Bwt, mu = 2.6, alternative=\"two.sided\")\n",
    "\n",
    "###########################################################################################\n",
    "# 대응 표본 T 검정\n",
    "##########################################################################################\n",
    "\n",
    "# 귀무가설 : 두 개의 모평균 간에는 차이가 없다.\n",
    "# 대립가설 : 두 개의 모평균 간에는 차이가 있다.\n",
    "# 대응 표본은 반드시 paired=TRUE로 해야함(디폴트는 FALSE)\n",
    "\n",
    "data.before <- c(7,3,4,5,2,1,6)\n",
    "data.after <-  c(8,4,5,6,2,3,7)\n",
    "\n",
    "# p-value가 유의수준 0.05보다 작으므로 귀무가설 기각\n",
    "t.test(data.before, data.after, alternative=\"two.sided\", paired = TRUE)\n",
    "\n",
    "###########################################################################################\n",
    "# 독립 표본 T 검정\n",
    "##########################################################################################\n",
    "# 등분산성 검정 수행\n",
    "# p-value가 유의수준 0.05보다 작으므로 귀무가설 기각\n",
    "# 즉 등분산성이 만족 안됨\n",
    "var.test(Bwt ~ Sex, data = cats)\n",
    "\n",
    "# 독립 표본 T 검정시에 등분산성이 만족 안됨(var.equal=FALSE)로 세팅하고 수행\n",
    "# 귀무가설 : 고양이의 성별에 따른 평균 몸무게에는 통계적으로 유의한 차이가 없다.\n",
    "# 대립가설 : 고양이의 성별에 따른 평균 몸무게에는 통계적으로 유의한 차이가 있다.\n",
    "# p-value가 유의수준 0.05보다 작으므로 귀무가설 기각 => 차이 있다고 볼수 있음\n",
    "t.test(Bwt ~ Sex, data = cats, alternative = \"two.sided\", var.equal=FALSE)\n"
   ]
  },
  {
   "cell_type": "markdown",
   "id": "294ad8c3",
   "metadata": {},
   "source": [
    "# 분산분석(ANOVA)\n",
    "- 일원배치 분산분석, 이원배치 분산분석\n",
    "- 검정통계량 F 분포 이용\n",
    "\n",
    "## 일원배치 분산분석(one-way ANOVA)\n",
    "- 독립변수 : 질적 변수 1개(범주가 3개 이상)\n",
    "  - 연령대별(20대, 30대, 40대 등)\n",
    "- 종속변수 : 양적 변수 1개\n",
    "- 귀무가설 : K개 집단간 모평균에는 차이가 없다.\n",
    "- 대립가설 : K개 집단간 모평균이 모두 같다고 할 수 없다.(적어도 1개이상의 집단의 모평균이 차이가 있다.)\n",
    "- 사후검정 Tukey HSD : 검정 결과 귀무가설이 기각된 경우, 구체적으로 어떤 집단간의 차이가 존재하는지 알아보기 위한 검정 수행\n",
    "\n",
    "## 이원배치 분산분석(two-way ANOVA)\n",
    "- 독립변수 : 질적 변수 2개(변수별로 범주가 2개 이상)\n",
    "  - 연령대별(20대, 30대, 40대 등)\n",
    "- 종속변수 : 양적 변수 1개\n",
    "\n",
    "## 다원배치 분산분석(multi-way ANOVA)\n",
    "- 독립변수 : 질적 변수 3개 이상\n",
    "- 종속변수 : 양적 변수 1개\n",
    "\n",
    "## 다변량 분산분석(MANOVA)\n"
   ]
  },
  {
   "cell_type": "code",
   "execution_count": 20,
   "id": "bea5570b",
   "metadata": {},
   "outputs": [
    {
     "data": {
      "text/html": [
       "<table class=\"dataframe\">\n",
       "<caption>A data.frame: 6 × 8</caption>\n",
       "<thead>\n",
       "\t<tr><th></th><th scope=col>company_num</th><th scope=col>google_adwords</th><th scope=col>facebook</th><th scope=col>twitter</th><th scope=col>marketing_total</th><th scope=col>revenues</th><th scope=col>employees</th><th scope=col>pop_density</th></tr>\n",
       "\t<tr><th></th><th scope=col>&lt;int&gt;</th><th scope=col>&lt;dbl&gt;</th><th scope=col>&lt;dbl&gt;</th><th scope=col>&lt;dbl&gt;</th><th scope=col>&lt;dbl&gt;</th><th scope=col>&lt;dbl&gt;</th><th scope=col>&lt;int&gt;</th><th scope=col>&lt;fct&gt;</th></tr>\n",
       "</thead>\n",
       "<tbody>\n",
       "\t<tr><th scope=row>1</th><td>1</td><td> 65.66</td><td>47.86</td><td>52.46</td><td>166</td><td>39.26</td><td> 5</td><td>High  </td></tr>\n",
       "\t<tr><th scope=row>2</th><td>2</td><td> 39.10</td><td>55.20</td><td>77.40</td><td>172</td><td>38.90</td><td> 7</td><td>Medium</td></tr>\n",
       "\t<tr><th scope=row>3</th><td>3</td><td>174.81</td><td>52.01</td><td>68.01</td><td>295</td><td>49.51</td><td>11</td><td>Medium</td></tr>\n",
       "\t<tr><th scope=row>4</th><td>4</td><td> 34.36</td><td>61.96</td><td>86.86</td><td>183</td><td>40.56</td><td> 7</td><td>High  </td></tr>\n",
       "\t<tr><th scope=row>5</th><td>5</td><td> 78.21</td><td>40.91</td><td>30.41</td><td>150</td><td>40.21</td><td> 9</td><td>Low   </td></tr>\n",
       "\t<tr><th scope=row>6</th><td>6</td><td> 34.19</td><td>15.09</td><td>12.79</td><td> 62</td><td>38.09</td><td> 3</td><td>High  </td></tr>\n",
       "</tbody>\n",
       "</table>\n"
      ],
      "text/latex": [
       "A data.frame: 6 × 8\n",
       "\\begin{tabular}{r|llllllll}\n",
       "  & company\\_num & google\\_adwords & facebook & twitter & marketing\\_total & revenues & employees & pop\\_density\\\\\n",
       "  & <int> & <dbl> & <dbl> & <dbl> & <dbl> & <dbl> & <int> & <fct>\\\\\n",
       "\\hline\n",
       "\t1 & 1 &  65.66 & 47.86 & 52.46 & 166 & 39.26 &  5 & High  \\\\\n",
       "\t2 & 2 &  39.10 & 55.20 & 77.40 & 172 & 38.90 &  7 & Medium\\\\\n",
       "\t3 & 3 & 174.81 & 52.01 & 68.01 & 295 & 49.51 & 11 & Medium\\\\\n",
       "\t4 & 4 &  34.36 & 61.96 & 86.86 & 183 & 40.56 &  7 & High  \\\\\n",
       "\t5 & 5 &  78.21 & 40.91 & 30.41 & 150 & 40.21 &  9 & Low   \\\\\n",
       "\t6 & 6 &  34.19 & 15.09 & 12.79 &  62 & 38.09 &  3 & High  \\\\\n",
       "\\end{tabular}\n"
      ],
      "text/markdown": [
       "\n",
       "A data.frame: 6 × 8\n",
       "\n",
       "| <!--/--> | company_num &lt;int&gt; | google_adwords &lt;dbl&gt; | facebook &lt;dbl&gt; | twitter &lt;dbl&gt; | marketing_total &lt;dbl&gt; | revenues &lt;dbl&gt; | employees &lt;int&gt; | pop_density &lt;fct&gt; |\n",
       "|---|---|---|---|---|---|---|---|---|\n",
       "| 1 | 1 |  65.66 | 47.86 | 52.46 | 166 | 39.26 |  5 | High   |\n",
       "| 2 | 2 |  39.10 | 55.20 | 77.40 | 172 | 38.90 |  7 | Medium |\n",
       "| 3 | 3 | 174.81 | 52.01 | 68.01 | 295 | 49.51 | 11 | Medium |\n",
       "| 4 | 4 |  34.36 | 61.96 | 86.86 | 183 | 40.56 |  7 | High   |\n",
       "| 5 | 5 |  78.21 | 40.91 | 30.41 | 150 | 40.21 |  9 | Low    |\n",
       "| 6 | 6 |  34.19 | 15.09 | 12.79 |  62 | 38.09 |  3 | High   |\n",
       "\n"
      ],
      "text/plain": [
       "  company_num google_adwords facebook twitter marketing_total revenues\n",
       "1 1            65.66         47.86    52.46   166             39.26   \n",
       "2 2            39.10         55.20    77.40   172             38.90   \n",
       "3 3           174.81         52.01    68.01   295             49.51   \n",
       "4 4            34.36         61.96    86.86   183             40.56   \n",
       "5 5            78.21         40.91    30.41   150             40.21   \n",
       "6 6            34.19         15.09    12.79    62             38.09   \n",
       "  employees pop_density\n",
       "1  5        High       \n",
       "2  7        Medium     \n",
       "3 11        Medium     \n",
       "4  7        High       \n",
       "5  9        Low        \n",
       "6  3        High       "
      ]
     },
     "metadata": {},
     "output_type": "display_data"
    },
    {
     "data": {
      "text/plain": [
       "\n",
       "  High    Low Medium \n",
       "    52     68     52 "
      ]
     },
     "metadata": {},
     "output_type": "display_data"
    },
    {
     "data": {
      "text/plain": [
       "             Df Sum Sq Mean Sq F value Pr(>F)\n",
       "pop_density   2     42   20.87    0.61  0.545\n",
       "Residuals   169   5781   34.21               "
      ]
     },
     "metadata": {},
     "output_type": "display_data"
    }
   ],
   "source": [
    "###################################################################################\n",
    "#                     2. 통계분석 (사용 데이터 : bike_marketing)               \n",
    "###################################################################################\n",
    "#---------------------------------------------------------------------------------\n",
    "# Q1) pop_density 변수를 factor형 변수로 변환하고, \n",
    "#     pop_density별 revenues의 평균 차이가 있는지 통계분석을 시행하여 결과를 해석하시오. \n",
    "#     만일 대립가설이 채택된다면 사후분석을 실시하고 결과를 해석하시오.\n",
    "#---------------------------------------------------------------------------------\n",
    "\n",
    "# 3개 이상 범주형 변수 1개에 대한 평균 차이 검정 => 일원 배치 분산분석(F 검정 통계량) - one way ANOVA => 귀무가설 기각시 사후검정 tukey HSD 수행\n",
    "\n",
    "df = read.csv('./data/bike_marketing.csv', stringsAsFactors = T)\n",
    "\n",
    "head(df)\n",
    "\n",
    "# 범주별 데이터 카운트\n",
    "table(df$pop_density)\n",
    "\n",
    "# 귀무가설 : pop_density별 revenues 차이가 없다.\n",
    "# 대립가설 : pop_density별 revenues 차이가 있다.\n",
    "anova <- aov(formula = revenues ~ pop_density, data = df)\n",
    "\n",
    "# 유의수준 5% 하에서 p-value가 유의수준보다 크기 때문에 귀무가설을 기각할수 없다.\n",
    "# 즉, pop_density별 revenues의 평균 차이가 있다고 볼 수 없다.\n",
    "summary(anova)\n",
    "\n"
   ]
  },
  {
   "cell_type": "code",
   "execution_count": 21,
   "id": "e3b94463",
   "metadata": {},
   "outputs": [
    {
     "name": "stdout",
     "output_type": "stream",
     "text": [
      "'data.frame':\t150 obs. of  5 variables:\n",
      " $ Sepal.Length: num  5.1 4.9 4.7 4.6 5 5.4 4.6 5 4.4 4.9 ...\n",
      " $ Sepal.Width : num  3.5 3 3.2 3.1 3.6 3.9 3.4 3.4 2.9 3.1 ...\n",
      " $ Petal.Length: num  1.4 1.4 1.3 1.5 1.4 1.7 1.4 1.5 1.4 1.5 ...\n",
      " $ Petal.Width : num  0.2 0.2 0.2 0.2 0.2 0.4 0.3 0.2 0.2 0.1 ...\n",
      " $ Species     : Factor w/ 3 levels \"setosa\",\"versicolor\",..: 1 1 1 1 1 1 1 1 1 1 ...\n"
     ]
    },
    {
     "data": {
      "text/plain": [
       "             Df Sum Sq Mean Sq F value Pr(>F)    \n",
       "Species       2  11.35   5.672   49.16 <2e-16 ***\n",
       "Residuals   147  16.96   0.115                   \n",
       "---\n",
       "Signif. codes:  0 '***' 0.001 '**' 0.01 '*' 0.05 '.' 0.1 ' ' 1"
      ]
     },
     "metadata": {},
     "output_type": "display_data"
    },
    {
     "data": {
      "text/plain": [
       "  Tukey multiple comparisons of means\n",
       "    95% family-wise confidence level\n",
       "\n",
       "Fit: aov(formula = Sepal.Width ~ Species, data = iris)\n",
       "\n",
       "$Species\n",
       "                       diff         lwr        upr     p adj\n",
       "versicolor-setosa    -0.658 -0.81885528 -0.4971447 0.0000000\n",
       "virginica-setosa     -0.454 -0.61485528 -0.2931447 0.0000000\n",
       "virginica-versicolor  0.204  0.04314472  0.3648553 0.0087802\n"
      ]
     },
     "metadata": {},
     "output_type": "display_data"
    }
   ],
   "source": [
    "## iris, 붓꽃 데이터 기반 일원배치분산분석 수행\n",
    "\n",
    "data(iris)\n",
    "\n",
    "str(iris)\n",
    "\n",
    "result <- aov(Sepal.Width ~ Species, data = iris)\n",
    "summary(result) # 유의수준 0.05보다 p-value값(2e-16)이 매우 작으므로 귀무가설 기각\n",
    "\n",
    "# 사후검정 수행(Tukey HSD)\n",
    "# 2개 집단씩 짝을지어 비교 수행\n",
    "# 귀무가설 : 집단들 사이의 평균은 같다.\n",
    "# 대립가설 : 집단들 사이의 평균은 같지 않다.\n",
    "# p adj(p-value)값이 유의수준 0.05보다 작으므로 모든 비교에 대해서 평균의 유의미한 차이가 있다.\n",
    "# versicolor-setosa diff가 가장 크므로, 통계적으로 가장 큰 유의미한 차이를 갖는다.\n",
    "TukeyHSD(aov(Sepal.Width ~ Species, data = iris))"
   ]
  },
  {
   "cell_type": "markdown",
   "id": "c8b57229",
   "metadata": {},
   "source": [
    "# 교차분석\n",
    "- 질적 변수간의 관계 확인 목적\n",
    "- 카이제곱분포 기반, 동질성검정,독립성검정,적합성검정\n",
    "  - 귀무가설 : 두 변수간의 관련이 없다.(독립이다.)\n",
    "  - 대립가설 : 두 변수간의 관련이 있다.(독립이아니다.)\n",
    "\n",
    "## 적합성 검정\n",
    "- 실험에서 얻은 관측값들이 예상한 이론과 일치하는지 아닌지 검정\n",
    "  - 관찰도수, 기대도수를 이용\n",
    "- 예 : 응답자의 주로 사용하는 손에 대한 여론 조사시, 오른손이 80%, 왼손이 20%라고 예상하는데 실제 데이터도 그러한지 검정\n",
    "- 귀무가설 : 실제 분포와 이론 분포간에는 차이가 없다.(두 분포는 일치)\n",
    "- 대립가설 : 실제 분포와 이론 분포간에는 차이가 있다.(두 분포는 불일치)\n",
    "\n",
    "## 독립성 검정\n",
    "- 모집단이 두개의 변수 A, B로 범주화되었을때, A와 B 사이의 관계가 독립인지 아닌지 검정\n",
    "- 예 : 주로 사용하는 손(왼손, 오른손)과 운동 빈도의 관계 검정\n",
    "\n",
    "## 동질성 검정\n",
    "- 모집단이 임의의 변수에 따라 R개의 속성으로 범주화 되었을때, R개의 부분 모집단에서 추출한 각 표본인 C개의 범주화된 집단의 분포가 서로 동일한지 검정\n",
    "- 모집단 내에서 특정 변수 1개에 대해 범주화된 해당 속성별로 추출한 부분 모집단이 서로 일치하는지 검정\n",
    "  - 그냥 독립성 검정과 같은 방식으로 한다고 생각하면 됨\n",
    "- 귀무가설 : 부분 모집단은 모두 동일하다.\n",
    "- 대립가설 : 부분 모집단은 적어도 1개 이상의 모집단은 다른 값이 존재한다.\n"
   ]
  },
  {
   "cell_type": "code",
   "execution_count": 22,
   "id": "128da702",
   "metadata": {},
   "outputs": [
    {
     "name": "stdout",
     "output_type": "stream",
     "text": [
      "'data.frame':\t237 obs. of  12 variables:\n",
      " $ Sex   : Factor w/ 2 levels \"Female\",\"Male\": 1 2 2 2 2 1 2 1 2 2 ...\n",
      " $ Wr.Hnd: num  18.5 19.5 18 18.8 20 18 17.7 17 20 18.5 ...\n",
      " $ NW.Hnd: num  18 20.5 13.3 18.9 20 17.7 17.7 17.3 19.5 18.5 ...\n",
      " $ W.Hnd : Factor w/ 2 levels \"Left\",\"Right\": 2 1 2 2 2 2 2 2 2 2 ...\n",
      " $ Fold  : Factor w/ 3 levels \"L on R\",\"Neither\",..: 3 3 1 3 2 1 1 3 3 3 ...\n",
      " $ Pulse : int  92 104 87 NA 35 64 83 74 72 90 ...\n",
      " $ Clap  : Factor w/ 3 levels \"Left\",\"Neither\",..: 1 1 2 2 3 3 3 3 3 3 ...\n",
      " $ Exer  : Factor w/ 3 levels \"Freq\",\"None\",..: 3 2 2 2 3 3 1 1 3 3 ...\n",
      " $ Smoke : Factor w/ 4 levels \"Heavy\",\"Never\",..: 2 4 3 2 2 2 2 2 2 2 ...\n",
      " $ Height: num  173 178 NA 160 165 ...\n",
      " $ M.I   : Factor w/ 2 levels \"Imperial\",\"Metric\": 2 1 NA 2 2 1 1 2 2 2 ...\n",
      " $ Age   : num  18.2 17.6 16.9 20.3 23.7 ...\n"
     ]
    },
    {
     "data": {
      "text/plain": [
       "\n",
       " Left Right \n",
       "   18   218 "
      ]
     },
     "metadata": {},
     "output_type": "display_data"
    },
    {
     "data": {
      "text/plain": [
       "\n",
       "\tChi-squared test for given probabilities\n",
       "\n",
       "data:  data\n",
       "X-squared = 22.581, df = 1, p-value = 2.015e-06\n"
      ]
     },
     "metadata": {},
     "output_type": "display_data"
    },
    {
     "data": {
      "text/plain": [
       "       \n",
       "        Freq None Some\n",
       "  Left     7    3    8\n",
       "  Right  107   21   90"
      ]
     },
     "metadata": {},
     "output_type": "display_data"
    },
    {
     "name": "stderr",
     "output_type": "stream",
     "text": [
      "Warning message in chisq.test(table(survey$W.Hnd, survey$Exer)):\n",
      "\"Chi-squared approximation may be incorrect\"\n"
     ]
    },
    {
     "data": {
      "text/plain": [
       "\n",
       "\tPearson's Chi-squared test\n",
       "\n",
       "data:  table(survey$W.Hnd, survey$Exer)\n",
       "X-squared = 1.2065, df = 2, p-value = 0.547\n"
      ]
     },
     "metadata": {},
     "output_type": "display_data"
    }
   ],
   "source": [
    "\n",
    "# 적합성 검정\n",
    "\n",
    "data(survey, package = \"MASS\")\n",
    "str(survey)\n",
    "\n",
    "# 귀무가설 : 응답자 중 왼손잡이 비율이20 %, 오른손잡이 비율이 80 %이다.\n",
    "# 대립가설 : 응답자 중 왼손잡이 비율이20 %, 오른손잡이 비율이 80 %라고 할 수 없다.\n",
    "\n",
    "# 분할표 확인, 범주형 변수에 대해 왼손잡이 18, 오른손잡이 218\n",
    "table(survey$W.Hnd)\n",
    "\n",
    "data <- table(survey$W.Hnd)\n",
    "\n",
    "# 카이제곱 적합도 검정 수행\n",
    "# 유의 확률이 유의수준보다 작으므로 귀무가설 기각\n",
    "chisq.test(data, p=c(0.2, 0.8))\n",
    "\n",
    "# 독립성 검정\n",
    "\n",
    "# 귀무가설 : 주로 사용하는 손과 운동빈도는 독립이다.\n",
    "# 대립가설 : 주로 사용하는 손과 운동빈도는 독립이 아니다.\n",
    "\n",
    "## 분할표 생성\n",
    "table(survey$W.Hnd, survey$Exer)\n",
    "\n",
    "# p-value가 유의수준보다 크기 때문에 귀무가설을 기각할수 없다. \n",
    "# 즉, 주로 사용하는 손과 운동 빈도는 서로 독립이라고 말할 수 있다.\n",
    "chisq.test(table(survey$W.Hnd, survey$Exer))\n"
   ]
  },
  {
   "cell_type": "markdown",
   "id": "2b16c98b",
   "metadata": {},
   "source": [
    "# 상관분석(corelation analysis)\n",
    "- 두 변수간의 관계의 정도를 알아보기 위한 방법\n",
    "  - 공분산, 상관계수\n",
    "- 공분산 => 2개 확률변수의 선형 관계를 나타내는 값, 음의 무한대~양의 무한대 값 가능\n",
    "  - `COV(X, Y) = E[(X - E(X))(Y - E(Y))]`\n",
    "- 상관계수 => 두 변수 사이의 상관 관계를 나타내는 값 [-1,1] 값 가능\n",
    "  - 피어슨 상관계수(보통 상관계수라고 하면 이걸 의미), 스피어만 상관계수\n",
    "\n",
    "# 회귀분석(regression analysis)\n",
    "- 독립변수에 따른 종속변수의 변화를 분석하는 기법\n",
    "  - 독립변수, 종속변수 모두 수치형 변수\n",
    "- 단순회귀분석,다중회귀분석(다중공선성주의, 분산팽창요인 10 이상 확인),릿지회귀,라쏘회귀,엘라스틱넷\n",
    "- 회귀분석 가정(아래 가정이 만족되어야 회귀분석이 의미 있음)\n",
    "  - 독립/ 종속변수 선형성 확인 => 공분산, 산점도\n",
    "  - 오차의 등분산성 => 독립변수에 따른 잔차 그래프\n",
    "  - 오차의 독립성 => 오차간 관계없음, 더빈-왓슨 검정\n",
    "  - 오차의 정규성 => QQ plot, KS 검정, shapro-wilk 검정\n",
    "- 회귀분석 검토\n",
    "  - 회귀계수 유의성 검정(T 검정통계량)\n",
    "  - 모형 설명력 확인(결정계수, 수정결정계수)\n",
    "  - 회귀모형 통계적 유의성 검정(F 검정통계량)\n",
    "  - 다중회귀분석의 경우 다중공선성 확인 및 VIF(분산팽창요인) 10 이상 여부 확인\n",
    "    - 분산팽창요인이 10 이상이면, 독립변수간 상관관계가 높다고 볼 수 있고, 모형의 설명력을 떨어뜨려 신뢰가 낮아지게됨\n",
    "    - 보통 변수를 일부 선택하는 방식 등으로 해결\n"
   ]
  },
  {
   "cell_type": "code",
   "execution_count": 23,
   "id": "73b74a5e",
   "metadata": {},
   "outputs": [
    {
     "data": {
      "text/html": [
       "<table class=\"dataframe\">\n",
       "<caption>A data.frame: 6 × 8</caption>\n",
       "<thead>\n",
       "\t<tr><th></th><th scope=col>company_num</th><th scope=col>google_adwords</th><th scope=col>facebook</th><th scope=col>twitter</th><th scope=col>marketing_total</th><th scope=col>revenues</th><th scope=col>employees</th><th scope=col>pop_density</th></tr>\n",
       "\t<tr><th></th><th scope=col>&lt;int&gt;</th><th scope=col>&lt;dbl&gt;</th><th scope=col>&lt;dbl&gt;</th><th scope=col>&lt;dbl&gt;</th><th scope=col>&lt;dbl&gt;</th><th scope=col>&lt;dbl&gt;</th><th scope=col>&lt;int&gt;</th><th scope=col>&lt;chr&gt;</th></tr>\n",
       "</thead>\n",
       "<tbody>\n",
       "\t<tr><th scope=row>1</th><td>1</td><td> 65.66</td><td>47.86</td><td>52.46</td><td>166</td><td>39.26</td><td> 5</td><td>High  </td></tr>\n",
       "\t<tr><th scope=row>2</th><td>2</td><td> 39.10</td><td>55.20</td><td>77.40</td><td>172</td><td>38.90</td><td> 7</td><td>Medium</td></tr>\n",
       "\t<tr><th scope=row>3</th><td>3</td><td>174.81</td><td>52.01</td><td>68.01</td><td>295</td><td>49.51</td><td>11</td><td>Medium</td></tr>\n",
       "\t<tr><th scope=row>4</th><td>4</td><td> 34.36</td><td>61.96</td><td>86.86</td><td>183</td><td>40.56</td><td> 7</td><td>High  </td></tr>\n",
       "\t<tr><th scope=row>5</th><td>5</td><td> 78.21</td><td>40.91</td><td>30.41</td><td>150</td><td>40.21</td><td> 9</td><td>Low   </td></tr>\n",
       "\t<tr><th scope=row>6</th><td>6</td><td> 34.19</td><td>15.09</td><td>12.79</td><td> 62</td><td>38.09</td><td> 3</td><td>High  </td></tr>\n",
       "</tbody>\n",
       "</table>\n"
      ],
      "text/latex": [
       "A data.frame: 6 × 8\n",
       "\\begin{tabular}{r|llllllll}\n",
       "  & company\\_num & google\\_adwords & facebook & twitter & marketing\\_total & revenues & employees & pop\\_density\\\\\n",
       "  & <int> & <dbl> & <dbl> & <dbl> & <dbl> & <dbl> & <int> & <chr>\\\\\n",
       "\\hline\n",
       "\t1 & 1 &  65.66 & 47.86 & 52.46 & 166 & 39.26 &  5 & High  \\\\\n",
       "\t2 & 2 &  39.10 & 55.20 & 77.40 & 172 & 38.90 &  7 & Medium\\\\\n",
       "\t3 & 3 & 174.81 & 52.01 & 68.01 & 295 & 49.51 & 11 & Medium\\\\\n",
       "\t4 & 4 &  34.36 & 61.96 & 86.86 & 183 & 40.56 &  7 & High  \\\\\n",
       "\t5 & 5 &  78.21 & 40.91 & 30.41 & 150 & 40.21 &  9 & Low   \\\\\n",
       "\t6 & 6 &  34.19 & 15.09 & 12.79 &  62 & 38.09 &  3 & High  \\\\\n",
       "\\end{tabular}\n"
      ],
      "text/markdown": [
       "\n",
       "A data.frame: 6 × 8\n",
       "\n",
       "| <!--/--> | company_num &lt;int&gt; | google_adwords &lt;dbl&gt; | facebook &lt;dbl&gt; | twitter &lt;dbl&gt; | marketing_total &lt;dbl&gt; | revenues &lt;dbl&gt; | employees &lt;int&gt; | pop_density &lt;chr&gt; |\n",
       "|---|---|---|---|---|---|---|---|---|\n",
       "| 1 | 1 |  65.66 | 47.86 | 52.46 | 166 | 39.26 |  5 | High   |\n",
       "| 2 | 2 |  39.10 | 55.20 | 77.40 | 172 | 38.90 |  7 | Medium |\n",
       "| 3 | 3 | 174.81 | 52.01 | 68.01 | 295 | 49.51 | 11 | Medium |\n",
       "| 4 | 4 |  34.36 | 61.96 | 86.86 | 183 | 40.56 |  7 | High   |\n",
       "| 5 | 5 |  78.21 | 40.91 | 30.41 | 150 | 40.21 |  9 | Low    |\n",
       "| 6 | 6 |  34.19 | 15.09 | 12.79 |  62 | 38.09 |  3 | High   |\n",
       "\n"
      ],
      "text/plain": [
       "  company_num google_adwords facebook twitter marketing_total revenues\n",
       "1 1            65.66         47.86    52.46   166             39.26   \n",
       "2 2            39.10         55.20    77.40   172             38.90   \n",
       "3 3           174.81         52.01    68.01   295             49.51   \n",
       "4 4            34.36         61.96    86.86   183             40.56   \n",
       "5 5            78.21         40.91    30.41   150             40.21   \n",
       "6 6            34.19         15.09    12.79    62             38.09   \n",
       "  employees pop_density\n",
       "1  5        High       \n",
       "2  7        Medium     \n",
       "3 11        Medium     \n",
       "4  7        High       \n",
       "5  9        Low        \n",
       "6  3        High       "
      ]
     },
     "metadata": {},
     "output_type": "display_data"
    },
    {
     "data": {
      "text/plain": [
       "\n",
       "Call:\n",
       "lm(formula = revenues ~ google_adwords + facebook + twitter + \n",
       "    marketing_total + employees, data = df)\n",
       "\n",
       "Residuals:\n",
       "    Min      1Q  Median      3Q     Max \n",
       "-5.7788 -1.2437  0.2024  1.4643  4.2835 \n",
       "\n",
       "Coefficients:\n",
       "                Estimate Std. Error t value Pr(>|t|)    \n",
       "(Intercept)      28.4433     0.5962  47.706  < 2e-16 ***\n",
       "google_adwords    1.2110     0.5708   2.122 0.035348 *  \n",
       "facebook          1.3464     0.5714   2.356 0.019618 *  \n",
       "twitter           1.1724     0.5713   2.052 0.041711 *  \n",
       "marketing_total  -1.1696     0.5708  -2.049 0.042033 *  \n",
       "employees         0.3865     0.1042   3.708 0.000284 ***\n",
       "---\n",
       "Signif. codes:  0 '***' 0.001 '**' 0.01 '*' 0.05 '.' 0.1 ' ' 1\n",
       "\n",
       "Residual standard error: 2.108 on 166 degrees of freedom\n",
       "Multiple R-squared:  0.8733,\tAdjusted R-squared:  0.8695 \n",
       "F-statistic: 228.9 on 5 and 166 DF,  p-value: < 2.2e-16\n"
      ]
     },
     "metadata": {},
     "output_type": "display_data"
    },
    {
     "name": "stdout",
     "output_type": "stream",
     "text": [
      "[1] \"전진선택법==========================================\"\n",
      "Start:  AIC=262.4\n",
      "revenues ~ google_adwords + facebook + twitter + marketing_total + \n",
      "    employees\n",
      "\n"
     ]
    },
    {
     "data": {
      "text/plain": [
       "\n",
       "Call:\n",
       "lm(formula = revenues ~ google_adwords + facebook + twitter + \n",
       "    marketing_total + employees, data = df)\n",
       "\n",
       "Coefficients:\n",
       "    (Intercept)   google_adwords         facebook          twitter  \n",
       "        28.4433           1.2110           1.3464           1.1724  \n",
       "marketing_total        employees  \n",
       "        -1.1696           0.3865  \n"
      ]
     },
     "metadata": {},
     "output_type": "display_data"
    },
    {
     "name": "stdout",
     "output_type": "stream",
     "text": [
      "[1] \"후진제거법==========================================\"\n",
      "Start:  AIC=262.4\n",
      "revenues ~ google_adwords + facebook + twitter + marketing_total + \n",
      "    employees\n",
      "\n",
      "                  Df Sum of Sq    RSS    AIC\n",
      "<none>                         737.54 262.40\n",
      "- marketing_total  1    18.654 756.19 264.70\n",
      "- twitter          1    18.713 756.25 264.71\n",
      "- google_adwords   1    20.000 757.54 265.00\n",
      "- facebook         1    24.671 762.21 266.06\n",
      "- employees        1    61.102 798.64 274.09\n"
     ]
    },
    {
     "data": {
      "text/plain": [
       "\n",
       "Call:\n",
       "lm(formula = revenues ~ google_adwords + facebook + twitter + \n",
       "    marketing_total + employees, data = df)\n",
       "\n",
       "Coefficients:\n",
       "    (Intercept)   google_adwords         facebook          twitter  \n",
       "        28.4433           1.2110           1.3464           1.1724  \n",
       "marketing_total        employees  \n",
       "        -1.1696           0.3865  \n"
      ]
     },
     "metadata": {},
     "output_type": "display_data"
    },
    {
     "name": "stdout",
     "output_type": "stream",
     "text": [
      "[1] \"단계적선택법==========================================\"\n",
      "Start:  AIC=262.4\n",
      "revenues ~ google_adwords + facebook + twitter + marketing_total + \n",
      "    employees\n",
      "\n",
      "                  Df Sum of Sq    RSS    AIC\n",
      "<none>                         737.54 262.40\n",
      "- marketing_total  1    18.654 756.19 264.70\n",
      "- twitter          1    18.713 756.25 264.71\n",
      "- google_adwords   1    20.000 757.54 265.00\n",
      "- facebook         1    24.671 762.21 266.06\n",
      "- employees        1    61.102 798.64 274.09\n"
     ]
    },
    {
     "data": {
      "text/plain": [
       "\n",
       "Call:\n",
       "lm(formula = revenues ~ google_adwords + facebook + twitter + \n",
       "    marketing_total + employees, data = df)\n",
       "\n",
       "Coefficients:\n",
       "    (Intercept)   google_adwords         facebook          twitter  \n",
       "        28.4433           1.2110           1.3464           1.1724  \n",
       "marketing_total        employees  \n",
       "        -1.1696           0.3865  \n"
      ]
     },
     "metadata": {},
     "output_type": "display_data"
    }
   ],
   "source": [
    "#----------------------------------------------------------------------------------------\n",
    "# Q2) google_adwords, facebook, twitter, marketing_total, employees가 \n",
    "#     revenues에 영향을 미치는지 알아보는 회귀분석을 전진선택법을 사용하여 수행하고 결과를 해석하시오.\n",
    "#----------------------------------------------------------------------------------------\n",
    "# R을 이용하면 step 함수를 이용해서 쉽게 해결 가능하지만, python에서는 sklearn에 이러한 stepwise variable selection 관련 빌트인 함수가 없음\n",
    "# 회귀분석은 R을 이용해서 수행하는 것이 나을 것으로 생각됨\n",
    "\n",
    "#sessionInfo()\n",
    "\n",
    "df <- read.csv(file = './data/bike_marketing.csv')\n",
    "head(df)\n",
    "\n",
    "# 틸드(~) 왼쪽이 종속변수(예측 대상 변수)이고 오른쪽이 독립변수로, 모든 독립변수를 의미하는 거면 마침표(.)를 대신 사용해도 됨\n",
    "model <- lm(\n",
    "    formula = revenues ~ google_adwords + facebook + twitter + marketing_total + employees\n",
    "    , data = df\n",
    ")\n",
    "\n",
    "# 다중선형회귀를 했을때, summary로 확인해보면 됨\n",
    "summary(model)\n",
    "\n",
    "# 변수선택법은 전진선택법, 후진제거법, 단계적 선택법 총  3가지\n",
    "# 각각 forward, backward, both 로 구분\n",
    "\n",
    "# 전진선택법\n",
    "# 변수를 하나씩 추가하면서 AIC값이 낮아질수록 더 좋은 성능의 모델(모형)\n",
    "# 선택된 변수 google_adwords + facebook + twitter + marketing_total + employees\n",
    "# 추정된 회귀식 revenues = 28.44 + 1.21 * google_adwords + 1.35 * facebook + 1.17 * twitter + -1.17 * marketing_total + 0.39 * employees\n",
    "print(\"전진선택법==========================================\")\n",
    "step(model, direction = \"forward\")\n",
    "\n",
    "print(\"후진제거법==========================================\")\n",
    "step(model, direction = \"backward\")\n",
    "\n",
    "print(\"단계적선택법==========================================\")\n",
    "step(model, direction = \"both\")\n",
    "\n",
    "\n"
   ]
  },
  {
   "cell_type": "code",
   "execution_count": 24,
   "id": "d165dbfe",
   "metadata": {},
   "outputs": [
    {
     "data": {
      "image/png": "[encoded data removed]",
      "text/plain": [
       "Plot with title \"\""
      ]
     },
     "metadata": {
      "image/png": {
       "height": 420,
       "width": 420
      }
     },
     "output_type": "display_data"
    },
    {
     "data": {
      "image/png": "[encoded data removed]",
      "text/plain": [
       "Plot with title \"\""
      ]
     },
     "metadata": {
      "image/png": {
       "height": 420,
       "width": 420
      }
     },
     "output_type": "display_data"
    },
    {
     "data": {
      "image/png": "[encoded data removed]",
      "text/plain": [
       "Plot with title \"\""
      ]
     },
     "metadata": {
      "image/png": {
       "height": 420,
       "width": 420
      }
     },
     "output_type": "display_data"
    },
    {
     "data": {
      "image/png": "[encoded data removed]",
      "text/plain": [
       "Plot with title \"\""
      ]
     },
     "metadata": {
      "image/png": {
       "height": 420,
       "width": 420
      }
     },
     "output_type": "display_data"
    }
   ],
   "source": [
    "#---------------------------------------------------------------------------\n",
    "# Q3) 전진선택법을 사용해 변수를 선택한 후 새롭게 생성한 회귀모형에 대한 \n",
    "#     잔차분석을 수행하고 결과를 해석하시오. \n",
    "#---------------------------------------------------------------------------\n",
    "# 잔차분석 => 회귀 모형에 대한 가정이 충족되는지 검정하는 것(잔차의 등분산성, 독립성, 정규성 확인)\n",
    "# R plot 함수를 이용하여 잔차 분석 수행 가능\n",
    "# 첫번째 => 잔차의 등분산성 확인 가능 관측값에 따른 잔차(관측 - 예측) 그래프 => 직선에 가까울수록 좋음\n",
    "# 두번째 => QQ plot => 잔차의 정규성 확인 가능 => y=x에가까울수록 정규분포를 따름\n",
    "# 세번째 => 첫번째 그래프와 동일한 의미\n",
    "# 네번째 => 설명변수가 극단값에 있을수록 레버리지(x축)은 큰 값을 갖게 됨\n",
    "plot(model)\n"
   ]
  },
  {
   "cell_type": "code",
   "execution_count": 26,
   "id": "75559186",
   "metadata": {},
   "outputs": [
    {
     "data": {
      "text/plain": [
       "      GRE            TOEFL        Univ_Rating         SOP           LOR       \n",
       " Min.   :290.0   Min.   : 92.0   Min.   :1.000   Min.   :1.0   Min.   :1.000  \n",
       " 1st Qu.:308.0   1st Qu.:103.0   1st Qu.:2.000   1st Qu.:2.5   1st Qu.:3.000  \n",
       " Median :317.0   Median :107.0   Median :3.000   Median :3.5   Median :3.500  \n",
       " Mean   :316.8   Mean   :107.4   Mean   :3.087   Mean   :3.4   Mean   :3.453  \n",
       " 3rd Qu.:325.0   3rd Qu.:112.0   3rd Qu.:4.000   3rd Qu.:4.0   3rd Qu.:4.000  \n",
       " Max.   :340.0   Max.   :120.0   Max.   :5.000   Max.   :5.0   Max.   :5.000  \n",
       "      CGPA          Research      Chance_of_Admit \n",
       " Min.   :6.800   Min.   :0.0000   Min.   :0.3400  \n",
       " 1st Qu.:8.170   1st Qu.:0.0000   1st Qu.:0.6400  \n",
       " Median :8.610   Median :1.0000   Median :0.7300  \n",
       " Mean   :8.599   Mean   :0.5475   Mean   :0.7244  \n",
       " 3rd Qu.:9.062   3rd Qu.:1.0000   3rd Qu.:0.8300  \n",
       " Max.   :9.920   Max.   :1.0000   Max.   :0.9700  "
      ]
     },
     "metadata": {},
     "output_type": "display_data"
    },
    {
     "data": {
      "text/html": [
       "<style>\n",
       ".dl-inline {width: auto; margin:0; padding: 0}\n",
       ".dl-inline>dt, .dl-inline>dd {float: none; width: auto; display: inline-block}\n",
       ".dl-inline>dt::after {content: \":\\0020\"; padding-right: .5ex}\n",
       ".dl-inline>dt:not(:first-of-type) {padding-left: .5ex}\n",
       "</style><dl class=dl-inline><dt>GRE</dt><dd>126723</dd><dt>TOEFL</dt><dd>42964</dd><dt>Univ_Rating</dt><dd>1235</dd><dt>SOP</dt><dd>1360</dd><dt>LOR</dt><dd>1381</dd><dt>CGPA</dt><dd>3439.57</dd><dt>Research</dt><dd>219</dd><dt>Chance_of_Admit</dt><dd>289.74</dd></dl>\n"
      ],
      "text/latex": [
       "\\begin{description*}\n",
       "\\item[GRE] 126723\n",
       "\\item[TOEFL] 42964\n",
       "\\item[Univ\\textbackslash{}\\_Rating] 1235\n",
       "\\item[SOP] 1360\n",
       "\\item[LOR] 1381\n",
       "\\item[CGPA] 3439.57\n",
       "\\item[Research] 219\n",
       "\\item[Chance\\textbackslash{}\\_of\\textbackslash{}\\_Admit] 289.74\n",
       "\\end{description*}\n"
      ],
      "text/markdown": [
       "GRE\n",
       ":   126723TOEFL\n",
       ":   42964Univ_Rating\n",
       ":   1235SOP\n",
       ":   1360LOR\n",
       ":   1381CGPA\n",
       ":   3439.57Research\n",
       ":   219Chance_of_Admit\n",
       ":   289.74\n",
       "\n"
      ],
      "text/plain": [
       "            GRE           TOEFL     Univ_Rating             SOP             LOR \n",
       "      126723.00        42964.00         1235.00         1360.00         1381.00 \n",
       "           CGPA        Research Chance_of_Admit \n",
       "        3439.57          219.00          289.74 "
      ]
     },
     "metadata": {},
     "output_type": "display_data"
    },
    {
     "data": {
      "text/html": [
       "<table class=\"dataframe\">\n",
       "<caption>A matrix: 8 × 8 of type dbl</caption>\n",
       "<thead>\n",
       "\t<tr><th></th><th scope=col>GRE</th><th scope=col>TOEFL</th><th scope=col>Univ_Rating</th><th scope=col>SOP</th><th scope=col>LOR</th><th scope=col>CGPA</th><th scope=col>Research</th><th scope=col>Chance_of_Admit</th></tr>\n",
       "</thead>\n",
       "<tbody>\n",
       "\t<tr><th scope=row>GRE</th><td>1.0000000</td><td>0.8359768</td><td>0.6689759</td><td>0.6128307</td><td>0.5575545</td><td>0.8330605</td><td>0.5803906</td><td>0.8026105</td></tr>\n",
       "\t<tr><th scope=row>TOEFL</th><td>0.8359768</td><td>1.0000000</td><td>0.6955898</td><td>0.6579805</td><td>0.5677209</td><td>0.8284174</td><td>0.4898579</td><td>0.7915940</td></tr>\n",
       "\t<tr><th scope=row>Univ_Rating</th><td>0.6689759</td><td>0.6955898</td><td>1.0000000</td><td>0.7345228</td><td>0.6601235</td><td>0.7464787</td><td>0.4477825</td><td>0.7112503</td></tr>\n",
       "\t<tr><th scope=row>SOP</th><td>0.6128307</td><td>0.6579805</td><td>0.7345228</td><td>1.0000000</td><td>0.7295925</td><td>0.7181440</td><td>0.4440288</td><td>0.6757319</td></tr>\n",
       "\t<tr><th scope=row>LOR</th><td>0.5575545</td><td>0.5677209</td><td>0.6601235</td><td>0.7295925</td><td>1.0000000</td><td>0.6702113</td><td>0.3968593</td><td>0.6698888</td></tr>\n",
       "\t<tr><th scope=row>CGPA</th><td>0.8330605</td><td>0.8284174</td><td>0.7464787</td><td>0.7181440</td><td>0.6702113</td><td>1.0000000</td><td>0.5216542</td><td>0.8732891</td></tr>\n",
       "\t<tr><th scope=row>Research</th><td>0.5803906</td><td>0.4898579</td><td>0.4477825</td><td>0.4440288</td><td>0.3968593</td><td>0.5216542</td><td>1.0000000</td><td>0.5532021</td></tr>\n",
       "\t<tr><th scope=row>Chance_of_Admit</th><td>0.8026105</td><td>0.7915940</td><td>0.7112503</td><td>0.6757319</td><td>0.6698888</td><td>0.8732891</td><td>0.5532021</td><td>1.0000000</td></tr>\n",
       "</tbody>\n",
       "</table>\n"
      ],
      "text/latex": [
       "A matrix: 8 × 8 of type dbl\n",
       "\\begin{tabular}{r|llllllll}\n",
       "  & GRE & TOEFL & Univ\\_Rating & SOP & LOR & CGPA & Research & Chance\\_of\\_Admit\\\\\n",
       "\\hline\n",
       "\tGRE & 1.0000000 & 0.8359768 & 0.6689759 & 0.6128307 & 0.5575545 & 0.8330605 & 0.5803906 & 0.8026105\\\\\n",
       "\tTOEFL & 0.8359768 & 1.0000000 & 0.6955898 & 0.6579805 & 0.5677209 & 0.8284174 & 0.4898579 & 0.7915940\\\\\n",
       "\tUniv\\_Rating & 0.6689759 & 0.6955898 & 1.0000000 & 0.7345228 & 0.6601235 & 0.7464787 & 0.4477825 & 0.7112503\\\\\n",
       "\tSOP & 0.6128307 & 0.6579805 & 0.7345228 & 1.0000000 & 0.7295925 & 0.7181440 & 0.4440288 & 0.6757319\\\\\n",
       "\tLOR & 0.5575545 & 0.5677209 & 0.6601235 & 0.7295925 & 1.0000000 & 0.6702113 & 0.3968593 & 0.6698888\\\\\n",
       "\tCGPA & 0.8330605 & 0.8284174 & 0.7464787 & 0.7181440 & 0.6702113 & 1.0000000 & 0.5216542 & 0.8732891\\\\\n",
       "\tResearch & 0.5803906 & 0.4898579 & 0.4477825 & 0.4440288 & 0.3968593 & 0.5216542 & 1.0000000 & 0.5532021\\\\\n",
       "\tChance\\_of\\_Admit & 0.8026105 & 0.7915940 & 0.7112503 & 0.6757319 & 0.6698888 & 0.8732891 & 0.5532021 & 1.0000000\\\\\n",
       "\\end{tabular}\n"
      ],
      "text/markdown": [
       "\n",
       "A matrix: 8 × 8 of type dbl\n",
       "\n",
       "| <!--/--> | GRE | TOEFL | Univ_Rating | SOP | LOR | CGPA | Research | Chance_of_Admit |\n",
       "|---|---|---|---|---|---|---|---|---|\n",
       "| GRE | 1.0000000 | 0.8359768 | 0.6689759 | 0.6128307 | 0.5575545 | 0.8330605 | 0.5803906 | 0.8026105 |\n",
       "| TOEFL | 0.8359768 | 1.0000000 | 0.6955898 | 0.6579805 | 0.5677209 | 0.8284174 | 0.4898579 | 0.7915940 |\n",
       "| Univ_Rating | 0.6689759 | 0.6955898 | 1.0000000 | 0.7345228 | 0.6601235 | 0.7464787 | 0.4477825 | 0.7112503 |\n",
       "| SOP | 0.6128307 | 0.6579805 | 0.7345228 | 1.0000000 | 0.7295925 | 0.7181440 | 0.4440288 | 0.6757319 |\n",
       "| LOR | 0.5575545 | 0.5677209 | 0.6601235 | 0.7295925 | 1.0000000 | 0.6702113 | 0.3968593 | 0.6698888 |\n",
       "| CGPA | 0.8330605 | 0.8284174 | 0.7464787 | 0.7181440 | 0.6702113 | 1.0000000 | 0.5216542 | 0.8732891 |\n",
       "| Research | 0.5803906 | 0.4898579 | 0.4477825 | 0.4440288 | 0.3968593 | 0.5216542 | 1.0000000 | 0.5532021 |\n",
       "| Chance_of_Admit | 0.8026105 | 0.7915940 | 0.7112503 | 0.6757319 | 0.6698888 | 0.8732891 | 0.5532021 | 1.0000000 |\n",
       "\n"
      ],
      "text/plain": [
       "                GRE       TOEFL     Univ_Rating SOP       LOR       CGPA     \n",
       "GRE             1.0000000 0.8359768 0.6689759   0.6128307 0.5575545 0.8330605\n",
       "TOEFL           0.8359768 1.0000000 0.6955898   0.6579805 0.5677209 0.8284174\n",
       "Univ_Rating     0.6689759 0.6955898 1.0000000   0.7345228 0.6601235 0.7464787\n",
       "SOP             0.6128307 0.6579805 0.7345228   1.0000000 0.7295925 0.7181440\n",
       "LOR             0.5575545 0.5677209 0.6601235   0.7295925 1.0000000 0.6702113\n",
       "CGPA            0.8330605 0.8284174 0.7464787   0.7181440 0.6702113 1.0000000\n",
       "Research        0.5803906 0.4898579 0.4477825   0.4440288 0.3968593 0.5216542\n",
       "Chance_of_Admit 0.8026105 0.7915940 0.7112503   0.6757319 0.6698888 0.8732891\n",
       "                Research  Chance_of_Admit\n",
       "GRE             0.5803906 0.8026105      \n",
       "TOEFL           0.4898579 0.7915940      \n",
       "Univ_Rating     0.4477825 0.7112503      \n",
       "SOP             0.4440288 0.6757319      \n",
       "LOR             0.3968593 0.6698888      \n",
       "CGPA            0.5216542 0.8732891      \n",
       "Research        1.0000000 0.5532021      \n",
       "Chance_of_Admit 0.5532021 1.0000000      "
      ]
     },
     "metadata": {},
     "output_type": "display_data"
    },
    {
     "data": {
      "image/png": "[encoded data removed]",
      "text/plain": [
       "plot without title"
      ]
     },
     "metadata": {
      "image/png": {
       "height": 420,
       "width": 420
      }
     },
     "output_type": "display_data"
    },
    {
     "name": "stdout",
     "output_type": "stream",
     "text": [
      "Start:  AIC=-2193.9\n",
      "Chance_of_Admit ~ GRE + TOEFL + Univ_Rating + SOP + LOR + CGPA + \n",
      "    Research\n",
      "\n",
      "              Df Sum of Sq    RSS     AIC\n",
      "- SOP          1   0.00144 1.5962 -2195.5\n",
      "- Univ_Rating  1   0.00584 1.6006 -2194.4\n",
      "<none>                     1.5948 -2193.9\n",
      "- TOEFL        1   0.02921 1.6240 -2188.6\n",
      "- GRE          1   0.03435 1.6291 -2187.4\n",
      "- Research     1   0.03862 1.6334 -2186.3\n",
      "- LOR          1   0.06620 1.6609 -2179.6\n",
      "- CGPA         1   0.38544 1.9802 -2109.3\n",
      "\n",
      "Step:  AIC=-2195.54\n",
      "Chance_of_Admit ~ GRE + TOEFL + Univ_Rating + LOR + CGPA + Research\n",
      "\n",
      "              Df Sum of Sq    RSS     AIC\n",
      "- Univ_Rating  1   0.00464 1.6008 -2196.4\n",
      "<none>                     1.5962 -2195.5\n",
      "+ SOP          1   0.00144 1.5948 -2193.9\n",
      "- TOEFL        1   0.02806 1.6242 -2190.6\n",
      "- GRE          1   0.03565 1.6318 -2188.7\n",
      "- Research     1   0.03769 1.6339 -2188.2\n",
      "- LOR          1   0.06983 1.6660 -2180.4\n",
      "- CGPA         1   0.38660 1.9828 -2110.8\n",
      "\n",
      "Step:  AIC=-2196.38\n",
      "Chance_of_Admit ~ GRE + TOEFL + LOR + CGPA + Research\n",
      "\n",
      "              Df Sum of Sq    RSS     AIC\n",
      "<none>                     1.6008 -2196.4\n",
      "+ Univ_Rating  1   0.00464 1.5962 -2195.5\n",
      "+ SOP          1   0.00024 1.6006 -2194.4\n",
      "- TOEFL        1   0.03292 1.6338 -2190.2\n",
      "- GRE          1   0.03638 1.6372 -2189.4\n",
      "- Research     1   0.03912 1.6400 -2188.7\n",
      "- LOR          1   0.09133 1.6922 -2176.2\n",
      "- CGPA         1   0.43201 2.0328 -2102.8\n"
     ]
    },
    {
     "data": {
      "text/plain": [
       "\n",
       "Call:\n",
       "lm(formula = Chance_of_Admit ~ GRE + TOEFL + LOR + CGPA + Research, \n",
       "    data = df)\n",
       "\n",
       "Residuals:\n",
       "      Min        1Q    Median        3Q       Max \n",
       "-0.263542 -0.023297  0.009879  0.038078  0.159897 \n",
       "\n",
       "Coefficients:\n",
       "              Estimate Std. Error t value Pr(>|t|)    \n",
       "(Intercept) -1.2984636  0.1172905 -11.070  < 2e-16 ***\n",
       "GRE          0.0017820  0.0005955   2.992  0.00294 ** \n",
       "TOEFL        0.0030320  0.0010651   2.847  0.00465 ** \n",
       "LOR          0.0227762  0.0048039   4.741 2.97e-06 ***\n",
       "CGPA         0.1210042  0.0117349  10.312  < 2e-16 ***\n",
       "Research     0.0245769  0.0079203   3.103  0.00205 ** \n",
       "---\n",
       "Signif. codes:  0 '***' 0.001 '**' 0.01 '*' 0.05 '.' 0.1 ' ' 1\n",
       "\n",
       "Residual standard error: 0.06374 on 394 degrees of freedom\n",
       "Multiple R-squared:  0.8027,\tAdjusted R-squared:  0.8002 \n",
       "F-statistic: 320.6 on 5 and 394 DF,  p-value: < 2.2e-16\n"
      ]
     },
     "metadata": {},
     "output_type": "display_data"
    },
    {
     "data": {
      "image/png": "[encoded data removed]",
      "text/plain": [
       "plot without title"
      ]
     },
     "metadata": {
      "image/png": {
       "height": 420,
       "width": 420
      }
     },
     "output_type": "display_data"
    },
    {
     "data": {
      "image/png": "[encoded data removed]",
      "text/plain": [
       "Plot with title \"\""
      ]
     },
     "metadata": {
      "image/png": {
       "height": 420,
       "width": 420
      }
     },
     "output_type": "display_data"
    },
    {
     "data": {
      "image/png": "[encoded data removed]",
      "text/plain": [
       "Plot with title \"\""
      ]
     },
     "metadata": {
      "image/png": {
       "height": 420,
       "width": 420
      }
     },
     "output_type": "display_data"
    },
    {
     "data": {
      "image/png": "[encoded data removed]",
      "text/plain": [
       "Plot with title \"\""
      ]
     },
     "metadata": {
      "image/png": {
       "height": 420,
       "width": 420
      }
     },
     "output_type": "display_data"
    },
    {
     "data": {
      "text/plain": [
       "\n",
       "\tShapiro-Wilk normality test\n",
       "\n",
       "data:  model.2$residuals\n",
       "W = 0.92193, p-value = 1.443e-13\n"
      ]
     },
     "metadata": {},
     "output_type": "display_data"
    },
    {
     "data": {
      "image/png": "[encoded data removed]",
      "text/plain": [
       "Plot with title \"\""
      ]
     },
     "metadata": {
      "image/png": {
       "height": 420,
       "width": 420
      }
     },
     "output_type": "display_data"
    }
   ],
   "source": [
    "###################################################################################\n",
    "#                      1. 통계분석 (사용 데이터 : Admission)                  \n",
    "###################################################################################\n",
    "\n",
    "\n",
    "#---------------------------------------------------------------------------------\n",
    "# Q1) 종속변수인 chance_of_admit(입학 허가 확률)와 독립변수(GRE, TOEFL, \n",
    "#     Univ_Rating, SOP, LOR, CGPA)에 대해 피어슨 상관계수를 이용한 상관관계 분석을 \n",
    "#     수행하고 그래프를 이용하여 분석결과를 설명하시오.\n",
    "#---------------------------------------------------------------------------------\n",
    "\n",
    "df = read.csv('./data//Admission.csv')\n",
    "\n",
    "summary(df)\n",
    "#df[, c(\"GRE\", \"TOEFL\", \"Univ_Rating\", \"SOP\", \"LOR\", \"CGPA\")]\n",
    "\n",
    "colSums(df)\n",
    "\n",
    "# 데이터프레임 내의 상관계수 확인(모든 변수의 상관관계)\n",
    "cor = cor(df)\n",
    "cor\n",
    "# CGPA와 chance_of_admit의 피어슨 상관계수값이 0.87로 가장 큰 양의 상관관계를 갖고 있음\n",
    "# 어쨌든 모든 독립변수가 양의 상관관계를 약하든 강하든 갖고 있음\n",
    "\n",
    "# 상관계수 행렬 확인\n",
    "pairs(cor)\n",
    "\n",
    "# 독립변수 1개와 종속변수 1개의 점 그래프 표현\n",
    "plot(df$CGPA, df$Chance_of_Admit, col = \"red\")\n",
    "\n",
    "#---------------------------------------------------------------------------------\n",
    "# Q2) GRE, TOEFL, Univ_Rating, SOP, LOR, CGPA, Research가 Chance_of_Admit에 \n",
    "#     영향을 미치는지 알아보는 회귀분석을 단계적 선택법을 사용하여 수행하고 결과를 해석하시오.\n",
    "#---------------------------------------------------------------------------------\n",
    "\n",
    "model = lm(\n",
    "    formula = Chance_of_Admit ~ GRE+TOEFL+Univ_Rating+ SOP+ LOR+ CGPA+ Research\n",
    "    , data = df\n",
    ")\n",
    "\n",
    "model.pred = step(model, direction = \"both\")\n",
    "\n",
    "# Step:  AIC=-2196.38\n",
    "# Chance_of_Admit ~ GRE + TOEFL + LOR + CGPA + Research\n",
    "\n",
    "#               Df Sum of Sq    RSS     AIC\n",
    "# <none>                     1.6008 -2196.4\n",
    "# + Univ_Rating  1   0.00464 1.5962 -2195.5\n",
    "# + SOP          1   0.00024 1.6006 -2194.4\n",
    "# - TOEFL        1   0.03292 1.6338 -2190.2\n",
    "# - GRE          1   0.03638 1.6372 -2189.4\n",
    "# - Research     1   0.03912 1.6400 -2188.7\n",
    "# - LOR          1   0.09133 1.6922 -2176.2\n",
    "# - CGPA         1   0.43201 2.0328 -2102.8\n",
    "\n",
    "# AIC가 가장 낮은 값을 갖는 변수들을 선택하고, 다시 회귀분석 수행 후 결과 해석\n",
    "\n",
    "model.2 = lm(\n",
    "    formula = Chance_of_Admit ~ GRE + TOEFL + LOR + CGPA + Research\n",
    "    , data = df\n",
    ")\n",
    "\n",
    "summary(model.2)\n",
    "\n",
    "# Call:\n",
    "# lm(formula = Chance_of_Admit ~ GRE + TOEFL + LOR + CGPA + Research, \n",
    "#     data = df)\n",
    "\n",
    "# Residuals:\n",
    "#       Min        1Q    Median        3Q       Max \n",
    "# -0.263542 -0.023297  0.009879  0.038078  0.159897 \n",
    "\n",
    "# Coefficients:\n",
    "#               Estimate Std. Error t value Pr(>|t|)    \n",
    "# (Intercept) -1.2984636  0.1172905 -11.070  < 2e-16 ***\n",
    "# GRE          0.0017820  0.0005955   2.992  0.00294 ** \n",
    "# TOEFL        0.0030320  0.0010651   2.847  0.00465 ** \n",
    "# LOR          0.0227762  0.0048039   4.741 2.97e-06 ***\n",
    "# CGPA         0.1210042  0.0117349  10.312  < 2e-16 ***\n",
    "# Research     0.0245769  0.0079203   3.103  0.00205 ** \n",
    "# ---\n",
    "# Signif. codes:  0 '***' 0.001 '**' 0.01 '*' 0.05 '.' 0.1 ' ' 1\n",
    "\n",
    "# Residual standard error: 0.06374 on 394 degrees of freedom\n",
    "# Multiple R-squared:  0.8027,\tAdjusted R-squared:  0.8002 \n",
    "# F-statistic: 320.6 on 5 and 394 DF,  p-value: < 2.2e-16\n",
    "\n",
    "# 회귀계수 유의성 확인 => 유의수준 0.05 하에서 회귀 계수별로 유의 확률을 확인했을때 0.05보다 작으므로 회귀 계수는 유의하다.\n",
    "# 회귀모형 설명력 확인(결정계수) => 결정계수값은 0.80로, 1에 가까울수록 모형의 설명력이 좋다.\n",
    "# 회귀모형 유의성 확인 => F 검정 통계량 기반으로 계산된 유의확률이 유의수준 0.05보다 작으므로, 통계적으로 유의하다고 볼 수 있다.\n",
    "\n",
    "#---------------------------------------------------------------------------\n",
    "# Q3) 단계 선택법을 사용해 변수를 선택한 후 새롭게 생성한 회귀모형에 대한 \n",
    "#     잔차분석을 수행하고 결과를 해석하시오. \n",
    "#---------------------------------------------------------------------------\n",
    "\n",
    "# 잔차분석 => 잔차의 정규성, 독립성, 등분산성을 만족시켜야함\n",
    "# 회귀 모델을 plot 함수에 넣어주면 그래프 4개를 표시해줌\n",
    "# par(mfrow=c(2,2))\n",
    "plot(model.2)\n",
    "\n",
    "# Residuals vs Fitted => (모형 선형성) 잔차가 정규분포를 따른다는 정규성 가정 만족 확인, 기울기가 0인 직선 형태가 이상적, 완전히 직선 형태는 아니나 어느정도 만족함을 확인\n",
    "# Normal Q-Q plot 확인 => (잔차 정규성) 표준화된 잔차의 확률도 확인, 점들은 기울기가 1인 직선 형태에 위치하는 것이 이상적, 일부 이탈이 있으나 어느정도 만족함을 확인\n",
    "# Scale-Location => (잔차 등분산성) 기울기가 0인 직선 형태에 위치하는 것이 이상적\n",
    "# Cook distance => 잔차는 왼쪽 가운데 몰려있어야 이상적\n",
    "\n",
    "# 잔차의 정규성 검정은 샤피로 검정으로도 가능\n",
    "shapiro.test(model.2$residuals)"
   ]
  },
  {
   "cell_type": "code",
   "execution_count": null,
   "id": "396d8cbc",
   "metadata": {},
   "outputs": [],
   "source": []
  }
 ],
 "metadata": {
  "kernelspec": {
   "display_name": "R",
   "language": "R",
   "name": "ir"
  },
  "language_info": {
   "codemirror_mode": "r",
   "file_extension": ".r",
   "mimetype": "text/x-r-source",
   "name": "R",
   "pygments_lexer": "r",
   "version": "4.0.1"
  }
 },
 "nbformat": 4,
 "nbformat_minor": 5
}
