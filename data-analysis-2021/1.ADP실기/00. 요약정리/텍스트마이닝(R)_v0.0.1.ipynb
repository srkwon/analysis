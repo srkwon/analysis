{
 "cells": [
  {
   "cell_type": "markdown",
   "id": "7259bd78",
   "metadata": {},
   "source": [
    "# R 기반 텍스트 마이닝(KoNLP)\n",
    "- `install.packages(\"KoNLP\")\" 로 설치가 바로 안되므로, 아래 순서대로 수동 설치 필요\n",
    "  - https://www.youtube.com/watch?v=upukwMgPY28&ab_channel=%EC%86%A1%EC%8A%B9%EB%AF%BC%EC%9D%98%ED%8A%B9%EC%88%98%EA%B5%90%EC%9C%A1 영상 참고\n",
    "```\n",
    "1. R 설치하기(가급적 관리자 권한으로 설치)\n",
    "https://ftp.harukasan.org/CRAN/\n",
    "\n",
    "2. R Studio 설치하기(가급적 관리자 권한으로 설치)\n",
    "https://rstudio.com/products/rstudio/...\n",
    "\n",
    "3. rtools40 설치하기(c:/Rtools에 설치)\n",
    "https://cran.r-project.org/bin/window...\n",
    "\n",
    "4. java, rJava 설치하기\n",
    "install.packages(\"multilinguer\")\n",
    "library(multilinguer)\n",
    "install_jdk()\n",
    "\n",
    "5. 의존성 패키지 설치하기\n",
    "install.packages(c(\"hash\", \"tau\", \"Sejong\", \"RSQLite\", \"devtools\", \"bit\", \"rex\", \"lazyeval\", \"htmlwidgets\", \"crosstalk\", \"promises\", \"later\", \"sessioninfo\", \"xopen\", \"bit64\", \"blob\", \"DBI\", \"memoise\", \"plogr\", \"covr\", \"DT\", \"rcmdcheck\", \"rversions\"), type = \"binary\")\n",
    "\n",
    "6. github 버전 설치하기\n",
    "install.packages(\"remotes\")\n",
    "\n",
    "7. KoNLP 설치하기(64bit에서만 동작)\n",
    "remotes::install_github('haven-jeon/KoNLP', upgrade = \"never\", INSTALL_opts=c(\"--no-multiarch\"))\n",
    "\n",
    "8. 단어 사전 추가하기 \n",
    "mergeUserDic(data.frame(c(\"강남대\"), c(\"ncn\")))\n",
    "```"
   ]
  },
  {
   "cell_type": "code",
   "execution_count": 3,
   "id": "0b7b824f",
   "metadata": {},
   "outputs": [
    {
     "name": "stdout",
     "output_type": "stream",
     "text": [
      "Backup was just finished!\n",
      "370957 words dictionary was built.\n",
      "629898 words dictionary was built.\n"
     ]
    },
    {
     "data": {
      "image/png": "[encoded data removed]",
      "text/plain": [
       "Plot with title \"tour 데이터 빈출 명사\""
      ]
     },
     "metadata": {
      "image/png": {
       "height": 420,
       "width": 420
      }
     },
     "output_type": "display_data"
    },
    {
     "data": {
      "image/png": "[encoded data removed]",
      "text/plain": [
       "plot without title"
      ]
     },
     "metadata": {
      "image/png": {
       "height": 420,
       "width": 420
      }
     },
     "output_type": "display_data"
    }
   ],
   "source": [
    "###################################################################################\n",
    "#                      3. 비정형 데이터마이닝 (사용 데이터 : \"instagram_태교여행\")\n",
    "###################################################################################\n",
    "\n",
    "#---------------------------------------------------------------------------\n",
    "# Q1) ‘instagram_태교여행.txt’ 데이터를 읽어온 뒤 숫자, 특수 문자 등을 \n",
    "#     제거하는 전처리 작업을 시행하시오.\n",
    "#---------------------------------------------------------------------------\n",
    "\n",
    "library(tm)\n",
    "library(rJava)\n",
    "library(KoNLP)\n",
    "library(wordcloud)\n",
    "library(plyr)\n",
    "library(stringr)\n",
    "\n",
    "useSejongDic()\n",
    "\n",
    "instagram_tour <- readLines(\"./data/instagram_태교여행.txt\")\n",
    "\n",
    "# print(instagram_tour)\n",
    "\n",
    "#데이터 전처리\n",
    "clean_txt <- function(txt){\n",
    "  txt <- tolower(txt)             # 대, 소문자 변환\n",
    "  txt <- removePunctuation(txt)   # 구두점 제거\n",
    "  txt <- removeNumbers(txt)       # 숫자 제거\n",
    "  txt <- stripWhitespace(txt)     # 공백제거\n",
    "  \n",
    "  return(txt)\n",
    "}\n",
    "\n",
    "tour_1 <- clean_txt(instagram_tour)\n",
    "\n",
    "# print(tour_1)\n",
    "\n",
    "#---------------------------------------------------------------------------\n",
    "# Q2) 전처리된 데이터에서 “태교여행”이란 단어를 사전에 추가하고 명사를 추출해 \n",
    "#     출현빈도 10위까지 막대그래프로 시각화하시오. \n",
    "#---------------------------------------------------------------------------\n",
    "\n",
    "buildDictionary(ext_dic = \"woorimalsam\", user_dic=data.frame(c(\"태교여행\"),\"ncn\"),replace_usr_dic = T)\n",
    "\n",
    "tour1<-sapply(tour_1,extractNoun)\n",
    "\n",
    "table.cnoun<-head(sort(table(unlist(tour1)),decreasing=T),10)\n",
    "\n",
    "barplot(table.cnoun, main=\"tour 데이터 빈출 명사\", \n",
    "        xlab=\"단어\",\n",
    "        ylab=\"빈도\")\n",
    "\n",
    "# 3) 전처리된 데이터를 이용해 워드클라우드를 작성하고 인사이트를 추출하시오.\n",
    "\n",
    "result<-data.frame(sort(table(unlist(tour1)),decreasing=T))\n",
    "\n",
    "t<-wordcloud(result$Var1,result$Freq,color=brewer.pal(6,\"Dark2\"),min.freq=20)\n",
    "\n"
   ]
  },
  {
   "cell_type": "code",
   "execution_count": 4,
   "id": "6f07d27f",
   "metadata": {},
   "outputs": [
    {
     "data": {
      "text/html": [
       "<style>\n",
       ".list-inline {list-style: none; margin:0; padding: 0}\n",
       ".list-inline>li {display: inline-block}\n",
       ".list-inline>li:not(:last-child)::after {content: \"\\00b7\"; padding: 0 .5ex}\n",
       "</style>\n",
       "<ol class=list-inline><li>'정권교체 하겠습니다!'</li><li>''</li><li>'정치교체 하겠습니다!'</li><li>''</li><li>'시대교체 하겠습니다!'</li><li>''</li></ol>\n"
      ],
      "text/latex": [
       "\\begin{enumerate*}\n",
       "\\item '정권교체 하겠습니다!'\n",
       "\\item ''\n",
       "\\item '정치교체 하겠습니다!'\n",
       "\\item ''\n",
       "\\item '시대교체 하겠습니다!'\n",
       "\\item ''\n",
       "\\end{enumerate*}\n"
      ],
      "text/markdown": [
       "1. '정권교체 하겠습니다!'\n",
       "2. ''\n",
       "3. '정치교체 하겠습니다!'\n",
       "4. ''\n",
       "5. '시대교체 하겠습니다!'\n",
       "6. ''\n",
       "\n",
       "\n"
      ],
      "text/plain": [
       "[1] \"정권교체 하겠습니다!\" \"\"                     \"정치교체 하겠습니다!\"\n",
       "[4] \"\"                     \"시대교체 하겠습니다!\" \"\"                    "
      ]
     },
     "metadata": {},
     "output_type": "display_data"
    },
    {
     "data": {
      "text/html": [
       "'가나다라뜛꽯꽓'"
      ],
      "text/latex": [
       "'가나다라뜛꽯꽓'"
      ],
      "text/markdown": [
       "'가나다라뜛꽯꽓'"
      ],
      "text/plain": [
       "[1] \"가나다라뜛꽯꽓\""
      ]
     },
     "metadata": {},
     "output_type": "display_data"
    },
    {
     "name": "stderr",
     "output_type": "stream",
     "text": [
      "Warning message:\n",
      "\"package 'dplyr' was built under R version 4.0.5\"\n",
      "\n",
      "Attaching package: 'dplyr'\n",
      "\n",
      "\n",
      "The following objects are masked from 'package:plyr':\n",
      "\n",
      "    arrange, count, desc, failwith, id, mutate, rename, summarise,\n",
      "    summarize\n",
      "\n",
      "\n",
      "The following objects are masked from 'package:stats':\n",
      "\n",
      "    filter, lag\n",
      "\n",
      "\n",
      "The following objects are masked from 'package:base':\n",
      "\n",
      "    intersect, setdiff, setequal, union\n",
      "\n",
      "\n"
     ]
    }
   ],
   "source": [
    "raw_text <- readLines(\"./data/korean/text_moon.txt\", encoding = \"UTF-8\")\n",
    "\n",
    "head(raw_text)\n",
    "\n",
    "# 불필요 문자 제거\n",
    "library(stringr)\n",
    "\n",
    "text <- '가나다라뜛꽯꽓 1234 !@# this is test Structures... okok'\n",
    "\n",
    "text.2 <- str_replace_all(string = text, pattern = \"[^가-힣]\", replacement = \" \")\n",
    "\n",
    "# 연속된 공백 제거\n",
    "text.3 <- str_squish(text.2)\n",
    "\n",
    "text.3\n",
    "\n",
    "# 전처리 작업 한번에 하기\n",
    "library(dplyr)\n",
    "text.4 <- raw_text %>% \n",
    "        str_replace_all(pattern = \"[^가-힣]\", replacement = \" \") %>%\n",
    "        str_squish() %>%\n",
    "        as_tibble()\n",
    "            \n",
    "#text.4\n",
    "\n",
    "\n"
   ]
  },
  {
   "cell_type": "code",
   "execution_count": 43,
   "id": "541c5fd6",
   "metadata": {},
   "outputs": [
    {
     "data": {
      "image/png": "[encoded data removed]",
      "text/plain": [
       "plot without title"
      ]
     },
     "metadata": {
      "image/png": {
       "height": 420,
       "width": 420
      }
     },
     "output_type": "display_data"
    }
   ],
   "source": [
    "# 텍스트 토큰화\n",
    "\n",
    "library(tidytext)\n",
    "\n",
    "# 반드시 tibble 타입을 넣어줘야함\n",
    "words <- text.4 %>%\n",
    "        unnest_tokens(\n",
    "            input = value\n",
    "            , output = word\n",
    "            , token = \"words\"\n",
    "        )\n",
    "\n",
    "#words\n",
    "\n",
    "# 단어 빈도 구하기, 소팅 처리, 단어 1개 초과만 필터링 해서 이용, 상위 10개 추출\n",
    "top10 <- words %>% count(word, sort = T) %>% filter(str_count(word) > 1) %>% head(10)\n",
    "\n",
    "library(ggplot2)\n",
    "\n",
    "ggplot(top10, aes(x = reorder(word, n), y = n)) +\n",
    "    geom_col() +\n",
    "    coord_flip()"
   ]
  }
 ],
 "metadata": {
  "kernelspec": {
   "display_name": "R",
   "language": "R",
   "name": "ir"
  },
  "language_info": {
   "codemirror_mode": "r",
   "file_extension": ".r",
   "mimetype": "text/x-r-source",
   "name": "R",
   "pygments_lexer": "r",
   "version": "4.0.1"
  }
 },
 "nbformat": 4,
 "nbformat_minor": 5
}
