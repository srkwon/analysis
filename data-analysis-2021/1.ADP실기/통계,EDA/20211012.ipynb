{
 "cells": [
  {
   "cell_type": "markdown",
   "id": "7b1122f0",
   "metadata": {},
   "source": [
    "# 파이썬 기본\n",
    "- 튜플, 리스트, 사전(딕셔너리), 집합\n",
    "- 조건문, 분기문\n",
    "- 파일 입출력\n",
    "- 예외처리\n",
    "- 함수\n"
   ]
  },
  {
   "cell_type": "code",
   "execution_count": 28,
   "id": "a1c048e1",
   "metadata": {},
   "outputs": [
    {
     "name": "stdout",
     "output_type": "stream",
     "text": [
      "(1, 2, 3)\n",
      "(1, 2, 3, '테스트')\n",
      "('t', 'e', 's', 't', ' ', 's', 't', 'r', 'i', 'n', 'g')\n",
      "t\n",
      "t\n",
      "e\n",
      "s\n",
      "t\n",
      " \n",
      "s\n",
      "t\n",
      "r\n",
      "i\n",
      "n\n",
      "g\n",
      "('t', 'e', 's', 't', ' ', 's', 't', 'r', 'i', 'n', 'g', 'test', None)\n",
      "a=1, b=2, rest=[3, 4, 5]\n"
     ]
    }
   ],
   "source": [
    "# 파이썬 기본\n",
    "# 튜플(1차원 순서 있는 자료형)\n",
    "\n",
    "a = 1, 2, 3\n",
    "print(a)\n",
    "\n",
    "b = 1, 2, 3, \"테스트\"\n",
    "print(b)\n",
    "\n",
    "c = tuple(\"test string\")\n",
    "print(c) # 문자열이 하나씩 분리되어서 개별 원소가 됨\n",
    "print(c[0]) # 튜플 원소 접근은 대괄호로 가능(0부터 인덱스 시작)\n",
    "\n",
    "# c 안에 있는 원소를 출력\n",
    "for one in c: print(one)\n",
    "\n",
    "# print(c[-1555]) 없는 인덱스를 쓰면 IndexError 발생\n",
    "# c[0] = 'a' # 튜플은 내부의 어떤 원소값을 바꾸는게 안됨, 이뮤터블이기 때문\n",
    "\n",
    "# +로 이어 붙일수 있음\n",
    "# None는 null을 의미\n",
    "c + (\"test\", None) \n",
    "print(c + (\"test\", None) )\n",
    "\n",
    "values = 1,2,3,4,5\n",
    "# 아래처럼 아스테리스트(*)를 주면, 가변 길이의 인자를 담기 위해 사용 가능\n",
    "a, b, *rest = values\n",
    "\n",
    "print(f\"a={a}, b={b}, rest={rest}\")\n"
   ]
  },
  {
   "cell_type": "code",
   "execution_count": 44,
   "id": "6dd920b8",
   "metadata": {},
   "outputs": [
    {
     "name": "stdout",
     "output_type": "stream",
     "text": [
      "[1, 2, 3, 4, 5]\n",
      "[1, 2, 3, 4, 5, 6, 7, 8, 9]\n",
      "9\n",
      "10\n",
      "[-10, 1, 2, 2, 4, 7, 8, 9, 10, 15, 28]\n"
     ]
    }
   ],
   "source": [
    "# 리스트 => 대괄호나 list함수를 이용해서 생성 가능\n",
    "list1 = [1,2,3,4,5]\n",
    "print(list1)\n",
    "\n",
    "list2 = list(range(1,10)) # 1음 포함, 10은 제외(총 9개 생성)\n",
    "print(list2)\n",
    "print(len(list2))\n",
    "\n",
    "# 리스트 끝에 원소 추가\n",
    "list2.append(None)\n",
    "print(len(list2))\n",
    "\n",
    "# 만약 숫자가 아닌 값이 들어가 있으면 sort는 예외(None 때문)\n",
    "# list2.sort()\n",
    "list3 = [10,9,8,7,15,28,4,2,2,1,-10]\n",
    "list3.sort()\n",
    "print(list3) # 디폴트 오름차순 정렬\n",
    "\n",
    "\n"
   ]
  },
  {
   "cell_type": "code",
   "execution_count": 50,
   "id": "37666f77",
   "metadata": {},
   "outputs": [
    {
     "name": "stdout",
     "output_type": "stream",
     "text": [
      "<class 'dict'>\n",
      "d1={'a': 1, 'b': [[1, 2, 3, 4], [5, 6, 7, 8]]}, 1, [[1, 2, 3, 4], [5, 6, 7, 8]]\n"
     ]
    }
   ],
   "source": [
    "# 딕셔너리 - 사전, 해시맵\n",
    "\n",
    "empty_dict = {}\n",
    "print(type(empty_dict))\n",
    "\n",
    "d1 = {\n",
    "    'a' : 1, 'b' : [[1,2,3,4], [5,6,7,8]]\n",
    "}\n",
    "print(f\"d1={d1}, {d1['a']}, {d1['b']}\")"
   ]
  },
  {
   "cell_type": "markdown",
   "id": "e0626c31",
   "metadata": {},
   "source": [
    "# numpy\n",
    "- 넘파이, numerical python의 약자\n",
    "- 산술계산을 위해 제공되는 패키지 중 하나"
   ]
  },
  {
   "cell_type": "code",
   "execution_count": 15,
   "id": "424c83cf",
   "metadata": {},
   "outputs": [
    {
     "name": "stdout",
     "output_type": "stream",
     "text": [
      "data=[[0.74247597 0.55937414 0.97847025]\n",
      " [0.8685466  0.49455793 0.7261166 ]], type=<class 'numpy.ndarray'>, shape=(2, 3), dtype=float64\n",
      "[ 1.    2.66  9.    6.    2.   10.  ]\n",
      "float64\n",
      "[[1 2 3]\n",
      " [4 5 6]]\n",
      "[0. 0. 0. 0. 0. 0. 0. 0. 0. 0.]\n",
      "[ 0  1  2  3  4  5  6  7  8  9 10 11 12 13 14]\n",
      "[[ 0  1  2  3  4]\n",
      " [ 5  6  7  8  9]\n",
      " [10 11 12 13 14]]\n",
      "[ 6  8 10 12]\n",
      "[0.2        0.33333333 0.42857143 0.5       ]\n",
      "[-4 -4 -4 -4]\n",
      "[ 5 12 21 32]\n",
      "[1 2]\n",
      "[1 2 3 4]\n",
      "[1 2 3]\n",
      "[-11   2   3   4]\n",
      "[-11   2   3]\n",
      "-0.1390818258427107, -2.781636516854214, 1.3988788710012332, 1.0341524389342172, 1.0694712669535895\n",
      "[[ 1  2  3  4]\n",
      " [ 5  6  7  8]\n",
      " [ 9 10 11 12]]\n",
      "6\n",
      "[5 6 7 8]\n",
      "[[1 2 3 4]\n",
      " [5 6 7 8]]\n",
      "[False False  True]\n",
      "[[2 3 4]\n",
      " [6 7 8]]\n",
      "[[ 9 10 11 12]]\n"
     ]
    }
   ],
   "source": [
    "import numpy as np\n",
    "\n",
    "# 2행 3열의 데이터를 만듦(2차원 배열)\n",
    "# 매번 새로운 데이터를 생성해서 반환\n",
    "data = np.random.rand(2,3)\n",
    "print(f\"data={data}, type={type(data)}, shape={data.shape}, dtype={data.dtype}\") # ndarray를 사용\n",
    "\n",
    "# ndarray 생성\n",
    "data1 = np.array([1,2.66,9,6,2,10])\n",
    "print(data1)\n",
    "print(data1.dtype)\n",
    "\n",
    "# 2차원 배열 \n",
    "print(np.array([[1,2,3],[4,5,6]]))\n",
    "\n",
    "print(np.zeros(10)) # 0으로 채워진 1차원 배열 반환\n",
    "\n",
    "print(np.arange(15)) # 0에서 15를 채운 1차원 배열 반환\n",
    "\n",
    "# 행과 열 개수를 마음대로 바꾸려면 reshape을 이용하면 됨\n",
    "print(np.arange(15).reshape(3,5))\n",
    "\n",
    "# numpy의 사칙연산은 원소별 수행\n",
    "\n",
    "d1 = np.array([1,2,3,4])\n",
    "d2 = np.array([5,6,7,8])\n",
    "print(d1+d2)\n",
    "print(d1/d2)\n",
    "print(d1-d2)\n",
    "print(d1*d2)\n",
    "\n",
    "# 원소 일부 선택(0부터 시작)\n",
    "print(d1[0:2])\n",
    "print(d1[:]) # 전체 선택\n",
    "\n",
    "# 부분 원소만 뽑아서 그것의 원소를 바꿔도 원래 원소가 바뀜에 주의해야함\n",
    "d3 = d1[0:3]\n",
    "print(d3)\n",
    "d3[0] = -11\n",
    "# d3를 바꿨는데 d1의 값도 바뀌게됨(-11) 즉, 복사를 하지 않고 같은 객체를 바라보기 때문\n",
    "print(d1)\n",
    "# copy 해서 접근해야함\n",
    "print(d3.copy())\n",
    "\n",
    "arr1 = np.random.randn(5, 4)\n",
    "\n",
    "print(f\"{arr1.mean()}, {arr1.sum()}, {arr1.max()}, {arr1.std()}, {arr1.var()}\")\n",
    "\n",
    "df3 = np.array([[1,2,3,4], [5,6,7,8], [9, 10, 11, 12]])\n",
    "\n",
    "print(df3)\n",
    "print(df3[1, 1]) # 6\n",
    "\n",
    "print(df3[1]) # [5,6,7,8]\n",
    "\n",
    "print(df3[0:2]) # 2개 행을 추출\n",
    "\n",
    "print(df3[:, 2] > 10) # 반환되는 것이 부울값\n",
    "\n",
    "print(df3[:2, 1:]) \n",
    "\n",
    "# 데이터 프레임의 특정 열의 값이 10 초과하는 행만 추출\n",
    "print(df3[df3[:, 3] > 10]) \n",
    "\n"
   ]
  },
  {
   "cell_type": "code",
   "execution_count": null,
   "id": "a58bf24d",
   "metadata": {},
   "outputs": [],
   "source": [
    "# pandas = DataFrame + Series\n",
    "# 테이블 형태의 데이터 처리를 위해 사용할수 있는 패키지\n"
   ]
  },
  {
   "cell_type": "code",
   "execution_count": 60,
   "id": "559a3468",
   "metadata": {},
   "outputs": [
    {
     "data": {
      "text/html": [
       "<div>\n",
       "<style scoped>\n",
       "    .dataframe tbody tr th:only-of-type {\n",
       "        vertical-align: middle;\n",
       "    }\n",
       "\n",
       "    .dataframe tbody tr th {\n",
       "        vertical-align: top;\n",
       "    }\n",
       "\n",
       "    .dataframe thead th {\n",
       "        text-align: right;\n",
       "    }\n",
       "</style>\n",
       "<table border=\"1\" class=\"dataframe\">\n",
       "  <thead>\n",
       "    <tr style=\"text-align: right;\">\n",
       "      <th></th>\n",
       "      <th>학년</th>\n",
       "      <th>악력</th>\n",
       "      <th>윗몸일으키기</th>\n",
       "      <th>점수</th>\n",
       "      <th>순위</th>\n",
       "    </tr>\n",
       "    <tr>\n",
       "      <th>학생번호</th>\n",
       "      <th></th>\n",
       "      <th></th>\n",
       "      <th></th>\n",
       "      <th></th>\n",
       "      <th></th>\n",
       "    </tr>\n",
       "  </thead>\n",
       "  <tbody>\n",
       "    <tr>\n",
       "      <th>1</th>\n",
       "      <td>1</td>\n",
       "      <td>40.2</td>\n",
       "      <td>34</td>\n",
       "      <td>15</td>\n",
       "      <td>4</td>\n",
       "    </tr>\n",
       "    <tr>\n",
       "      <th>2</th>\n",
       "      <td>1</td>\n",
       "      <td>34.2</td>\n",
       "      <td>14</td>\n",
       "      <td>7</td>\n",
       "      <td>10</td>\n",
       "    </tr>\n",
       "    <tr>\n",
       "      <th>3</th>\n",
       "      <td>1</td>\n",
       "      <td>28.8</td>\n",
       "      <td>27</td>\n",
       "      <td>11</td>\n",
       "      <td>7</td>\n",
       "    </tr>\n",
       "    <tr>\n",
       "      <th>4</th>\n",
       "      <td>2</td>\n",
       "      <td>39.0</td>\n",
       "      <td>27</td>\n",
       "      <td>14</td>\n",
       "      <td>5</td>\n",
       "    </tr>\n",
       "    <tr>\n",
       "      <th>5</th>\n",
       "      <td>2</td>\n",
       "      <td>50.9</td>\n",
       "      <td>32</td>\n",
       "      <td>17</td>\n",
       "      <td>2</td>\n",
       "    </tr>\n",
       "    <tr>\n",
       "      <th>6</th>\n",
       "      <td>2</td>\n",
       "      <td>36.5</td>\n",
       "      <td>20</td>\n",
       "      <td>9</td>\n",
       "      <td>9</td>\n",
       "    </tr>\n",
       "    <tr>\n",
       "      <th>7</th>\n",
       "      <td>3</td>\n",
       "      <td>36.6</td>\n",
       "      <td>31</td>\n",
       "      <td>13</td>\n",
       "      <td>6</td>\n",
       "    </tr>\n",
       "    <tr>\n",
       "      <th>8</th>\n",
       "      <td>3</td>\n",
       "      <td>49.2</td>\n",
       "      <td>37</td>\n",
       "      <td>18</td>\n",
       "      <td>1</td>\n",
       "    </tr>\n",
       "    <tr>\n",
       "      <th>9</th>\n",
       "      <td>3</td>\n",
       "      <td>26.0</td>\n",
       "      <td>28</td>\n",
       "      <td>10</td>\n",
       "      <td>8</td>\n",
       "    </tr>\n",
       "    <tr>\n",
       "      <th>10</th>\n",
       "      <td>3</td>\n",
       "      <td>47.4</td>\n",
       "      <td>32</td>\n",
       "      <td>16</td>\n",
       "      <td>3</td>\n",
       "    </tr>\n",
       "  </tbody>\n",
       "</table>\n",
       "</div>"
      ],
      "text/plain": [
       "      학년    악력  윗몸일으키기  점수  순위\n",
       "학생번호                          \n",
       "1      1  40.2      34  15   4\n",
       "2      1  34.2      14   7  10\n",
       "3      1  28.8      27  11   7\n",
       "4      2  39.0      27  14   5\n",
       "5      2  50.9      32  17   2\n",
       "6      2  36.5      20   9   9\n",
       "7      3  36.6      31  13   6\n",
       "8      3  49.2      37  18   1\n",
       "9      3  26.0      28  10   8\n",
       "10     3  47.4      32  16   3"
      ]
     },
     "execution_count": 60,
     "metadata": {},
     "output_type": "execute_result"
    }
   ],
   "source": [
    "import pandas as pd\n",
    "\n",
    "df = pd.read_csv('python_stat_sample\\ch1_sport_test.csv', index_col = '학생번호')\n",
    "\n",
    "type(df) # 테이블 형태의 데이터는 데이터 프레임 => pandas.core.frame.DataFrame\n",
    "\n",
    "df\n"
   ]
  },
  {
   "cell_type": "code",
   "execution_count": 61,
   "id": "0b0fa57e",
   "metadata": {},
   "outputs": [
    {
     "data": {
      "text/plain": [
       "(10, 5)"
      ]
     },
     "execution_count": 61,
     "metadata": {},
     "output_type": "execute_result"
    }
   ],
   "source": [
    "df2 = df['악력']\n",
    "\n",
    "type(df2) # 컬럼 1개의 데이터는 시리즈 => pandas.core.series.Series\n",
    "\n",
    "# 행과 열의 개수를 반환 (10,5)\n",
    "# 학생번호 컬럼을 인덱스로 분리해놨기 때문에 5개 컬럼만 가지는 것\n",
    "df.shape "
   ]
  },
  {
   "cell_type": "code",
   "execution_count": 63,
   "id": "bfb09c05",
   "metadata": {},
   "outputs": [
    {
     "data": {
      "text/html": [
       "<div>\n",
       "<style scoped>\n",
       "    .dataframe tbody tr th:only-of-type {\n",
       "        vertical-align: middle;\n",
       "    }\n",
       "\n",
       "    .dataframe tbody tr th {\n",
       "        vertical-align: top;\n",
       "    }\n",
       "\n",
       "    .dataframe thead th {\n",
       "        text-align: right;\n",
       "    }\n",
       "</style>\n",
       "<table border=\"1\" class=\"dataframe\">\n",
       "  <thead>\n",
       "    <tr style=\"text-align: right;\">\n",
       "      <th></th>\n",
       "      <th>english</th>\n",
       "      <th>mathematics</th>\n",
       "    </tr>\n",
       "    <tr>\n",
       "      <th>student number</th>\n",
       "      <th></th>\n",
       "      <th></th>\n",
       "    </tr>\n",
       "  </thead>\n",
       "  <tbody>\n",
       "    <tr>\n",
       "      <th>1</th>\n",
       "      <td>42</td>\n",
       "      <td>65</td>\n",
       "    </tr>\n",
       "    <tr>\n",
       "      <th>2</th>\n",
       "      <td>69</td>\n",
       "      <td>80</td>\n",
       "    </tr>\n",
       "    <tr>\n",
       "      <th>3</th>\n",
       "      <td>56</td>\n",
       "      <td>63</td>\n",
       "    </tr>\n",
       "    <tr>\n",
       "      <th>4</th>\n",
       "      <td>41</td>\n",
       "      <td>63</td>\n",
       "    </tr>\n",
       "    <tr>\n",
       "      <th>5</th>\n",
       "      <td>57</td>\n",
       "      <td>76</td>\n",
       "    </tr>\n",
       "  </tbody>\n",
       "</table>\n",
       "</div>"
      ],
      "text/plain": [
       "                english  mathematics\n",
       "student number                      \n",
       "1                    42           65\n",
       "2                    69           80\n",
       "3                    56           63\n",
       "4                    41           63\n",
       "5                    57           76"
      ]
     },
     "execution_count": 63,
     "metadata": {},
     "output_type": "execute_result"
    }
   ],
   "source": [
    "import numpy as np\n",
    "import pandas as pd\n",
    "\n",
    "df = pd.read_csv('python_stat_sample/ch2_scores_em.csv', index_col = 'student number')\n",
    "\n",
    "df.shape\n",
    "\n",
    "df.head()\n",
    "\n"
   ]
  },
  {
   "cell_type": "code",
   "execution_count": 46,
   "id": "c84fd68d",
   "metadata": {},
   "outputs": [
    {
     "name": "stdout",
     "output_type": "stream",
     "text": [
      "mean=55.0\n",
      "median=56.500\n",
      "mode=0    5\n",
      "dtype: int64\n"
     ]
    }
   ],
   "source": [
    "scores = np.array(df['english'])[:10]\n",
    "\n",
    "scores\n",
    "\n",
    "# numpy는 통계치 계산이 함수로 제공되고, pandas는 DataFrame, Series 객체에서 멤버함수를 호출하는 식으로 제공이 됨\n",
    "print(f\"mean={np.mean(scores)}\") # 평균\n",
    "print(f\"median={np.median(scores):0.3f}\") # 중앙값, 소수점 이하 3자리까지 표시\n",
    "# 최빈값은 DataFrame, Series를 이용\n",
    "print(f\"mode={pd.Series([1,2,3,4,5,5]).mode()}\")\n",
    "\n",
    "\n"
   ]
  },
  {
   "cell_type": "code",
   "execution_count": 103,
   "id": "eb55ea4d",
   "metadata": {},
   "outputs": [
    {
     "name": "stdout",
     "output_type": "stream",
     "text": [
      "std = 2.872\n",
      "std = 8.250\n",
      "std = 9.167\n",
      "[-1.567 -1.219 -0.87  -0.522 -0.174  0.174  0.522  0.87   1.219  1.567]\n"
     ]
    },
    {
     "data": {
      "text/plain": [
       "1.0"
      ]
     },
     "execution_count": 103,
     "metadata": {},
     "output_type": "execute_result"
    }
   ],
   "source": [
    "import numpy as np\n",
    "\n",
    "scores = [1,2,3,4,5,6,7,8,9,10]\n",
    "type(scores)\n",
    "\n",
    "np.mean(scores)\n",
    "np.std(scores) # 2.8722813232690143\n",
    "print(f\"std = {np.std(scores):0.3f}\") # 점수의 표준편차\n",
    "print(f\"std = {np.var(scores, ddof = 0):0.3f}\") # 점수의 분산(모분산)\n",
    "print(f\"std = {np.var(scores, ddof = 1):0.3f}\") # 점수의 분산(표본분산)\n",
    "\n",
    "# 범위\n",
    "np.max(scores) - np.min(scores)\n",
    "\n",
    "# 사분위범위(25%, 50%, 75%)\n",
    "q1 = np.percentile(scores, 25) # 1사분위수\n",
    "q2 = np.percentile(scores, 50) # 2사분위수\n",
    "q3 = np.percentile(scores, 75) # 3사분위수\n",
    "iqr = q3 - q1 # 사분위범위(IQR)\n",
    "\n",
    "# 정규화 => 어떤 데이터(관측값)을 통일된 지표로 변환하는 작업, 이것의 한가지 예가 표준화인 것\n",
    "# 표준화 => z-score(z 점수)\n",
    "# 데이터에서 평균을 빼고 표준편차로 나눠주는 작업\n",
    "z = ( scores - np.mean(scores) ) / np.std(scores)\n",
    "print(z)\n",
    "\n",
    "# 표준화된 데이터는 평균이 0이고 표준편차가 1\n",
    "np.mean(z)\n",
    "np.std(z, ddof = 0)\n",
    "\n",
    "\n",
    "\n",
    "\n"
   ]
  },
  {
   "cell_type": "markdown",
   "id": "d79c68c2",
   "metadata": {},
   "source": [
    "# matplotlib\n",
    "- 시각화 라이브러리\n",
    "- 최근에는 seaborn 이라는 시각화 라이브러리도 사용한다고 함"
   ]
  },
  {
   "cell_type": "code",
   "execution_count": 4,
   "id": "36c3bdad",
   "metadata": {},
   "outputs": [
    {
     "data": {
      "text/plain": [
       "[<matplotlib.lines.Line2D at 0x1ab74ce2808>]"
      ]
     },
     "execution_count": 4,
     "metadata": {},
     "output_type": "execute_result"
    },
    {
     "data": {
      "image/png": "[encoded data removed]",
      "text/plain": [
       "<Figure size 432x288 with 1 Axes>"
      ]
     },
     "metadata": {
      "needs_background": "light"
     },
     "output_type": "display_data"
    }
   ],
   "source": [
    "import matplotlib.pyplot as plt\n",
    "import numpy as np\n",
    "\n",
    "# 1~10까지 숫자 배열 생성\n",
    "data = np.arange(10)\n",
    "plt.plot(data)"
   ]
  }
 ],
 "metadata": {
  "kernelspec": {
   "display_name": "Python 3",
   "language": "python",
   "name": "python3"
  },
  "language_info": {
   "codemirror_mode": {
    "name": "ipython",
    "version": 3
   },
   "file_extension": ".py",
   "mimetype": "text/x-python",
   "name": "python",
   "nbconvert_exporter": "python",
   "pygments_lexer": "ipython3",
   "version": "3.7.7"
  }
 },
 "nbformat": 4,
 "nbformat_minor": 5
}
