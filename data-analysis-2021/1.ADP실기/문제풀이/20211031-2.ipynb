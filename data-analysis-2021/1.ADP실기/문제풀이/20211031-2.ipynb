{
 "cells": [
  {
   "cell_type": "code",
   "execution_count": 2,
   "id": "590755d0",
   "metadata": {},
   "outputs": [
    {
     "name": "stdout",
     "output_type": "stream",
     "text": [
      "Index(['User_ID', 'Product_ID', 'Gender', 'Age', 'Occupation', 'City_Category',\n",
      "       'Stay_In_Current_City_Years', 'Marital_Status', 'Product_Category_1',\n",
      "       'Product_Category_2', 'Product_Category_3', 'Purchase', 'Product_all'],\n",
      "      dtype='object')\n",
      "Index(['User_ID', 'Product_ID', 'Gender', 'Age', 'Occupation', 'City_Category',\n",
      "       'Stay_In_Current_City_Years', 'Marital_Status', 'Product_Category_1',\n",
      "       'Product_Category_2', 'Product_Category_3', 'Purchase', 'Product_all',\n",
      "       'Gender_F', 'Gender_M', 'Age_0-17', 'Age_18-25', 'Age_26-35',\n",
      "       'Age_36-45', 'Age_46-50', 'Age_51-55', 'Age_55+', 'City_Category_A',\n",
      "       'City_Category_B', 'City_Category_C', 'Stay_In_Current_City_Years_0',\n",
      "       'Stay_In_Current_City_Years_1', 'Stay_In_Current_City_Years_2',\n",
      "       'Stay_In_Current_City_Years_3', 'Stay_In_Current_City_Years_4+'],\n",
      "      dtype='object')\n"
     ]
    }
   ],
   "source": [
    "###################################################################################\n",
    "#                      2. 정형 데이터마이닝 (사용 데이터 : BlackFriday)                  \n",
    "###################################################################################\n",
    "\n",
    "#---------------------------------------------------------------------------------------\n",
    "# Q1) \"BlackFriday\"데이터에서 Product_Category_2, Product_Category_3의 NA 값에 0값으로 대체하고\n",
    "#     Product_categry_1, 2, 3 변수의 값을 다 더한 Product_all 변수를 생성하여 추가하라.\n",
    "#     그리고 User_ID를 character 변수로, Occupation, Marital_Status, Product_Category_1, \n",
    "#     Product_Category_2, Product_Category_3 변수를 범주형 변수로 변환하시오. \n",
    "#     마지막으로 범주형 변수인 Gender, Age, City_Category, Stay_In_Current_City_Years를 \n",
    "#     더미변수로 변환해서 BlackFriday 데이터에 추가하시오.\n",
    "#---------------------------------------------------------------------------------------\n",
    "\n",
    "import pandas as pd\n",
    "import numpy as np\n",
    "\n",
    "df = pd.read_csv('./data/모의고사3회/BlackFriday.csv')\n",
    "# print(df.describe())\n",
    "# print(df.head())\n",
    "\n",
    "# Product_Category_2, Product_Category_3의 NA 값에 0값으로 대체\n",
    "# 데이터 프레임 내의 컬럼별 NA 개수 확인\n",
    "df.isnull().sum()\n",
    "\n",
    "# row 단위 NA 개수 확인(axis = 0은 컬럼 기준이며 디폴트값임)\n",
    "#df.isnull().sum(axis = 1)\n",
    "\n",
    "# NAN에 해당하는 값을 임의의 다른 값으로 대체\n",
    "df[['Product_Category_2', 'Product_Category_3']] = df[['Product_Category_2', 'Product_Category_3']].fillna(0)\n",
    "\n",
    "# NA 값이 대체된 것을 확인\n",
    "df.isnull().sum()\n",
    "\n",
    "# Product_categry_1, 2, 3 변수의 값을 다 더한 Product_all 변수를 생성하여 추가\n",
    "\n",
    "df[['Product_all']] = df['Product_Category_1'] + df['Product_Category_2'] + df['Product_Category_3']\n",
    "\n",
    "\n",
    "# User_ID를 character 변수로, Occupation, Marital_Status, Product_Category_1,  Product_Category_2, Product_Category_3 변수를 범주형 변수로 변환\n",
    "\n",
    "\n",
    "# 범주형 변수인 Gender, Age, City_Category, Stay_In_Current_City_Years를 더미변수로 변환해서 BlackFriday 데이터에 추가\n",
    "\n",
    "df[['Gender', 'Age']].head()\n",
    "\n",
    "print(df.columns)\n",
    "\n",
    "df2 = pd.get_dummies(df[['Gender', 'Age', 'City_Category', 'Stay_In_Current_City_Years']])\n",
    "\n",
    "# cbind라고 생각하면 됨, 컬럼 연결\n",
    "df3 = pd.concat([df, df2], axis = 1)\n",
    "\n",
    "print(df3.columns)\n",
    "\n"
   ]
  },
  {
   "cell_type": "code",
   "execution_count": 3,
   "id": "2abd954c",
   "metadata": {},
   "outputs": [
    {
     "name": "stdout",
     "output_type": "stream",
     "text": [
      "Index(['Occupation', 'Marital_Status', 'Product_Category_1',\n",
      "       'Product_Category_2', 'Product_Category_3', 'Purchase', 'Gender_F',\n",
      "       'Gender_M', 'Age_0-17', 'Age_18-25', 'Age_26-35', 'Age_36-45',\n",
      "       'Age_46-50', 'Age_51-55', 'Age_55+', 'City_Category_A',\n",
      "       'City_Category_B', 'City_Category_C', 'Stay_In_Current_City_Years_0',\n",
      "       'Stay_In_Current_City_Years_1', 'Stay_In_Current_City_Years_2',\n",
      "       'Stay_In_Current_City_Years_3', 'Stay_In_Current_City_Years_4+'],\n",
      "      dtype='object')\n",
      "(537577, 23)\n",
      "[2 1 0 ... 2 0 0]\n"
     ]
    }
   ],
   "source": [
    "#---------------------------------------------------------------------------------------\n",
    "# Q2) BlackFriday_1 데이터에서 User_ID, Product_ID, Gender, Age, City_Category, Stay_In_Current_City_Years, \n",
    "#     Product_all  변수를 제외한 나머지 변수들을 활용하여 kmeans 군집분석을 수행하고 해석하시오.\n",
    "#     (범주형 변수는 수치형 변수로 변환하여 분석에 활용하시오.)\n",
    "#     그리고 최적의 군집 개수를 찾아서 만일 군집 개수가 이전 결과와 다르면 분석을 다시 수행하여 해석하시오.\n",
    "#---------------------------------------------------------------------------------------\n",
    "\n",
    "df4 = df3[df3.columns[~df3.columns.isin(['User_ID', 'Product_ID', 'Gender', 'Age', 'City_Category', 'Stay_In_Current_City_Years', 'Product_all'])]]\n",
    "\n",
    "print(df4.columns)\n",
    "print(df4.shape) # (537577, 23)\n",
    "\n",
    "from sklearn.metrics.cluster import silhouette_score\n",
    "from sklearn.cluster import KMeans\n",
    "from sklearn.cluster import MiniBatchKMeans\n",
    "\n",
    "#model = KMeans(n_clusters = 3)\n",
    "\n",
    "# 오래 걸릴 경우, 아래 미니 배치로 수행\n",
    "model = MiniBatchKMeans(n_clusters = 3)\n",
    "model.fit(df4)\n",
    "\n",
    "print(model.labels_)\n",
    "\n",
    "#print(f\"실루엣 계수 = {silhouette_score(df4, model.labels_)}\")\n",
    "\n",
    "\n"
   ]
  },
  {
   "cell_type": "code",
   "execution_count": 9,
   "id": "9c50a917",
   "metadata": {},
   "outputs": [],
   "source": [
    "#---------------------------------------------------------------------------------------\n",
    "# Q3) 최적의 군집 개수를 찾아 재수행한 군집분석의 결과로 분류된 군집번호를 원본 데이터인 BlackFriday데이터의 \n",
    "#     각 행에 맞게 labelling하여 clust라는 변수로 저장하고 csv 파일로 출력하시오.\n",
    "#     마지막으로 clust별 Gender, Age, Purchase으로 특성을 파악하시오.\n",
    "#---------------------------------------------------------------------------------------\n",
    "\n",
    "df[['clust']] = model.labels_\n",
    "\n",
    "df.head()\n",
    "\n",
    "# index => 인덱스 여부, header => 헤더 여부\n",
    "df.to_csv('./output/20211031-2.csv', index = False)\n",
    "\n",
    "\n",
    "\n",
    "\n"
   ]
  }
 ],
 "metadata": {
  "kernelspec": {
   "display_name": "Python 3",
   "language": "python",
   "name": "python3"
  },
  "language_info": {
   "codemirror_mode": {
    "name": "ipython",
    "version": 3
   },
   "file_extension": ".py",
   "mimetype": "text/x-python",
   "name": "python",
   "nbconvert_exporter": "python",
   "pygments_lexer": "ipython3",
   "version": "3.7.7"
  }
 },
 "nbformat": 4,
 "nbformat_minor": 5
}
