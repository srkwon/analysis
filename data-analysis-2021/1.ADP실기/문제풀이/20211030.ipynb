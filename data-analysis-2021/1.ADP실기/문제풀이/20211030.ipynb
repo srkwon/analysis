{
 "cells": [
  {
   "cell_type": "markdown",
   "id": "82b1422d",
   "metadata": {},
   "source": [
    "# 모의고사 4회 문제 풀이(R 코드)\n",
    "- rstudio에서 작성시 R 마크다운으로 작성필요\n",
    "  - Rmd 확장자를 사용해야함\n",
    "  - knit으로 pdf 생성하거나, html로 변환후 pdf 출력을 사용하면 됨\n",
    "  - 이도저도 안되면 MS 워드에 복붙하는 방식으로 대응\n",
    "- R 마크다운 포맷으로 작성할때 아래처럼 설명글과 코드를 작성하면 됨\n",
    "\n",
    "<pre>\n",
    "<code>\n",
    "---\n",
    "title: \"타이틀\"\n",
    "output:\n",
    "  html_document: default\n",
    "---\n",
    "\n",
    "# 타이틀\n",
    "- 설명\n",
    "\n",
    "```{r, warning = FALSE, message = FALSE}\n",
    "sessionInfo()\n",
    "\n",
    "# 분석 전 불필요한 객체 삭제 처리\n",
    "rm(list = ls())\n",
    "\n",
    "```\n",
    "</code>\n",
    "</pre>"
   ]
  },
  {
   "cell_type": "code",
   "execution_count": 23,
   "id": "a824fdf0",
   "metadata": {},
   "outputs": [
    {
     "data": {
      "text/html": [
       "<table class=\"dataframe\">\n",
       "<caption>A data.frame: 6 × 8</caption>\n",
       "<thead>\n",
       "\t<tr><th></th><th scope=col>company_num</th><th scope=col>google_adwords</th><th scope=col>facebook</th><th scope=col>twitter</th><th scope=col>marketing_total</th><th scope=col>revenues</th><th scope=col>employees</th><th scope=col>pop_density</th></tr>\n",
       "\t<tr><th></th><th scope=col>&lt;int&gt;</th><th scope=col>&lt;dbl&gt;</th><th scope=col>&lt;dbl&gt;</th><th scope=col>&lt;dbl&gt;</th><th scope=col>&lt;dbl&gt;</th><th scope=col>&lt;dbl&gt;</th><th scope=col>&lt;int&gt;</th><th scope=col>&lt;fct&gt;</th></tr>\n",
       "</thead>\n",
       "<tbody>\n",
       "\t<tr><th scope=row>1</th><td>1</td><td> 65.66</td><td>47.86</td><td>52.46</td><td>166</td><td>39.26</td><td> 5</td><td>High  </td></tr>\n",
       "\t<tr><th scope=row>2</th><td>2</td><td> 39.10</td><td>55.20</td><td>77.40</td><td>172</td><td>38.90</td><td> 7</td><td>Medium</td></tr>\n",
       "\t<tr><th scope=row>3</th><td>3</td><td>174.81</td><td>52.01</td><td>68.01</td><td>295</td><td>49.51</td><td>11</td><td>Medium</td></tr>\n",
       "\t<tr><th scope=row>4</th><td>4</td><td> 34.36</td><td>61.96</td><td>86.86</td><td>183</td><td>40.56</td><td> 7</td><td>High  </td></tr>\n",
       "\t<tr><th scope=row>5</th><td>5</td><td> 78.21</td><td>40.91</td><td>30.41</td><td>150</td><td>40.21</td><td> 9</td><td>Low   </td></tr>\n",
       "\t<tr><th scope=row>6</th><td>6</td><td> 34.19</td><td>15.09</td><td>12.79</td><td> 62</td><td>38.09</td><td> 3</td><td>High  </td></tr>\n",
       "</tbody>\n",
       "</table>\n"
      ],
      "text/latex": [
       "A data.frame: 6 × 8\n",
       "\\begin{tabular}{r|llllllll}\n",
       "  & company\\_num & google\\_adwords & facebook & twitter & marketing\\_total & revenues & employees & pop\\_density\\\\\n",
       "  & <int> & <dbl> & <dbl> & <dbl> & <dbl> & <dbl> & <int> & <fct>\\\\\n",
       "\\hline\n",
       "\t1 & 1 &  65.66 & 47.86 & 52.46 & 166 & 39.26 &  5 & High  \\\\\n",
       "\t2 & 2 &  39.10 & 55.20 & 77.40 & 172 & 38.90 &  7 & Medium\\\\\n",
       "\t3 & 3 & 174.81 & 52.01 & 68.01 & 295 & 49.51 & 11 & Medium\\\\\n",
       "\t4 & 4 &  34.36 & 61.96 & 86.86 & 183 & 40.56 &  7 & High  \\\\\n",
       "\t5 & 5 &  78.21 & 40.91 & 30.41 & 150 & 40.21 &  9 & Low   \\\\\n",
       "\t6 & 6 &  34.19 & 15.09 & 12.79 &  62 & 38.09 &  3 & High  \\\\\n",
       "\\end{tabular}\n"
      ],
      "text/markdown": [
       "\n",
       "A data.frame: 6 × 8\n",
       "\n",
       "| <!--/--> | company_num &lt;int&gt; | google_adwords &lt;dbl&gt; | facebook &lt;dbl&gt; | twitter &lt;dbl&gt; | marketing_total &lt;dbl&gt; | revenues &lt;dbl&gt; | employees &lt;int&gt; | pop_density &lt;fct&gt; |\n",
       "|---|---|---|---|---|---|---|---|---|\n",
       "| 1 | 1 |  65.66 | 47.86 | 52.46 | 166 | 39.26 |  5 | High   |\n",
       "| 2 | 2 |  39.10 | 55.20 | 77.40 | 172 | 38.90 |  7 | Medium |\n",
       "| 3 | 3 | 174.81 | 52.01 | 68.01 | 295 | 49.51 | 11 | Medium |\n",
       "| 4 | 4 |  34.36 | 61.96 | 86.86 | 183 | 40.56 |  7 | High   |\n",
       "| 5 | 5 |  78.21 | 40.91 | 30.41 | 150 | 40.21 |  9 | Low    |\n",
       "| 6 | 6 |  34.19 | 15.09 | 12.79 |  62 | 38.09 |  3 | High   |\n",
       "\n"
      ],
      "text/plain": [
       "  company_num google_adwords facebook twitter marketing_total revenues\n",
       "1 1            65.66         47.86    52.46   166             39.26   \n",
       "2 2            39.10         55.20    77.40   172             38.90   \n",
       "3 3           174.81         52.01    68.01   295             49.51   \n",
       "4 4            34.36         61.96    86.86   183             40.56   \n",
       "5 5            78.21         40.91    30.41   150             40.21   \n",
       "6 6            34.19         15.09    12.79    62             38.09   \n",
       "  employees pop_density\n",
       "1  5        High       \n",
       "2  7        Medium     \n",
       "3 11        Medium     \n",
       "4  7        High       \n",
       "5  9        Low        \n",
       "6  3        High       "
      ]
     },
     "metadata": {},
     "output_type": "display_data"
    },
    {
     "data": {
      "text/html": [
       "'D:/srkwon/0.repo/analysis/data-analysis-2021/1.ADP실기/문제풀이'"
      ],
      "text/latex": [
       "'D:/srkwon/0.repo/analysis/data-analysis-2021/1.ADP실기/문제풀이'"
      ],
      "text/markdown": [
       "'D:/srkwon/0.repo/analysis/data-analysis-2021/1.ADP실기/문제풀이'"
      ],
      "text/plain": [
       "[1] \"D:/srkwon/0.repo/analysis/data-analysis-2021/1.ADP실기/문제풀이\""
      ]
     },
     "metadata": {},
     "output_type": "display_data"
    },
    {
     "data": {
      "text/plain": [
       "\n",
       "  High    Low Medium \n",
       "    52     68     52 "
      ]
     },
     "metadata": {},
     "output_type": "display_data"
    },
    {
     "data": {
      "text/plain": [
       "             Df Sum Sq Mean Sq F value Pr(>F)\n",
       "pop_density   2     42   20.87    0.61  0.545\n",
       "Residuals   169   5781   34.21               "
      ]
     },
     "metadata": {},
     "output_type": "display_data"
    }
   ],
   "source": [
    "###################################################################################\n",
    "#                     2. 통계분석 (사용 데이터 : bike_marketing)               \n",
    "###################################################################################\n",
    "#---------------------------------------------------------------------------------\n",
    "# Q1) pop_density 변수를 factor형 변수로 변환하고, \n",
    "#     pop_density별 revenues의 평균 차이가 있는지 통계분석을 시행하여 결과를 해석하시오. \n",
    "#     만일 대립가설이 채택된다면 사후분석을 실시하고 결과를 해석하시오.\n",
    "#---------------------------------------------------------------------------------\n",
    "\n",
    "# 3개 이상 범주에 대한 평균 차이 검정 => 일원 배치 분산분석(F 검정 통계량) - one way ANOVA => 귀무가설 기각시 사후검정 tukey HSD 수행\n",
    "\n",
    "df = read.csv('./data/모의고사4회/bike_marketing.csv', stringsAsFactors = T)\n",
    "\n",
    "head(df)\n",
    "\n",
    "# 범주별 데이터 카운트\n",
    "table(df$pop_density)\n",
    "\n",
    "# 귀무가설 : pop_density별 revenues 차이가 없다.\n",
    "# 대립가설 : pop_density별 revenues 차이가 있다.\n",
    "anova <- aov(formula = revenues ~ pop_density, data = df)\n",
    "\n",
    "# 유의수준 5% 하에서 p-value가 유의수준보다 크기 때문에 귀무가설을 기각할수 없다.\n",
    "# 즉, pop_density별 revenues의 평균 차이가 있다고 볼 수 없다.\n",
    "summary(anova)\n",
    "\n",
    "# 만약 귀무가설이 기각된다면 tukey HSD(사후검정)을 수행한다.\n",
    "\n",
    "\n"
   ]
  },
  {
   "cell_type": "code",
   "execution_count": 25,
   "id": "2c02987d",
   "metadata": {},
   "outputs": [
    {
     "data": {
      "text/html": [
       "<table class=\"dataframe\">\n",
       "<caption>A data.frame: 6 × 8</caption>\n",
       "<thead>\n",
       "\t<tr><th></th><th scope=col>company_num</th><th scope=col>google_adwords</th><th scope=col>facebook</th><th scope=col>twitter</th><th scope=col>marketing_total</th><th scope=col>revenues</th><th scope=col>employees</th><th scope=col>pop_density</th></tr>\n",
       "\t<tr><th></th><th scope=col>&lt;int&gt;</th><th scope=col>&lt;dbl&gt;</th><th scope=col>&lt;dbl&gt;</th><th scope=col>&lt;dbl&gt;</th><th scope=col>&lt;dbl&gt;</th><th scope=col>&lt;dbl&gt;</th><th scope=col>&lt;int&gt;</th><th scope=col>&lt;chr&gt;</th></tr>\n",
       "</thead>\n",
       "<tbody>\n",
       "\t<tr><th scope=row>1</th><td>1</td><td> 65.66</td><td>47.86</td><td>52.46</td><td>166</td><td>39.26</td><td> 5</td><td>High  </td></tr>\n",
       "\t<tr><th scope=row>2</th><td>2</td><td> 39.10</td><td>55.20</td><td>77.40</td><td>172</td><td>38.90</td><td> 7</td><td>Medium</td></tr>\n",
       "\t<tr><th scope=row>3</th><td>3</td><td>174.81</td><td>52.01</td><td>68.01</td><td>295</td><td>49.51</td><td>11</td><td>Medium</td></tr>\n",
       "\t<tr><th scope=row>4</th><td>4</td><td> 34.36</td><td>61.96</td><td>86.86</td><td>183</td><td>40.56</td><td> 7</td><td>High  </td></tr>\n",
       "\t<tr><th scope=row>5</th><td>5</td><td> 78.21</td><td>40.91</td><td>30.41</td><td>150</td><td>40.21</td><td> 9</td><td>Low   </td></tr>\n",
       "\t<tr><th scope=row>6</th><td>6</td><td> 34.19</td><td>15.09</td><td>12.79</td><td> 62</td><td>38.09</td><td> 3</td><td>High  </td></tr>\n",
       "</tbody>\n",
       "</table>\n"
      ],
      "text/latex": [
       "A data.frame: 6 × 8\n",
       "\\begin{tabular}{r|llllllll}\n",
       "  & company\\_num & google\\_adwords & facebook & twitter & marketing\\_total & revenues & employees & pop\\_density\\\\\n",
       "  & <int> & <dbl> & <dbl> & <dbl> & <dbl> & <dbl> & <int> & <chr>\\\\\n",
       "\\hline\n",
       "\t1 & 1 &  65.66 & 47.86 & 52.46 & 166 & 39.26 &  5 & High  \\\\\n",
       "\t2 & 2 &  39.10 & 55.20 & 77.40 & 172 & 38.90 &  7 & Medium\\\\\n",
       "\t3 & 3 & 174.81 & 52.01 & 68.01 & 295 & 49.51 & 11 & Medium\\\\\n",
       "\t4 & 4 &  34.36 & 61.96 & 86.86 & 183 & 40.56 &  7 & High  \\\\\n",
       "\t5 & 5 &  78.21 & 40.91 & 30.41 & 150 & 40.21 &  9 & Low   \\\\\n",
       "\t6 & 6 &  34.19 & 15.09 & 12.79 &  62 & 38.09 &  3 & High  \\\\\n",
       "\\end{tabular}\n"
      ],
      "text/markdown": [
       "\n",
       "A data.frame: 6 × 8\n",
       "\n",
       "| <!--/--> | company_num &lt;int&gt; | google_adwords &lt;dbl&gt; | facebook &lt;dbl&gt; | twitter &lt;dbl&gt; | marketing_total &lt;dbl&gt; | revenues &lt;dbl&gt; | employees &lt;int&gt; | pop_density &lt;chr&gt; |\n",
       "|---|---|---|---|---|---|---|---|---|\n",
       "| 1 | 1 |  65.66 | 47.86 | 52.46 | 166 | 39.26 |  5 | High   |\n",
       "| 2 | 2 |  39.10 | 55.20 | 77.40 | 172 | 38.90 |  7 | Medium |\n",
       "| 3 | 3 | 174.81 | 52.01 | 68.01 | 295 | 49.51 | 11 | Medium |\n",
       "| 4 | 4 |  34.36 | 61.96 | 86.86 | 183 | 40.56 |  7 | High   |\n",
       "| 5 | 5 |  78.21 | 40.91 | 30.41 | 150 | 40.21 |  9 | Low    |\n",
       "| 6 | 6 |  34.19 | 15.09 | 12.79 |  62 | 38.09 |  3 | High   |\n",
       "\n"
      ],
      "text/plain": [
       "  company_num google_adwords facebook twitter marketing_total revenues\n",
       "1 1            65.66         47.86    52.46   166             39.26   \n",
       "2 2            39.10         55.20    77.40   172             38.90   \n",
       "3 3           174.81         52.01    68.01   295             49.51   \n",
       "4 4            34.36         61.96    86.86   183             40.56   \n",
       "5 5            78.21         40.91    30.41   150             40.21   \n",
       "6 6            34.19         15.09    12.79    62             38.09   \n",
       "  employees pop_density\n",
       "1  5        High       \n",
       "2  7        Medium     \n",
       "3 11        Medium     \n",
       "4  7        High       \n",
       "5  9        Low        \n",
       "6  3        High       "
      ]
     },
     "metadata": {},
     "output_type": "display_data"
    },
    {
     "data": {
      "text/plain": [
       "\n",
       "Call:\n",
       "lm(formula = revenues ~ google_adwords + facebook + twitter + \n",
       "    marketing_total + employees, data = df)\n",
       "\n",
       "Residuals:\n",
       "    Min      1Q  Median      3Q     Max \n",
       "-5.7788 -1.2437  0.2024  1.4643  4.2835 \n",
       "\n",
       "Coefficients:\n",
       "                Estimate Std. Error t value Pr(>|t|)    \n",
       "(Intercept)      28.4433     0.5962  47.706  < 2e-16 ***\n",
       "google_adwords    1.2110     0.5708   2.122 0.035348 *  \n",
       "facebook          1.3464     0.5714   2.356 0.019618 *  \n",
       "twitter           1.1724     0.5713   2.052 0.041711 *  \n",
       "marketing_total  -1.1696     0.5708  -2.049 0.042033 *  \n",
       "employees         0.3865     0.1042   3.708 0.000284 ***\n",
       "---\n",
       "Signif. codes:  0 '***' 0.001 '**' 0.01 '*' 0.05 '.' 0.1 ' ' 1\n",
       "\n",
       "Residual standard error: 2.108 on 166 degrees of freedom\n",
       "Multiple R-squared:  0.8733,\tAdjusted R-squared:  0.8695 \n",
       "F-statistic: 228.9 on 5 and 166 DF,  p-value: < 2.2e-16\n"
      ]
     },
     "metadata": {},
     "output_type": "display_data"
    },
    {
     "name": "stdout",
     "output_type": "stream",
     "text": [
      "[1] \"전진선택법==========================================\"\n",
      "Start:  AIC=262.4\n",
      "revenues ~ google_adwords + facebook + twitter + marketing_total + \n",
      "    employees\n",
      "\n"
     ]
    },
    {
     "data": {
      "text/plain": [
       "\n",
       "Call:\n",
       "lm(formula = revenues ~ google_adwords + facebook + twitter + \n",
       "    marketing_total + employees, data = df)\n",
       "\n",
       "Coefficients:\n",
       "    (Intercept)   google_adwords         facebook          twitter  \n",
       "        28.4433           1.2110           1.3464           1.1724  \n",
       "marketing_total        employees  \n",
       "        -1.1696           0.3865  \n"
      ]
     },
     "metadata": {},
     "output_type": "display_data"
    },
    {
     "name": "stdout",
     "output_type": "stream",
     "text": [
      "[1] \"후진제거법==========================================\"\n",
      "Start:  AIC=262.4\n",
      "revenues ~ google_adwords + facebook + twitter + marketing_total + \n",
      "    employees\n",
      "\n",
      "                  Df Sum of Sq    RSS    AIC\n",
      "<none>                         737.54 262.40\n",
      "- marketing_total  1    18.654 756.19 264.70\n",
      "- twitter          1    18.713 756.25 264.71\n",
      "- google_adwords   1    20.000 757.54 265.00\n",
      "- facebook         1    24.671 762.21 266.06\n",
      "- employees        1    61.102 798.64 274.09\n"
     ]
    },
    {
     "data": {
      "text/plain": [
       "\n",
       "Call:\n",
       "lm(formula = revenues ~ google_adwords + facebook + twitter + \n",
       "    marketing_total + employees, data = df)\n",
       "\n",
       "Coefficients:\n",
       "    (Intercept)   google_adwords         facebook          twitter  \n",
       "        28.4433           1.2110           1.3464           1.1724  \n",
       "marketing_total        employees  \n",
       "        -1.1696           0.3865  \n"
      ]
     },
     "metadata": {},
     "output_type": "display_data"
    },
    {
     "name": "stdout",
     "output_type": "stream",
     "text": [
      "[1] \"단계적선택법==========================================\"\n",
      "Start:  AIC=262.4\n",
      "revenues ~ google_adwords + facebook + twitter + marketing_total + \n",
      "    employees\n",
      "\n",
      "                  Df Sum of Sq    RSS    AIC\n",
      "<none>                         737.54 262.40\n",
      "- marketing_total  1    18.654 756.19 264.70\n",
      "- twitter          1    18.713 756.25 264.71\n",
      "- google_adwords   1    20.000 757.54 265.00\n",
      "- facebook         1    24.671 762.21 266.06\n",
      "- employees        1    61.102 798.64 274.09\n"
     ]
    },
    {
     "data": {
      "text/plain": [
       "\n",
       "Call:\n",
       "lm(formula = revenues ~ google_adwords + facebook + twitter + \n",
       "    marketing_total + employees, data = df)\n",
       "\n",
       "Coefficients:\n",
       "    (Intercept)   google_adwords         facebook          twitter  \n",
       "        28.4433           1.2110           1.3464           1.1724  \n",
       "marketing_total        employees  \n",
       "        -1.1696           0.3865  \n"
      ]
     },
     "metadata": {},
     "output_type": "display_data"
    }
   ],
   "source": [
    "#----------------------------------------------------------------------------------------\n",
    "# Q2) google_adwords, facebook, twitter, marketing_total, employees가 \n",
    "#     revenues에 영향을 미치는지 알아보는 회귀분석을 전진선택법을 사용하여 수행하고 결과를 해석하시오.\n",
    "#----------------------------------------------------------------------------------------\n",
    "# R을 이용하면 step 함수를 이용해서 쉽게 해결 가능하지만, python에서는 sklearn에 이러한 stepwise variable selection 관련 빌트인 함수가 없음\n",
    "# 회귀분석은 R을 이용해서 수행하는 것이 나을 것으로 생각됨\n",
    "\n",
    "#sessionInfo()\n",
    "\n",
    "df <- read.csv(file = './data/모의고사4회/bike_marketing.csv')\n",
    "head(df)\n",
    "\n",
    "model <- lm(\n",
    "    formula = revenues ~ google_adwords + facebook + twitter + marketing_total + employees\n",
    "    , data = df\n",
    ")\n",
    "\n",
    "# 다중선형회귀를 했을때, summary로 확인해보면 됨\n",
    "summary(model)\n",
    "\n",
    "# 변수선택법은 전진선택법, 후진제거법, 단계적 선택법 총  3가지\n",
    "# 각각 forward, backward, both 로 구분\n",
    "\n",
    "# 전진선택법\n",
    "# 변수를 하나씩 추가하면서 AIC값이 낮아질수록 더 좋은 성능의 모델(모형)\n",
    "# 선택된 변수 google_adwords + facebook + twitter + marketing_total + employees\n",
    "# 추정된 회귀식 revenues = 28.44 + 1.21 * google_adwords + 1.35 * facebook + 1.17 * twitter + -1.17 * marketing_total + 0.39 * employees\n",
    "print(\"전진선택법==========================================\")\n",
    "step(model, direction = \"forward\")\n",
    "\n",
    "print(\"후진제거법==========================================\")\n",
    "step(model, direction = \"backward\")\n",
    "\n",
    "print(\"단계적선택법==========================================\")\n",
    "step(model, direction = \"both\")\n",
    "\n",
    "\n"
   ]
  },
  {
   "cell_type": "code",
   "execution_count": 27,
   "id": "d1f87f56",
   "metadata": {},
   "outputs": [
    {
     "data": {
      "image/png": "[encoded data removed]",
      "text/plain": [
       "Plot with title \"\""
      ]
     },
     "metadata": {
      "image/png": {
       "height": 420,
       "width": 420
      }
     },
     "output_type": "display_data"
    },
    {
     "data": {
      "image/png": "[encoded data removed]",
      "text/plain": [
       "Plot with title \"\""
      ]
     },
     "metadata": {
      "image/png": {
       "height": 420,
       "width": 420
      }
     },
     "output_type": "display_data"
    },
    {
     "data": {
      "image/png": "[encoded data removed]",
      "text/plain": [
       "Plot with title \"\""
      ]
     },
     "metadata": {
      "image/png": {
       "height": 420,
       "width": 420
      }
     },
     "output_type": "display_data"
    },
    {
     "data": {
      "image/png": "[encoded data removed]",
      "text/plain": [
       "Plot with title \"\""
      ]
     },
     "metadata": {
      "image/png": {
       "height": 420,
       "width": 420
      }
     },
     "output_type": "display_data"
    }
   ],
   "source": [
    "#---------------------------------------------------------------------------\n",
    "# Q3) 전진선택법을 사용해 변수를 선택한 후 새롭게 생성한 회귀모형에 대한 \n",
    "#     잔차분석을 수행하고 결과를 해석하시오. \n",
    "#---------------------------------------------------------------------------\n",
    "# 잔차분석 => 회귀 모형에 대한 가정이 충족되는지 검정하는 것(잔차의 등분산성, 독립성, 정규성 확인)\n",
    "# R plot 함수를 이용하여 잔차 분석 수행 가능\n",
    "# 첫번째 => 잔차의 등분산성 확인 가능 관측값에 따른 잔차(관측 - 예측) 그래프 => 직선에 가까울수록 좋음\n",
    "# 두번째 => QQ plot => 잔차의 정규성 확인 가능 => y=x에가까울수록 정규분포를 따름\n",
    "# 세번째 => 첫번째 그래프와 동일한 의미\n",
    "# 네번째 => 설명변수가 극단값에 있을수록 레버리지(x축)은 큰 값을 갖게 됨\n",
    "plot(model)\n"
   ]
  },
  {
   "cell_type": "markdown",
   "id": "077ff537",
   "metadata": {},
   "source": [
    "# R 기반 텍스트 마이닝(KoNLP)\n",
    "- `install.packages(\"KoNLP\")\" 로 설치가 바로 안되므로, 아래 순서대로 수동 설치 필요\n",
    "  - https://www.youtube.com/watch?v=upukwMgPY28&ab_channel=%EC%86%A1%EC%8A%B9%EB%AF%BC%EC%9D%98%ED%8A%B9%EC%88%98%EA%B5%90%EC%9C%A1 영상 참고\n",
    "```\n",
    "1. R 설치하기(가급적 관리자 권한으로 설치)\n",
    "https://ftp.harukasan.org/CRAN/\n",
    "\n",
    "2. R Studio 설치하기(가급적 관리자 권한으로 설치)\n",
    "https://rstudio.com/products/rstudio/...\n",
    "\n",
    "3. rtools40 설치하기(c:/Rtools에 설치)\n",
    "https://cran.r-project.org/bin/window...\n",
    "\n",
    "4. java, rJava 설치하기\n",
    "install.packages(\"multilinguer\")\n",
    "library(multilinguer)\n",
    "install_jdk()\n",
    "\n",
    "5. 의존성 패키지 설치하기\n",
    "install.packages(c(\"hash\", \"tau\", \"Sejong\", \"RSQLite\", \"devtools\", \"bit\", \"rex\", \"lazyeval\", \"htmlwidgets\", \"crosstalk\", \"promises\", \"later\", \"sessioninfo\", \"xopen\", \"bit64\", \"blob\", \"DBI\", \"memoise\", \"plogr\", \"covr\", \"DT\", \"rcmdcheck\", \"rversions\"), type = \"binary\")\n",
    "\n",
    "6. github 버전 설치하기\n",
    "install.packages(\"remotes\")\n",
    "\n",
    "7. KoNLP 설치하기(64bit에서만 동작)\n",
    "remotes::install_github('haven-jeon/KoNLP', upgrade = \"never\", INSTALL_opts=c(\"--no-multiarch\"))\n",
    "\n",
    "8. 단어 사전 추가하기 \n",
    "mergeUserDic(data.frame(c(\"강남대\"), c(\"ncn\")))\n",
    "```"
   ]
  },
  {
   "cell_type": "code",
   "execution_count": 11,
   "id": "08eec52c",
   "metadata": {},
   "outputs": [
    {
     "name": "stdout",
     "output_type": "stream",
     "text": [
      "Backup was just finished!\n",
      "370957 words dictionary was built.\n"
     ]
    }
   ],
   "source": [
    "###################################################################################\n",
    "#                      3. 비정형 데이터마이닝 (사용 데이터 : \"instagram_태교여행\")\n",
    "###################################################################################\n",
    "\n",
    "#---------------------------------------------------------------------------\n",
    "# Q1) ‘instagram_태교여행.txt’ 데이터를 읽어온 뒤 숫자, 특수 문자 등을 \n",
    "#     제거하는 전처리 작업을 시행하시오.\n",
    "#---------------------------------------------------------------------------\n",
    "\n",
    "library(tm)\n",
    "library(rJava)\n",
    "library(KoNLP)\n",
    "library(wordcloud)\n",
    "library(plyr)\n",
    "library(stringr)\n",
    "\n",
    "useSejongDic()\n",
    "\n",
    "instagram_tour <- readLines(\"./data/모의고사4회/instagram_태교여행.txt\")\n",
    "\n",
    "# print(instagram_tour)\n",
    "\n",
    "#데이터 전처리\n",
    "clean_txt <- function(txt){\n",
    "  txt <- tolower(txt)             # 대, 소문자 변환\n",
    "  txt <- removePunctuation(txt)   # 구두점 제거\n",
    "  txt <- removeNumbers(txt)       # 숫자 제거\n",
    "  txt <- stripWhitespace(txt)     # 공백제거\n",
    "  \n",
    "  return(txt)\n",
    "}\n",
    "\n",
    "tour_1 <- clean_txt(instagram_tour)\n",
    "\n",
    "# print(tour_1)"
   ]
  },
  {
   "cell_type": "code",
   "execution_count": 12,
   "id": "91da27af",
   "metadata": {},
   "outputs": [
    {
     "name": "stdout",
     "output_type": "stream",
     "text": [
      "629898 words dictionary was built.\n"
     ]
    },
    {
     "data": {
      "image/png": "[encoded data removed]",
      "text/plain": [
       "Plot with title \"tour 데이터 빈출 명사\""
      ]
     },
     "metadata": {
      "image/png": {
       "height": 420,
       "width": 420
      }
     },
     "output_type": "display_data"
    },
    {
     "data": {
      "image/png": "[encoded data removed]",
      "text/plain": [
       "plot without title"
      ]
     },
     "metadata": {
      "image/png": {
       "height": 420,
       "width": 420
      }
     },
     "output_type": "display_data"
    }
   ],
   "source": [
    "#---------------------------------------------------------------------------\n",
    "# Q2) 전처리된 데이터에서 “태교여행”이란 단어를 사전에 추가하고 명사를 추출해 \n",
    "#     출현빈도 10위까지 막대그래프로 시각화하시오. \n",
    "#---------------------------------------------------------------------------\n",
    "\n",
    "buildDictionary(ext_dic = \"woorimalsam\", user_dic=data.frame(c(\"태교여행\"),\"ncn\"),replace_usr_dic = T)\n",
    "\n",
    "tour1<-sapply(tour_1,extractNoun)\n",
    "\n",
    "table.cnoun<-head(sort(table(unlist(tour1)),decreasing=T),10)\n",
    "\n",
    "barplot(table.cnoun, main=\"tour 데이터 빈출 명사\", \n",
    "        xlab=\"단어\",\n",
    "        ylab=\"빈도\")\n",
    "\n",
    "# 3) 전처리된 데이터를 이용해 워드클라우드를 작성하고 인사이트를 추출하시오.\n",
    "\n",
    "result<-data.frame(sort(table(unlist(tour1)),decreasing=T))\n",
    "\n",
    "t<-wordcloud(result$Var1,result$Freq,color=brewer.pal(6,\"Dark2\"),min.freq=20)\n",
    "\n"
   ]
  }
 ],
 "metadata": {
  "kernelspec": {
   "display_name": "R",
   "language": "R",
   "name": "ir"
  },
  "language_info": {
   "codemirror_mode": "r",
   "file_extension": ".r",
   "mimetype": "text/x-r-source",
   "name": "R",
   "pygments_lexer": "r",
   "version": "4.0.1"
  }
 },
 "nbformat": 4,
 "nbformat_minor": 5
}
