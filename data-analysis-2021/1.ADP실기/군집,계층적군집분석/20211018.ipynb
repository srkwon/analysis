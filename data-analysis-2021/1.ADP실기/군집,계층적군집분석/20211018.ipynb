{
 "cells": [
  {
   "cell_type": "markdown",
   "id": "90e63254",
   "metadata": {},
   "source": [
    "# 데이터 분석 프로세스\n",
    "\n",
    "- 초기화 및 파이썬 모듈 로딩\n",
    "    - sklearn => 머신러닝\n",
    "    - scipy => 수치 계산\n",
    "    - pandas => 데이터 로딩, 수치 계산\n",
    "    - numpy => 수치 계산\n",
    "    - matplotlib => 시각화\n",
    "- 데이터 수집\n",
    "- 데이터 탐색 및 준비\n",
    "    - 결측치, 이상치에 대한 처리\n",
    "    - 추가 변수에 대한 처리\n",
    "    - 훈련데이터와 테스트데이터로 분리\n",
    "- 모델 훈련\n",
    "    - 정형데이터분석(sklearn 기준, fit -> predict -> score)\n",
    "        - 지도학습 ⇒ 타겟 변수가 존재\n",
    "            - 분류\n",
    "                - 의사결정나무 \n",
    "                  - 분류, 회귀 둘다 사용 가능\n",
    "                  - 이해쉽지만, 과대적합 가능성 크고, 경계면의 데이터 분류가 잘못될 수 있음\n",
    "                - 앙상블(배깅,부스팅,랜덤포레스트)\n",
    "                  - 랜덤포레스트 \n",
    "                    - 성능 우수(결정트리 여러개 사용), 차원높고 희소한 데이터에는 잘 동작 안함\n",
    "                  - 부스팅\n",
    "                    - 랜포와 유사하게 성능 우수하나, 훈련 시간이 오래 걸림, 매개변수 튜닝이 중요\n",
    "                  - 배깅\n",
    "                - SVM(초평면, 커널함수)\n",
    "                - k-NN\n",
    "                - ANN\n",
    "                - 로지스틱회귀\n",
    "                - 나이브베이즈\n",
    "            - 예측\n",
    "                - 선형회귀\n",
    "                    - 단순선형회귀\n",
    "                    - 다중선형회귀\n",
    "                    - 릿지 회귀\n",
    "                    - 라쏘 회귀\n",
    "                    - 엘라스틱넷 회귀\n",
    "                - 비선형회귀\n",
    "                    - 다항회귀(polynomial regression)\n",
    "        - 비지도학습 ⇒ 타겟 변수 미존재\n",
    "            - 군집\n",
    "                - 계층적군집\n",
    "                - 비계층적군집\n",
    "                - 혼합분포군집\n",
    "            - 연관분석(장바구니분석)\n",
    "    - 비정형데이터분석\n",
    "        - 텍스트마이닝\n",
    "- 모델 성능 평가\n",
    "    - 분류\n",
    "        - 정오분류표(혼동행렬) ⇒ accuracy가 1에 가까울수록 좋은 모델\n",
    "        - ROC/AUC ⇒ AUC가 1에 가까울수록 좋은 모델\n",
    "    - 예측 ⇒ MAE, RMSE\n",
    "- 모델 성능 개선"
   ]
  },
  {
   "cell_type": "markdown",
   "id": "5b77258a",
   "metadata": {},
   "source": [
    "# 군집\n",
    "## 군집 종류\n",
    "- 계층군집(병합군집), 비계층군집(K평균), 밀도기반군집(DBSCAN) 등\n",
    "- 계층군집(병합군집)\n",
    "  - 클러스터링 시작시에 개별 포인트를 하나의 클러스터로하고, 종료조건 만족까지 합쳐나감\n",
    "  - 덴드로그램을 이용해서 군집을 시각화한 후에 군집 개수를 정해볼 수 있음\n",
    "    - sklearn에는 없고 scipy에 덴드로그램 및 유사도 계산 함수가 있음\n",
    "    - ward, average, complete\n",
    "      - ward => 클러스터내 분산을 가장 작게 증가시키는 클러스터를 합침\n",
    "      - average => 클러스터내 평균 거리가 가장 짧은 클러스터를 합침\n",
    "      - complete => 클러스터내 최대 거리가 가장 짧은 두 클러스터를 합침\n",
    "- 비계층군집(K평균)\n",
    "  - 처음부터 K개 군집을 지정하고 시작해서, 샘플을 추가해가고 군집 중심을 재계산하면서 클러스터링 \n",
    "\n",
    "## 군집 비교 평가\n",
    "- ARI(adjused rand index)\n",
    "  - 군집데이터이지만 정답 분류 범주를 알고있는 경우에 사용(당연히 보통은 모름)\n",
    "  - 1(최적) ~ 0(무작위 분류)\n",
    "- 실루엣계수(silhouette coefficient)\n",
    "  - 클러스터의 밀집 정도 계산, 최대 점수는 1\n"
   ]
  },
  {
   "cell_type": "code",
   "execution_count": 48,
   "id": "93b14025",
   "metadata": {},
   "outputs": [
    {
     "name": "stdout",
     "output_type": "stream",
     "text": [
      "(100, 2)\n",
      "(100,)\n"
     ]
    },
    {
     "data": {
      "image/png": "[encoded data removed]",
      "text/plain": [
       "<Figure size 432x288 with 1 Axes>"
      ]
     },
     "metadata": {
      "needs_background": "light"
     },
     "output_type": "display_data"
    },
    {
     "data": {
      "image/png": "[encoded data removed]",
      "text/plain": [
       "<Figure size 720x360 with 1 Axes>"
      ]
     },
     "metadata": {
      "needs_background": "light"
     },
     "output_type": "display_data"
    }
   ],
   "source": [
    "# 덴드로그램을 통한 군집 시각화\n",
    "import numpy as np\n",
    "import pandas as pd\n",
    "from scipy.cluster import hierarchy\n",
    "import matplotlib.pyplot as plt\n",
    "\n",
    "from sklearn import datasets\n",
    "from sklearn import metrics, model_selection\n",
    "from sklearn.cluster import AgglomerativeClustering\n",
    "\n",
    "\n",
    "# 데이터 수집\n",
    "x, y = datasets.make_blobs(\n",
    "    n_samples = 100\n",
    "    , random_state = 16\n",
    ")\n",
    "\n",
    "# 데이터 탐색 및 준비\n",
    "print(x.shape)\n",
    "print(y.shape)\n",
    "\n",
    "# 산점도\n",
    "plt.scatter(x[:,0], x[:,1])\n",
    "\n",
    "# 각 점들간 거리 (ward)를 계산해서 반환\n",
    "linkage_array = ward(x)\n",
    "\n",
    "fig, axes = plt.subplots(1, 1, figsize=(10, 5))\n",
    "hierarchy.dendrogram(linkage_array)\n",
    "plt.show()\n",
    "\n"
   ]
  }
 ],
 "metadata": {
  "kernelspec": {
   "display_name": "Python 3",
   "language": "python",
   "name": "python3"
  },
  "language_info": {
   "codemirror_mode": {
    "name": "ipython",
    "version": 3
   },
   "file_extension": ".py",
   "mimetype": "text/x-python",
   "name": "python",
   "nbconvert_exporter": "python",
   "pygments_lexer": "ipython3",
   "version": "3.7.7"
  }
 },
 "nbformat": 4,
 "nbformat_minor": 5
}
