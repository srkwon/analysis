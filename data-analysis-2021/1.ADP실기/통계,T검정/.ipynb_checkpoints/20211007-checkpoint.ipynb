{
 "cells": [
  {
   "cell_type": "markdown",
   "id": "35b40c44",
   "metadata": {},
   "source": [
    "# 2 표본 문제(two-sample problem)\n",
    "- 독립표본 T 검정, 대응표본 T 검정 으로 분류 가능\n",
    "  - 중요한 것은, 추론 대상이 되는 모집단의 분포가 정규분포라고 가정할수 있어야 T 검정 사용 가능\n",
    "  - 정규분포 가정이 불가능하면, 윌콕슨의 부호순위검정, 맨위트니의 U검정 사용해야함\n",
    "- 독립표본 T 검정(independent t-test)\n",
    "  - 데이터가 서로 독립된 데이터라는 것 => 대응이 없는 표본\n",
    "  - A 모집단과 B 모집단의 각각의 수학 점수 평균의 차이 검정\n",
    "- 대응표본 T 검정(paired t-test)\n",
    "  - 데이터가 서로 대응되는 데이터라는 것\n",
    "  - A 모집단 내의 개체에 대해서 운동전 근력측정과 운동후 근력측정 결과 악력 평균의 차이 검정"
   ]
  },
  {
   "cell_type": "code",
   "execution_count": 14,
   "id": "d024b98f",
   "metadata": {},
   "outputs": [
    {
     "name": "stdout",
     "output_type": "stream",
     "text": [
      "<class 'pandas.core.frame.DataFrame'>\n",
      "RangeIndex: 20 entries, 0 to 19\n",
      "Data columns (total 2 columns):\n",
      " #   Column  Non-Null Count  Dtype\n",
      "---  ------  --------------  -----\n",
      " 0   전       20 non-null     int64\n",
      " 1   후       20 non-null     int64\n",
      "dtypes: int64(2)\n",
      "memory usage: 448.0 bytes\n"
     ]
    },
    {
     "data": {
      "text/html": [
       "<div>\n",
       "<style scoped>\n",
       "    .dataframe tbody tr th:only-of-type {\n",
       "        vertical-align: middle;\n",
       "    }\n",
       "\n",
       "    .dataframe tbody tr th {\n",
       "        vertical-align: top;\n",
       "    }\n",
       "\n",
       "    .dataframe thead th {\n",
       "        text-align: right;\n",
       "    }\n",
       "</style>\n",
       "<table border=\"1\" class=\"dataframe\">\n",
       "  <thead>\n",
       "    <tr style=\"text-align: right;\">\n",
       "      <th></th>\n",
       "      <th>전</th>\n",
       "      <th>후</th>\n",
       "      <th>차</th>\n",
       "    </tr>\n",
       "  </thead>\n",
       "  <tbody>\n",
       "    <tr>\n",
       "      <th>0</th>\n",
       "      <td>59</td>\n",
       "      <td>41</td>\n",
       "      <td>-18</td>\n",
       "    </tr>\n",
       "    <tr>\n",
       "      <th>1</th>\n",
       "      <td>52</td>\n",
       "      <td>63</td>\n",
       "      <td>11</td>\n",
       "    </tr>\n",
       "    <tr>\n",
       "      <th>2</th>\n",
       "      <td>55</td>\n",
       "      <td>68</td>\n",
       "      <td>13</td>\n",
       "    </tr>\n",
       "    <tr>\n",
       "      <th>3</th>\n",
       "      <td>61</td>\n",
       "      <td>59</td>\n",
       "      <td>-2</td>\n",
       "    </tr>\n",
       "    <tr>\n",
       "      <th>4</th>\n",
       "      <td>59</td>\n",
       "      <td>84</td>\n",
       "      <td>25</td>\n",
       "    </tr>\n",
       "  </tbody>\n",
       "</table>\n",
       "</div>"
      ],
      "text/plain": [
       "    전   후   차\n",
       "0  59  41 -18\n",
       "1  52  63  11\n",
       "2  55  68  13\n",
       "3  61  59  -2\n",
       "4  59  84  25"
      ]
     },
     "execution_count": 14,
     "metadata": {},
     "output_type": "execute_result"
    }
   ],
   "source": [
    "import numpy as np\n",
    "import pandas as pd\n",
    "import scipy.stats as st\n",
    "\n",
    "df = pd.read_csv(\"ch11_training_rel.csv\")\n",
    "df.shape\n",
    "df.info()\n",
    "\n",
    "df['차'] = df['후'] - df['전']\n",
    "df.head()"
   ]
  },
  {
   "cell_type": "code",
   "execution_count": 10,
   "id": "4dc97cb5",
   "metadata": {},
   "outputs": [
    {
     "data": {
      "text/plain": [
       "Ttest_1sampResult(statistic=2.204154108716127, pvalue=0.04004419061842953)"
      ]
     },
     "execution_count": 10,
     "metadata": {},
     "output_type": "execute_result"
    }
   ],
   "source": [
    "# 대응표본 T 검정\n",
    "\n",
    "import numpy as np\n",
    "import pandas as pd\n",
    "import scipy\n",
    "\n",
    "# 귀무가설 = 평균의 차이 없음\n",
    "# 대립가설 = 평균의 차이 있음\n",
    "\n",
    "# 모집단은 정규분포를 따른다고 가정, 유의 수준 5%\n",
    "# 1 샘플, 즉 대응표본 T 검정\n",
    "scipy.stats.ttest_1samp(df['차'], 0)\n",
    "\n",
    "# Ttest_1sampResult(statistic=2.204154108716127, pvalue=0.04004419061842953)\n",
    "\n",
    "# 유의 수준 5%하에서 p-value 값은 0.04이고, p-value가 유의수준보다 작기 때문에 귀무가설을 기각하고 대립가설을 채택한다.\n",
    "# 즉, 평균의 차이가 유의미하게 존재한다.\n"
   ]
  },
  {
   "cell_type": "code",
   "execution_count": 13,
   "id": "5d02f571",
   "metadata": {},
   "outputs": [
    {
     "data": {
      "text/plain": [
       "Ttest_indResult(statistic=-1.760815724652471, pvalue=0.08695731107259362)"
      ]
     },
     "execution_count": 13,
     "metadata": {},
     "output_type": "execute_result"
    }
   ],
   "source": [
    "# 독립표본 T 검정\n",
    "import numpy as np\n",
    "import pandas as pd\n",
    "import scipy\n",
    "\n",
    "df2 = pd.read_csv('ch11_training_ind.csv')\n",
    "\n",
    "df2.describe()\n",
    "\n",
    "# 귀무가설 = 평균의 차이 없음\n",
    "# 대립가설 = 평균의 차이 있음\n",
    "\n",
    "# 모집단은 정규분포를 따른다고 가정, 유의 수준 5%\n",
    "# 독립표본 T 검정 수행\n",
    "scipy.stats.ttest_ind(df2['A'], df2['B'], equal_var=False)\n",
    "\n",
    "# Ttest_indResult(statistic=-1.760815724652471, pvalue=0.08695731107259362)\n",
    "\n",
    "# 유의 수준 5%하에서 p-value 값은 0.08이고, p-value가 유의수준보다 크기 때문에 귀무가설을 기각할 수 없다.\n",
    "# 즉, 평균의 차이가 유의미하게 존재하지 않는다.\n"
   ]
  }
 ],
 "metadata": {
  "kernelspec": {
   "display_name": "Python 3",
   "language": "python",
   "name": "python3"
  },
  "language_info": {
   "codemirror_mode": {
    "name": "ipython",
    "version": 3
   },
   "file_extension": ".py",
   "mimetype": "text/x-python",
   "name": "python",
   "nbconvert_exporter": "python",
   "pygments_lexer": "ipython3",
   "version": "3.7.7"
  }
 },
 "nbformat": 4,
 "nbformat_minor": 5
}
