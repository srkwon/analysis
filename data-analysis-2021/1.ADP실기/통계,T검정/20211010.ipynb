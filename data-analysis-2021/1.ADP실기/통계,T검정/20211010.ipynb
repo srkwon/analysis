{
 "cells": [
  {
   "cell_type": "markdown",
   "id": "6613efcf",
   "metadata": {},
   "source": [
    "# T 분포 기반 검정(t-test)\n",
    "- 단일표본T검정,대응표본T검정,독립표본T검정\n",
    "  - 단일표본T검정(One Sample T-Test) => 단일 모집단에서 수치형 변수값의 평균을 예상한 값과 비교하는 검정\n",
    "    - 30대 남성의 평균 키 크기\n",
    "  - 대응표본T검정(Matched-Paired Sample T-Test) => 단일 모집단에서 두번의 처리를 가한 전후의 수치형 변수값의 평균을 비교하는 검정\n",
    "    - 운동 전후 평균 악력 비교\n",
    "  - 독립표본T검정(Independent Sample T-Test) => 2개의 독립된 모집단의 평균을 비교하는 검정\n",
    "    - 남녀별 평균 출근준비시간 비교\n",
    "\n",
    "# 가설검정 절차\n",
    "- 귀무가설,대립가설 설정 =>유의수준 설정 => 검정통계량 계산 => 귀무가설 기각/채택 여부 결정\n",
    "  "
   ]
  },
  {
   "cell_type": "code",
   "execution_count": 13,
   "id": "fd86bf22",
   "metadata": {},
   "outputs": [
    {
     "name": "stdout",
     "output_type": "stream",
     "text": [
      "mean=23.7\n",
      "tscore=-0.04489853172838821, pvalue=0.9651686072101503\n"
     ]
    }
   ],
   "source": [
    "# 단일표본T검정\n",
    "\n",
    "import numpy as np\n",
    "import pandas as pd\n",
    "import scipy.stats as st\n",
    "\n",
    "x = [1,10,23,21,55,23,66,5,23,10]\n",
    "# 귀무가설 = 평균은 예상치와 동일하다.\n",
    "# 대립가설 = 평균은 예상치와 동일하지 않다.\n",
    "\n",
    "# 모집단은 정규분포를 따른다고 가정, 유의 수준 5%, 0.05\n",
    "print(f'mean={np.mean(x)}') # 23.7\n",
    "\n",
    "# T검정통계량, 유의확률\n",
    "tscore, pvalue = st.ttest_1samp(x, popmean=24)\n",
    "print(f'tscore={tscore}, pvalue={pvalue}') \n",
    "# pvalue가 유의수준 0.05보다 더 큰 값, 귀무가설을 기각할 수 없다.\n",
    "# 즉, 유의수준 5% 하에서 평균은 예상치와 동일하다.\n"
   ]
  },
  {
   "cell_type": "code",
   "execution_count": 14,
   "id": "0d2b219a",
   "metadata": {},
   "outputs": [
    {
     "name": "stdout",
     "output_type": "stream",
     "text": [
      "x1 mean=23.7\n",
      "x2 mean=33.1\n",
      "tscore=-0.7456143972558142, pvalue=0.47492230047249107\n"
     ]
    }
   ],
   "source": [
    "# 대응표본T검정\n",
    "import numpy as np\n",
    "import pandas as pd\n",
    "import scipy.stats as st\n",
    "\n",
    "x1 = [1,10,23,21,55,23,66,5,23,10]\n",
    "x2 = [15,70,13,23,11,66,23,7,98,5]\n",
    "\n",
    "# 귀무가설 = x1과 x2의 평균은 동일하다.\n",
    "# 대립가설 = x1과 x2의 평균은 동일하지 않다.\n",
    "\n",
    "# 모집단은 정규분포를 따른다고 가정, 유의 수준 5%, 0.05\n",
    "print(f'x1 mean={np.mean(x1)}')\n",
    "print(f'x2 mean={np.mean(x2)}')\n",
    "\n",
    "# T검정통계량, 유의확률\n",
    "tscore, pvalue = stat.ttest_rel(x1, x2)\n",
    "print(f'tscore={tscore}, pvalue={pvalue}') \n",
    "# pvalue가 유의수준 0.05보다 작은 값, 귀무가설을 기각한다.\n",
    "# 즉, 유의수준 5% 하에서 평균은 동일하지 않다."
   ]
  },
  {
   "cell_type": "code",
   "execution_count": 15,
   "id": "3d3e9acc",
   "metadata": {},
   "outputs": [
    {
     "name": "stdout",
     "output_type": "stream",
     "text": [
      "x1 mean=23.7\n",
      "x2 mean=33.1\n",
      "tscore=-0.7655528666832446, pvalue=0.4538644146320552\n"
     ]
    }
   ],
   "source": [
    "# 독립표본T검정\n",
    "import numpy as np\n",
    "import pandas as pd\n",
    "import scipy.stats as st\n",
    "\n",
    "x1 = [1,10,23,21,55,23,66,5,23,10]\n",
    "x2 = [15,70,13,23,11,66,23,7,98,5]\n",
    "\n",
    "# 귀무가설 = x1과 x2의 평균은 동일하다.\n",
    "# 대립가설 = x1과 x2의 평균은 동일하지 않다.\n",
    "\n",
    "# 모집단은 정규분포를 따른다고 가정, 유의 수준 5%, 0.05\n",
    "print(f'x1 mean={np.mean(x1)}')\n",
    "print(f'x2 mean={np.mean(x2)}')\n",
    "\n",
    "# T검정통계량, 유의확률\n",
    "tscore, pvalue = st.ttest_ind(x1, x2)\n",
    "print(f'tscore={tscore}, pvalue={pvalue}')\n",
    "# pvalue가 유의수준 0.05보다 작은 값, 귀무가설을 기각한다.\n",
    "# 즉, 유의수준 5% 하에서 평균은 동일하지 않다."
   ]
  },
  {
   "cell_type": "code",
   "execution_count": null,
   "id": "60bcbd4c",
   "metadata": {},
   "outputs": [],
   "source": []
  }
 ],
 "metadata": {
  "kernelspec": {
   "display_name": "Python 3",
   "language": "python",
   "name": "python3"
  },
  "language_info": {
   "codemirror_mode": {
    "name": "ipython",
    "version": 3
   },
   "file_extension": ".py",
   "mimetype": "text/x-python",
   "name": "python",
   "nbconvert_exporter": "python",
   "pygments_lexer": "ipython3",
   "version": "3.7.7"
  }
 },
 "nbformat": 4,
 "nbformat_minor": 5
}
