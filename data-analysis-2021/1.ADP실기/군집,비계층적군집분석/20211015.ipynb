{
 "cells": [
  {
   "cell_type": "markdown",
   "id": "c47b2525",
   "metadata": {},
   "source": [
    "# 데이터 분석 프로세스\n",
    "\n",
    "- 초기화 및 파이썬 모듈 로딩\n",
    "    - sklearn => 머신러닝\n",
    "    - scipy => 수치 계산\n",
    "    - pandas => 데이터 로딩, 수치 계산\n",
    "    - numpy => 수치 계산\n",
    "    - matplotlib => 시각화\n",
    "- 데이터 수집\n",
    "- 데이터 탐색 및 준비\n",
    "    - 결측치, 이상치에 대한 처리\n",
    "    - 추가 변수에 대한 처리\n",
    "    - 훈련데이터와 테스트데이터로 분리\n",
    "- 모델 훈련\n",
    "    - 정형데이터분석(sklearn 기준, fit -> predict -> score)\n",
    "        - 지도학습 ⇒ 타겟 변수가 존재\n",
    "            - 분류\n",
    "                - 의사결정나무 \n",
    "                  - 분류, 회귀 둘다 사용 가능\n",
    "                  - 이해쉽지만, 과대적합 가능성 크고, 경계면의 데이터 분류가 잘못될 수 있음\n",
    "                - 앙상블(배깅,부스팅,랜덤포레스트)\n",
    "                  - 랜덤포레스트 \n",
    "                    - 성능 우수(결정트리 여러개 사용), 차원높고 희소한 데이터에는 잘 동작 안함\n",
    "                  - 부스팅\n",
    "                    - 랜포와 유사하게 성능 우수하나, 훈련 시간이 오래 걸림, 매개변수 튜닝이 중요\n",
    "                  - 배깅\n",
    "                - SVM(초평면, 커널함수)\n",
    "                - k-NN\n",
    "                - ANN\n",
    "                - 로지스틱회귀\n",
    "                - 나이브베이즈\n",
    "            - 예측\n",
    "                - 선형회귀\n",
    "                    - 단순선형회귀\n",
    "                    - 다중선형회귀\n",
    "                    - 릿지 회귀\n",
    "                    - 라쏘 회귀\n",
    "                    - 엘라스틱넷 회귀\n",
    "                - 비선형회귀\n",
    "                    - 다항회귀(polynomial regression)\n",
    "        - 비지도학습 ⇒ 타겟 변수 미존재\n",
    "            - 군집\n",
    "                - 계층적군집\n",
    "                - 비계층적군집\n",
    "                - 혼합분포군집\n",
    "            - 연관분석(장바구니분석)\n",
    "    - 비정형데이터분석\n",
    "        - 텍스트마이닝\n",
    "- 모델 성능 평가\n",
    "    - 분류\n",
    "        - 정오분류표(혼동행렬) ⇒ accuracy가 1에 가까울수록 좋은 모델\n",
    "        - ROC/AUC ⇒ AUC가 1에 가까울수록 좋은 모델\n",
    "    - 예측 ⇒ MAE, RMSE\n",
    "- 모델 성능 개선"
   ]
  },
  {
   "cell_type": "code",
   "execution_count": 21,
   "id": "b353cdec",
   "metadata": {},
   "outputs": [
    {
     "name": "stdout",
     "output_type": "stream",
     "text": [
      "[[-1.5510878   2.88827923]\n",
      " [ 0.9801637   4.30837857]\n",
      " [ 2.2427373   1.30652003]]\n"
     ]
    }
   ],
   "source": [
    "# 비계층적 군집분석(k-means)\n",
    "import numpy as np\n",
    "import pandas as pd\n",
    "import matplotlib.pyplot as plt\n",
    "\n",
    "from sklearn import datasets\n",
    "from sklearn import metrics, model_selection\n",
    "from sklearn.cluster import KMeans\n",
    "\n",
    "# 데이터 수집\n",
    "# as_frame은 디폴트가 False이며, True로 해야만 data.frame로 pandas 데이터 프레임 추출 가능\n",
    "# return_X_y값은 디폴트가 False이며, True로 해야만 입력, 종속변수를 파이썬 객체로 획득 가능\n",
    "raw_data = datasets.make_blobs(random_state = 0)\n",
    "\n",
    "x, y = raw_data\n",
    "\n",
    "# 모델 훈련\n",
    "# 클러스터 개수는 3개가되도록 적용\n",
    "model = KMeans(n_clusters = 3)\n",
    "model.fit(x)\n",
    "\n",
    "\n",
    "print(model.cluster_centers_)\n",
    "# print(f\"train set accuracy={classifier.score(x_train, y_train):0.3f}\")\n",
    "# print(f\"test set accuracy={classifier.score(x_test, y_test):0.3f}\")\n",
    "\n",
    "# 모델 성능 개선\n",
    "\n"
   ]
  },
  {
   "cell_type": "code",
   "execution_count": null,
   "id": "a1306cad",
   "metadata": {},
   "outputs": [],
   "source": []
  }
 ],
 "metadata": {
  "kernelspec": {
   "display_name": "Python 3",
   "language": "python",
   "name": "python3"
  },
  "language_info": {
   "codemirror_mode": {
    "name": "ipython",
    "version": 3
   },
   "file_extension": ".py",
   "mimetype": "text/x-python",
   "name": "python",
   "nbconvert_exporter": "python",
   "pygments_lexer": "ipython3",
   "version": "3.7.7"
  }
 },
 "nbformat": 4,
 "nbformat_minor": 5
}
