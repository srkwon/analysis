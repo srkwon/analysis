{
 "cells": [
  {
   "cell_type": "markdown",
   "id": "2583bf3f",
   "metadata": {},
   "source": [
    "# 데이터 분석 프로세스\n",
    "\n",
    "- 초기화 및 파이썬 모듈 로딩\n",
    "    - sklearn => 머신러닝\n",
    "    - scipy => 수치 계산\n",
    "    - pandas => 데이터 로딩, 수치 계산\n",
    "    - numpy => 수치 계산\n",
    "    - matplotlib => 시각화\n",
    "- 데이터 수집\n",
    "- 데이터 탐색 및 준비\n",
    "    - 결측치, 이상치에 대한 처리\n",
    "    - 추가 변수에 대한 처리\n",
    "    - 훈련데이터와 테스트데이터로 분리\n",
    "- 모델 훈련\n",
    "    - 정형데이터분석(sklearn 기준, fit -> predict -> score)\n",
    "        - 지도학습 ⇒ 타겟 변수가 존재\n",
    "            - 분류\n",
    "                - 의사결정나무 \n",
    "                  - 분류, 회귀 둘다 사용 가능\n",
    "                  - 이해쉽지만, 과대적합 가능성 크고, 경계면의 데이터 분류가 잘못될 수 있음\n",
    "                - 앙상블(배깅,부스팅,랜덤포레스트)\n",
    "                  - 랜덤포레스트 \n",
    "                    - 성능 우수(결정트리 여러개 사용), 차원높고 희소한 데이터에는 잘 동작 안함\n",
    "                  - 부스팅\n",
    "                    - 랜포와 유사하게 성능 우수하나, 훈련 시간이 오래 걸림, 매개변수 튜닝이 중요\n",
    "                  - 배깅\n",
    "                - SVM(초평면, 커널함수)\n",
    "                - k-NN\n",
    "                - ANN\n",
    "                - 로지스틱회귀\n",
    "                - 나이브베이즈\n",
    "            - 예측\n",
    "                - 선형회귀\n",
    "                    - 단순선형회귀\n",
    "                    - 다중선형회귀\n",
    "                    - 릿지 회귀\n",
    "                    - 라쏘 회귀\n",
    "                    - 엘라스틱넷 회귀\n",
    "                - 비선형회귀\n",
    "                    - 다항회귀(polynomial regression)\n",
    "        - 비지도학습 ⇒ 타겟 변수 미존재\n",
    "            - 군집\n",
    "                - 계층적군집\n",
    "                - 비계층적군집\n",
    "                - 혼합분포군집\n",
    "            - 연관분석(장바구니분석)\n",
    "    - 비정형데이터분석\n",
    "        - 텍스트마이닝\n",
    "- 모델 성능 평가\n",
    "    - 분류\n",
    "        - 정오분류표(혼동행렬) ⇒ accuracy가 1에 가까울수록 좋은 모델\n",
    "        - ROC/AUC ⇒ AUC가 1에 가까울수록 좋은 모델\n",
    "    - 예측 ⇒ MAE, RMSE\n",
    "- 모델 성능 개선"
   ]
  },
  {
   "cell_type": "code",
   "execution_count": 61,
   "id": "14ee763d",
   "metadata": {},
   "outputs": [
    {
     "name": "stdout",
     "output_type": "stream",
     "text": [
      "x shape=(100, 2), len=100, y shape=(100,), len=100\n",
      "[[ -9.15155186  -4.81286449]\n",
      " [-11.44182631  -4.45781441]\n",
      " [ -9.76761777  -3.19133737]\n",
      " [ -4.53655648  -8.40186288]\n",
      " [ -6.26302115  -8.10666081]\n",
      " [ -6.38481234  -8.4730297 ]\n",
      " [ -9.20490564  -4.57687928]\n",
      " [ -2.76017908   5.55121358]\n",
      " [ -1.17104176   4.33091816]]\n",
      "[1 1 1 2 2 2 1 0 0]\n"
     ]
    },
    {
     "data": {
      "text/plain": [
       "[<matplotlib.lines.Line2D at 0x1cd6aa61508>]"
      ]
     },
     "execution_count": 61,
     "metadata": {},
     "output_type": "execute_result"
    },
    {
     "data": {
      "image/png": "[encoded data removed]",
      "text/plain": [
       "<Figure size 432x288 with 1 Axes>"
      ]
     },
     "metadata": {
      "needs_background": "light"
     },
     "output_type": "display_data"
    },
    {
     "data": {
      "image/png": "[encoded data removed]",
      "text/plain": [
       "<Figure size 432x288 with 1 Axes>"
      ]
     },
     "metadata": {
      "needs_background": "light"
     },
     "output_type": "display_data"
    }
   ],
   "source": [
    "# 비계층적 군집분석(k-means)\n",
    "import numpy as np\n",
    "import pandas as pd\n",
    "import matplotlib.pyplot as plt\n",
    "\n",
    "from sklearn import datasets\n",
    "from sklearn import metrics, model_selection\n",
    "from sklearn.cluster import KMeans\n",
    "\n",
    "# 데이터 수집\n",
    "raw_data = datasets.make_blobs(random_state = 1)\n",
    "x, y = raw_data\n",
    "\n",
    "# 데이터 탐색 및 준비\n",
    "# 데이터를 보면, x 에는 2차원값이 들어가 있고, y는 그 분류 라벨이 있는 것임\n",
    "print(f\"x shape={x.shape}, len={len(x)}, y shape={y.shape}, len={len(y)}\")\n",
    "\n",
    "print(x[1:10, ])\n",
    "print(y[1:10])\n",
    "\n",
    "# 값을 2차원 좌표평면위에 표시하면 거의 일직선 상에 있는걸 볼 수 있음\n",
    "plt.scatter(x = x[:, 0], y = x[:, 1])\n",
    "\n",
    "# 모델 훈련\n",
    "# 클러스터 개수는 3개가되도록 적용\n",
    "model = KMeans(n_clusters = 3)\n",
    "model.fit(x)\n",
    "\n",
    "# 모델 성능 평가\n",
    "# 비지도학습 특성상, 시각화 및 엘보우법, 실루엣 계수를 이용하여 평가\n",
    "# 예측한 결과값 저장\n",
    "y_pred = model.predict(x)\n",
    "\n",
    "# 시각화\n",
    "merged_data = pd.concat([pd.DataFrame(x[:, 0]), pd.DataFrame(x[:, 1]), pd.DataFrame(y_pred)], axis=1)\n",
    "\n",
    "merged_data.columns = ['feature1', 'feature2', 'cluster']\n",
    "\n",
    "ax = None\n",
    "colors = ['blue','red','green']\n",
    "for i, data in merged_data.groupby('cluster'):\n",
    "    ax = data.plot.scatter(x='feature1', y='feature2',color=colors[i], label=f'cluster{i}', ax=ax)\n",
    "    \n",
    "# 엘보우법으로 군집수 정하기\n",
    "# 엘보우법 => 각 군집의 중심과 군집에 속하는 각 점간의 거리 총합을 이용\n",
    "# 당연히 군집수가 늘어날수록, 거리 총합은 줄어들게 됨\n",
    "dist_list = []\n",
    "for i in range(1, 20):\n",
    "    kmeans = KMeans(n_clusters = i, random_state=0)\n",
    "    kmeans.fit(x)\n",
    "    dist_list.append(kmeans.inertia_)\n",
    "\n",
    "# 군집수가 3개 초과시 변화가 미미하므로, 3개의 군집수가 적합\n",
    "plt.plot(range(1,20), dist_list, marker = '+')\n",
    "\n",
    "# 모델 성능 개선\n",
    "\n"
   ]
  },
  {
   "cell_type": "code",
   "execution_count": null,
   "id": "bcb65d0a",
   "metadata": {},
   "outputs": [],
   "source": []
  }
 ],
 "metadata": {
  "kernelspec": {
   "display_name": "Python 3",
   "language": "python",
   "name": "python3"
  },
  "language_info": {
   "codemirror_mode": {
    "name": "ipython",
    "version": 3
   },
   "file_extension": ".py",
   "mimetype": "text/x-python",
   "name": "python",
   "nbconvert_exporter": "python",
   "pygments_lexer": "ipython3",
   "version": "3.7.7"
  }
 },
 "nbformat": 4,
 "nbformat_minor": 5
}
