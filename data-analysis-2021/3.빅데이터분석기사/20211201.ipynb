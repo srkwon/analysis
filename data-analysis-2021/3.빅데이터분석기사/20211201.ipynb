{
 "cells": [
  {
   "cell_type": "code",
   "execution_count": 16,
   "id": "893008fd",
   "metadata": {},
   "outputs": [
    {
     "name": "stdout",
     "output_type": "stream",
     "text": [
      "'data.frame':\t88 obs. of  5 variables:\n",
      " $ agegp    : Ord.factor w/ 6 levels \"25-34\"<\"35-44\"<..: 1 1 1 1 1 1 1 1 1 1 ...\n",
      " $ alcgp    : Ord.factor w/ 4 levels \"0-39g/day\"<\"40-79\"<..: 1 1 1 1 2 2 2 2 3 3 ...\n",
      " $ tobgp    : Ord.factor w/ 4 levels \"0-9g/day\"<\"10-19\"<..: 1 2 3 4 1 2 3 4 1 2 ...\n",
      " $ ncases   : num  0 0 0 0 0 0 0 0 0 0 ...\n",
      " $ ncontrols: num  40 10 6 5 27 7 4 7 2 1 ...\n"
     ]
    },
    {
     "data": {
      "text/plain": [
       "   agegp          alcgp         tobgp        ncases         ncontrols    \n",
       " 25-34:15   0-39g/day:23   0-9g/day:24   Min.   : 0.000   Min.   : 1.00  \n",
       " 35-44:15   40-79    :23   10-19   :24   1st Qu.: 0.000   1st Qu.: 3.00  \n",
       " 45-54:16   80-119   :21   20-29   :20   Median : 1.000   Median : 6.00  \n",
       " 55-64:16   120+     :21   30+     :20   Mean   : 2.273   Mean   :11.08  \n",
       " 65-74:15                                3rd Qu.: 4.000   3rd Qu.:14.00  \n",
       " 75+  :11                                Max.   :17.000   Max.   :60.00  "
      ]
     },
     "metadata": {},
     "output_type": "display_data"
    },
    {
     "data": {
      "text/html": [
       "<table class=\"dataframe\">\n",
       "<caption>A data.frame: 6 × 6</caption>\n",
       "<thead>\n",
       "\t<tr><th></th><th scope=col>agegp</th><th scope=col>alcgp</th><th scope=col>tobgp</th><th scope=col>ncases</th><th scope=col>ncontrols</th><th scope=col>nsums</th></tr>\n",
       "\t<tr><th></th><th scope=col>&lt;ord&gt;</th><th scope=col>&lt;ord&gt;</th><th scope=col>&lt;ord&gt;</th><th scope=col>&lt;dbl&gt;</th><th scope=col>&lt;dbl&gt;</th><th scope=col>&lt;dbl&gt;</th></tr>\n",
       "</thead>\n",
       "<tbody>\n",
       "\t<tr><th scope=row>1</th><td>25-34</td><td>0-39g/day</td><td>0-9g/day</td><td>0</td><td>40</td><td>40</td></tr>\n",
       "\t<tr><th scope=row>2</th><td>25-34</td><td>0-39g/day</td><td>10-19   </td><td>0</td><td>10</td><td>10</td></tr>\n",
       "\t<tr><th scope=row>3</th><td>25-34</td><td>0-39g/day</td><td>20-29   </td><td>0</td><td> 6</td><td> 6</td></tr>\n",
       "\t<tr><th scope=row>4</th><td>25-34</td><td>0-39g/day</td><td>30+     </td><td>0</td><td> 5</td><td> 5</td></tr>\n",
       "\t<tr><th scope=row>5</th><td>25-34</td><td>40-79    </td><td>0-9g/day</td><td>0</td><td>27</td><td>27</td></tr>\n",
       "\t<tr><th scope=row>6</th><td>25-34</td><td>40-79    </td><td>10-19   </td><td>0</td><td> 7</td><td> 7</td></tr>\n",
       "</tbody>\n",
       "</table>\n"
      ],
      "text/latex": [
       "A data.frame: 6 × 6\n",
       "\\begin{tabular}{r|llllll}\n",
       "  & agegp & alcgp & tobgp & ncases & ncontrols & nsums\\\\\n",
       "  & <ord> & <ord> & <ord> & <dbl> & <dbl> & <dbl>\\\\\n",
       "\\hline\n",
       "\t1 & 25-34 & 0-39g/day & 0-9g/day & 0 & 40 & 40\\\\\n",
       "\t2 & 25-34 & 0-39g/day & 10-19    & 0 & 10 & 10\\\\\n",
       "\t3 & 25-34 & 0-39g/day & 20-29    & 0 &  6 &  6\\\\\n",
       "\t4 & 25-34 & 0-39g/day & 30+      & 0 &  5 &  5\\\\\n",
       "\t5 & 25-34 & 40-79     & 0-9g/day & 0 & 27 & 27\\\\\n",
       "\t6 & 25-34 & 40-79     & 10-19    & 0 &  7 &  7\\\\\n",
       "\\end{tabular}\n"
      ],
      "text/markdown": [
       "\n",
       "A data.frame: 6 × 6\n",
       "\n",
       "| <!--/--> | agegp &lt;ord&gt; | alcgp &lt;ord&gt; | tobgp &lt;ord&gt; | ncases &lt;dbl&gt; | ncontrols &lt;dbl&gt; | nsums &lt;dbl&gt; |\n",
       "|---|---|---|---|---|---|---|\n",
       "| 1 | 25-34 | 0-39g/day | 0-9g/day | 0 | 40 | 40 |\n",
       "| 2 | 25-34 | 0-39g/day | 10-19    | 0 | 10 | 10 |\n",
       "| 3 | 25-34 | 0-39g/day | 20-29    | 0 |  6 |  6 |\n",
       "| 4 | 25-34 | 0-39g/day | 30+      | 0 |  5 |  5 |\n",
       "| 5 | 25-34 | 40-79     | 0-9g/day | 0 | 27 | 27 |\n",
       "| 6 | 25-34 | 40-79     | 10-19    | 0 |  7 |  7 |\n",
       "\n"
      ],
      "text/plain": [
       "  agegp alcgp     tobgp    ncases ncontrols nsums\n",
       "1 25-34 0-39g/day 0-9g/day 0      40        40   \n",
       "2 25-34 0-39g/day 10-19    0      10        10   \n",
       "3 25-34 0-39g/day 20-29    0       6         6   \n",
       "4 25-34 0-39g/day 30+      0       5         5   \n",
       "5 25-34 40-79     0-9g/day 0      27        27   \n",
       "6 25-34 40-79     10-19    0       7         7   "
      ]
     },
     "metadata": {},
     "output_type": "display_data"
    },
    {
     "data": {
      "text/plain": [
       "Call: xtabs(formula = nsums ~ alcgp + tobgp, data = data.2)\n",
       "Number of cases in table: 1175 \n",
       "Number of factors: 2 \n",
       "Test for independence of all factors:\n",
       "\tChisq = 54.69, df = 9, p-value = 1.396e-08"
      ]
     },
     "metadata": {},
     "output_type": "display_data"
    },
    {
     "name": "stdout",
     "output_type": "stream",
     "text": [
      "[1] 54.69\n"
     ]
    }
   ],
   "source": [
    "library(dplyr)\n",
    "\n",
    "data <- esoph\n",
    "\n",
    "str(data)\n",
    "summary(data)\n",
    "\n",
    "data.2 <- data %>%\n",
    "    mutate(nsums = ncases + ncontrols)\n",
    "\n",
    "head(data.2)\n",
    "\n",
    "# 교차 분석(범주형 데이터 교차테이블)\n",
    "xtables <- xtabs(\n",
    "    formula = nsums ~ alcgp + tobgp\n",
    "    , data = data.2\n",
    ")\n",
    "\n",
    "# 카이제곱 테스트 결과 카이제곱 검정 통계량 표시\n",
    "summary(xtables)\n",
    "\n",
    "print(54.69)\n",
    "\n",
    "\n"
   ]
  },
  {
   "cell_type": "code",
   "execution_count": 53,
   "id": "087057be",
   "metadata": {},
   "outputs": [
    {
     "name": "stdout",
     "output_type": "stream",
     "text": [
      "Classes 'nfnGroupedData', 'nfGroupedData', 'groupedData' and 'data.frame':\t578 obs. of  4 variables:\n",
      " $ weight: num  42 51 59 64 76 93 106 125 149 171 ...\n",
      " $ Time  : num  0 2 4 6 8 10 12 14 16 18 ...\n",
      " $ Chick : Ord.factor w/ 50 levels \"18\"<\"16\"<\"15\"<..: 15 15 15 15 15 15 15 15 15 15 ...\n",
      " $ Diet  : Factor w/ 4 levels \"1\",\"2\",\"3\",\"4\": 1 1 1 1 1 1 1 1 1 1 ...\n",
      " - attr(*, \"formula\")=Class 'formula'  language weight ~ Time | Chick\n",
      "  .. ..- attr(*, \".Environment\")=<environment: R_EmptyEnv> \n",
      " - attr(*, \"outer\")=Class 'formula'  language ~Diet\n",
      "  .. ..- attr(*, \".Environment\")=<environment: R_EmptyEnv> \n",
      " - attr(*, \"labels\")=List of 2\n",
      "  ..$ x: chr \"Time\"\n",
      "  ..$ y: chr \"Body weight\"\n",
      " - attr(*, \"units\")=List of 2\n",
      "  ..$ x: chr \"(days)\"\n",
      "  ..$ y: chr \"(gm)\"\n"
     ]
    },
    {
     "data": {
      "text/plain": [
       "   Min. 1st Qu.  Median    Mean 3rd Qu.    Max. \n",
       "   35.0    63.0   103.0   121.8   163.8   373.0 "
      ]
     },
     "metadata": {},
     "output_type": "display_data"
    },
    {
     "data": {
      "text/html": [
       "81"
      ],
      "text/latex": [
       "81"
      ],
      "text/markdown": [
       "81"
      ],
      "text/plain": [
       "[1] 81"
      ]
     },
     "metadata": {},
     "output_type": "display_data"
    },
    {
     "name": "stdout",
     "output_type": "stream",
     "text": [
      "[1] 81\n"
     ]
    }
   ],
   "source": [
    "library(dplyr)\n",
    "library(MASS)\n",
    "\n",
    "data <- ChickWeight\n",
    "\n",
    "str(data)\n",
    "summary(data$weight)\n",
    "\n",
    "\n",
    "min.max.scale <- function(x) {\n",
    "    return ((x - min(x)) / (max(x) - min(x)))\n",
    "}\n",
    "\n",
    "data.2 <- data %>%\n",
    "    mutate(weight.scaled = min.max.scale(weight)) %>%\n",
    "    filter(weight.scaled >= 0.5)\n",
    "\n",
    "nrow(data.2)\n",
    "\n",
    "print(nrow(data.2))\n",
    "\n",
    "# max(data$weight) - min(data$weight)\n",
    "\n",
    "\n",
    "\n",
    "\n"
   ]
  },
  {
   "cell_type": "code",
   "execution_count": 59,
   "id": "fabb7492",
   "metadata": {},
   "outputs": [
    {
     "name": "stdout",
     "output_type": "stream",
     "text": [
      "Classes 'nfnGroupedData', 'nfGroupedData', 'groupedData' and 'data.frame':\t578 obs. of  4 variables:\n",
      " $ weight: num  42 51 59 64 76 93 106 125 149 171 ...\n",
      " $ Time  : num  0 2 4 6 8 10 12 14 16 18 ...\n",
      " $ Chick : Ord.factor w/ 50 levels \"18\"<\"16\"<\"15\"<..: 15 15 15 15 15 15 15 15 15 15 ...\n",
      " $ Diet  : Factor w/ 4 levels \"1\",\"2\",\"3\",\"4\": 1 1 1 1 1 1 1 1 1 1 ...\n",
      " - attr(*, \"formula\")=Class 'formula'  language weight ~ Time | Chick\n",
      "  .. ..- attr(*, \".Environment\")=<environment: R_EmptyEnv> \n",
      " - attr(*, \"outer\")=Class 'formula'  language ~Diet\n",
      "  .. ..- attr(*, \".Environment\")=<environment: R_EmptyEnv> \n",
      " - attr(*, \"labels\")=List of 2\n",
      "  ..$ x: chr \"Time\"\n",
      "  ..$ y: chr \"Body weight\"\n",
      " - attr(*, \"units\")=List of 2\n",
      "  ..$ x: chr \"(days)\"\n",
      "  ..$ y: chr \"(gm)\"\n"
     ]
    },
    {
     "data": {
      "text/plain": [
       "     weight           Time           Chick     Diet   \n",
       " Min.   : 35.0   Min.   : 0.00   13     : 12   1:220  \n",
       " 1st Qu.: 63.0   1st Qu.: 4.00   9      : 12   2:120  \n",
       " Median :103.0   Median :10.00   20     : 12   3:120  \n",
       " Mean   :121.8   Mean   :10.72   10     : 12   4:118  \n",
       " 3rd Qu.:163.8   3rd Qu.:16.00   17     : 12          \n",
       " Max.   :373.0   Max.   :21.00   19     : 12          \n",
       "                                 (Other):506          "
      ]
     },
     "metadata": {},
     "output_type": "display_data"
    }
   ],
   "source": [
    "library(dplyr)\n",
    "library(mlbench)\n",
    "\n",
    "\n",
    "str(data)\n",
    "summary(data)"
   ]
  },
  {
   "cell_type": "code",
   "execution_count": 72,
   "id": "6fabaa17",
   "metadata": {},
   "outputs": [
    {
     "name": "stdout",
     "output_type": "stream",
     "text": [
      "'data.frame':\t1338 obs. of  7 variables:\n",
      " $ age     : int  19 18 28 33 32 31 46 37 37 60 ...\n",
      " $ sex     : Factor w/ 2 levels \"female\",\"male\": 1 2 2 2 2 1 1 1 2 1 ...\n",
      " $ bmi     : num  27.9 33.8 33 22.7 28.9 ...\n",
      " $ children: int  0 1 3 0 0 0 1 3 2 0 ...\n",
      " $ smoker  : Factor w/ 2 levels \"no\",\"yes\": 2 1 1 1 1 1 1 1 1 1 ...\n",
      " $ region  : Factor w/ 4 levels \"northeast\",\"northwest\",..: 4 3 3 2 2 3 3 2 1 2 ...\n",
      " $ charges : num  16885 1726 4449 21984 3867 ...\n"
     ]
    },
    {
     "data": {
      "text/plain": [
       "      age            sex           bmi           children     smoker    \n",
       " Min.   :18.00   female:662   Min.   :15.96   Min.   :0.000   no :1064  \n",
       " 1st Qu.:27.00   male  :676   1st Qu.:26.30   1st Qu.:0.000   yes: 274  \n",
       " Median :39.00                Median :30.40   Median :1.000             \n",
       " Mean   :39.21                Mean   :30.66   Mean   :1.095             \n",
       " 3rd Qu.:51.00                3rd Qu.:34.69   3rd Qu.:2.000             \n",
       " Max.   :64.00                Max.   :53.13   Max.   :5.000             \n",
       "       region       charges     \n",
       " northeast:324   Min.   : 1122  \n",
       " northwest:325   1st Qu.: 4740  \n",
       " southeast:364   Median : 9382  \n",
       " southwest:325   Mean   :13270  \n",
       "                 3rd Qu.:16640  \n",
       "                 Max.   :63770  "
      ]
     },
     "metadata": {},
     "output_type": "display_data"
    },
    {
     "data": {
      "text/html": [
       "<style>\n",
       ".dl-inline {width: auto; margin:0; padding: 0}\n",
       ".dl-inline>dt, .dl-inline>dd {float: none; width: auto; display: inline-block}\n",
       ".dl-inline>dt::after {content: \":\\0020\"; padding-right: .5ex}\n",
       ".dl-inline>dt:not(:first-of-type) {padding-left: .5ex}\n",
       "</style><dl class=dl-inline><dt>age</dt><dd>0</dd><dt>sex</dt><dd>0</dd><dt>bmi</dt><dd>0</dd><dt>children</dt><dd>0</dd><dt>smoker</dt><dd>0</dd><dt>region</dt><dd>0</dd><dt>charges</dt><dd>0</dd></dl>\n"
      ],
      "text/latex": [
       "\\begin{description*}\n",
       "\\item[age] 0\n",
       "\\item[sex] 0\n",
       "\\item[bmi] 0\n",
       "\\item[children] 0\n",
       "\\item[smoker] 0\n",
       "\\item[region] 0\n",
       "\\item[charges] 0\n",
       "\\end{description*}\n"
      ],
      "text/markdown": [
       "age\n",
       ":   0sex\n",
       ":   0bmi\n",
       ":   0children\n",
       ":   0smoker\n",
       ":   0region\n",
       ":   0charges\n",
       ":   0\n",
       "\n"
      ],
      "text/plain": [
       "     age      sex      bmi children   smoker   region  charges \n",
       "       0        0        0        0        0        0        0 "
      ]
     },
     "metadata": {},
     "output_type": "display_data"
    },
    {
     "ename": "ERROR",
     "evalue": "Error in eval(expr, envir, enclos): 객체 'model.lm.2.predict'를 찾을 수 없습니다\n",
     "output_type": "error",
     "traceback": [
      "Error in eval(expr, envir, enclos): 객체 'model.lm.2.predict'를 찾을 수 없습니다\nTraceback:\n"
     ]
    }
   ],
   "source": [
    "# 예측 => 회귀분석(다중회귀분석, 릿지, 라쏘, 엘라스틱넷)\n",
    "\n",
    "# 전진선택법, 후진선택법, 단계적 선택법 모두 활용해서 모형 만들기\n",
    "library(dplyr)\n",
    "\n",
    "data <- read.csv('./data/insurance.csv', stringsAsFactors = TRUE)\n",
    "str(data)\n",
    "summary(data)\n",
    "\n",
    "colSums(is.na(data))\n",
    "\n",
    "# 단계적 선택법에 따른 변수 선택\n",
    "model.lm.1 <- lm(\n",
    "    formula = charges ~ age + bmi + children + smoker + region\n",
    "    , data = data\n",
    ")\n",
    "\n",
    "# 회귀 모형의 유의성에 따른 변수 선택\n",
    "model.lm.2 <- lm(\n",
    "    formula = charges ~ age + bmi + children + smoker\n",
    "    , data = data\n",
    ")\n",
    "\n",
    "model.lm.2\n",
    "\n",
    "\n"
   ]
  }
 ],
 "metadata": {
  "kernelspec": {
   "display_name": "R",
   "language": "R",
   "name": "ir"
  },
  "language_info": {
   "codemirror_mode": "r",
   "file_extension": ".r",
   "mimetype": "text/x-r-source",
   "name": "R",
   "pygments_lexer": "r",
   "version": "4.0.5"
  }
 },
 "nbformat": 4,
 "nbformat_minor": 5
}
