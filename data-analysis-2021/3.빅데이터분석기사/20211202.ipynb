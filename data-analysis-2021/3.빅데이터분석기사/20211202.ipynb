{
 "cells": [
  {
   "cell_type": "code",
   "execution_count": 19,
   "id": "4bd3fc9c",
   "metadata": {},
   "outputs": [
    {
     "name": "stdout",
     "output_type": "stream",
     "text": [
      "'data.frame':\t506 obs. of  14 variables:\n",
      " $ crim   : num  0.00632 0.02731 0.02729 0.03237 0.06905 ...\n",
      " $ zn     : num  18 0 0 0 0 0 12.5 12.5 12.5 12.5 ...\n",
      " $ indus  : num  2.31 7.07 7.07 2.18 2.18 2.18 7.87 7.87 7.87 7.87 ...\n",
      " $ chas   : Factor w/ 2 levels \"0\",\"1\": 1 1 1 1 1 1 1 1 1 1 ...\n",
      " $ nox    : num  0.538 0.469 0.469 0.458 0.458 0.458 0.524 0.524 0.524 0.524 ...\n",
      " $ rm     : num  6.58 6.42 7.18 7 7.15 ...\n",
      " $ age    : num  65.2 78.9 61.1 45.8 54.2 58.7 66.6 96.1 100 85.9 ...\n",
      " $ dis    : num  4.09 4.97 4.97 6.06 6.06 ...\n",
      " $ rad    : num  1 2 2 3 3 3 5 5 5 5 ...\n",
      " $ tax    : num  296 242 242 222 222 222 311 311 311 311 ...\n",
      " $ ptratio: num  15.3 17.8 17.8 18.7 18.7 18.7 15.2 15.2 15.2 15.2 ...\n",
      " $ b      : num  397 397 393 395 397 ...\n",
      " $ lstat  : num  4.98 9.14 4.03 2.94 5.33 ...\n",
      " $ medv   : num  24 21.6 34.7 33.4 36.2 28.7 22.9 27.1 16.5 18.9 ...\n"
     ]
    },
    {
     "data": {
      "text/plain": [
       "      crim                zn             indus       chas         nox        \n",
       " Min.   : 0.00632   Min.   :  0.00   Min.   : 0.46   0:471   Min.   :0.3850  \n",
       " 1st Qu.: 0.08205   1st Qu.:  0.00   1st Qu.: 5.19   1: 35   1st Qu.:0.4490  \n",
       " Median : 0.25651   Median :  0.00   Median : 9.69           Median :0.5380  \n",
       " Mean   : 3.61352   Mean   : 11.36   Mean   :11.14           Mean   :0.5547  \n",
       " 3rd Qu.: 3.67708   3rd Qu.: 12.50   3rd Qu.:18.10           3rd Qu.:0.6240  \n",
       " Max.   :88.97620   Max.   :100.00   Max.   :27.74           Max.   :0.8710  \n",
       "       rm             age              dis              rad        \n",
       " Min.   :3.561   Min.   :  2.90   Min.   : 1.130   Min.   : 1.000  \n",
       " 1st Qu.:5.886   1st Qu.: 45.02   1st Qu.: 2.100   1st Qu.: 4.000  \n",
       " Median :6.208   Median : 77.50   Median : 3.207   Median : 5.000  \n",
       " Mean   :6.285   Mean   : 68.57   Mean   : 3.795   Mean   : 9.549  \n",
       " 3rd Qu.:6.623   3rd Qu.: 94.08   3rd Qu.: 5.188   3rd Qu.:24.000  \n",
       " Max.   :8.780   Max.   :100.00   Max.   :12.127   Max.   :24.000  \n",
       "      tax           ptratio            b              lstat      \n",
       " Min.   :187.0   Min.   :12.60   Min.   :  0.32   Min.   : 1.73  \n",
       " 1st Qu.:279.0   1st Qu.:17.40   1st Qu.:375.38   1st Qu.: 6.95  \n",
       " Median :330.0   Median :19.05   Median :391.44   Median :11.36  \n",
       " Mean   :408.2   Mean   :18.46   Mean   :356.67   Mean   :12.65  \n",
       " 3rd Qu.:666.0   3rd Qu.:20.20   3rd Qu.:396.23   3rd Qu.:16.95  \n",
       " Max.   :711.0   Max.   :22.00   Max.   :396.90   Max.   :37.97  \n",
       "      medv      \n",
       " Min.   : 5.00  \n",
       " 1st Qu.:17.02  \n",
       " Median :21.20  \n",
       " Mean   :22.53  \n",
       " 3rd Qu.:25.00  \n",
       " Max.   :50.00  "
      ]
     },
     "metadata": {},
     "output_type": "display_data"
    },
    {
     "name": "stdout",
     "output_type": "stream",
     "text": [
      "  crim.avg\n",
      "1 5.759387\n"
     ]
    }
   ],
   "source": [
    "library(dplyr)\n",
    "data(BostonHousing)\n",
    "\n",
    "data <- BostonHousing\n",
    "\n",
    "str(data)\n",
    "summary(data)\n",
    "\n",
    "# crim의 상위 10번째 값으로 상위 10개값 변환\n",
    "crim.10th <- data %>%\n",
    "    arrange(desc(crim)) %>%\n",
    "    head(10)\n",
    "\n",
    "data$crim <- ifelse(data$crim >= crim.10th$crim[10], crim.10th$crim[10], data$crim)\n",
    "\n",
    "# age 80 이상인 값에 대해 crim 평균계산\n",
    "\n",
    "crim.avg = data %>%\n",
    "    filter(age >= 80) %>%\n",
    "    summarise(crim.avg = mean(crim))\n",
    "\n",
    "print(crim.avg)   \n",
    "\n"
   ]
  },
  {
   "cell_type": "code",
   "execution_count": 30,
   "id": "ad5d93e7",
   "metadata": {},
   "outputs": [
    {
     "name": "stdout",
     "output_type": "stream",
     "text": [
      "'data.frame':\t20640 obs. of  1 variable:\n",
      " $ longitude.latitude.housing_median_age.total_rooms.total_bedrooms.population.households.median_income.median_house_value.ocean_proximity: Factor w/ 20640 levels \"-114.31,34.19,15.0,5612.0,1283.0,1015.0,472.0,1.4936,66900.0,INLAND\",..: 18083 18020 18157 18238 18239 18240 18235 18236 18317 18237 ...\n"
     ]
    },
    {
     "data": {
      "text/plain": [
       " longitude.latitude.housing_median_age.total_rooms.total_bedrooms.population.households.median_income.median_house_value.ocean_proximity\n",
       " -114.31,34.19,15.0,5612.0,1283.0,1015.0,472.0,1.4936,66900.0,INLAND:    1                                                              \n",
       " -114.47,34.4,19.0,7650.0,1901.0,1129.0,463.0,1.82,80100.0,INLAND   :    1                                                              \n",
       " -114.49,33.97,17.0,2809.0,635.0,83.0,45.0,1.6154,87500.0,INLAND    :    1                                                              \n",
       " -114.55,32.8,19.0,2570.0,820.0,1431.0,608.0,1.275,56100.0,INLAND   :    1                                                              \n",
       " -114.56,33.69,17.0,720.0,174.0,333.0,117.0,1.6509,85700.0,INLAND   :    1                                                              \n",
       " -114.57,33.52,27.0,173.0,35.0,117.0,34.0,2.0833,45000.0,INLAND     :    1                                                              \n",
       " (Other)                                                            :20634                                                              "
      ]
     },
     "metadata": {},
     "output_type": "display_data"
    },
    {
     "data": {
      "text/html": [
       "20640"
      ],
      "text/latex": [
       "20640"
      ],
      "text/markdown": [
       "20640"
      ],
      "text/plain": [
       "[1] 20640"
      ]
     },
     "metadata": {},
     "output_type": "display_data"
    }
   ],
   "source": [
    "# 순서대로 80 프로 데이터 추출\n",
    "\n",
    "data(housing)\n",
    "\n",
    "data <- housing\n",
    "\n",
    "str(data)\n",
    "summary(data)\n",
    "\n",
    "nrow(data)\n",
    "\n",
    "data.train <- data[nrow(data) * 0.8, ]\n",
    "\n"
   ]
  },
  {
   "cell_type": "code",
   "execution_count": 41,
   "id": "e6c52dd5",
   "metadata": {},
   "outputs": [
    {
     "name": "stdout",
     "output_type": "stream",
     "text": [
      "'data.frame':\t1338 obs. of  7 variables:\n",
      " $ age     : int  19 18 28 33 32 31 46 37 37 60 ...\n",
      " $ sex     : chr  \"female\" \"male\" \"male\" \"male\" ...\n",
      " $ bmi     : num  27.9 33.8 33 22.7 28.9 ...\n",
      " $ children: int  0 1 3 0 0 0 1 3 2 0 ...\n",
      " $ smoker  : chr  \"yes\" \"no\" \"no\" \"no\" ...\n",
      " $ region  : chr  \"southwest\" \"southeast\" \"southeast\" \"northwest\" ...\n",
      " $ charges : num  16885 1726 4449 21984 3867 ...\n"
     ]
    },
    {
     "data": {
      "text/plain": [
       "      age            sex                 bmi           children    \n",
       " Min.   :18.00   Length:1338        Min.   :15.96   Min.   :0.000  \n",
       " 1st Qu.:27.00   Class :character   1st Qu.:26.30   1st Qu.:0.000  \n",
       " Median :39.00   Mode  :character   Median :30.40   Median :1.000  \n",
       " Mean   :39.21                      Mean   :30.66   Mean   :1.095  \n",
       " 3rd Qu.:51.00                      3rd Qu.:34.69   3rd Qu.:2.000  \n",
       " Max.   :64.00                      Max.   :53.13   Max.   :5.000  \n",
       "    smoker             region             charges     \n",
       " Length:1338        Length:1338        Min.   : 1122  \n",
       " Class :character   Class :character   1st Qu.: 4740  \n",
       " Mode  :character   Mode  :character   Median : 9382  \n",
       "                                       Mean   :13270  \n",
       "                                       3rd Qu.:16640  \n",
       "                                       Max.   :63770  "
      ]
     },
     "metadata": {},
     "output_type": "display_data"
    },
    {
     "name": "stdout",
     "output_type": "stream",
     "text": [
      "  sum(charges)\n",
      "1      6421430\n"
     ]
    }
   ],
   "source": [
    "library(dplyr)\n",
    "\n",
    "data <- read.csv('./data/insurance.csv')\n",
    "\n",
    "str(data)\n",
    "summary(data)\n",
    "\n",
    "charges.mean <- mean(data$charges, na.rm = TRUE)\n",
    "charges.sd <- sd(data$charges, na.rm = TRUE)\n",
    "\n",
    "charges.sum <- data %>% \n",
    "    filter((charges >= charges.mean + 1.5 * charges.sd) | (charges <= charges.mean - 1.5 * charges.sd)) %>%\n",
    "    summarise(sum(charges))\n",
    "\n",
    "print(charges.sum)\n",
    "\n"
   ]
  },
  {
   "cell_type": "code",
   "execution_count": 62,
   "id": "97475cd9",
   "metadata": {},
   "outputs": [
    {
     "name": "stdout",
     "output_type": "stream",
     "text": [
      "'data.frame':\t150 obs. of  5 variables:\n",
      " $ Sepal.Length: num  5.1 4.9 4.7 4.6 5 5.4 4.6 5 4.4 4.9 ...\n",
      " $ Sepal.Width : num  3.5 3 3.2 3.1 3.6 3.9 3.4 3.4 2.9 3.1 ...\n",
      " $ Petal.Length: num  1.4 1.4 1.3 1.5 1.4 1.7 1.4 1.5 1.4 1.5 ...\n",
      " $ Petal.Width : num  0.2 0.2 0.2 0.2 0.2 0.4 0.3 0.2 0.2 0.1 ...\n",
      " $ Species     : Factor w/ 3 levels \"setosa\",\"versicolor\",..: 1 1 1 1 1 1 1 1 1 1 ...\n"
     ]
    },
    {
     "data": {
      "text/plain": [
       "  Sepal.Length    Sepal.Width     Petal.Length    Petal.Width   \n",
       " Min.   :4.300   Min.   :2.000   Min.   :1.000   Min.   :0.100  \n",
       " 1st Qu.:5.100   1st Qu.:2.800   1st Qu.:1.600   1st Qu.:0.300  \n",
       " Median :5.800   Median :3.000   Median :4.350   Median :1.300  \n",
       " Mean   :5.843   Mean   :3.057   Mean   :3.758   Mean   :1.199  \n",
       " 3rd Qu.:6.400   3rd Qu.:3.300   3rd Qu.:5.100   3rd Qu.:1.800  \n",
       " Max.   :7.900   Max.   :4.400   Max.   :6.900   Max.   :2.500  \n",
       "       Species  \n",
       " setosa    :50  \n",
       " versicolor:50  \n",
       " virginica :50  \n",
       "                \n",
       "                \n",
       "                "
      ]
     },
     "metadata": {},
     "output_type": "display_data"
    },
    {
     "data": {
      "text/html": [
       "105"
      ],
      "text/latex": [
       "105"
      ],
      "text/markdown": [
       "105"
      ],
      "text/plain": [
       "[1] 105"
      ]
     },
     "metadata": {},
     "output_type": "display_data"
    },
    {
     "data": {
      "text/html": [
       "45"
      ],
      "text/latex": [
       "45"
      ],
      "text/markdown": [
       "45"
      ],
      "text/plain": [
       "[1] 45"
      ]
     },
     "metadata": {},
     "output_type": "display_data"
    },
    {
     "data": {
      "text/plain": [
       "Confusion Matrix and Statistics\n",
       "\n",
       "            Reference\n",
       "Prediction   setosa versicolor virginica\n",
       "  setosa         15          0         0\n",
       "  versicolor      0         14         1\n",
       "  virginica       0          1        14\n",
       "\n",
       "Overall Statistics\n",
       "                                          \n",
       "               Accuracy : 0.9556          \n",
       "                 95% CI : (0.8485, 0.9946)\n",
       "    No Information Rate : 0.3333          \n",
       "    P-Value [Acc > NIR] : < 2.2e-16       \n",
       "                                          \n",
       "                  Kappa : 0.9333          \n",
       "                                          \n",
       " Mcnemar's Test P-Value : NA              \n",
       "\n",
       "Statistics by Class:\n",
       "\n",
       "                     Class: setosa Class: versicolor Class: virginica\n",
       "Sensitivity                 1.0000            0.9333           0.9333\n",
       "Specificity                 1.0000            0.9667           0.9667\n",
       "Pos Pred Value              1.0000            0.9333           0.9333\n",
       "Neg Pred Value              1.0000            0.9667           0.9667\n",
       "Prevalence                  0.3333            0.3333           0.3333\n",
       "Detection Rate              0.3333            0.3111           0.3111\n",
       "Detection Prevalence        0.3333            0.3333           0.3333\n",
       "Balanced Accuracy           1.0000            0.9500           0.9500"
      ]
     },
     "metadata": {},
     "output_type": "display_data"
    },
    {
     "data": {
      "text/plain": [
       "Confusion Matrix and Statistics\n",
       "\n",
       "            Reference\n",
       "Prediction   setosa versicolor virginica\n",
       "  setosa         15          0         0\n",
       "  versicolor      0         15         1\n",
       "  virginica       0          0        14\n",
       "\n",
       "Overall Statistics\n",
       "                                          \n",
       "               Accuracy : 0.9778          \n",
       "                 95% CI : (0.8823, 0.9994)\n",
       "    No Information Rate : 0.3333          \n",
       "    P-Value [Acc > NIR] : < 2.2e-16       \n",
       "                                          \n",
       "                  Kappa : 0.9667          \n",
       "                                          \n",
       " Mcnemar's Test P-Value : NA              \n",
       "\n",
       "Statistics by Class:\n",
       "\n",
       "                     Class: setosa Class: versicolor Class: virginica\n",
       "Sensitivity                 1.0000            1.0000           0.9333\n",
       "Specificity                 1.0000            0.9667           1.0000\n",
       "Pos Pred Value              1.0000            0.9375           1.0000\n",
       "Neg Pred Value              1.0000            1.0000           0.9677\n",
       "Prevalence                  0.3333            0.3333           0.3333\n",
       "Detection Rate              0.3333            0.3333           0.3111\n",
       "Detection Prevalence        0.3333            0.3556           0.3111\n",
       "Balanced Accuracy           1.0000            0.9833           0.9667"
      ]
     },
     "metadata": {},
     "output_type": "display_data"
    }
   ],
   "source": [
    "library(dplyr)\n",
    "library(caret)\n",
    "library(rpart) # dt\n",
    "library(e1071) # svm\n",
    "\n",
    "set.seed(20211204)\n",
    "\n",
    "data <- iris\n",
    "str(data)\n",
    "summary(data)\n",
    "\n",
    "# 데이터 전처리\n",
    "part <- createDataPartition(\n",
    "    data$Species\n",
    "    , p = 0.7\n",
    ")\n",
    "\n",
    "data.train <- data[part$Resample1, ]\n",
    "data.test <- data[-part$Resample1, ]\n",
    "\n",
    "nrow(data.train) ; nrow(data.test)\n",
    "\n",
    "\n",
    "# 모형 구축\n",
    "## rpart\n",
    "model.rpart <- rpart(\n",
    "    formula = Species ~ .\n",
    "    , data = data.train\n",
    ")\n",
    "\n",
    "# ?predict\n",
    "\n",
    "model.rpart.pred <- predict(\n",
    "    model.rpart\n",
    "    , newdata = data.test\n",
    "    , type=\"class\" # class or response\n",
    ")\n",
    "\n",
    "# 0.9556\n",
    "confusionMatrix(\n",
    "    data = model.rpart.pred\n",
    "    , reference = data.test$Species\n",
    ")\n",
    "\n",
    "## svm\n",
    "model.svm <- svm(\n",
    "    formula = Species ~ .\n",
    "    , data = data.train\n",
    ")\n",
    "\n",
    "model.svm.pred <- predict(\n",
    "    model.svm\n",
    "    , newdata = data.test\n",
    "    , type = \"class\"\n",
    ")\n",
    "\n",
    "# 0.9778\n",
    "confusionMatrix(\n",
    "    data = model.svm.pred\n",
    "    , reference = data.test$Species\n",
    ")\n",
    "\n",
    "# SVM 선택 및 파일 생성\n",
    "write.csv(model.svm.pred, './data/20211202.csv', row.names = FALSE)\n"
   ]
  }
 ],
 "metadata": {
  "kernelspec": {
   "display_name": "R",
   "language": "R",
   "name": "ir"
  },
  "language_info": {
   "codemirror_mode": "r",
   "file_extension": ".r",
   "mimetype": "text/x-r-source",
   "name": "R",
   "pygments_lexer": "r",
   "version": "4.0.1"
  }
 },
 "nbformat": 4,
 "nbformat_minor": 5
}
