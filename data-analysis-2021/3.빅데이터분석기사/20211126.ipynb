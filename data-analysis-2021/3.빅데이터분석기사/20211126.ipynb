{
 "cells": [
  {
   "cell_type": "code",
   "execution_count": 44,
   "id": "ac0121a3",
   "metadata": {},
   "outputs": [
    {
     "name": "stdout",
     "output_type": "stream",
     "text": [
      "'data.frame':\t506 obs. of  14 variables:\n",
      " $ crim   : num  0.00632 0.02731 0.02729 0.03237 0.06905 ...\n",
      " $ zn     : num  18 0 0 0 0 0 12.5 12.5 12.5 12.5 ...\n",
      " $ indus  : num  2.31 7.07 7.07 2.18 2.18 2.18 7.87 7.87 7.87 7.87 ...\n",
      " $ chas   : Factor w/ 2 levels \"0\",\"1\": 1 1 1 1 1 1 1 1 1 1 ...\n",
      " $ nox    : num  0.538 0.469 0.469 0.458 0.458 0.458 0.524 0.524 0.524 0.524 ...\n",
      " $ rm     : num  6.58 6.42 7.18 7 7.15 ...\n",
      " $ age    : num  65.2 78.9 61.1 45.8 54.2 58.7 66.6 96.1 100 85.9 ...\n",
      " $ dis    : num  4.09 4.97 4.97 6.06 6.06 ...\n",
      " $ rad    : num  1 2 2 3 3 3 5 5 5 5 ...\n",
      " $ tax    : num  296 242 242 222 222 222 311 311 311 311 ...\n",
      " $ ptratio: num  15.3 17.8 17.8 18.7 18.7 18.7 15.2 15.2 15.2 15.2 ...\n",
      " $ b      : num  397 397 393 395 397 ...\n",
      " $ lstat  : num  4.98 9.14 4.03 2.94 5.33 ...\n",
      " $ medv   : num  24 21.6 34.7 33.4 36.2 28.7 22.9 27.1 16.5 18.9 ...\n"
     ]
    },
    {
     "data": {
      "text/html": [
       "<style>\n",
       ".list-inline {list-style: none; margin:0; padding: 0}\n",
       ".list-inline>li {display: inline-block}\n",
       ".list-inline>li:not(:last-child)::after {content: \"\\00b7\"; padding: 0 .5ex}\n",
       "</style>\n",
       "<ol class=list-inline><li>506</li><li>14</li></ol>\n"
      ],
      "text/latex": [
       "\\begin{enumerate*}\n",
       "\\item 506\n",
       "\\item 14\n",
       "\\end{enumerate*}\n"
      ],
      "text/markdown": [
       "1. 506\n",
       "2. 14\n",
       "\n",
       "\n"
      ],
      "text/plain": [
       "[1] 506  14"
      ]
     },
     "metadata": {},
     "output_type": "display_data"
    },
    {
     "data": {
      "text/plain": [
       "    Min.  1st Qu.   Median     Mean  3rd Qu.     Max. \n",
       " 0.00632  0.08204  0.25651  3.61352  3.67708 88.97620 "
      ]
     },
     "metadata": {},
     "output_type": "display_data"
    },
    {
     "data": {
      "text/html": [
       "<table class=\"dataframe\">\n",
       "<caption>A data.frame: 10 × 1</caption>\n",
       "<thead>\n",
       "\t<tr><th></th><th scope=col>crim</th></tr>\n",
       "\t<tr><th></th><th scope=col>&lt;dbl&gt;</th></tr>\n",
       "</thead>\n",
       "<tbody>\n",
       "\t<tr><th scope=row>1</th><td>88.9762</td></tr>\n",
       "\t<tr><th scope=row>2</th><td>73.5341</td></tr>\n",
       "\t<tr><th scope=row>3</th><td>67.9208</td></tr>\n",
       "\t<tr><th scope=row>4</th><td>51.1358</td></tr>\n",
       "\t<tr><th scope=row>5</th><td>45.7461</td></tr>\n",
       "\t<tr><th scope=row>6</th><td>41.5292</td></tr>\n",
       "\t<tr><th scope=row>7</th><td>38.3518</td></tr>\n",
       "\t<tr><th scope=row>8</th><td>37.6619</td></tr>\n",
       "\t<tr><th scope=row>9</th><td>28.6558</td></tr>\n",
       "\t<tr><th scope=row>10</th><td>25.9406</td></tr>\n",
       "</tbody>\n",
       "</table>\n"
      ],
      "text/latex": [
       "A data.frame: 10 × 1\n",
       "\\begin{tabular}{r|l}\n",
       "  & crim\\\\\n",
       "  & <dbl>\\\\\n",
       "\\hline\n",
       "\t1 & 88.9762\\\\\n",
       "\t2 & 73.5341\\\\\n",
       "\t3 & 67.9208\\\\\n",
       "\t4 & 51.1358\\\\\n",
       "\t5 & 45.7461\\\\\n",
       "\t6 & 41.5292\\\\\n",
       "\t7 & 38.3518\\\\\n",
       "\t8 & 37.6619\\\\\n",
       "\t9 & 28.6558\\\\\n",
       "\t10 & 25.9406\\\\\n",
       "\\end{tabular}\n"
      ],
      "text/markdown": [
       "\n",
       "A data.frame: 10 × 1\n",
       "\n",
       "| <!--/--> | crim &lt;dbl&gt; |\n",
       "|---|---|\n",
       "| 1 | 88.9762 |\n",
       "| 2 | 73.5341 |\n",
       "| 3 | 67.9208 |\n",
       "| 4 | 51.1358 |\n",
       "| 5 | 45.7461 |\n",
       "| 6 | 41.5292 |\n",
       "| 7 | 38.3518 |\n",
       "| 8 | 37.6619 |\n",
       "| 9 | 28.6558 |\n",
       "| 10 | 25.9406 |\n",
       "\n"
      ],
      "text/plain": [
       "   crim   \n",
       "1  88.9762\n",
       "2  73.5341\n",
       "3  67.9208\n",
       "4  51.1358\n",
       "5  45.7461\n",
       "6  41.5292\n",
       "7  38.3518\n",
       "8  37.6619\n",
       "9  28.6558\n",
       "10 25.9406"
      ]
     },
     "metadata": {},
     "output_type": "display_data"
    },
    {
     "data": {
      "text/html": [
       "25.9406"
      ],
      "text/latex": [
       "25.9406"
      ],
      "text/markdown": [
       "25.9406"
      ],
      "text/plain": [
       "[1] 25.9406"
      ]
     },
     "metadata": {},
     "output_type": "display_data"
    },
    {
     "data": {
      "text/html": [
       "<table class=\"dataframe\">\n",
       "<caption>A data.frame: 20 × 1</caption>\n",
       "<thead>\n",
       "\t<tr><th></th><th scope=col>crim</th></tr>\n",
       "\t<tr><th></th><th scope=col>&lt;dbl&gt;</th></tr>\n",
       "</thead>\n",
       "<tbody>\n",
       "\t<tr><th scope=row>1</th><td>25.9406</td></tr>\n",
       "\t<tr><th scope=row>2</th><td>25.9406</td></tr>\n",
       "\t<tr><th scope=row>3</th><td>25.9406</td></tr>\n",
       "\t<tr><th scope=row>4</th><td>25.9406</td></tr>\n",
       "\t<tr><th scope=row>5</th><td>25.9406</td></tr>\n",
       "\t<tr><th scope=row>6</th><td>25.9406</td></tr>\n",
       "\t<tr><th scope=row>7</th><td>25.9406</td></tr>\n",
       "\t<tr><th scope=row>8</th><td>25.9406</td></tr>\n",
       "\t<tr><th scope=row>9</th><td>25.9406</td></tr>\n",
       "\t<tr><th scope=row>10</th><td>25.9406</td></tr>\n",
       "\t<tr><th scope=row>11</th><td>25.0461</td></tr>\n",
       "\t<tr><th scope=row>12</th><td>24.8017</td></tr>\n",
       "\t<tr><th scope=row>13</th><td>24.3938</td></tr>\n",
       "\t<tr><th scope=row>14</th><td>23.6482</td></tr>\n",
       "\t<tr><th scope=row>15</th><td>22.5971</td></tr>\n",
       "\t<tr><th scope=row>16</th><td>22.0511</td></tr>\n",
       "\t<tr><th scope=row>17</th><td>20.7162</td></tr>\n",
       "\t<tr><th scope=row>18</th><td>20.0849</td></tr>\n",
       "\t<tr><th scope=row>19</th><td>19.6091</td></tr>\n",
       "\t<tr><th scope=row>20</th><td>18.8110</td></tr>\n",
       "</tbody>\n",
       "</table>\n"
      ],
      "text/latex": [
       "A data.frame: 20 × 1\n",
       "\\begin{tabular}{r|l}\n",
       "  & crim\\\\\n",
       "  & <dbl>\\\\\n",
       "\\hline\n",
       "\t1 & 25.9406\\\\\n",
       "\t2 & 25.9406\\\\\n",
       "\t3 & 25.9406\\\\\n",
       "\t4 & 25.9406\\\\\n",
       "\t5 & 25.9406\\\\\n",
       "\t6 & 25.9406\\\\\n",
       "\t7 & 25.9406\\\\\n",
       "\t8 & 25.9406\\\\\n",
       "\t9 & 25.9406\\\\\n",
       "\t10 & 25.9406\\\\\n",
       "\t11 & 25.0461\\\\\n",
       "\t12 & 24.8017\\\\\n",
       "\t13 & 24.3938\\\\\n",
       "\t14 & 23.6482\\\\\n",
       "\t15 & 22.5971\\\\\n",
       "\t16 & 22.0511\\\\\n",
       "\t17 & 20.7162\\\\\n",
       "\t18 & 20.0849\\\\\n",
       "\t19 & 19.6091\\\\\n",
       "\t20 & 18.8110\\\\\n",
       "\\end{tabular}\n"
      ],
      "text/markdown": [
       "\n",
       "A data.frame: 20 × 1\n",
       "\n",
       "| <!--/--> | crim &lt;dbl&gt; |\n",
       "|---|---|\n",
       "| 1 | 25.9406 |\n",
       "| 2 | 25.9406 |\n",
       "| 3 | 25.9406 |\n",
       "| 4 | 25.9406 |\n",
       "| 5 | 25.9406 |\n",
       "| 6 | 25.9406 |\n",
       "| 7 | 25.9406 |\n",
       "| 8 | 25.9406 |\n",
       "| 9 | 25.9406 |\n",
       "| 10 | 25.9406 |\n",
       "| 11 | 25.0461 |\n",
       "| 12 | 24.8017 |\n",
       "| 13 | 24.3938 |\n",
       "| 14 | 23.6482 |\n",
       "| 15 | 22.5971 |\n",
       "| 16 | 22.0511 |\n",
       "| 17 | 20.7162 |\n",
       "| 18 | 20.0849 |\n",
       "| 19 | 19.6091 |\n",
       "| 20 | 18.8110 |\n",
       "\n"
      ],
      "text/plain": [
       "   crim   \n",
       "1  25.9406\n",
       "2  25.9406\n",
       "3  25.9406\n",
       "4  25.9406\n",
       "5  25.9406\n",
       "6  25.9406\n",
       "7  25.9406\n",
       "8  25.9406\n",
       "9  25.9406\n",
       "10 25.9406\n",
       "11 25.0461\n",
       "12 24.8017\n",
       "13 24.3938\n",
       "14 23.6482\n",
       "15 22.5971\n",
       "16 22.0511\n",
       "17 20.7162\n",
       "18 20.0849\n",
       "19 19.6091\n",
       "20 18.8110"
      ]
     },
     "metadata": {},
     "output_type": "display_data"
    },
    {
     "data": {
      "text/html": [
       "<table class=\"dataframe\">\n",
       "<caption>A data.frame: 1 × 1</caption>\n",
       "<thead>\n",
       "\t<tr><th scope=col>mean(crim)</th></tr>\n",
       "\t<tr><th scope=col>&lt;dbl&gt;</th></tr>\n",
       "</thead>\n",
       "<tbody>\n",
       "\t<tr><td>5.759387</td></tr>\n",
       "</tbody>\n",
       "</table>\n"
      ],
      "text/latex": [
       "A data.frame: 1 × 1\n",
       "\\begin{tabular}{l}\n",
       " mean(crim)\\\\\n",
       " <dbl>\\\\\n",
       "\\hline\n",
       "\t 5.759387\\\\\n",
       "\\end{tabular}\n"
      ],
      "text/markdown": [
       "\n",
       "A data.frame: 1 × 1\n",
       "\n",
       "| mean(crim) &lt;dbl&gt; |\n",
       "|---|\n",
       "| 5.759387 |\n",
       "\n"
      ],
      "text/plain": [
       "  mean(crim)\n",
       "1 5.759387  "
      ]
     },
     "metadata": {},
     "output_type": "display_data"
    }
   ],
   "source": [
    "library(dplyr)\n",
    "\n",
    "library(mlbench)\n",
    "data(BostonHousing)\n",
    "\n",
    "data <- BostonHousing\n",
    "str(data)\n",
    "dim(data)\n",
    "\n",
    "# crim 항목의 상위에서 10번째 값으로 상위 10개 값을 변환\n",
    "\n",
    "summary(data$crim)\n",
    "\n",
    "# 상위 10개값 추출\n",
    "top10 <- data %>% \n",
    "    select(crim) %>%\n",
    "    arrange(desc(crim)) %>%\n",
    "    head(10)\n",
    "\n",
    "data %>% \n",
    "    select(crim) %>%\n",
    "    arrange(desc(crim)) %>%\n",
    "    head(10)\n",
    "\n",
    "# 10번째 값만 가져옴\n",
    "top10[10,1]\n",
    "\n",
    "# 상위 레코드 10개에 대해서만 해당 10번째 값으로 변환\n",
    "data$crim <- ifelse(data$crim > top10[10,1], top10[10,1], data$crim)\n",
    "\n",
    "data %>% \n",
    "    select(crim) %>%\n",
    "    arrange(desc(crim)) %>%\n",
    "    head(20)\n",
    "\n",
    "# age 80 이상인 값에 대한 crim평균 계산\n",
    "data %>%\n",
    "    filter(age >= 80) %>%\n",
    "    select(crim) %>%\n",
    "    summarise(mean(crim))\n",
    "\n"
   ]
  },
  {
   "cell_type": "code",
   "execution_count": 56,
   "id": "68f4c402",
   "metadata": {},
   "outputs": [
    {
     "name": "stdout",
     "output_type": "stream",
     "text": [
      "'data.frame':\t20640 obs. of  10 variables:\n",
      " $ longitude         : num  -122 -122 -122 -122 -122 ...\n",
      " $ latitude          : num  37.9 37.9 37.9 37.9 37.9 ...\n",
      " $ housing_median_age: num  41 21 52 52 52 52 52 52 42 52 ...\n",
      " $ total_rooms       : num  880 7099 1467 1274 1627 ...\n",
      " $ total_bedrooms    : num  129 1106 190 235 280 ...\n",
      " $ population        : num  322 2401 496 558 565 ...\n",
      " $ households        : num  126 1138 177 219 259 ...\n",
      " $ median_income     : num  8.33 8.3 7.26 5.64 3.85 ...\n",
      " $ median_house_value: num  452600 358500 352100 341300 342200 ...\n",
      " $ ocean_proximity   : Factor w/ 5 levels \"<1H OCEAN\",\"INLAND\",..: 4 4 4 4 4 4 4 4 4 4 ...\n",
      "'data.frame':\t20639 obs. of  10 variables:\n",
      " $ longitude         : num  -122 -122 -122 -122 -122 ...\n",
      " $ latitude          : num  37.9 37.9 37.9 37.9 37.9 ...\n",
      " $ housing_median_age: num  41 21 52 52 52 52 52 52 52 52 ...\n",
      " $ total_rooms       : num  880 7099 1467 1274 1274 ...\n",
      " $ total_bedrooms    : num  129 1106 190 235 235 ...\n",
      " $ population        : num  322 2401 496 558 558 ...\n",
      " $ households        : num  126 1138 177 219 219 ...\n",
      " $ median_income     : num  8.33 8.3 7.26 5.64 5.64 ...\n",
      " $ median_house_value: num  452600 358500 352100 341300 341300 ...\n",
      " $ ocean_proximity   : Factor w/ 5 levels \"<1H OCEAN\",\"INLAND\",..: 4 4 4 4 4 4 4 4 4 4 ...\n"
     ]
    },
    {
     "data": {
      "text/html": [
       "196"
      ],
      "text/latex": [
       "196"
      ],
      "text/markdown": [
       "196"
      ],
      "text/plain": [
       "[1] 196"
      ]
     },
     "metadata": {},
     "output_type": "display_data"
    },
    {
     "data": {
      "text/html": [
       "196"
      ],
      "text/latex": [
       "196"
      ],
      "text/markdown": [
       "196"
      ],
      "text/plain": [
       "[1] 196"
      ]
     },
     "metadata": {},
     "output_type": "display_data"
    }
   ],
   "source": [
    "library(dplyr)\n",
    "\n",
    "data <- read.csv('./data/housing.csv')\n",
    "\n",
    "str(data)\n",
    "\n",
    "# 주어진 데이터를 그대로 80%를 훈련데이터로 추출\n",
    "\n",
    "data.train <- data[1:20640*0.8,]\n",
    "\n",
    "str(data.train)\n",
    "\n",
    "\n",
    "sum(is.na(data.train$total_bedrooms))\n",
    "\n",
    "data.train$total_bedrooms_replaced <- ifelse(is.na(data.train$total_bedrooms), median(data.train$total_bedrooms), data.train$total_bedrooms)\n",
    "\n",
    "sum(is.na(data.train$total_bedrooms_replaced))\n",
    "\n"
   ]
  },
  {
   "cell_type": "code",
   "execution_count": 66,
   "id": "9a28cfc9",
   "metadata": {},
   "outputs": [
    {
     "name": "stdout",
     "output_type": "stream",
     "text": [
      "'data.frame':\t1338 obs. of  7 variables:\n",
      " $ age     : int  19 18 28 33 32 31 46 37 37 60 ...\n",
      " $ sex     : Factor w/ 2 levels \"female\",\"male\": 1 2 2 2 2 1 1 1 2 1 ...\n",
      " $ bmi     : num  27.9 33.8 33 22.7 28.9 ...\n",
      " $ children: int  0 1 3 0 0 0 1 3 2 0 ...\n",
      " $ smoker  : Factor w/ 2 levels \"no\",\"yes\": 2 1 1 1 1 1 1 1 1 1 ...\n",
      " $ region  : Factor w/ 4 levels \"northeast\",\"northwest\",..: 4 3 3 2 2 3 3 2 1 2 ...\n",
      " $ charges : num  16885 1726 4449 21984 3867 ...\n"
     ]
    },
    {
     "data": {
      "text/plain": [
       "      age            sex           bmi           children     smoker    \n",
       " Min.   :18.00   female:662   Min.   :15.96   Min.   :0.000   no :1064  \n",
       " 1st Qu.:27.00   male  :676   1st Qu.:26.30   1st Qu.:0.000   yes: 274  \n",
       " Median :39.00                Median :30.40   Median :1.000             \n",
       " Mean   :39.21                Mean   :30.66   Mean   :1.095             \n",
       " 3rd Qu.:51.00                3rd Qu.:34.69   3rd Qu.:2.000             \n",
       " Max.   :64.00                Max.   :53.13   Max.   :5.000             \n",
       "       region       charges     \n",
       " northeast:324   Min.   : 1122  \n",
       " northwest:325   1st Qu.: 4740  \n",
       " southeast:364   Median : 9382  \n",
       " southwest:325   Mean   :13270  \n",
       "                 3rd Qu.:16640  \n",
       "                 Max.   :63770  "
      ]
     },
     "metadata": {},
     "output_type": "display_data"
    },
    {
     "data": {
      "text/html": [
       "6421430.02067"
      ],
      "text/latex": [
       "6421430.02067"
      ],
      "text/markdown": [
       "6421430.02067"
      ],
      "text/plain": [
       "[1] 6421430"
      ]
     },
     "metadata": {},
     "output_type": "display_data"
    }
   ],
   "source": [
    "library(dplyr)\n",
    "\n",
    "data <- read.csv('./data/insurance.csv')\n",
    "\n",
    "str(data)\n",
    "\n",
    "summary(data)\n",
    "\n",
    "ch.mean <- mean(data$charges)\n",
    "ch.sd <- sd(data$charges)\n",
    "ch.iqr <- IQR(data$charges)\n",
    "\n",
    "\n",
    "sum(data$charges[data$charges >= ch.mean + 1.5 * ch.sd])\n",
    "\n",
    "\n"
   ]
  },
  {
   "cell_type": "code",
   "execution_count": 74,
   "id": "73ead00c",
   "metadata": {},
   "outputs": [
    {
     "name": "stderr",
     "output_type": "stream",
     "text": [
      "Loading required package: lattice\n",
      "\n",
      "Loading required package: ggplot2\n",
      "\n"
     ]
    },
    {
     "ename": "ERROR",
     "evalue": "Error: package or namespace load failed for 'caret' in loadNamespace(i, c(lib.loc, .libPaths()), versionCheck = vI[[i]]):\n there is no package called 'recipes'\n",
     "output_type": "error",
     "traceback": [
      "Error: package or namespace load failed for 'caret' in loadNamespace(i, c(lib.loc, .libPaths()), versionCheck = vI[[i]]):\n there is no package called 'recipes'\nTraceback:\n",
      "1. library(caret)",
      "2. tryCatch({\n .     attr(package, \"LibPath\") <- which.lib.loc\n .     ns <- loadNamespace(package, lib.loc)\n .     env <- attachNamespace(ns, pos = pos, deps, exclude, include.only)\n . }, error = function(e) {\n .     P <- if (!is.null(cc <- conditionCall(e))) \n .         paste(\" in\", deparse(cc)[1L])\n .     else \"\"\n .     msg <- gettextf(\"package or namespace load failed for %s%s:\\n %s\", \n .         sQuote(package), P, conditionMessage(e))\n .     if (logical.return) \n .         message(paste(\"Error:\", msg), domain = NA)\n .     else stop(msg, call. = FALSE, domain = NA)\n . })",
      "3. tryCatchList(expr, classes, parentenv, handlers)",
      "4. tryCatchOne(expr, names, parentenv, handlers[[1L]])",
      "5. value[[3L]](cond)",
      "6. stop(msg, call. = FALSE, domain = NA)"
     ]
    }
   ],
   "source": [
    "library(dplyr)\n",
    "library(caret)\n",
    "# library(ModelMetrics)\n",
    "\n",
    "data <- read.csv(file = './data/Train.csv')\n",
    "\n",
    "summary(data)\n",
    "\n",
    "\n",
    "\n",
    "\n"
   ]
  }
 ],
 "metadata": {
  "kernelspec": {
   "display_name": "R",
   "language": "R",
   "name": "ir"
  },
  "language_info": {
   "codemirror_mode": "r",
   "file_extension": ".r",
   "mimetype": "text/x-r-source",
   "name": "R",
   "pygments_lexer": "r",
   "version": "3.6.3"
  }
 },
 "nbformat": 4,
 "nbformat_minor": 5
}
