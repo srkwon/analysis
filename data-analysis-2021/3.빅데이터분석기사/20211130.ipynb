{
 "cells": [
  {
   "cell_type": "code",
   "execution_count": 88,
   "id": "a10dbdeb",
   "metadata": {},
   "outputs": [
    {
     "name": "stdout",
     "output_type": "stream",
     "text": [
      "'data.frame':\t400 obs. of  11 variables:\n",
      " $ Sales      : num  9.5 11.22 10.06 7.4 4.15 ...\n",
      " $ CompPrice  : num  138 111 113 117 141 124 115 136 132 132 ...\n",
      " $ Income     : num  73 48 35 100 64 113 105 81 110 113 ...\n",
      " $ Advertising: num  11 16 10 4 3 13 0 15 0 0 ...\n",
      " $ Population : num  276 260 269 466 340 501 45 425 108 131 ...\n",
      " $ Price      : num  120 83 80 97 128 72 108 120 124 124 ...\n",
      " $ ShelveLoc  : Factor w/ 3 levels \"Bad\",\"Good\",\"Medium\": 1 2 3 3 1 1 3 2 3 3 ...\n",
      " $ Age        : num  42 65 59 55 38 78 71 67 76 76 ...\n",
      " $ Education  : num  17 10 12 14 13 16 15 10 10 17 ...\n",
      " $ Urban      : Factor w/ 2 levels \"No\",\"Yes\": 2 2 2 2 2 1 2 2 1 1 ...\n",
      " $ US         : Factor w/ 2 levels \"No\",\"Yes\": 2 2 2 2 1 2 1 2 1 2 ...\n"
     ]
    },
    {
     "data": {
      "text/plain": [
       "     Sales          CompPrice       Income        Advertising    \n",
       " Min.   : 0.000   Min.   : 77   Min.   : 21.00   Min.   : 0.000  \n",
       " 1st Qu.: 5.390   1st Qu.:115   1st Qu.: 42.75   1st Qu.: 0.000  \n",
       " Median : 7.490   Median :125   Median : 69.00   Median : 5.000  \n",
       " Mean   : 7.496   Mean   :125   Mean   : 68.66   Mean   : 6.635  \n",
       " 3rd Qu.: 9.320   3rd Qu.:135   3rd Qu.: 91.00   3rd Qu.:12.000  \n",
       " Max.   :16.270   Max.   :175   Max.   :120.00   Max.   :29.000  \n",
       "   Population        Price        ShelveLoc        Age          Education   \n",
       " Min.   : 10.0   Min.   : 24.0   Bad   : 96   Min.   :25.00   Min.   :10.0  \n",
       " 1st Qu.:139.0   1st Qu.:100.0   Good  : 85   1st Qu.:39.75   1st Qu.:12.0  \n",
       " Median :272.0   Median :117.0   Medium:219   Median :54.50   Median :14.0  \n",
       " Mean   :264.8   Mean   :115.8                Mean   :53.32   Mean   :13.9  \n",
       " 3rd Qu.:398.5   3rd Qu.:131.0                3rd Qu.:66.00   3rd Qu.:16.0  \n",
       " Max.   :509.0   Max.   :191.0                Max.   :80.00   Max.   :18.0  \n",
       " Urban       US     \n",
       " No :118   No :142  \n",
       " Yes:282   Yes:258  \n",
       "                    \n",
       "                    \n",
       "                    \n",
       "                    "
      ]
     },
     "metadata": {},
     "output_type": "display_data"
    },
    {
     "name": "stdout",
     "output_type": "stream",
     "text": [
      "[1] 16.05213\n"
     ]
    }
   ],
   "source": [
    "library(ISLR)\n",
    "library(dplyr)\n",
    "\n",
    "data <- Carseats\n",
    "\n",
    "str(data)\n",
    "\n",
    "summary(data)\n",
    "\n",
    "sales.mean <- mean(data$Sales)\n",
    "sales.sd <- sd(data$Sales)\n",
    "\n",
    "data.filtered <- data %>%\n",
    "    filter(Sales > sales.mean - 1.5 * sales.sd & Sales < sales.mean + 1.5 * sales.sd)\n",
    "\n",
    "print(sd(data.filtered$Age))\n",
    "\n"
   ]
  },
  {
   "cell_type": "code",
   "execution_count": 22,
   "id": "c75429b6",
   "metadata": {},
   "outputs": [
    {
     "name": "stdout",
     "output_type": "stream",
     "text": [
      "[1] -0.0129819\n"
     ]
    }
   ],
   "source": [
    "library(MASS)\n",
    "library(dplyr)\n",
    "\n",
    "data <- Cars93\n",
    "# str(data)\n",
    "# summary(data)\n",
    "\n",
    "data$Luggage.room.converted <- ifelse(is.na(data$Luggage.room), median(data$Luggage.room, na.rm = TRUE), data$Luggage.room)\n",
    "\n",
    "mean.diff <- mean(data$Luggage.room, na.rm = TRUE) - mean(data$Luggage.room.converted)\n",
    "\n",
    "print(mean.diff)\n",
    "\n"
   ]
  },
  {
   "cell_type": "code",
   "execution_count": 32,
   "id": "d89fb318",
   "metadata": {},
   "outputs": [
    {
     "name": "stdout",
     "output_type": "stream",
     "text": [
      "'data.frame':\t1089 obs. of  5 variables:\n",
      " $ date     : chr  \"2020-03-02\" \"2020-03-02\" \"2020-03-02\" \"2020-03-02\" ...\n",
      " $ time     : int  0 0 0 0 0 0 0 0 0 0 ...\n",
      " $ age      : chr  \"0s\" \"10s\" \"20s\" \"30s\" ...\n",
      " $ confirmed: int  32 169 1235 506 633 834 530 192 81 34 ...\n",
      " $ deceased : int  0 0 0 1 1 5 6 6 3 0 ...\n"
     ]
    },
    {
     "data": {
      "text/plain": [
       "     date                time       age              confirmed   \n",
       " Length:1089        Min.   :0   Length:1089        Min.   :  32  \n",
       " Class :character   1st Qu.:0   Class :character   1st Qu.: 530  \n",
       " Mode  :character   Median :0   Mode  :character   Median :1052  \n",
       "                    Mean   :0                      Mean   :1158  \n",
       "                    3rd Qu.:0                      3rd Qu.:1537  \n",
       "                    Max.   :0                      Max.   :3362  \n",
       "    deceased     \n",
       " Min.   :  0.00  \n",
       " 1st Qu.:  0.00  \n",
       " Median :  3.00  \n",
       " Mean   : 23.42  \n",
       " 3rd Qu.: 35.00  \n",
       " Max.   :139.00  "
      ]
     },
     "metadata": {},
     "output_type": "display_data"
    },
    {
     "data": {
      "text/plain": [
       "\n",
       " 0s 10s 20s 30s 40s 50s 60s 70s 80s \n",
       "121 121 121 121 121 121 121 121 121 "
      ]
     },
     "metadata": {},
     "output_type": "display_data"
    },
    {
     "name": "stdout",
     "output_type": "stream",
     "text": [
      "[1] -12.70248\n"
     ]
    }
   ],
   "source": [
    "library(dplyr)\n",
    "\n",
    "data <- read.csv('./data/TimeAge.csv')\n",
    "\n",
    "str(data)\n",
    "summary(data)\n",
    "\n",
    "table(data$age)\n",
    "\n",
    "data.20 <- data %>%\n",
    "    filter(age == \"20s\")\n",
    "\n",
    "data.50 <- data %>%\n",
    "    filter(age == \"50s\")\n",
    "\n",
    "print(mean(data.20$deceased) - mean(data.50$deceased))"
   ]
  },
  {
   "cell_type": "code",
   "execution_count": 83,
   "id": "bce22e67",
   "metadata": {},
   "outputs": [
    {
     "name": "stdout",
     "output_type": "stream",
     "text": [
      "'data.frame':\t500 obs. of  11 variables:\n",
      " $ Loan_ID       : Factor w/ 500 levels \"xqd12160159\",..: 472 474 5 6 7 470 8 9 471 10 ...\n",
      " $ loan_status   : Factor w/ 3 levels \"COLLECTION\",\"COLLECTION_PAIDOFF\",..: 3 3 3 3 3 3 3 3 3 3 ...\n",
      " $ Principal     : int  1000 1000 1000 1000 1000 300 1000 1000 1000 800 ...\n",
      " $ terms         : int  30 30 30 15 30 7 30 30 30 15 ...\n",
      " $ effective_date: Factor w/ 7 levels \"9/10/2016\",\"9/11/2016\",..: 6 6 6 6 7 7 7 7 7 1 ...\n",
      " $ due_date      : Factor w/ 25 levels \"10/10/2016\",\"10/11/2016\",..: 7 7 7 19 8 14 8 8 8 21 ...\n",
      " $ paid_off_time : Factor w/ 321 levels \"\",\"10/1/2016 10:18\",..: 171 101 254 211 223 321 99 87 108 234 ...\n",
      " $ past_due_days : int  NA NA NA NA NA NA NA NA NA NA ...\n",
      " $ age           : int  45 50 33 27 28 35 29 36 28 26 ...\n",
      " $ education     : Factor w/ 4 levels \"Bechalor\",\"college\",..: 3 1 1 2 2 4 2 2 2 2 ...\n",
      " $ Gender        : Factor w/ 2 levels \"female\",\"male\": 2 1 1 2 1 2 2 2 2 2 ...\n"
     ]
    },
    {
     "data": {
      "text/plain": [
       "        Loan_ID                loan_status    Principal          terms      \n",
       " xqd12160159:  1   COLLECTION        :100   Min.   : 300.0   Min.   : 7.00  \n",
       " xqd20110409:  1   COLLECTION_PAIDOFF:100   1st Qu.:1000.0   1st Qu.:15.00  \n",
       " xqd20125284:  1   PAIDOFF           :300   Median :1000.0   Median :30.00  \n",
       " xqd20151038:  1                            Mean   : 943.2   Mean   :22.82  \n",
       " xqd20160003:  1                            3rd Qu.:1000.0   3rd Qu.:30.00  \n",
       " xqd20160004:  1                            Max.   :1000.0   Max.   :30.00  \n",
       " (Other)    :494                                                            \n",
       "   effective_date       due_date            paid_off_time past_due_days  \n",
       " 9/10/2016: 46    10/10/2016:123                   :100   Min.   : 1.00  \n",
       " 9/11/2016:231    9/25/2016 : 87   9/25/2016 9:00  :  9   1st Qu.: 3.00  \n",
       " 9/12/2016:148    10/11/2016: 69   9/26/2016 9:00  :  9   Median :37.00  \n",
       " 9/13/2016: 23    9/26/2016 : 60   10/10/2016 9:00 :  8   Mean   :36.01  \n",
       " 9/14/2016: 33    10/9/2016 : 28   10/13/2016 9:00 :  6   3rd Qu.:60.00  \n",
       " 9/8/2016 :  4    10/13/2016: 21   10/11/2016 16:00:  5   Max.   :76.00  \n",
       " 9/9/2016 : 15    (Other)   :112   (Other)         :363   NA's   :300    \n",
       "      age                       education      Gender   \n",
       " Min.   :18.00   Bechalor            : 67   female: 77  \n",
       " 1st Qu.:27.00   college             :220   male  :423  \n",
       " Median :30.00   High School or Below:209               \n",
       " Mean   :31.12   Master or Above     :  4               \n",
       " 3rd Qu.:35.00                                          \n",
       " Max.   :51.00                                          \n",
       "                                                        "
      ]
     },
     "metadata": {},
     "output_type": "display_data"
    },
    {
     "data": {
      "text/plain": [
       "\n",
       "        COLLECTION COLLECTION_PAIDOFF            PAIDOFF \n",
       "               100                100                300 "
      ]
     },
     "metadata": {},
     "output_type": "display_data"
    },
    {
     "data": {
      "text/plain": [
       "        Loan_ID                loan_status    Principal          terms      \n",
       " xqd12160159:  1   COLLECTION        :100   Min.   : 300.0   Min.   : 7.00  \n",
       " xqd20110409:  1   COLLECTION_PAIDOFF:100   1st Qu.:1000.0   1st Qu.:15.00  \n",
       " xqd20125284:  1   PAIDOFF           :300   Median :1000.0   Median :30.00  \n",
       " xqd20151038:  1                            Mean   : 943.2   Mean   :22.82  \n",
       " xqd20160003:  1                            3rd Qu.:1000.0   3rd Qu.:30.00  \n",
       " xqd20160004:  1                            Max.   :1000.0   Max.   :30.00  \n",
       " (Other)    :494                                                            \n",
       "   effective_date       due_date            paid_off_time past_due_days \n",
       " 9/10/2016: 46    10/10/2016:123                   :100   Min.   : 1.0  \n",
       " 9/11/2016:231    9/25/2016 : 87   9/25/2016 9:00  :  9   1st Qu.:37.0  \n",
       " 9/12/2016:148    10/11/2016: 69   9/26/2016 9:00  :  9   Median :37.0  \n",
       " 9/13/2016: 23    9/26/2016 : 60   10/10/2016 9:00 :  8   Mean   :36.6  \n",
       " 9/14/2016: 33    10/9/2016 : 28   10/13/2016 9:00 :  6   3rd Qu.:37.0  \n",
       " 9/8/2016 :  4    10/13/2016: 21   10/11/2016 16:00:  5   Max.   :76.0  \n",
       " 9/9/2016 : 15    (Other)   :112   (Other)         :363                 \n",
       "      age                       education      Gender   \n",
       " Min.   :18.00   Bechalor            : 67   female: 77  \n",
       " 1st Qu.:27.00   college             :220   male  :423  \n",
       " Median :30.00   High School or Below:209               \n",
       " Mean   :31.12   Master or Above     :  4               \n",
       " 3rd Qu.:35.00                                          \n",
       " Max.   :51.00                                          \n",
       "                                                        "
      ]
     },
     "metadata": {},
     "output_type": "display_data"
    },
    {
     "data": {
      "text/html": [
       "350"
      ],
      "text/latex": [
       "350"
      ],
      "text/markdown": [
       "350"
      ],
      "text/plain": [
       "[1] 350"
      ]
     },
     "metadata": {},
     "output_type": "display_data"
    },
    {
     "data": {
      "text/html": [
       "150"
      ],
      "text/latex": [
       "150"
      ],
      "text/markdown": [
       "150"
      ],
      "text/plain": [
       "[1] 150"
      ]
     },
     "metadata": {},
     "output_type": "display_data"
    },
    {
     "data": {
      "text/html": [
       "150"
      ],
      "text/latex": [
       "150"
      ],
      "text/markdown": [
       "150"
      ],
      "text/plain": [
       "[1] 150"
      ]
     },
     "metadata": {},
     "output_type": "display_data"
    },
    {
     "data": {
      "text/html": [
       "150"
      ],
      "text/latex": [
       "150"
      ],
      "text/markdown": [
       "150"
      ],
      "text/plain": [
       "[1] 150"
      ]
     },
     "metadata": {},
     "output_type": "display_data"
    },
    {
     "data": {
      "text/plain": [
       "Confusion Matrix and Statistics\n",
       "\n",
       "                    Reference\n",
       "Prediction           COLLECTION COLLECTION_PAIDOFF PAIDOFF\n",
       "  COLLECTION                  0                  0       0\n",
       "  COLLECTION_PAIDOFF          0                  0       0\n",
       "  PAIDOFF                    30                 30      90\n",
       "\n",
       "Overall Statistics\n",
       "                                         \n",
       "               Accuracy : 0.6            \n",
       "                 95% CI : (0.5169, 0.679)\n",
       "    No Information Rate : 0.6            \n",
       "    P-Value [Acc > NIR] : 0.5354         \n",
       "                                         \n",
       "                  Kappa : 0              \n",
       "                                         \n",
       " Mcnemar's Test P-Value : NA             \n",
       "\n",
       "Statistics by Class:\n",
       "\n",
       "                     Class: COLLECTION Class: COLLECTION_PAIDOFF Class: PAIDOFF\n",
       "Sensitivity                        0.0                       0.0            1.0\n",
       "Specificity                        1.0                       1.0            0.0\n",
       "Pos Pred Value                     NaN                       NaN            0.6\n",
       "Neg Pred Value                     0.8                       0.8            NaN\n",
       "Prevalence                         0.2                       0.2            0.6\n",
       "Detection Rate                     0.0                       0.0            0.6\n",
       "Detection Prevalence               0.0                       0.0            1.0\n",
       "Balanced Accuracy                  0.5                       0.5            0.5"
      ]
     },
     "metadata": {},
     "output_type": "display_data"
    }
   ],
   "source": [
    "library(dplyr)\n",
    "library(caret)\n",
    "library(e1071)\n",
    "\n",
    "data <- read.csv('./data/Loan payments data.csv', stringsAsFactors = TRUE)\n",
    "\n",
    "str(data)\n",
    "summary(data)\n",
    "\n",
    "table(data$loan_status)\n",
    "\n",
    "# 데이터 전처리\n",
    "\n",
    "data$past_due_days = ifelse(is.na(data$past_due_days), median(data$past_due_days, na.rm = TRUE), data$past_due_days)\n",
    "\n",
    "summary(data)\n",
    "\n",
    "part <- createDataPartition(data$loan_status, p = 0.7)\n",
    "\n",
    "data.train <- data[part$Resample1, ]\n",
    "data.test <- data[-part$Resample1, ]\n",
    "\n",
    "nrow(data.train);nrow(data.test)\n",
    "\n",
    "# svm\n",
    "\n",
    "# help(svm)\n",
    "model.svm <- svm(\n",
    "    formula = loan_status ~ .\n",
    "    , data = data.train\n",
    "    , type = \"C-classification\"\n",
    ")\n",
    "\n",
    "model.svm.pred <- predict(\n",
    "    model.svm\n",
    "    , newdata = data.test\n",
    ")\n",
    "\n",
    "length(model.svm.pred)\n",
    "length(data.test$loan_status)\n",
    "\n",
    "confusionMatrix(\n",
    "    data = model.svm.pred\n",
    "    , reference = factor(data.test$loan_status)\n",
    ")\n",
    "\n",
    "# 정확도 0.6\n",
    "\n",
    "write.csv(model.svm.pred, './data/20211130.csv', row.names = FALSE)\n"
   ]
  }
 ],
 "metadata": {
  "kernelspec": {
   "display_name": "R",
   "language": "R",
   "name": "ir"
  },
  "language_info": {
   "codemirror_mode": "r",
   "file_extension": ".r",
   "mimetype": "text/x-r-source",
   "name": "R",
   "pygments_lexer": "r",
   "version": "4.0.1"
  }
 },
 "nbformat": 4,
 "nbformat_minor": 5
}
