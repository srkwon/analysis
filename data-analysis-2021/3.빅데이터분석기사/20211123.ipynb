{
 "cells": [
  {
   "cell_type": "code",
   "execution_count": 1,
   "id": "03c0a81d",
   "metadata": {},
   "outputs": [
    {
     "data": {
      "text/html": [
       "11"
      ],
      "text/latex": [
       "11"
      ],
      "text/markdown": [
       "11"
      ],
      "text/plain": [
       "[1] 11"
      ]
     },
     "metadata": {},
     "output_type": "display_data"
    },
    {
     "data": {
      "text/html": [
       "3"
      ],
      "text/latex": [
       "3"
      ],
      "text/markdown": [
       "3"
      ],
      "text/plain": [
       "[1] 3"
      ]
     },
     "metadata": {},
     "output_type": "display_data"
    },
    {
     "data": {
      "text/html": [
       "1.75"
      ],
      "text/latex": [
       "1.75"
      ],
      "text/markdown": [
       "1.75"
      ],
      "text/plain": [
       "[1] 1.75"
      ]
     },
     "metadata": {},
     "output_type": "display_data"
    },
    {
     "data": {
      "text/html": [
       "28"
      ],
      "text/latex": [
       "28"
      ],
      "text/markdown": [
       "28"
      ],
      "text/plain": [
       "[1] 28"
      ]
     },
     "metadata": {},
     "output_type": "display_data"
    },
    {
     "data": {
      "text/html": [
       "&lt;NA&gt;"
      ],
      "text/latex": [
       "<NA>"
      ],
      "text/markdown": [
       "&lt;NA&gt;"
      ],
      "text/plain": [
       "[1] NA"
      ]
     },
     "metadata": {},
     "output_type": "display_data"
    },
    {
     "data": {
      "text/html": [
       "2"
      ],
      "text/latex": [
       "2"
      ],
      "text/markdown": [
       "2"
      ],
      "text/plain": [
       "[1] 2"
      ]
     },
     "metadata": {},
     "output_type": "display_data"
    },
    {
     "data": {
      "text/html": [
       "1"
      ],
      "text/latex": [
       "1"
      ],
      "text/markdown": [
       "1"
      ],
      "text/plain": [
       "[1] 1"
      ]
     },
     "metadata": {},
     "output_type": "display_data"
    },
    {
     "data": {
      "text/html": [
       "1024"
      ],
      "text/latex": [
       "1024"
      ],
      "text/markdown": [
       "1024"
      ],
      "text/plain": [
       "[1] 1024"
      ]
     },
     "metadata": {},
     "output_type": "display_data"
    },
    {
     "data": {
      "text/html": [
       "1024"
      ],
      "text/latex": [
       "1024"
      ],
      "text/markdown": [
       "1024"
      ],
      "text/plain": [
       "[1] 1024"
      ]
     },
     "metadata": {},
     "output_type": "display_data"
    },
    {
     "data": {
      "text/html": [
       "FALSE"
      ],
      "text/latex": [
       "FALSE"
      ],
      "text/markdown": [
       "FALSE"
      ],
      "text/plain": [
       "[1] FALSE"
      ]
     },
     "metadata": {},
     "output_type": "display_data"
    },
    {
     "data": {
      "text/html": [
       "TRUE"
      ],
      "text/latex": [
       "TRUE"
      ],
      "text/markdown": [
       "TRUE"
      ],
      "text/plain": [
       "[1] TRUE"
      ]
     },
     "metadata": {},
     "output_type": "display_data"
    },
    {
     "data": {
      "text/html": [
       "TRUE"
      ],
      "text/latex": [
       "TRUE"
      ],
      "text/markdown": [
       "TRUE"
      ],
      "text/plain": [
       "[1] TRUE"
      ]
     },
     "metadata": {},
     "output_type": "display_data"
    },
    {
     "data": {
      "text/html": [
       "TRUE"
      ],
      "text/latex": [
       "TRUE"
      ],
      "text/markdown": [
       "TRUE"
      ],
      "text/plain": [
       "[1] TRUE"
      ]
     },
     "metadata": {},
     "output_type": "display_data"
    },
    {
     "data": {
      "text/html": [
       "TRUE"
      ],
      "text/latex": [
       "TRUE"
      ],
      "text/markdown": [
       "TRUE"
      ],
      "text/plain": [
       "[1] TRUE"
      ]
     },
     "metadata": {},
     "output_type": "display_data"
    },
    {
     "data": {
      "text/html": [
       "FALSE"
      ],
      "text/latex": [
       "FALSE"
      ],
      "text/markdown": [
       "FALSE"
      ],
      "text/plain": [
       "[1] FALSE"
      ]
     },
     "metadata": {},
     "output_type": "display_data"
    },
    {
     "data": {
      "text/html": [
       "FALSE"
      ],
      "text/latex": [
       "FALSE"
      ],
      "text/markdown": [
       "FALSE"
      ],
      "text/plain": [
       "[1] FALSE"
      ]
     },
     "metadata": {},
     "output_type": "display_data"
    },
    {
     "data": {
      "text/html": [
       "TRUE"
      ],
      "text/latex": [
       "TRUE"
      ],
      "text/markdown": [
       "TRUE"
      ],
      "text/plain": [
       "[1] TRUE"
      ]
     },
     "metadata": {},
     "output_type": "display_data"
    },
    {
     "data": {
      "text/html": [
       "'numeric'"
      ],
      "text/latex": [
       "'numeric'"
      ],
      "text/markdown": [
       "'numeric'"
      ],
      "text/plain": [
       "[1] \"numeric\""
      ]
     },
     "metadata": {},
     "output_type": "display_data"
    },
    {
     "data": {
      "text/html": [
       "'character'"
      ],
      "text/latex": [
       "'character'"
      ],
      "text/markdown": [
       "'character'"
      ],
      "text/plain": [
       "[1] \"character\""
      ]
     },
     "metadata": {},
     "output_type": "display_data"
    },
    {
     "data": {
      "text/html": [
       "'character'"
      ],
      "text/latex": [
       "'character'"
      ],
      "text/markdown": [
       "'character'"
      ],
      "text/plain": [
       "[1] \"character\""
      ]
     },
     "metadata": {},
     "output_type": "display_data"
    },
    {
     "data": {
      "text/html": [
       "'logical'"
      ],
      "text/latex": [
       "'logical'"
      ],
      "text/markdown": [
       "'logical'"
      ],
      "text/plain": [
       "[1] \"logical\""
      ]
     },
     "metadata": {},
     "output_type": "display_data"
    },
    {
     "data": {
      "text/html": [
       "'double'"
      ],
      "text/latex": [
       "'double'"
      ],
      "text/markdown": [
       "'double'"
      ],
      "text/plain": [
       "[1] \"double\""
      ]
     },
     "metadata": {},
     "output_type": "display_data"
    },
    {
     "data": {
      "text/html": [
       "'integer'"
      ],
      "text/latex": [
       "'integer'"
      ],
      "text/markdown": [
       "'integer'"
      ],
      "text/plain": [
       "[1] \"integer\""
      ]
     },
     "metadata": {},
     "output_type": "display_data"
    },
    {
     "data": {
      "text/html": [
       "<style>\n",
       ".list-inline {list-style: none; margin:0; padding: 0}\n",
       ".list-inline>li {display: inline-block}\n",
       ".list-inline>li:not(:last-child)::after {content: \"\\00b7\"; padding: 0 .5ex}\n",
       "</style>\n",
       "<ol class=list-inline><li>1</li><li>2</li><li>3</li><li>4</li></ol>\n"
      ],
      "text/latex": [
       "\\begin{enumerate*}\n",
       "\\item 1\n",
       "\\item 2\n",
       "\\item 3\n",
       "\\item 4\n",
       "\\end{enumerate*}\n"
      ],
      "text/markdown": [
       "1. 1\n",
       "2. 2\n",
       "3. 3\n",
       "4. 4\n",
       "\n",
       "\n"
      ],
      "text/plain": [
       "[1] 1 2 3 4"
      ]
     },
     "metadata": {},
     "output_type": "display_data"
    },
    {
     "data": {
      "text/html": [
       "<style>\n",
       ".list-inline {list-style: none; margin:0; padding: 0}\n",
       ".list-inline>li {display: inline-block}\n",
       ".list-inline>li:not(:last-child)::after {content: \"\\00b7\"; padding: 0 .5ex}\n",
       "</style>\n",
       "<ol class=list-inline><li>1</li><li>2</li><li>3</li><li>4</li></ol>\n"
      ],
      "text/latex": [
       "\\begin{enumerate*}\n",
       "\\item 1\n",
       "\\item 2\n",
       "\\item 3\n",
       "\\item 4\n",
       "\\end{enumerate*}\n"
      ],
      "text/markdown": [
       "1. 1\n",
       "2. 2\n",
       "3. 3\n",
       "4. 4\n",
       "\n",
       "\n"
      ],
      "text/plain": [
       "[1] 1 2 3 4"
      ]
     },
     "metadata": {},
     "output_type": "display_data"
    },
    {
     "data": {
      "text/html": [
       "<style>\n",
       ".list-inline {list-style: none; margin:0; padding: 0}\n",
       ".list-inline>li {display: inline-block}\n",
       ".list-inline>li:not(:last-child)::after {content: \"\\00b7\"; padding: 0 .5ex}\n",
       "</style>\n",
       "<ol class=list-inline><li>1</li><li>1</li><li>1</li><li>1</li><li>1</li><li>1</li><li>1</li><li>1</li><li>1</li><li>1</li></ol>\n"
      ],
      "text/latex": [
       "\\begin{enumerate*}\n",
       "\\item 1\n",
       "\\item 1\n",
       "\\item 1\n",
       "\\item 1\n",
       "\\item 1\n",
       "\\item 1\n",
       "\\item 1\n",
       "\\item 1\n",
       "\\item 1\n",
       "\\item 1\n",
       "\\end{enumerate*}\n"
      ],
      "text/markdown": [
       "1. 1\n",
       "2. 1\n",
       "3. 1\n",
       "4. 1\n",
       "5. 1\n",
       "6. 1\n",
       "7. 1\n",
       "8. 1\n",
       "9. 1\n",
       "10. 1\n",
       "\n",
       "\n"
      ],
      "text/plain": [
       " [1] 1 1 1 1 1 1 1 1 1 1"
      ]
     },
     "metadata": {},
     "output_type": "display_data"
    },
    {
     "data": {
      "text/html": [
       "<style>\n",
       ".list-inline {list-style: none; margin:0; padding: 0}\n",
       ".list-inline>li {display: inline-block}\n",
       ".list-inline>li:not(:last-child)::after {content: \"\\00b7\"; padding: 0 .5ex}\n",
       "</style>\n",
       "<ol class=list-inline><li>1</li><li>3</li><li>5</li><li>7</li><li>9</li></ol>\n"
      ],
      "text/latex": [
       "\\begin{enumerate*}\n",
       "\\item 1\n",
       "\\item 3\n",
       "\\item 5\n",
       "\\item 7\n",
       "\\item 9\n",
       "\\end{enumerate*}\n"
      ],
      "text/markdown": [
       "1. 1\n",
       "2. 3\n",
       "3. 5\n",
       "4. 7\n",
       "5. 9\n",
       "\n",
       "\n"
      ],
      "text/plain": [
       "[1] 1 3 5 7 9"
      ]
     },
     "metadata": {},
     "output_type": "display_data"
    },
    {
     "data": {
      "text/html": [
       "1"
      ],
      "text/latex": [
       "1"
      ],
      "text/markdown": [
       "1"
      ],
      "text/plain": [
       "[1] 1"
      ]
     },
     "metadata": {},
     "output_type": "display_data"
    },
    {
     "data": {
      "text/html": [
       "<style>\n",
       ".list-inline {list-style: none; margin:0; padding: 0}\n",
       ".list-inline>li {display: inline-block}\n",
       ".list-inline>li:not(:last-child)::after {content: \"\\00b7\"; padding: 0 .5ex}\n",
       "</style>\n",
       "<ol class=list-inline><li>2</li><li>3</li><li>4</li><li>5</li><li>6</li><li>7</li><li>8</li><li>9</li><li>10</li></ol>\n"
      ],
      "text/latex": [
       "\\begin{enumerate*}\n",
       "\\item 2\n",
       "\\item 3\n",
       "\\item 4\n",
       "\\item 5\n",
       "\\item 6\n",
       "\\item 7\n",
       "\\item 8\n",
       "\\item 9\n",
       "\\item 10\n",
       "\\end{enumerate*}\n"
      ],
      "text/markdown": [
       "1. 2\n",
       "2. 3\n",
       "3. 4\n",
       "4. 5\n",
       "5. 6\n",
       "6. 7\n",
       "7. 8\n",
       "8. 9\n",
       "9. 10\n",
       "\n",
       "\n"
      ],
      "text/plain": [
       "[1]  2  3  4  5  6  7  8  9 10"
      ]
     },
     "metadata": {},
     "output_type": "display_data"
    },
    {
     "data": {
      "text/html": [
       "<style>\n",
       ".list-inline {list-style: none; margin:0; padding: 0}\n",
       ".list-inline>li {display: inline-block}\n",
       ".list-inline>li:not(:last-child)::after {content: \"\\00b7\"; padding: 0 .5ex}\n",
       "</style>\n",
       "<ol class=list-inline><li>6</li><li>7</li><li>8</li><li>9</li><li>10</li></ol>\n"
      ],
      "text/latex": [
       "\\begin{enumerate*}\n",
       "\\item 6\n",
       "\\item 7\n",
       "\\item 8\n",
       "\\item 9\n",
       "\\item 10\n",
       "\\end{enumerate*}\n"
      ],
      "text/markdown": [
       "1. 6\n",
       "2. 7\n",
       "3. 8\n",
       "4. 9\n",
       "5. 10\n",
       "\n",
       "\n"
      ],
      "text/plain": [
       "[1]  6  7  8  9 10"
      ]
     },
     "metadata": {},
     "output_type": "display_data"
    },
    {
     "data": {
      "text/html": [
       "<style>\n",
       ".list-inline {list-style: none; margin:0; padding: 0}\n",
       ".list-inline>li {display: inline-block}\n",
       ".list-inline>li:not(:last-child)::after {content: \"\\00b7\"; padding: 0 .5ex}\n",
       "</style>\n",
       "<ol class=list-inline><li>1</li><li>2</li><li>3</li><li>4</li><li>5</li><li>6</li><li>7</li><li>8</li><li>9</li><li>10</li></ol>\n"
      ],
      "text/latex": [
       "\\begin{enumerate*}\n",
       "\\item 1\n",
       "\\item 2\n",
       "\\item 3\n",
       "\\item 4\n",
       "\\item 5\n",
       "\\item 6\n",
       "\\item 7\n",
       "\\item 8\n",
       "\\item 9\n",
       "\\item 10\n",
       "\\end{enumerate*}\n"
      ],
      "text/markdown": [
       "1. 1\n",
       "2. 2\n",
       "3. 3\n",
       "4. 4\n",
       "5. 5\n",
       "6. 6\n",
       "7. 7\n",
       "8. 8\n",
       "9. 9\n",
       "10. 10\n",
       "\n",
       "\n"
      ],
      "text/plain": [
       " [1]  1  2  3  4  5  6  7  8  9 10"
      ]
     },
     "metadata": {},
     "output_type": "display_data"
    },
    {
     "data": {
      "text/html": [
       "<style>\n",
       ".list-inline {list-style: none; margin:0; padding: 0}\n",
       ".list-inline>li {display: inline-block}\n",
       ".list-inline>li:not(:last-child)::after {content: \"\\00b7\"; padding: 0 .5ex}\n",
       "</style>\n",
       "<ol class=list-inline><li>6</li><li>7</li><li>8</li><li>9</li><li>10</li></ol>\n"
      ],
      "text/latex": [
       "\\begin{enumerate*}\n",
       "\\item 6\n",
       "\\item 7\n",
       "\\item 8\n",
       "\\item 9\n",
       "\\item 10\n",
       "\\end{enumerate*}\n"
      ],
      "text/markdown": [
       "1. 6\n",
       "2. 7\n",
       "3. 8\n",
       "4. 9\n",
       "5. 10\n",
       "\n",
       "\n"
      ],
      "text/plain": [
       "[1]  6  7  8  9 10"
      ]
     },
     "metadata": {},
     "output_type": "display_data"
    },
    {
     "data": {
      "text/html": [
       "<style>\n",
       ".list-inline {list-style: none; margin:0; padding: 0}\n",
       ".list-inline>li {display: inline-block}\n",
       ".list-inline>li:not(:last-child)::after {content: \"\\00b7\"; padding: 0 .5ex}\n",
       "</style>\n",
       "<ol class=list-inline><li>1</li><li>2</li><li>3</li><li>4</li></ol>\n"
      ],
      "text/latex": [
       "\\begin{enumerate*}\n",
       "\\item 1\n",
       "\\item 2\n",
       "\\item 3\n",
       "\\item 4\n",
       "\\end{enumerate*}\n"
      ],
      "text/markdown": [
       "1. 1\n",
       "2. 2\n",
       "3. 3\n",
       "4. 4\n",
       "\n",
       "\n"
      ],
      "text/plain": [
       "[1] 1 2 3 4"
      ]
     },
     "metadata": {},
     "output_type": "display_data"
    },
    {
     "data": {
      "text/html": [
       "<style>\n",
       ".list-inline {list-style: none; margin:0; padding: 0}\n",
       ".list-inline>li {display: inline-block}\n",
       ".list-inline>li:not(:last-child)::after {content: \"\\00b7\"; padding: 0 .5ex}\n",
       "</style>\n",
       "<ol class=list-inline><li>1</li><li>2</li><li>3</li><li>4</li></ol>\n"
      ],
      "text/latex": [
       "\\begin{enumerate*}\n",
       "\\item 1\n",
       "\\item 2\n",
       "\\item 3\n",
       "\\item 4\n",
       "\\end{enumerate*}\n"
      ],
      "text/markdown": [
       "1. 1\n",
       "2. 2\n",
       "3. 3\n",
       "4. 4\n",
       "\n",
       "\n"
      ],
      "text/plain": [
       "[1] 1 2 3 4"
      ]
     },
     "metadata": {},
     "output_type": "display_data"
    },
    {
     "data": {
      "text/html": [
       "<style>\n",
       ".list-inline {list-style: none; margin:0; padding: 0}\n",
       ".list-inline>li {display: inline-block}\n",
       ".list-inline>li:not(:last-child)::after {content: \"\\00b7\"; padding: 0 .5ex}\n",
       "</style>\n",
       "<ol class=list-inline><li>1</li><li>2</li><li>3</li><li>4</li><li>5</li><li>6</li><li>7</li><li>8</li><li>9</li><li>10</li></ol>\n"
      ],
      "text/latex": [
       "\\begin{enumerate*}\n",
       "\\item 1\n",
       "\\item 2\n",
       "\\item 3\n",
       "\\item 4\n",
       "\\item 5\n",
       "\\item 6\n",
       "\\item 7\n",
       "\\item 8\n",
       "\\item 9\n",
       "\\item 10\n",
       "\\end{enumerate*}\n"
      ],
      "text/markdown": [
       "1. 1\n",
       "2. 2\n",
       "3. 3\n",
       "4. 4\n",
       "5. 5\n",
       "6. 6\n",
       "7. 7\n",
       "8. 8\n",
       "9. 9\n",
       "10. 10\n",
       "\n",
       "\n"
      ],
      "text/plain": [
       " [1]  1  2  3  4  5  6  7  8  9 10"
      ]
     },
     "metadata": {},
     "output_type": "display_data"
    },
    {
     "data": {
      "text/html": [
       "<style>\n",
       ".list-inline {list-style: none; margin:0; padding: 0}\n",
       ".list-inline>li {display: inline-block}\n",
       ".list-inline>li:not(:last-child)::after {content: \"\\00b7\"; padding: 0 .5ex}\n",
       "</style>\n",
       "<ol class=list-inline><li>2</li><li>4</li><li>6</li><li>8</li></ol>\n"
      ],
      "text/latex": [
       "\\begin{enumerate*}\n",
       "\\item 2\n",
       "\\item 4\n",
       "\\item 6\n",
       "\\item 8\n",
       "\\end{enumerate*}\n"
      ],
      "text/markdown": [
       "1. 2\n",
       "2. 4\n",
       "3. 6\n",
       "4. 8\n",
       "\n",
       "\n"
      ],
      "text/plain": [
       "[1] 2 4 6 8"
      ]
     },
     "metadata": {},
     "output_type": "display_data"
    },
    {
     "data": {
      "text/html": [
       "<style>\n",
       ".list-inline {list-style: none; margin:0; padding: 0}\n",
       ".list-inline>li {display: inline-block}\n",
       ".list-inline>li:not(:last-child)::after {content: \"\\00b7\"; padding: 0 .5ex}\n",
       "</style>\n",
       "<ol class=list-inline><li>1</li><li>4</li><li>9</li><li>16</li></ol>\n"
      ],
      "text/latex": [
       "\\begin{enumerate*}\n",
       "\\item 1\n",
       "\\item 4\n",
       "\\item 9\n",
       "\\item 16\n",
       "\\end{enumerate*}\n"
      ],
      "text/markdown": [
       "1. 1\n",
       "2. 4\n",
       "3. 9\n",
       "4. 16\n",
       "\n",
       "\n"
      ],
      "text/plain": [
       "[1]  1  4  9 16"
      ]
     },
     "metadata": {},
     "output_type": "display_data"
    },
    {
     "name": "stderr",
     "output_type": "stream",
     "text": [
      "Warning message in vec1 + vec3:\n",
      "\"두 객체의 길이가 서로 배수관계에 있지 않습니다\"\n"
     ]
    },
    {
     "data": {
      "text/html": [
       "<style>\n",
       ".list-inline {list-style: none; margin:0; padding: 0}\n",
       ".list-inline>li {display: inline-block}\n",
       ".list-inline>li:not(:last-child)::after {content: \"\\00b7\"; padding: 0 .5ex}\n",
       "</style>\n",
       "<ol class=list-inline><li>2</li><li>4</li><li>6</li><li>8</li><li>6</li><li>8</li><li>10</li><li>12</li><li>10</li><li>12</li></ol>\n"
      ],
      "text/latex": [
       "\\begin{enumerate*}\n",
       "\\item 2\n",
       "\\item 4\n",
       "\\item 6\n",
       "\\item 8\n",
       "\\item 6\n",
       "\\item 8\n",
       "\\item 10\n",
       "\\item 12\n",
       "\\item 10\n",
       "\\item 12\n",
       "\\end{enumerate*}\n"
      ],
      "text/markdown": [
       "1. 2\n",
       "2. 4\n",
       "3. 6\n",
       "4. 8\n",
       "5. 6\n",
       "6. 8\n",
       "7. 10\n",
       "8. 12\n",
       "9. 10\n",
       "10. 12\n",
       "\n",
       "\n"
      ],
      "text/plain": [
       " [1]  2  4  6  8  6  8 10 12 10 12"
      ]
     },
     "metadata": {},
     "output_type": "display_data"
    },
    {
     "data": {
      "text/html": [
       "<table class=\"dataframe\">\n",
       "<caption>A data.frame: 3 × 3</caption>\n",
       "<thead>\n",
       "\t<tr><th scope=col>a</th><th scope=col>b</th><th scope=col>c</th></tr>\n",
       "\t<tr><th scope=col>&lt;int&gt;</th><th scope=col>&lt;fct&gt;</th><th scope=col>&lt;lgl&gt;</th></tr>\n",
       "</thead>\n",
       "<tbody>\n",
       "\t<tr><td>1</td><td>aaa</td><td> TRUE</td></tr>\n",
       "\t<tr><td>2</td><td>bbb</td><td>FALSE</td></tr>\n",
       "\t<tr><td>3</td><td>CCC</td><td> TRUE</td></tr>\n",
       "</tbody>\n",
       "</table>\n"
      ],
      "text/latex": [
       "A data.frame: 3 × 3\n",
       "\\begin{tabular}{lll}\n",
       " a & b & c\\\\\n",
       " <int> & <fct> & <lgl>\\\\\n",
       "\\hline\n",
       "\t 1 & aaa &  TRUE\\\\\n",
       "\t 2 & bbb & FALSE\\\\\n",
       "\t 3 & CCC &  TRUE\\\\\n",
       "\\end{tabular}\n"
      ],
      "text/markdown": [
       "\n",
       "A data.frame: 3 × 3\n",
       "\n",
       "| a &lt;int&gt; | b &lt;fct&gt; | c &lt;lgl&gt; |\n",
       "|---|---|---|\n",
       "| 1 | aaa |  TRUE |\n",
       "| 2 | bbb | FALSE |\n",
       "| 3 | CCC |  TRUE |\n",
       "\n"
      ],
      "text/plain": [
       "  a b   c    \n",
       "1 1 aaa  TRUE\n",
       "2 2 bbb FALSE\n",
       "3 3 CCC  TRUE"
      ]
     },
     "metadata": {},
     "output_type": "display_data"
    },
    {
     "name": "stdout",
     "output_type": "stream",
     "text": [
      "'data.frame':\t3 obs. of  3 variables:\n",
      " $ a: int  1 2 3\n",
      " $ b: Factor w/ 3 levels \"aaa\",\"bbb\",\"CCC\": 1 2 3\n",
      " $ c: logi  TRUE FALSE TRUE\n"
     ]
    },
    {
     "data": {
      "text/html": [
       "<style>\n",
       ".list-inline {list-style: none; margin:0; padding: 0}\n",
       ".list-inline>li {display: inline-block}\n",
       ".list-inline>li:not(:last-child)::after {content: \"\\00b7\"; padding: 0 .5ex}\n",
       "</style>\n",
       "<ol class=list-inline><li>1</li><li>2</li><li>3</li></ol>\n"
      ],
      "text/latex": [
       "\\begin{enumerate*}\n",
       "\\item 1\n",
       "\\item 2\n",
       "\\item 3\n",
       "\\end{enumerate*}\n"
      ],
      "text/markdown": [
       "1. 1\n",
       "2. 2\n",
       "3. 3\n",
       "\n",
       "\n"
      ],
      "text/plain": [
       "[1] 1 2 3"
      ]
     },
     "metadata": {},
     "output_type": "display_data"
    },
    {
     "data": {
      "text/html": [
       "<table class=\"dataframe\">\n",
       "<caption>A data.frame: 3 × 2</caption>\n",
       "<thead>\n",
       "\t<tr><th scope=col>b</th><th scope=col>c</th></tr>\n",
       "\t<tr><th scope=col>&lt;fct&gt;</th><th scope=col>&lt;lgl&gt;</th></tr>\n",
       "</thead>\n",
       "<tbody>\n",
       "\t<tr><td>aaa</td><td> TRUE</td></tr>\n",
       "\t<tr><td>bbb</td><td>FALSE</td></tr>\n",
       "\t<tr><td>CCC</td><td> TRUE</td></tr>\n",
       "</tbody>\n",
       "</table>\n"
      ],
      "text/latex": [
       "A data.frame: 3 × 2\n",
       "\\begin{tabular}{ll}\n",
       " b & c\\\\\n",
       " <fct> & <lgl>\\\\\n",
       "\\hline\n",
       "\t aaa &  TRUE\\\\\n",
       "\t bbb & FALSE\\\\\n",
       "\t CCC &  TRUE\\\\\n",
       "\\end{tabular}\n"
      ],
      "text/markdown": [
       "\n",
       "A data.frame: 3 × 2\n",
       "\n",
       "| b &lt;fct&gt; | c &lt;lgl&gt; |\n",
       "|---|---|\n",
       "| aaa |  TRUE |\n",
       "| bbb | FALSE |\n",
       "| CCC |  TRUE |\n",
       "\n"
      ],
      "text/plain": [
       "  b   c    \n",
       "1 aaa  TRUE\n",
       "2 bbb FALSE\n",
       "3 CCC  TRUE"
      ]
     },
     "metadata": {},
     "output_type": "display_data"
    },
    {
     "data": {
      "text/html": [
       "<style>\n",
       ".list-inline {list-style: none; margin:0; padding: 0}\n",
       ".list-inline>li {display: inline-block}\n",
       ".list-inline>li:not(:last-child)::after {content: \"\\00b7\"; padding: 0 .5ex}\n",
       "</style>\n",
       "<ol class=list-inline><li>aaa</li><li>bbb</li><li>ccc</li><li>eee</li><li>aaa</li><li>bbb</li></ol>\n",
       "\n",
       "<details>\n",
       "\t<summary style=display:list-item;cursor:pointer>\n",
       "\t\t<strong>Levels</strong>:\n",
       "\t</summary>\n",
       "\t<style>\n",
       "\t.list-inline {list-style: none; margin:0; padding: 0}\n",
       "\t.list-inline>li {display: inline-block}\n",
       "\t.list-inline>li:not(:last-child)::after {content: \"\\00b7\"; padding: 0 .5ex}\n",
       "\t</style>\n",
       "\t<ol class=list-inline><li>'aaa'</li><li>'bbb'</li><li>'ccc'</li><li>'eee'</li></ol>\n",
       "</details>"
      ],
      "text/latex": [
       "\\begin{enumerate*}\n",
       "\\item aaa\n",
       "\\item bbb\n",
       "\\item ccc\n",
       "\\item eee\n",
       "\\item aaa\n",
       "\\item bbb\n",
       "\\end{enumerate*}\n",
       "\n",
       "\\emph{Levels}: \\begin{enumerate*}\n",
       "\\item 'aaa'\n",
       "\\item 'bbb'\n",
       "\\item 'ccc'\n",
       "\\item 'eee'\n",
       "\\end{enumerate*}\n"
      ],
      "text/markdown": [
       "1. aaa\n",
       "2. bbb\n",
       "3. ccc\n",
       "4. eee\n",
       "5. aaa\n",
       "6. bbb\n",
       "\n",
       "\n",
       "\n",
       "**Levels**: 1. 'aaa'\n",
       "2. 'bbb'\n",
       "3. 'ccc'\n",
       "4. 'eee'\n",
       "\n",
       "\n"
      ],
      "text/plain": [
       "[1] aaa bbb ccc eee aaa bbb\n",
       "Levels: aaa < bbb < ccc < eee"
      ]
     },
     "metadata": {},
     "output_type": "display_data"
    },
    {
     "data": {
      "text/html": [
       "'numeric'"
      ],
      "text/latex": [
       "'numeric'"
      ],
      "text/markdown": [
       "'numeric'"
      ],
      "text/plain": [
       "[1] \"numeric\""
      ]
     },
     "metadata": {},
     "output_type": "display_data"
    }
   ],
   "source": [
    "\n",
    "# 주석은 샾 기호를 하고 입력\n",
    "\n",
    "comment = \"\n",
    "멀티 라인으로 주석을 입력할 수 있는 기능도 제공\n",
    "이렇게 가능\n",
    "\"\n",
    "\n",
    "# 산술 연산자\n",
    "7 + 4\n",
    "7 - 4\n",
    "7 / 4\n",
    "7 * 4\n",
    "NA * 1 # NA는 특별히, 어떤 수를 사칙연산해도 NA가 반환됨\n",
    "\n",
    "# 나눈 나머지\n",
    "7 %% 5 # 7 = 5 * 1 + 2\n",
    "# 몫 계산\n",
    "7 %/% 5 # 7 = 5 * 1 + 2\n",
    "\n",
    "# 거듭제곱\n",
    "2^10 # 1024\n",
    "2**10 # 1024\n",
    "\n",
    "# 논리 연산자\n",
    "7 & 0 # FALSE\n",
    "7 & 7 # TRUE\n",
    "TRUE & TRUE # TRUE\n",
    "TRUE | FALSE # TRUE\n",
    "\n",
    "as.logical(1) # TRUE\n",
    "as.logical(0) # FALSE\n",
    "!1 # FALSE\n",
    "!0 # TRUE\n",
    "\n",
    "# 데이터 타입(numeric, character, logical)\n",
    "mode(1) # numeric\n",
    "mode('aaa') # character\n",
    "mode(\"test\") # character\n",
    "mode(TRUE) # logical\n",
    "\n",
    "# typeof는 숫자형 데이터에 대해서는 integer, double 구분, 나머지는 mode와 동일\n",
    "typeof(1.1) # double\n",
    "typeof(10L) # interger\n",
    "\n",
    "# 객체 종류 => vector, matrix, array, list, data.frame, data.table\n",
    "# 1차원 => vector(단일자료형), list(다중 자료형)\n",
    "# 2차원 => matrix(단일자료형), data.frame(다중자료형)\n",
    "# 3차원 => array(단일 자료형) => 매트릭스 확장형이라고 생각하면 됨\n",
    "\n",
    "# 벡터 생성\n",
    "(vec1 <- c(1,2,3,4))\n",
    "(vec2 <- 1:4)\n",
    "(rep(1, times = 10)) # 1 10번 출력\n",
    "(seq(from = 1, to = 10, by = 2)) # 1부터 10까지 2씩 증가(홀수)\n",
    "\n",
    "# 첫번째 요소 반환(R은 인덱스 시작이 1)\n",
    "(c(1:10)[1])\n",
    "# 첫번째 요소 제외 반환\n",
    "(c(1:10)[-1])\n",
    "# 처음 5개 요소 제외 반환\n",
    "(c(1:10)[-1:-5])\n",
    "\n",
    "(vec1 <- seq(1,10,1))\n",
    "vec1[vec1 > 5] # 5보다 큰 원소값만 추출\n",
    "\n",
    "# 벡터 연산\n",
    "\n",
    "(vec1 <- c(1,2,3,4))\n",
    "(vec2 <- 1:4)\n",
    "(vec3 <- 1:10)\n",
    "\n",
    "# 각 원소별로 합침\n",
    "(vec1 + vec2) # 2, 4, 6, 8\n",
    "# 각 원소별로 곱함\n",
    "(vec1 * vec2) # 1, 4, 9, 16\n",
    "\n",
    "# 길이가 같지 않다는 에러 메시지는 뜨지만, 어쨌든 짧은 원소가 반복해서 적용되어 더해짐\n",
    "(vec1 + vec3)\n",
    "\n",
    "\n",
    "# 데이터 프레임 생성\n",
    "(df1 <- data.frame(a = c(1:3), b = c(\"aaa\", \"bbb\", \"CCC\"), c = c(TRUE, FALSE, TRUE)))\n",
    "str(df1)\n",
    "\n",
    "# 첫번째 열 선택\n",
    "df1[, 1]\n",
    "\n",
    "# 2~3번째 열 선택\n",
    "df1[, 2:3]\n",
    "\n",
    "# 팩터 자료형\n",
    "f1 <- c(\"aaa\", \"bbb\", \"ccc\", \"eee\", \"aaa\", \"bbb\")\n",
    "(f2 <- factor(x = f1, ordered = TRUE)) # 범주형 데이터로 분류됨, 범주형은 명목 척도, 서열척도가 있는데, ordered\n",
    "mode(f2)\n",
    "\n"
   ]
  },
  {
   "cell_type": "code",
   "execution_count": 2,
   "id": "4a911055",
   "metadata": {},
   "outputs": [
    {
     "data": {
      "image/png": "[encoded data removed]",
      "text/plain": [
       "Plot with title \"그래프 메인 제목\""
      ]
     },
     "metadata": {
      "image/png": {
       "height": 420,
       "width": 420
      }
     },
     "output_type": "display_data"
    },
    {
     "data": {
      "image/png": "[encoded data removed]",
      "text/plain": [
       "Plot with title \"그래프 메인 제목222\""
      ]
     },
     "metadata": {
      "image/png": {
       "height": 420,
       "width": 420
      }
     },
     "output_type": "display_data"
    },
    {
     "data": {
      "image/png": "[encoded data removed]",
      "text/plain": [
       "Plot with title \"꺾은선 그래프\""
      ]
     },
     "metadata": {
      "image/png": {
       "height": 420,
       "width": 420
      }
     },
     "output_type": "display_data"
    }
   ],
   "source": [
    "# 시각화 함수\n",
    "# plot -> 산점도, hist -> 히스토그램, barplot -> 막대그래프, pie -> 원그래프, boxplot -> 상자그림\n",
    "\n",
    "plot(\n",
    "    x = c(1,2,3,4,5) # y가 없을 경우 y축 값으로 자동으로 들어감\n",
    "    , y = c(10,20,30,40,50)\n",
    "    , xlab = \"x축 제목\"\n",
    "    , ylab = \"y축 제목\"\n",
    "    , main = \"그래프 메인 제목\"\n",
    ")\n",
    "\n",
    "plot(\n",
    "    x = iris$Petal.Length\n",
    "    , y = iris$Petal.Width\n",
    "    , xlab = \"꽃잎 길이\"\n",
    "    , ylab = \"꽃잎 너비\"\n",
    "    , main = \"그래프 메인 제목222\"\n",
    ")\n",
    "\n",
    "plot(\n",
    "    x = c(1,2,5,6,7,89,12)\n",
    "    , main = \"꺾은선 그래프\"\n",
    "    , type = \"l\"\n",
    ")"
   ]
  },
  {
   "cell_type": "code",
   "execution_count": 3,
   "id": "220509ce",
   "metadata": {},
   "outputs": [
    {
     "data": {
      "image/png": "[encoded data removed]",
      "text/plain": [
       "Plot with title \"꽃받침 길이 분포\""
      ]
     },
     "metadata": {
      "image/png": {
       "height": 420,
       "width": 420
      }
     },
     "output_type": "display_data"
    },
    {
     "data": {
      "image/png": "[encoded data removed]",
      "text/plain": [
       "Plot with title \"꽃받침 길이 분포\""
      ]
     },
     "metadata": {
      "image/png": {
       "height": 420,
       "width": 420
      }
     },
     "output_type": "display_data"
    }
   ],
   "source": [
    "\n",
    "hist(\n",
    "    iris$Sepal.Length\n",
    "    , xlab = \"꽃받침 길이\"\n",
    "    , ylab = \"수량\"\n",
    "    , main = \"꽃받침 길이 분포\"\n",
    ")\n",
    "\n",
    "hist(\n",
    "    iris$Sepal.Length\n",
    "    , xlab = \"꽃받침 길이\"\n",
    "    , ylab = \"수량\"\n",
    "    , main = \"꽃받침 길이 분포\"\n",
    "    , breaks = 4 # 계급은 4개\n",
    "    , freq = FALSE # 상대도수값 표시\n",
    ")"
   ]
  },
  {
   "cell_type": "code",
   "execution_count": 4,
   "id": "781867ce",
   "metadata": {},
   "outputs": [
    {
     "data": {
      "image/png": "[encoded data removed]",
      "text/plain": [
       "plot without title"
      ]
     },
     "metadata": {
      "image/png": {
       "height": 420,
       "width": 420
      }
     },
     "output_type": "display_data"
    }
   ],
   "source": [
    "# 막대 그래프\n",
    "sales <- c(20, 30, 40, 50)\n",
    "seasons <- c(\"1분기\",\"2분기\",\"3분기\",\"4분기\")\n",
    "\n",
    "df <- data.frame(sales, seasons)\n",
    "\n",
    "barplot(sales ~ seasons, data = df)\n"
   ]
  },
  {
   "cell_type": "code",
   "execution_count": 5,
   "id": "561d50c0",
   "metadata": {},
   "outputs": [
    {
     "data": {
      "image/png": "[encoded data removed]",
      "text/plain": [
       "Plot with title \"파이 차트 제목\""
      ]
     },
     "metadata": {
      "image/png": {
       "height": 420,
       "width": 420
      }
     },
     "output_type": "display_data"
    }
   ],
   "source": [
    "# 파이 함수\n",
    "sales <- c(20, 30, 40, 50)\n",
    "seasons <- c(\"1분기\",\"2분기\",\"3분기\",\"4분기\")\n",
    "\n",
    "pie(\n",
    "    x = sales # 수치값\n",
    "   , labels = seasons # 파이 조각의 개별 이름\n",
    "    ,  main = \"파이 차트 제목\"\n",
    ")\n"
   ]
  },
  {
   "cell_type": "code",
   "execution_count": 6,
   "id": "a380b559",
   "metadata": {},
   "outputs": [
    {
     "data": {
      "image/png": "[encoded data removed]",
      "text/plain": [
       "Plot with title \"꽃받침 길이 분포\""
      ]
     },
     "metadata": {
      "image/png": {
       "height": 420,
       "width": 420
      }
     },
     "output_type": "display_data"
    },
    {
     "data": {
      "image/png": "[encoded data removed]",
      "text/plain": [
       "Plot with title \"종별 꽃받침 길이 분포\""
      ]
     },
     "metadata": {
      "image/png": {
       "height": 420,
       "width": 420
      }
     },
     "output_type": "display_data"
    }
   ],
   "source": [
    "# 상자그림, 상자 수염 그림\n",
    "\n",
    "boxplot(\n",
    "    x = iris$Sepal.Length\n",
    "    , main = \"꽃받침 길이 분포\"\n",
    ")\n",
    "\n",
    "boxplot(\n",
    "    iris$Sepal.Length ~ iris$Species\n",
    "    , xlab = \"종별\"\n",
    "    , ylab = \"꽃받침 길이\"\n",
    "    , main = \"종별 꽃받침 길이 분포\"\n",
    ")"
   ]
  },
  {
   "cell_type": "code",
   "execution_count": 7,
   "id": "f265cd36",
   "metadata": {},
   "outputs": [
    {
     "name": "stdout",
     "output_type": "stream",
     "text": [
      "tibble [53,940 x 10] (S3: tbl_df/tbl/data.frame)\n",
      " $ carat  : num [1:53940] 0.23 0.21 0.23 0.29 0.31 0.24 0.24 0.26 0.22 0.23 ...\n",
      " $ cut    : Ord.factor w/ 5 levels \"Fair\"<\"Good\"<..: 5 4 2 4 2 3 3 3 1 3 ...\n",
      " $ color  : Ord.factor w/ 7 levels \"D\"<\"E\"<\"F\"<\"G\"<..: 2 2 2 6 7 7 6 5 2 5 ...\n",
      " $ clarity: Ord.factor w/ 8 levels \"I1\"<\"SI2\"<\"SI1\"<..: 2 3 5 4 2 6 7 3 4 5 ...\n",
      " $ depth  : num [1:53940] 61.5 59.8 56.9 62.4 63.3 62.8 62.3 61.9 65.1 59.4 ...\n",
      " $ table  : num [1:53940] 55 61 65 58 58 57 57 55 61 61 ...\n",
      " $ price  : int [1:53940] 326 326 327 334 335 336 336 337 337 338 ...\n",
      " $ x      : num [1:53940] 3.95 3.89 4.05 4.2 4.34 3.94 3.95 4.07 3.87 4 ...\n",
      " $ y      : num [1:53940] 3.98 3.84 4.07 4.23 4.35 3.96 3.98 4.11 3.78 4.05 ...\n",
      " $ z      : num [1:53940] 2.43 2.31 2.31 2.63 2.75 2.48 2.47 2.53 2.49 2.39 ...\n"
     ]
    },
    {
     "data": {
      "image/png": "[encoded data removed]",
      "text/plain": [
       "plot without title"
      ]
     },
     "metadata": {
      "image/png": {
       "height": 420,
       "width": 420
      }
     },
     "output_type": "display_data"
    },
    {
     "data": {
      "image/png": "[encoded data removed]",
      "text/plain": [
       "plot without title"
      ]
     },
     "metadata": {
      "image/png": {
       "height": 420,
       "width": 420
      }
     },
     "output_type": "display_data"
    },
    {
     "data": {
      "image/png": "[encoded data removed]",
      "text/plain": [
       "plot without title"
      ]
     },
     "metadata": {
      "image/png": {
       "height": 420,
       "width": 420
      }
     },
     "output_type": "display_data"
    },
    {
     "data": {
      "image/png": "[encoded data removed]",
      "text/plain": [
       "plot without title"
      ]
     },
     "metadata": {
      "image/png": {
       "height": 420,
       "width": 420
      }
     },
     "output_type": "display_data"
    }
   ],
   "source": [
    "# ggplot 패키지\n",
    "# geom_bar, geom_col, geom_point, geom_line, geom_boxplot\n",
    "library(ggplot2)\n",
    "\n",
    "# diamonds\n",
    "\n",
    "str(diamonds)\n",
    "\n",
    "# 막대 그래프\n",
    "ggplot(\n",
    "    data = diamonds\n",
    "    , aes(color)\n",
    ") + geom_bar()\n",
    "\n",
    "# 산점도\n",
    "ggplot(\n",
    "    data = sleep\n",
    "    , aes(x = ID, y = extra)\n",
    ") + geom_point()\n",
    "\n",
    "# 선그래프\n",
    "ggplot(\n",
    "    data = Orange\n",
    "    , aes(x = age, y = circumference)\n",
    ") + geom_line(aes(color = Tree))\n",
    "\n",
    "# 상자 수염 그림\n",
    "ggplot(\n",
    "    data = airquality\n",
    "    , aes(x = Month, y = Temp, group = Month)\n",
    ") + geom_boxplot()"
   ]
  },
  {
   "cell_type": "code",
   "execution_count": 8,
   "id": "a2acee01",
   "metadata": {},
   "outputs": [
    {
     "data": {
      "text/html": [
       "<table class=\"dataframe\">\n",
       "<caption>A data.frame: 6 × 2</caption>\n",
       "<thead>\n",
       "\t<tr><th></th><th scope=col>V1</th><th scope=col>V2</th></tr>\n",
       "\t<tr><th></th><th scope=col>&lt;fct&gt;</th><th scope=col>&lt;fct&gt;</th></tr>\n",
       "</thead>\n",
       "<tbody>\n",
       "\t<tr><th scope=row>1</th><td>hello     </td><td>world          </td></tr>\n",
       "\t<tr><th scope=row>2</th><td>big       </td><td>data           </td></tr>\n",
       "\t<tr><th scope=row>3</th><td>한글123   </td><td>테스트1234 1234</td></tr>\n",
       "\t<tr><th scope=row>4</th><td>          </td><td>1234           </td></tr>\n",
       "\t<tr><th scope=row>5</th><td> 굳굳 aaaa</td><td>2222 한글 한글 </td></tr>\n",
       "\t<tr><th scope=row>6</th><td>          </td><td>               </td></tr>\n",
       "</tbody>\n",
       "</table>\n"
      ],
      "text/latex": [
       "A data.frame: 6 × 2\n",
       "\\begin{tabular}{r|ll}\n",
       "  & V1 & V2\\\\\n",
       "  & <fct> & <fct>\\\\\n",
       "\\hline\n",
       "\t1 & hello      & world          \\\\\n",
       "\t2 & big        & data           \\\\\n",
       "\t3 & 한글123    & 테스트1234 1234\\\\\n",
       "\t4 &            & 1234           \\\\\n",
       "\t5 &  굳굳 aaaa & 2222 한글 한글 \\\\\n",
       "\t6 &            &                \\\\\n",
       "\\end{tabular}\n"
      ],
      "text/markdown": [
       "\n",
       "A data.frame: 6 × 2\n",
       "\n",
       "| <!--/--> | V1 &lt;fct&gt; | V2 &lt;fct&gt; |\n",
       "|---|---|---|\n",
       "| 1 | hello      | world           |\n",
       "| 2 | big        | data            |\n",
       "| 3 | 한글123    | 테스트1234 1234 |\n",
       "| 4 | <!----> | 1234            |\n",
       "| 5 |  굳굳 aaaa | 2222 한글 한글  |\n",
       "| 6 | <!----> | <!----> |\n",
       "\n"
      ],
      "text/plain": [
       "  V1         V2             \n",
       "1 hello      world          \n",
       "2 big        data           \n",
       "3 한글123    테스트1234 1234\n",
       "4            1234           \n",
       "5  굳굳 aaaa 2222 한글 한글 \n",
       "6                           "
      ]
     },
     "metadata": {},
     "output_type": "display_data"
    },
    {
     "ename": "ERROR",
     "evalue": "Error in library(openxlsx): there is no package called 'openxlsx'\n",
     "output_type": "error",
     "traceback": [
      "Error in library(openxlsx): there is no package called 'openxlsx'\nTraceback:\n",
      "1. library(openxlsx)"
     ]
    }
   ],
   "source": [
    "# data.txt 파일은 아래와 같은 포맷의 데이터가 들어가 있음\n",
    "# hello,world\n",
    "# big,data\n",
    "# 한글123,테스트1234 1234\n",
    "# ,1234\n",
    "\n",
    "#  굳굳 aaaa,2222 한글 한글\n",
    "# ,,,\n",
    "# ...\n",
    "# ,..\n",
    "\n",
    "data <- read.table(\n",
    "    file = './data/data.txt'\n",
    "    , header = FALSE # 첫번째행이 헤더인지 알려줌\n",
    "    , sep = \",\" # 구분자 지정, 빈공백, 쉼표, \\t 구분자 가능\n",
    "    , fill = TRUE # 만약 이상한 행의 경우 NA값으로 채우도록 적용 여부(디폴트는 FALSE)\n",
    "    , encoding = \"UTF-8\" # 영문자 뿐만 아니라 다른 나라 언어도 읽으려면 UTF 인코딩 필수\n",
    ") \n",
    "\n",
    "head(data)\n",
    "\n",
    "\n",
    "write.table(\n",
    "    x = data # 쓰려는 데이터\n",
    "    , file = './data/output1.txt' # 파일명\n",
    "    , append = FALSE # 이어쓰기 여부, FALSE면 덮어쓰기(기본은 FALSE\n",
    "    , sep = \"\\t\" # 디폴트는 space\n",
    "    , quote = FALSE # 모든 값에 큰따옴표로 래핑하기, 디폴트는 TRUE\n",
    ")\n",
    "\n",
    "# 엑셀파일 읽고 쓰기\n",
    "library(readxl)\n",
    "\n",
    "# data2 <- read_excel(\n",
    "#     path = \"./data/test.xlsx\" # 데이터 위치\n",
    "#     , sheet = \"Shee1\" # 읽을 시트\n",
    "#     , range = \"A1:B4\" # 읽을 범위\n",
    "#     , col_names = TRUE # 첫번째 행을 열 필드로 인식할지 여부\n",
    "# )\n",
    "\n",
    "library(openxlsx)\n",
    "# 엑셀 파일 쓰기\n",
    "# write.xlsx(\n",
    "#     x = data # 데이터\n",
    "#     , file = './data/testeee'\n",
    "# )\n"
   ]
  },
  {
   "cell_type": "code",
   "execution_count": 9,
   "id": "170cef3d",
   "metadata": {},
   "outputs": [
    {
     "name": "stderr",
     "output_type": "stream",
     "text": [
      "\n",
      "Attaching package: 'dplyr'\n",
      "\n",
      "\n",
      "The following objects are masked from 'package:stats':\n",
      "\n",
      "    filter, lag\n",
      "\n",
      "\n",
      "The following objects are masked from 'package:base':\n",
      "\n",
      "    intersect, setdiff, setequal, union\n",
      "\n",
      "\n"
     ]
    },
    {
     "name": "stdout",
     "output_type": "stream",
     "text": [
      "'data.frame':\t150 obs. of  5 variables:\n",
      " $ Sepal.Length: num  5.1 4.9 4.7 4.6 5 5.4 4.6 5 4.4 4.9 ...\n",
      " $ Sepal.Width : num  3.5 3 3.2 3.1 3.6 3.9 3.4 3.4 2.9 3.1 ...\n",
      " $ Petal.Length: num  1.4 1.4 1.3 1.5 1.4 1.7 1.4 1.5 1.4 1.5 ...\n",
      " $ Petal.Width : num  0.2 0.2 0.2 0.2 0.2 0.4 0.3 0.2 0.2 0.1 ...\n",
      " $ Species     : Factor w/ 3 levels \"setosa\",\"versicolor\",..: 1 1 1 1 1 1 1 1 1 1 ...\n"
     ]
    },
    {
     "data": {
      "text/html": [
       "<table class=\"dataframe\">\n",
       "<caption>A data.frame: 3 × 1</caption>\n",
       "<thead>\n",
       "\t<tr><th></th><th scope=col>Petal.Length</th></tr>\n",
       "\t<tr><th></th><th scope=col>&lt;dbl&gt;</th></tr>\n",
       "</thead>\n",
       "<tbody>\n",
       "\t<tr><th scope=row>1</th><td>1.4</td></tr>\n",
       "\t<tr><th scope=row>2</th><td>1.4</td></tr>\n",
       "\t<tr><th scope=row>3</th><td>1.3</td></tr>\n",
       "</tbody>\n",
       "</table>\n"
      ],
      "text/latex": [
       "A data.frame: 3 × 1\n",
       "\\begin{tabular}{r|l}\n",
       "  & Petal.Length\\\\\n",
       "  & <dbl>\\\\\n",
       "\\hline\n",
       "\t1 & 1.4\\\\\n",
       "\t2 & 1.4\\\\\n",
       "\t3 & 1.3\\\\\n",
       "\\end{tabular}\n"
      ],
      "text/markdown": [
       "\n",
       "A data.frame: 3 × 1\n",
       "\n",
       "| <!--/--> | Petal.Length &lt;dbl&gt; |\n",
       "|---|---|\n",
       "| 1 | 1.4 |\n",
       "| 2 | 1.4 |\n",
       "| 3 | 1.3 |\n",
       "\n"
      ],
      "text/plain": [
       "  Petal.Length\n",
       "1 1.4         \n",
       "2 1.4         \n",
       "3 1.3         "
      ]
     },
     "metadata": {},
     "output_type": "display_data"
    },
    {
     "data": {
      "text/html": [
       "<table class=\"dataframe\">\n",
       "<caption>A data.frame: 3 × 5</caption>\n",
       "<thead>\n",
       "\t<tr><th></th><th scope=col>Sepal.Length</th><th scope=col>Sepal.Width</th><th scope=col>Petal.Length</th><th scope=col>Petal.Width</th><th scope=col>Species</th></tr>\n",
       "\t<tr><th></th><th scope=col>&lt;dbl&gt;</th><th scope=col>&lt;dbl&gt;</th><th scope=col>&lt;dbl&gt;</th><th scope=col>&lt;dbl&gt;</th><th scope=col>&lt;fct&gt;</th></tr>\n",
       "</thead>\n",
       "<tbody>\n",
       "\t<tr><th scope=row>1</th><td>5.1</td><td>3.5</td><td>1.4</td><td>0.2</td><td>setosa</td></tr>\n",
       "\t<tr><th scope=row>2</th><td>4.9</td><td>3.0</td><td>1.4</td><td>0.2</td><td>setosa</td></tr>\n",
       "\t<tr><th scope=row>3</th><td>4.7</td><td>3.2</td><td>1.3</td><td>0.2</td><td>setosa</td></tr>\n",
       "</tbody>\n",
       "</table>\n"
      ],
      "text/latex": [
       "A data.frame: 3 × 5\n",
       "\\begin{tabular}{r|lllll}\n",
       "  & Sepal.Length & Sepal.Width & Petal.Length & Petal.Width & Species\\\\\n",
       "  & <dbl> & <dbl> & <dbl> & <dbl> & <fct>\\\\\n",
       "\\hline\n",
       "\t1 & 5.1 & 3.5 & 1.4 & 0.2 & setosa\\\\\n",
       "\t2 & 4.9 & 3.0 & 1.4 & 0.2 & setosa\\\\\n",
       "\t3 & 4.7 & 3.2 & 1.3 & 0.2 & setosa\\\\\n",
       "\\end{tabular}\n"
      ],
      "text/markdown": [
       "\n",
       "A data.frame: 3 × 5\n",
       "\n",
       "| <!--/--> | Sepal.Length &lt;dbl&gt; | Sepal.Width &lt;dbl&gt; | Petal.Length &lt;dbl&gt; | Petal.Width &lt;dbl&gt; | Species &lt;fct&gt; |\n",
       "|---|---|---|---|---|---|\n",
       "| 1 | 5.1 | 3.5 | 1.4 | 0.2 | setosa |\n",
       "| 2 | 4.9 | 3.0 | 1.4 | 0.2 | setosa |\n",
       "| 3 | 4.7 | 3.2 | 1.3 | 0.2 | setosa |\n",
       "\n"
      ],
      "text/plain": [
       "  Sepal.Length Sepal.Width Petal.Length Petal.Width Species\n",
       "1 5.1          3.5         1.4          0.2         setosa \n",
       "2 4.9          3.0         1.4          0.2         setosa \n",
       "3 4.7          3.2         1.3          0.2         setosa "
      ]
     },
     "metadata": {},
     "output_type": "display_data"
    },
    {
     "data": {
      "text/html": [
       "<table class=\"dataframe\">\n",
       "<caption>A data.frame: 3 × 2</caption>\n",
       "<thead>\n",
       "\t<tr><th></th><th scope=col>Species</th><th scope=col>Len</th></tr>\n",
       "\t<tr><th></th><th scope=col>&lt;fct&gt;</th><th scope=col>&lt;chr&gt;</th></tr>\n",
       "</thead>\n",
       "<tbody>\n",
       "\t<tr><th scope=row>1</th><td>setosa</td><td>S</td></tr>\n",
       "\t<tr><th scope=row>2</th><td>setosa</td><td>S</td></tr>\n",
       "\t<tr><th scope=row>3</th><td>setosa</td><td>S</td></tr>\n",
       "</tbody>\n",
       "</table>\n"
      ],
      "text/latex": [
       "A data.frame: 3 × 2\n",
       "\\begin{tabular}{r|ll}\n",
       "  & Species & Len\\\\\n",
       "  & <fct> & <chr>\\\\\n",
       "\\hline\n",
       "\t1 & setosa & S\\\\\n",
       "\t2 & setosa & S\\\\\n",
       "\t3 & setosa & S\\\\\n",
       "\\end{tabular}\n"
      ],
      "text/markdown": [
       "\n",
       "A data.frame: 3 × 2\n",
       "\n",
       "| <!--/--> | Species &lt;fct&gt; | Len &lt;chr&gt; |\n",
       "|---|---|---|\n",
       "| 1 | setosa | S |\n",
       "| 2 | setosa | S |\n",
       "| 3 | setosa | S |\n",
       "\n"
      ],
      "text/plain": [
       "  Species Len\n",
       "1 setosa  S  \n",
       "2 setosa  S  \n",
       "3 setosa  S  "
      ]
     },
     "metadata": {},
     "output_type": "display_data"
    },
    {
     "data": {
      "text/html": [
       "<table class=\"dataframe\">\n",
       "<caption>A tibble: 3 × 2</caption>\n",
       "<thead>\n",
       "\t<tr><th scope=col>Species</th><th scope=col>test</th></tr>\n",
       "\t<tr><th scope=col>&lt;fct&gt;</th><th scope=col>&lt;dbl&gt;</th></tr>\n",
       "</thead>\n",
       "<tbody>\n",
       "\t<tr><td>setosa    </td><td>0.246</td></tr>\n",
       "\t<tr><td>versicolor</td><td>1.326</td></tr>\n",
       "\t<tr><td>virginica </td><td>2.026</td></tr>\n",
       "</tbody>\n",
       "</table>\n"
      ],
      "text/latex": [
       "A tibble: 3 × 2\n",
       "\\begin{tabular}{ll}\n",
       " Species & test\\\\\n",
       " <fct> & <dbl>\\\\\n",
       "\\hline\n",
       "\t setosa     & 0.246\\\\\n",
       "\t versicolor & 1.326\\\\\n",
       "\t virginica  & 2.026\\\\\n",
       "\\end{tabular}\n"
      ],
      "text/markdown": [
       "\n",
       "A tibble: 3 × 2\n",
       "\n",
       "| Species &lt;fct&gt; | test &lt;dbl&gt; |\n",
       "|---|---|\n",
       "| setosa     | 0.246 |\n",
       "| versicolor | 1.326 |\n",
       "| virginica  | 2.026 |\n",
       "\n"
      ],
      "text/plain": [
       "  Species    test \n",
       "1 setosa     0.246\n",
       "2 versicolor 1.326\n",
       "3 virginica  2.026"
      ]
     },
     "metadata": {},
     "output_type": "display_data"
    },
    {
     "data": {
      "text/html": [
       "3"
      ],
      "text/latex": [
       "3"
      ],
      "text/markdown": [
       "3"
      ],
      "text/plain": [
       "[1] 3"
      ]
     },
     "metadata": {},
     "output_type": "display_data"
    },
    {
     "data": {
      "text/html": [
       "<table class=\"dataframe\">\n",
       "<caption>A tibble: 3 × 2</caption>\n",
       "<thead>\n",
       "\t<tr><th scope=col>Species</th><th scope=col>test</th></tr>\n",
       "\t<tr><th scope=col>&lt;fct&gt;</th><th scope=col>&lt;dbl&gt;</th></tr>\n",
       "</thead>\n",
       "<tbody>\n",
       "\t<tr><td>virginica </td><td>2.026</td></tr>\n",
       "\t<tr><td>versicolor</td><td>1.326</td></tr>\n",
       "\t<tr><td>setosa    </td><td>0.246</td></tr>\n",
       "</tbody>\n",
       "</table>\n"
      ],
      "text/latex": [
       "A tibble: 3 × 2\n",
       "\\begin{tabular}{ll}\n",
       " Species & test\\\\\n",
       " <fct> & <dbl>\\\\\n",
       "\\hline\n",
       "\t virginica  & 2.026\\\\\n",
       "\t versicolor & 1.326\\\\\n",
       "\t setosa     & 0.246\\\\\n",
       "\\end{tabular}\n"
      ],
      "text/markdown": [
       "\n",
       "A tibble: 3 × 2\n",
       "\n",
       "| Species &lt;fct&gt; | test &lt;dbl&gt; |\n",
       "|---|---|\n",
       "| virginica  | 2.026 |\n",
       "| versicolor | 1.326 |\n",
       "| setosa     | 0.246 |\n",
       "\n"
      ],
      "text/plain": [
       "  Species    test \n",
       "1 virginica  2.026\n",
       "2 versicolor 1.326\n",
       "3 setosa     0.246"
      ]
     },
     "metadata": {},
     "output_type": "display_data"
    }
   ],
   "source": [
    "# 데이터 처리 함수 dplyr\n",
    "\n",
    "library(dplyr)\n",
    "# select, mutate, filter, group_by, summarise, arrange\n",
    "\n",
    "# 붓꽃 데이터 이용\n",
    "str(iris)\n",
    "\n",
    "# iris 데이터에 대해서 일부 컬럼 선택\n",
    "iris %>% select(Petal.Length) %>% head(3)\n",
    "\n",
    "# 원하는 값만 필터링해서 보기\n",
    "iris %>% filter(Species == 'setosa') %>% head(3)\n",
    "\n",
    "iris %>% \n",
    "    filter(Species == 'setosa') %>% \n",
    "    mutate(Len = ifelse(Sepal.Length > 6, 'L', 'S')) %>%\n",
    "    select(Species, Len) %>%\n",
    "    head(3)\n",
    "\n",
    "# group_by와 summarize는 함께 간다고 보면 됨\n",
    "# mean, median, sd, sum, min, max, n(개수)\n",
    "iris %>% \n",
    "    group_by(Species) %>% \n",
    "    summarise(test = mean(Petal.Width)) # test라는 필드를 추가로해서, 종별 평균 너비 넣어줌\n",
    "    head(3)\n",
    "\n",
    "iris %>% \n",
    "    group_by(Species) %>% \n",
    "    summarise(test = mean(Petal.Width)) %>% # test라는 필드를 추가로해서, 종별 평균 너비 넣어줌\n",
    "    arrange(desc(test)) # 디폴트는 오름차순\n",
    "\n",
    "\n",
    "\n",
    "\n"
   ]
  },
  {
   "cell_type": "code",
   "execution_count": 10,
   "id": "b0ea9d16",
   "metadata": {},
   "outputs": [
    {
     "data": {
      "text/html": [
       "<style>\n",
       ".list-inline {list-style: none; margin:0; padding: 0}\n",
       ".list-inline>li {display: inline-block}\n",
       ".list-inline>li:not(:last-child)::after {content: \"\\00b7\"; padding: 0 .5ex}\n",
       "</style>\n",
       "<ol class=list-inline><li>TRUE</li><li>TRUE</li><li>TRUE</li><li>TRUE</li><li>TRUE</li><li>TRUE</li><li>TRUE</li><li>TRUE</li><li>TRUE</li><li>TRUE</li><li>TRUE</li><li>TRUE</li><li>TRUE</li><li>FALSE</li></ol>\n"
      ],
      "text/latex": [
       "\\begin{enumerate*}\n",
       "\\item TRUE\n",
       "\\item TRUE\n",
       "\\item TRUE\n",
       "\\item TRUE\n",
       "\\item TRUE\n",
       "\\item TRUE\n",
       "\\item TRUE\n",
       "\\item TRUE\n",
       "\\item TRUE\n",
       "\\item TRUE\n",
       "\\item TRUE\n",
       "\\item TRUE\n",
       "\\item TRUE\n",
       "\\item FALSE\n",
       "\\end{enumerate*}\n"
      ],
      "text/markdown": [
       "1. TRUE\n",
       "2. TRUE\n",
       "3. TRUE\n",
       "4. TRUE\n",
       "5. TRUE\n",
       "6. TRUE\n",
       "7. TRUE\n",
       "8. TRUE\n",
       "9. TRUE\n",
       "10. TRUE\n",
       "11. TRUE\n",
       "12. TRUE\n",
       "13. TRUE\n",
       "14. FALSE\n",
       "\n",
       "\n"
      ],
      "text/plain": [
       " [1]  TRUE  TRUE  TRUE  TRUE  TRUE  TRUE  TRUE  TRUE  TRUE  TRUE  TRUE  TRUE\n",
       "[13]  TRUE FALSE"
      ]
     },
     "metadata": {},
     "output_type": "display_data"
    },
    {
     "data": {
      "text/html": [
       "<table class=\"dataframe\">\n",
       "<caption>A data.frame: 13 × 1</caption>\n",
       "<thead>\n",
       "\t<tr><th scope=col>score</th></tr>\n",
       "\t<tr><th scope=col>&lt;dbl&gt;</th></tr>\n",
       "</thead>\n",
       "<tbody>\n",
       "\t<tr><td>1</td></tr>\n",
       "\t<tr><td>1</td></tr>\n",
       "\t<tr><td>1</td></tr>\n",
       "\t<tr><td>1</td></tr>\n",
       "\t<tr><td>2</td></tr>\n",
       "\t<tr><td>3</td></tr>\n",
       "\t<tr><td>4</td></tr>\n",
       "\t<tr><td>1</td></tr>\n",
       "\t<tr><td>2</td></tr>\n",
       "\t<tr><td>3</td></tr>\n",
       "\t<tr><td>4</td></tr>\n",
       "\t<tr><td>2</td></tr>\n",
       "\t<tr><td>1</td></tr>\n",
       "</tbody>\n",
       "</table>\n"
      ],
      "text/latex": [
       "A data.frame: 13 × 1\n",
       "\\begin{tabular}{l}\n",
       " score\\\\\n",
       " <dbl>\\\\\n",
       "\\hline\n",
       "\t 1\\\\\n",
       "\t 1\\\\\n",
       "\t 1\\\\\n",
       "\t 1\\\\\n",
       "\t 2\\\\\n",
       "\t 3\\\\\n",
       "\t 4\\\\\n",
       "\t 1\\\\\n",
       "\t 2\\\\\n",
       "\t 3\\\\\n",
       "\t 4\\\\\n",
       "\t 2\\\\\n",
       "\t 1\\\\\n",
       "\\end{tabular}\n"
      ],
      "text/markdown": [
       "\n",
       "A data.frame: 13 × 1\n",
       "\n",
       "| score &lt;dbl&gt; |\n",
       "|---|\n",
       "| 1 |\n",
       "| 1 |\n",
       "| 1 |\n",
       "| 1 |\n",
       "| 2 |\n",
       "| 3 |\n",
       "| 4 |\n",
       "| 1 |\n",
       "| 2 |\n",
       "| 3 |\n",
       "| 4 |\n",
       "| 2 |\n",
       "| 1 |\n",
       "\n"
      ],
      "text/plain": [
       "   score\n",
       "1  1    \n",
       "2  1    \n",
       "3  1    \n",
       "4  1    \n",
       "5  2    \n",
       "6  3    \n",
       "7  4    \n",
       "8  1    \n",
       "9  2    \n",
       "10 3    \n",
       "11 4    \n",
       "12 2    \n",
       "13 1    "
      ]
     },
     "metadata": {},
     "output_type": "display_data"
    },
    {
     "data": {
      "text/html": [
       "1"
      ],
      "text/latex": [
       "1"
      ],
      "text/markdown": [
       "1"
      ],
      "text/plain": [
       "[1] 1"
      ]
     },
     "metadata": {},
     "output_type": "display_data"
    },
    {
     "data": {
      "text/html": [
       "1"
      ],
      "text/latex": [
       "1"
      ],
      "text/markdown": [
       "1"
      ],
      "text/plain": [
       "[1] 1"
      ]
     },
     "metadata": {},
     "output_type": "display_data"
    },
    {
     "data": {
      "text/html": [
       "2"
      ],
      "text/latex": [
       "2"
      ],
      "text/markdown": [
       "2"
      ],
      "text/plain": [
       "[1] 2"
      ]
     },
     "metadata": {},
     "output_type": "display_data"
    },
    {
     "data": {
      "text/html": [
       "3"
      ],
      "text/latex": [
       "3"
      ],
      "text/markdown": [
       "3"
      ],
      "text/plain": [
       "[1] 3"
      ]
     },
     "metadata": {},
     "output_type": "display_data"
    },
    {
     "data": {
      "text/html": [
       "4"
      ],
      "text/latex": [
       "4"
      ],
      "text/markdown": [
       "4"
      ],
      "text/plain": [
       "[1] 4"
      ]
     },
     "metadata": {},
     "output_type": "display_data"
    },
    {
     "data": {
      "text/html": [
       "<table class=\"dataframe\">\n",
       "<caption>A matrix: 5 × 1 of type dbl</caption>\n",
       "<tbody>\n",
       "\t<tr><td>1</td></tr>\n",
       "\t<tr><td>1</td></tr>\n",
       "\t<tr><td>2</td></tr>\n",
       "\t<tr><td>3</td></tr>\n",
       "\t<tr><td>4</td></tr>\n",
       "</tbody>\n",
       "</table>\n"
      ],
      "text/latex": [
       "A matrix: 5 × 1 of type dbl\n",
       "\\begin{tabular}{l}\n",
       "\t 1\\\\\n",
       "\t 1\\\\\n",
       "\t 2\\\\\n",
       "\t 3\\\\\n",
       "\t 4\\\\\n",
       "\\end{tabular}\n"
      ],
      "text/markdown": [
       "\n",
       "A matrix: 5 × 1 of type dbl\n",
       "\n",
       "| 1 |\n",
       "| 1 |\n",
       "| 2 |\n",
       "| 3 |\n",
       "| 4 |\n",
       "\n"
      ],
      "text/plain": [
       "     [,1]\n",
       "[1,] 1   \n",
       "[2,] 1   \n",
       "[3,] 2   \n",
       "[4,] 3   \n",
       "[5,] 4   "
      ]
     },
     "metadata": {},
     "output_type": "display_data"
    },
    {
     "data": {
      "text/html": [
       "4.5"
      ],
      "text/latex": [
       "4.5"
      ],
      "text/markdown": [
       "4.5"
      ],
      "text/plain": [
       "[1] 4.5"
      ]
     },
     "metadata": {},
     "output_type": "display_data"
    },
    {
     "data": {
      "image/png": "[encoded data removed]",
      "text/plain": [
       "plot without title"
      ]
     },
     "metadata": {
      "image/png": {
       "height": 420,
       "width": 420
      }
     },
     "output_type": "display_data"
    }
   ],
   "source": [
    "# 데이터 정제 - 결측치 처리, 이상값(아웃라이어) 처리\n",
    "# 이상값 처리 => 삭제/대체/변환/분류\n",
    "# ESD(Extreme Studentized Deviation), 기하평균, 사분위수 등을 활용해 확인\n",
    "# ESD => 평균에서 3 표준편차보다 큰 값들을 이상값으로 판별하는 방법\n",
    "# 사분위수 활용 => 박스플롯을 통해 시각적으로 확인 가능, Q1 - 1.5 * IQR < data < Q3 + 1.5 * IQR 을 넘는 값들에 해당\n",
    "\n",
    "library(dplyr)\n",
    "\n",
    "score <- c(1,1,1,1,2,3,4,1,2,3,4,2,1,1000)\n",
    "\n",
    "esd <- function(x) {\n",
    "    return (abs(x - mean(x))/sd(x) < 3)\n",
    "}\n",
    "\n",
    "esd(score)\n",
    "\n",
    "# 일단 데이터 프레임에 넣고\n",
    "df <- data.frame(score)\n",
    "\n",
    "# 데이터프레임에서 score를 넣기\n",
    "df %>%\n",
    "    filter(esd(score))\n",
    "# 즉 1000이 필터링되어서 없어짐\n",
    "\n",
    "box_score <- boxplot(score)\n",
    "box_score$stats[1] # 최소값\n",
    "box_score$stats[2] # 제1사분위(Q1)\n",
    "box_score$stats[3] # 제 2사분위(중앙값, Q2)\n",
    "box_score$stats[4] # 제 3사분위(Q3)\n",
    "box_score$stats[5] # 최대값\n",
    "box_score$stats\n",
    "\n",
    "# IQR 함수를 이용해서 (Q3-Q1)값을 구할 수 있음\n",
    "IQR(x = 1:10, na.rm = TRUE)"
   ]
  },
  {
   "cell_type": "code",
   "execution_count": 52,
   "id": "337c8cac",
   "metadata": {},
   "outputs": [
    {
     "data": {
      "text/html": [
       "<style>\n",
       ".list-inline {list-style: none; margin:0; padding: 0}\n",
       ".list-inline>li {display: inline-block}\n",
       ".list-inline>li:not(:last-child)::after {content: \"\\00b7\"; padding: 0 .5ex}\n",
       "</style>\n",
       "<ol class=list-inline><li>1</li><li>3</li><li>5</li><li>7</li><li>9</li></ol>\n"
      ],
      "text/latex": [
       "\\begin{enumerate*}\n",
       "\\item 1\n",
       "\\item 3\n",
       "\\item 5\n",
       "\\item 7\n",
       "\\item 9\n",
       "\\end{enumerate*}\n"
      ],
      "text/markdown": [
       "1. 1\n",
       "2. 3\n",
       "3. 5\n",
       "4. 7\n",
       "5. 9\n",
       "\n",
       "\n"
      ],
      "text/plain": [
       "[1] 1 3 5 7 9"
      ]
     },
     "metadata": {},
     "output_type": "display_data"
    },
    {
     "data": {
      "text/html": [
       "<table class=\"dataframe\">\n",
       "<caption>A matrix: 5 × 1 of type dbl</caption>\n",
       "<tbody>\n",
       "\t<tr><td>0.00</td></tr>\n",
       "\t<tr><td>0.25</td></tr>\n",
       "\t<tr><td>0.50</td></tr>\n",
       "\t<tr><td>0.75</td></tr>\n",
       "\t<tr><td>1.00</td></tr>\n",
       "</tbody>\n",
       "</table>\n"
      ],
      "text/latex": [
       "A matrix: 5 × 1 of type dbl\n",
       "\\begin{tabular}{l}\n",
       "\t 0.00\\\\\n",
       "\t 0.25\\\\\n",
       "\t 0.50\\\\\n",
       "\t 0.75\\\\\n",
       "\t 1.00\\\\\n",
       "\\end{tabular}\n"
      ],
      "text/markdown": [
       "\n",
       "A matrix: 5 × 1 of type dbl\n",
       "\n",
       "| 0.00 |\n",
       "| 0.25 |\n",
       "| 0.50 |\n",
       "| 0.75 |\n",
       "| 1.00 |\n",
       "\n"
      ],
      "text/plain": [
       "     [,1]\n",
       "[1,] 0.00\n",
       "[2,] 0.25\n",
       "[3,] 0.50\n",
       "[4,] 0.75\n",
       "[5,] 1.00"
      ]
     },
     "metadata": {},
     "output_type": "display_data"
    },
    {
     "data": {
      "text/html": [
       "<table class=\"dataframe\">\n",
       "<caption>A matrix: 5 × 1 of type dbl</caption>\n",
       "<tbody>\n",
       "\t<tr><td>-1.2649111</td></tr>\n",
       "\t<tr><td>-0.6324555</td></tr>\n",
       "\t<tr><td> 0.0000000</td></tr>\n",
       "\t<tr><td> 0.6324555</td></tr>\n",
       "\t<tr><td> 1.2649111</td></tr>\n",
       "</tbody>\n",
       "</table>\n"
      ],
      "text/latex": [
       "A matrix: 5 × 1 of type dbl\n",
       "\\begin{tabular}{l}\n",
       "\t -1.2649111\\\\\n",
       "\t -0.6324555\\\\\n",
       "\t  0.0000000\\\\\n",
       "\t  0.6324555\\\\\n",
       "\t  1.2649111\\\\\n",
       "\\end{tabular}\n"
      ],
      "text/markdown": [
       "\n",
       "A matrix: 5 × 1 of type dbl\n",
       "\n",
       "| -1.2649111 |\n",
       "| -0.6324555 |\n",
       "|  0.0000000 |\n",
       "|  0.6324555 |\n",
       "|  1.2649111 |\n",
       "\n"
      ],
      "text/plain": [
       "     [,1]      \n",
       "[1,] -1.2649111\n",
       "[2,] -0.6324555\n",
       "[3,]  0.0000000\n",
       "[4,]  0.6324555\n",
       "[5,]  1.2649111"
      ]
     },
     "metadata": {},
     "output_type": "display_data"
    },
    {
     "data": {
      "text/html": [
       "<style>\n",
       ".list-inline {list-style: none; margin:0; padding: 0}\n",
       ".list-inline>li {display: inline-block}\n",
       ".list-inline>li:not(:last-child)::after {content: \"\\00b7\"; padding: 0 .5ex}\n",
       "</style>\n",
       "<ol class=list-inline><li>0</li><li>0.25</li><li>0.5</li><li>0.75</li><li>1</li></ol>\n"
      ],
      "text/latex": [
       "\\begin{enumerate*}\n",
       "\\item 0\n",
       "\\item 0.25\n",
       "\\item 0.5\n",
       "\\item 0.75\n",
       "\\item 1\n",
       "\\end{enumerate*}\n"
      ],
      "text/markdown": [
       "1. 0\n",
       "2. 0.25\n",
       "3. 0.5\n",
       "4. 0.75\n",
       "5. 1\n",
       "\n",
       "\n"
      ],
      "text/plain": [
       "[1] 0.00 0.25 0.50 0.75 1.00"
      ]
     },
     "metadata": {},
     "output_type": "display_data"
    },
    {
     "data": {
      "text/html": [
       "<style>\n",
       ".list-inline {list-style: none; margin:0; padding: 0}\n",
       ".list-inline>li {display: inline-block}\n",
       ".list-inline>li:not(:last-child)::after {content: \"\\00b7\"; padding: 0 .5ex}\n",
       "</style>\n",
       "<ol class=list-inline><li>4</li><li>9</li><li>6</li><li>1</li><li>8</li></ol>\n"
      ],
      "text/latex": [
       "\\begin{enumerate*}\n",
       "\\item 4\n",
       "\\item 9\n",
       "\\item 6\n",
       "\\item 1\n",
       "\\item 8\n",
       "\\end{enumerate*}\n"
      ],
      "text/markdown": [
       "1. 4\n",
       "2. 9\n",
       "3. 6\n",
       "4. 1\n",
       "5. 8\n",
       "\n",
       "\n"
      ],
      "text/plain": [
       "[1] 4 9 6 1 8"
      ]
     },
     "metadata": {},
     "output_type": "display_data"
    },
    {
     "data": {
      "text/html": [
       "<style>\n",
       ".list-inline {list-style: none; margin:0; padding: 0}\n",
       ".list-inline>li {display: inline-block}\n",
       ".list-inline>li:not(:last-child)::after {content: \"\\00b7\"; padding: 0 .5ex}\n",
       "</style>\n",
       "<ol class=list-inline><li>4</li><li>10</li><li>9</li><li>9</li><li>5</li></ol>\n"
      ],
      "text/latex": [
       "\\begin{enumerate*}\n",
       "\\item 4\n",
       "\\item 10\n",
       "\\item 9\n",
       "\\item 9\n",
       "\\item 5\n",
       "\\end{enumerate*}\n"
      ],
      "text/markdown": [
       "1. 4\n",
       "2. 10\n",
       "3. 9\n",
       "4. 9\n",
       "5. 5\n",
       "\n",
       "\n"
      ],
      "text/plain": [
       "[1]  4 10  9  9  5"
      ]
     },
     "metadata": {},
     "output_type": "display_data"
    },
    {
     "data": {
      "text/html": [
       "<style>\n",
       ".list-inline {list-style: none; margin:0; padding: 0}\n",
       ".list-inline>li {display: inline-block}\n",
       ".list-inline>li:not(:last-child)::after {content: \"\\00b7\"; padding: 0 .5ex}\n",
       "</style>\n",
       "<ol class=list-inline><li>5</li><li>1</li><li>10</li><li>7</li><li>10</li></ol>\n"
      ],
      "text/latex": [
       "\\begin{enumerate*}\n",
       "\\item 5\n",
       "\\item 1\n",
       "\\item 10\n",
       "\\item 7\n",
       "\\item 10\n",
       "\\end{enumerate*}\n"
      ],
      "text/markdown": [
       "1. 5\n",
       "2. 1\n",
       "3. 10\n",
       "4. 7\n",
       "5. 10\n",
       "\n",
       "\n"
      ],
      "text/plain": [
       "[1]  5  1 10  7 10"
      ]
     },
     "metadata": {},
     "output_type": "display_data"
    }
   ],
   "source": [
    "#############################################################################################\n",
    "# 데이터 변환 기법 - 정규화, 표준화\n",
    "# 변수들간에 크기 차이가 큰 경우에 그 변수들을 이용해서 만들어진 모형이 잘못 결과를 만들수 있음\n",
    "# 키랑 몸무게를 이용해서 어떤 종속변수를 예측한다고 했을때, 서로 스케일이 다르니 통일하는게 좋음\n",
    "data <- c(1,3,5,7,9)\n",
    "\n",
    "data\n",
    "\n",
    "# center => 각 원소에 빼지는 값(디폴트 TRUE, 즉 평균으로 뺌)\n",
    "# scale => 각 원소에 나누어지는 값(디폴트는 TRUE, 즉 디폴트는 표준편차)\n",
    "data_minmax <- scale(x = data, center = 1, scale = 8)\n",
    "data_minmax\n",
    "\n",
    "(data_default <- scale(data))\n",
    "\n",
    "# min-max 정규화\n",
    "normalize <- function(x) {\n",
    "    (x - min(x)) / (max(x) - min(x))\n",
    "}\n",
    "\n",
    "normalize(data)\n",
    "\n",
    "#############################################################################################\n",
    "# 표본 추출법\n",
    "# 단순 무작위 추출, 계통 추출, 층화 추출, 집락 추출(클러스터링)\n",
    "\n",
    "# 표본 추출 함수(sample)\n",
    "\n",
    "# 비복원 추출, 하나 추출하면 빼고 추출로 총 5개 추출(디폴트 비복원)\n",
    "sample(x = 1:10, size = 5, replace = FALSE)\n",
    "\n",
    "# 복원 추출\n",
    "sample(x = 1:10, size = 5, replace = TRUE)\n",
    "\n",
    "# 가중치 기반 복원 추출\n",
    "# prob => 각 값이 추출될 확률값\n",
    "sample(x = 1:10, size = 5, replace = TRUE, prob = 1:10)\n"
   ]
  },
  {
   "cell_type": "code",
   "execution_count": 64,
   "id": "40e42e11",
   "metadata": {},
   "outputs": [
    {
     "data": {
      "text/plain": [
       "\n",
       "    setosa versicolor  virginica \n",
       "        50         50         50 "
      ]
     },
     "metadata": {},
     "output_type": "display_data"
    },
    {
     "data": {
      "text/plain": [
       "\n",
       "    setosa versicolor  virginica \n",
       "        35         35         35 "
      ]
     },
     "metadata": {},
     "output_type": "display_data"
    },
    {
     "data": {
      "text/plain": [
       "\n",
       "    setosa versicolor  virginica \n",
       "        15         15         15 "
      ]
     },
     "metadata": {},
     "output_type": "display_data"
    }
   ],
   "source": [
    "############################################################################################\n",
    "## 샘플 나누기\n",
    "\n",
    "library(caret)\n",
    "\n",
    "data <- createDataPartition(\n",
    "    y = iris$Species # 분할 대상 데이터\n",
    "    , times = 1 # 1개 분할(즉 2개 데이터셋)\n",
    "    , p = 0.7 # 훈련 데이터를 70프로\n",
    ")\n",
    "\n",
    "# 전체 종별 50개인데\n",
    "table(iris$Species)\n",
    "\n",
    "# 0.7개인 35개가 훈련데이터\n",
    "table(iris[data$Resample1, \"Species\"])\n",
    "\n",
    "# 제외 나머지가 테스트데이터\n",
    "table(iris[-data$Resample1, \"Species\"])"
   ]
  },
  {
   "cell_type": "code",
   "execution_count": 19,
   "id": "1becd3b1",
   "metadata": {},
   "outputs": [
    {
     "data": {
      "text/plain": [
       "\n",
       " 4  6  8 \n",
       "11  7 14 "
      ]
     },
     "metadata": {},
     "output_type": "display_data"
    },
    {
     "data": {
      "text/plain": [
       "  Sepal.Length    Sepal.Width     Petal.Length    Petal.Width   \n",
       " Min.   :4.300   Min.   :2.000   Min.   :1.000   Min.   :0.100  \n",
       " 1st Qu.:5.100   1st Qu.:2.800   1st Qu.:1.600   1st Qu.:0.300  \n",
       " Median :5.800   Median :3.000   Median :4.350   Median :1.300  \n",
       " Mean   :5.843   Mean   :3.057   Mean   :3.758   Mean   :1.199  \n",
       " 3rd Qu.:6.400   3rd Qu.:3.300   3rd Qu.:5.100   3rd Qu.:1.800  \n",
       " Max.   :7.900   Max.   :4.400   Max.   :6.900   Max.   :2.500  \n",
       "       Species  \n",
       " setosa    :50  \n",
       " versicolor:50  \n",
       " virginica :50  \n",
       "                \n",
       "                \n",
       "                "
      ]
     },
     "metadata": {},
     "output_type": "display_data"
    },
    {
     "data": {
      "image/png": "[encoded data removed]",
      "text/plain": [
       "Plot with title \"기통별 수량\""
      ]
     },
     "metadata": {
      "image/png": {
       "height": 420,
       "width": 420
      }
     },
     "output_type": "display_data"
    }
   ],
   "source": [
    "# 분석 모형 선택\n",
    "# 개별 데이터 탐색(범주형, 수치형 데이터)\n",
    "# 범주형(명목척도, 서열척도) => 막대 그래프(bar plot)\n",
    "# 수치형(등간척도, 비율척도) => 히스토그램, 박스플롯 \n",
    "\n",
    "# 범주형 데이터 빈도 탐색\n",
    "table(mtcars$cyl) # 4, 6, 8기통 개수를 표시\n",
    "\n",
    "# 막대그래프\n",
    "barplot(\n",
    "    table(mtcars$cyl)\n",
    "    , xlab = \"기통\"\n",
    "    , ylab = \"수량\"\n",
    "    , main = \"기통별 수량\"\n",
    ")\n",
    "\n",
    "# 수치형 데이터 탐색\n",
    "# summary, head, tail, str, dim\n",
    "summary(iris)"
   ]
  },
  {
   "cell_type": "code",
   "execution_count": 40,
   "id": "36add873",
   "metadata": {},
   "outputs": [
    {
     "data": {
      "text/plain": [
       "   \n",
       "     4  6  8\n",
       "  0  3  4 12\n",
       "  1  8  3  2"
      ]
     },
     "metadata": {},
     "output_type": "display_data"
    },
    {
     "data": {
      "text/plain": [
       "           \n",
       "             4  6  8\n",
       "  automatic  3  4 12\n",
       "  manual     8  3  2"
      ]
     },
     "metadata": {},
     "output_type": "display_data"
    },
    {
     "data": {
      "text/plain": [
       "           \n",
       "                 4      6      8\n",
       "  automatic  9.375 12.500 37.500\n",
       "  manual    25.000  9.375  6.250"
      ]
     },
     "metadata": {},
     "output_type": "display_data"
    },
    {
     "data": {
      "text/html": [
       "<table class=\"dataframe\">\n",
       "<caption>A table: 3 × 4 of type dbl</caption>\n",
       "<thead>\n",
       "\t<tr><th></th><th scope=col>4</th><th scope=col>6</th><th scope=col>8</th><th scope=col>Sum</th></tr>\n",
       "</thead>\n",
       "<tbody>\n",
       "\t<tr><th scope=row>automatic</th><td> 9.4</td><td>12.5</td><td>37.5</td><td> 59.4</td></tr>\n",
       "\t<tr><th scope=row>manual</th><td>25.0</td><td> 9.4</td><td> 6.2</td><td> 40.6</td></tr>\n",
       "\t<tr><th scope=row>Sum</th><td>34.4</td><td>21.9</td><td>43.7</td><td>100.0</td></tr>\n",
       "</tbody>\n",
       "</table>\n"
      ],
      "text/latex": [
       "A table: 3 × 4 of type dbl\n",
       "\\begin{tabular}{r|llll}\n",
       "  & 4 & 6 & 8 & Sum\\\\\n",
       "\\hline\n",
       "\tautomatic &  9.4 & 12.5 & 37.5 &  59.4\\\\\n",
       "\tmanual & 25.0 &  9.4 &  6.2 &  40.6\\\\\n",
       "\tSum & 34.4 & 21.9 & 43.7 & 100.0\\\\\n",
       "\\end{tabular}\n"
      ],
      "text/markdown": [
       "\n",
       "A table: 3 × 4 of type dbl\n",
       "\n",
       "| <!--/--> | 4 | 6 | 8 | Sum |\n",
       "|---|---|---|---|---|\n",
       "| automatic |  9.4 | 12.5 | 37.5 |  59.4 |\n",
       "| manual | 25.0 |  9.4 |  6.2 |  40.6 |\n",
       "| Sum | 34.4 | 21.9 | 43.7 | 100.0 |\n",
       "\n"
      ],
      "text/plain": [
       "           \n",
       "            4    6    8    Sum  \n",
       "  automatic  9.4 12.5 37.5  59.4\n",
       "  manual    25.0  9.4  6.2  40.6\n",
       "  Sum       34.4 21.9 43.7 100.0"
      ]
     },
     "metadata": {},
     "output_type": "display_data"
    },
    {
     "data": {
      "text/html": [
       "-0.867659376517228"
      ],
      "text/latex": [
       "-0.867659376517228"
      ],
      "text/markdown": [
       "-0.867659376517228"
      ],
      "text/plain": [
       "[1] -0.8676594"
      ]
     },
     "metadata": {},
     "output_type": "display_data"
    },
    {
     "data": {
      "image/png": "[encoded data removed]",
      "text/plain": [
       "plot without title"
      ]
     },
     "metadata": {
      "image/png": {
       "height": 420,
       "width": 420
      }
     },
     "output_type": "display_data"
    },
    {
     "name": "stdout",
     "output_type": "stream",
     "text": [
      "'data.frame':\t32 obs. of  12 variables:\n",
      " $ mpg     : num  21 21 22.8 21.4 18.7 18.1 14.3 24.4 22.8 19.2 ...\n",
      " $ cyl     : num  6 6 4 6 8 6 8 4 4 6 ...\n",
      " $ disp    : num  160 160 108 258 360 ...\n",
      " $ hp      : num  110 110 93 110 175 105 245 62 95 123 ...\n",
      " $ drat    : num  3.9 3.9 3.85 3.08 3.15 2.76 3.21 3.69 3.92 3.92 ...\n",
      " $ wt      : num  2.62 2.88 2.32 3.21 3.44 ...\n",
      " $ qsec    : num  16.5 17 18.6 19.4 17 ...\n",
      " $ vs      : num  0 0 1 1 0 1 0 1 1 1 ...\n",
      " $ am      : num  1 1 1 0 0 0 0 0 0 0 ...\n",
      " $ gear    : num  4 4 4 3 3 3 3 4 4 4 ...\n",
      " $ carb    : num  4 4 1 1 2 1 4 2 2 4 ...\n",
      " $ label_am: Factor w/ 2 levels \"automatic\",\"manual\": 2 2 2 1 1 1 1 1 1 1 ...\n"
     ]
    },
    {
     "data": {
      "image/png": "[encoded data removed]",
      "text/plain": [
       "plot without title"
      ]
     },
     "metadata": {
      "image/png": {
       "height": 420,
       "width": 420
      }
     },
     "output_type": "display_data"
    }
   ],
   "source": [
    "# 다차원 데이터 탐색\n",
    "# 범주형-범주형, 범주형-수치형, 수치형-수치형\n",
    "# 범주형-범주형 => 교차테이블\n",
    "# 범주형-수치형 => 범주형으로 aggregation해서 boxplot 등 사용\n",
    "# 수치형-수치형 => 산점도(scatter plot), 상관계수 => 회귀분석\n",
    "\n",
    "\n",
    "# 두 범주형 변수의 빈도 탐색\n",
    "# am이 행, cyl이 열\n",
    "table(mtcars$am, mtcars$cyl)\n",
    "\n",
    "mtcars$label_am <- factor(\n",
    "    mtcars$am\n",
    "    , labels = c(\"automatic\", \"manual\")\n",
    ")\n",
    "\n",
    "# 팩터형 변수로 하나 바꿔서 빈도 확인하면 해당 라벨링된 데이터가 표시됨\n",
    "table(mtcars$label_am, mtcars$cyl)\n",
    "\n",
    "# 빈도수와 비율 탐색\n",
    "(prop_table <- prop.table(x = table(mtcars$label_am, mtcars$cyl)) * 100)\n",
    "\n",
    "# round 함수, 소수점 몇째자리까지 표시(반올림 적용)\n",
    "addmargins(round(prop_table, digits = 1))\n",
    "\n",
    "\n",
    "# 범주-범주형 => barplot으로 시각화\n",
    "barplot(\n",
    "    table(mtcars$label_am, mtcars$cyl)\n",
    "    , xlab = \"실린더수\"\n",
    "    , ylab = \"수량\"\n",
    ")\n",
    "\n",
    "# 수치-수치형 => 상관관계 탐색(공분산, 산점도, 상관계수 - 피어슨, 스피어만, 켄달, )\n",
    "(cor_mpg_wt <- cor(mtcars$mpg, mtcars$wt))\n",
    "\n",
    "plot(mtcars$mpg, mtcars$wt)\n",
    "\n",
    "str(mtcars)\n",
    "\n"
   ]
  },
  {
   "cell_type": "code",
   "execution_count": 50,
   "id": "f690d7a7",
   "metadata": {},
   "outputs": [
    {
     "ename": "ERROR",
     "evalue": "Error in is.data.frame(x): 기본값이 없는 인수 \"x\"가 누락되어 있습니다\n",
     "output_type": "error",
     "traceback": [
      "Error in is.data.frame(x): 기본값이 없는 인수 \"x\"가 누락되어 있습니다\nTraceback:\n",
      "1. aggregate(data = mtcars, formula = mpg ~ cyl, FUN = mean)",
      "2. aggregate.data.frame(data = mtcars, formula = mpg ~ cyl, FUN = mean)",
      "3. is.data.frame(x)"
     ]
    }
   ],
   "source": [
    "aggregate(\n",
    "    data = mtcars\n",
    "    , formula = mpg ~ cyl\n",
    "    , FUN = mean\n",
    ")\n",
    "\n",
    "boxplot(\n",
    "    mpg ~ cyl\n",
    "    , data = mtcars\n",
    "    , main = \"기통별 연비\"\n",
    ")\n",
    "\n"
   ]
  },
  {
   "cell_type": "code",
   "execution_count": 51,
   "id": "dcaebec4",
   "metadata": {},
   "outputs": [],
   "source": [
    "# 상관계수 정규성 검정 과정 이해 필수\n",
    "# 상관계수 검정을 하려면 제일 먼저 해야할 것은 정규성 검정\n",
    "# 정규성 검정(샤피로 윌크) => 상관계수 검정(피어슨/스피어만/켄달) "
   ]
  },
  {
   "cell_type": "code",
   "execution_count": 1,
   "id": "640c6a78",
   "metadata": {},
   "outputs": [
    {
     "data": {
      "text/html": [
       "<table class=\"dataframe\">\n",
       "<caption>A data.frame: 3 × 1</caption>\n",
       "<thead>\n",
       "\t<tr><th scope=col>중요도</th></tr>\n",
       "\t<tr><th scope=col>&lt;fct&gt;</th></tr>\n",
       "</thead>\n",
       "<tbody>\n",
       "\t<tr><td>상</td></tr>\n",
       "\t<tr><td>중</td></tr>\n",
       "\t<tr><td>하</td></tr>\n",
       "</tbody>\n",
       "</table>\n"
      ],
      "text/latex": [
       "A data.frame: 3 × 1\n",
       "\\begin{tabular}{l}\n",
       " 중요도\\\\\n",
       " <fct>\\\\\n",
       "\\hline\n",
       "\t 상\\\\\n",
       "\t 중\\\\\n",
       "\t 하\\\\\n",
       "\\end{tabular}\n"
      ],
      "text/markdown": [
       "\n",
       "A data.frame: 3 × 1\n",
       "\n",
       "| 중요도 &lt;fct&gt; |\n",
       "|---|\n",
       "| 상 |\n",
       "| 중 |\n",
       "| 하 |\n",
       "\n"
      ],
      "text/plain": [
       "  중요도\n",
       "1 상    \n",
       "2 중    \n",
       "3 하    "
      ]
     },
     "metadata": {},
     "output_type": "display_data"
    },
    {
     "data": {
      "text/html": [
       "<table class=\"dataframe\">\n",
       "<caption>A data.frame: 3 × 3</caption>\n",
       "<thead>\n",
       "\t<tr><th scope=col>중요도</th><th scope=col>변수1</th><th scope=col>변수2</th></tr>\n",
       "\t<tr><th scope=col>&lt;fct&gt;</th><th scope=col>&lt;dbl&gt;</th><th scope=col>&lt;dbl&gt;</th></tr>\n",
       "</thead>\n",
       "<tbody>\n",
       "\t<tr><td>상</td><td>0</td><td>0</td></tr>\n",
       "\t<tr><td>중</td><td>1</td><td>0</td></tr>\n",
       "\t<tr><td>하</td><td>0</td><td>1</td></tr>\n",
       "</tbody>\n",
       "</table>\n"
      ],
      "text/latex": [
       "A data.frame: 3 × 3\n",
       "\\begin{tabular}{lll}\n",
       " 중요도 & 변수1 & 변수2\\\\\n",
       " <fct> & <dbl> & <dbl>\\\\\n",
       "\\hline\n",
       "\t 상 & 0 & 0\\\\\n",
       "\t 중 & 1 & 0\\\\\n",
       "\t 하 & 0 & 1\\\\\n",
       "\\end{tabular}\n"
      ],
      "text/markdown": [
       "\n",
       "A data.frame: 3 × 3\n",
       "\n",
       "| 중요도 &lt;fct&gt; | 변수1 &lt;dbl&gt; | 변수2 &lt;dbl&gt; |\n",
       "|---|---|---|\n",
       "| 상 | 0 | 0 |\n",
       "| 중 | 1 | 0 |\n",
       "| 하 | 0 | 1 |\n",
       "\n"
      ],
      "text/plain": [
       "  중요도 변수1 변수2\n",
       "1 상     0     0    \n",
       "2 중     1     0    \n",
       "3 하     0     1    "
      ]
     },
     "metadata": {},
     "output_type": "display_data"
    }
   ],
   "source": [
    "# 더미변수 생성\n",
    "중요도 <- c('상','중','하')\n",
    "\n",
    "(df <- data.frame(중요도))\n",
    "\n",
    "transform(\n",
    "    df\n",
    "    , 변수1 = ifelse(중요도 == \"중\", 1, 0)\n",
    "    , 변수2 = ifelse(중요도 == \"하\", 1, 0)\n",
    ")\n"
   ]
  },
  {
   "cell_type": "code",
   "execution_count": null,
   "outputs": [],
   "source": [
    "# 연관 규칙 분석, 장바구니 분석\n",
    "\n",
    "\n",
    "mat01 <- matrix(\n",
    "    c(\n",
    "        1,1,1,1,10,\n",
    "        1,1,0,1,0,\n",
    "        1,0,0,1,0,\n",
    "        1,1,1,0,0,\n",
    "        1,1,1,0,0,    \n",
    "     ), ncol = 5, byrow = TRUE\n",
    "\n",
    ")"
   ],
   "metadata": {
    "collapsed": false,
    "pycharm": {
     "name": "#%%\n"
    }
   }
  },
  {
   "cell_type": "code",
   "execution_count": null,
   "id": "af8ab652",
   "metadata": {},
   "outputs": [],
   "source": [
    "# 연관 규칙 분석, 장바구니 분석\n",
    "\n",
    "\n",
    "mat01 <- matrix(\n",
    "    c(\n",
    "        1,1,1,1,10,\n",
    "        1,1,0,1,0,\n",
    "        1,0,0,1,0,\n",
    "        1,1,1,0,0,\n",
    "        1,1,1,0,0,    \n",
    "     ), ncol = 5, byrow = TRUE\n",
    "\n",
    ")"
   ]
  }
 ],
 "metadata": {
  "kernelspec": {
   "display_name": "R",
   "language": "R",
   "name": "ir"
  },
  "language_info": {
   "codemirror_mode": "r",
   "file_extension": ".r",
   "mimetype": "text/x-r-source",
   "name": "R",
   "pygments_lexer": "r",
   "version": "3.6.3"
  }
 },
 "nbformat": 4,
 "nbformat_minor": 5
}